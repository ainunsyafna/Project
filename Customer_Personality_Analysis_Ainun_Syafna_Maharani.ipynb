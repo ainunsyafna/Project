{
  "nbformat": 4,
  "nbformat_minor": 0,
  "metadata": {
    "colab": {
      "provenance": []
    },
    "kernelspec": {
      "name": "python3",
      "display_name": "Python 3"
    },
    "language_info": {
      "name": "python"
    }
  },
  "cells": [
    {
      "cell_type": "markdown",
      "source": [
        "#Problem Statement"
      ],
      "metadata": {
        "id": "CZ0ixyZWXsOR"
      }
    },
    {
      "cell_type": "markdown",
      "source": [
        "Customer personality analysis is a detailed analysis of a company’s ideal customers. It helps a business to better understand its customers and makes it easier for them to modify products according to the specific needs, behaviors and concerns of different types of customers.\n",
        "\n",
        "Customer personality analysis helps a business to modify its product based on its target customers from different types of customer segments. For example, instead of spending money to market a new product to every customer in the company’s database, a company can analyze which customer segment is most likely to buy the product and then market the product only on that particular segment."
      ],
      "metadata": {
        "id": "Sfx1DPa3XwNU"
      }
    },
    {
      "cell_type": "markdown",
      "source": [
        "#Target"
      ],
      "metadata": {
        "id": "4zJkUD3X-bqK"
      }
    },
    {
      "cell_type": "markdown",
      "source": [
        "Need to perform clustering to summarize customer segments."
      ],
      "metadata": {
        "id": "qlUB5fTu-ds3"
      }
    },
    {
      "cell_type": "markdown",
      "source": [
        "#Content Attributes"
      ],
      "metadata": {
        "id": "7H4uv8aJYFCt"
      }
    },
    {
      "cell_type": "markdown",
      "source": [
        "**People**\n",
        "* ID: Customer's unique identifier\n",
        "* Year_Birth: Customer's birth year\n",
        "* Education: Customer's education level\n",
        "* Marital_Status: Customer's marital status\n",
        "* Income: Customer's yearly household income\n",
        "* Kidhome: Number of children in customer's household\n",
        "* Teenhome: Number of teenagers in customer's household\n",
        "* Dt_Customer: Date of customer's enrollment with the company\n",
        "* Recency: Number of days since customer's last purchase\n",
        "* Complain: 1 if the customer complained in the last 2 years, 0 otherwise\n",
        "\n",
        "**Products**\n",
        "* MntWines: Amount spent on wine in last 2 years\n",
        "* MntFruits: Amount spent on fruits in last 2 years\n",
        "* MntMeatProducts: Amount spent on meat in last 2 years\n",
        "* MntFishProducts: Amount spent on fish in last 2 years\n",
        "* MntSweetProducts: Amount spent on sweets in last 2 years\n",
        "* MntGoldProds: Amount spent on gold in last 2 years\n",
        "\n",
        "**Place**\n",
        "* NumWebPurchases: Number of purchases made through the company’s website\n",
        "* NumCatalogPurchases: Number of purchases made using a catalogue\n",
        "* NumStorePurchases: Number of purchases made directly in stores\n",
        "* NumWebVisitsMonth: Number of visits to company’s website in the last month\n",
        "\n",
        "**Promotion**\n",
        "* NumDealsPurchases: Number of purchases made with a discount\n",
        "* AcceptedCmp1: 1 if customer accepted the offer in the 1st campaign, 0 otherwise\n",
        "* AcceptedCmp2: 1 if customer accepted the offer in the 2nd campaign, 0 otherwise\n",
        "* AcceptedCmp3: 1 if customer accepted the offer in the 3rd campaign, 0 otherwise\n",
        "* AcceptedCmp4: 1 if customer accepted the offer in the 4th campaign, 0 otherwise\n",
        "* AcceptedCmp5: 1 if customer accepted the offer in the 5th campaign, 0 otherwise\n",
        "* Response: 1 if customer accepted the offer in the last campaign, 0 otherwise"
      ],
      "metadata": {
        "id": "eMaoX9c4YHmn"
      }
    },
    {
      "cell_type": "markdown",
      "source": [
        "# Module"
      ],
      "metadata": {
        "id": "5xlScYz-L3xH"
      }
    },
    {
      "cell_type": "code",
      "source": [
        "!pip install --upgrade kneed"
      ],
      "metadata": {
        "colab": {
          "base_uri": "https://localhost:8080/"
        },
        "id": "AV2D9EOUM4Dl",
        "outputId": "53737be9-d87b-4984-af87-5dc3d2c38ff1"
      },
      "execution_count": 1,
      "outputs": [
        {
          "output_type": "stream",
          "name": "stdout",
          "text": [
            "Looking in indexes: https://pypi.org/simple, https://us-python.pkg.dev/colab-wheels/public/simple/\n",
            "Collecting kneed\n",
            "  Downloading kneed-0.8.2-py3-none-any.whl (10 kB)\n",
            "Requirement already satisfied: numpy>=1.14.2 in /usr/local/lib/python3.8/dist-packages (from kneed) (1.21.6)\n",
            "Requirement already satisfied: scipy>=1.0.0 in /usr/local/lib/python3.8/dist-packages (from kneed) (1.7.3)\n",
            "Installing collected packages: kneed\n",
            "Successfully installed kneed-0.8.2\n"
          ]
        }
      ]
    },
    {
      "cell_type": "code",
      "execution_count": 2,
      "metadata": {
        "id": "Mx4WJgxOHwxm"
      },
      "outputs": [],
      "source": [
        "import pandas as pd\n",
        "import seaborn as sns\n",
        "import matplotlib.pyplot as plt\n",
        "import plotly.express as px\n",
        "import numpy as np\n",
        "from numpy import int64\n",
        "from scipy.stats import iqr\n",
        "from sklearn.preprocessing import StandardScaler\n",
        "from sklearn.cluster import KMeans"
      ]
    },
    {
      "cell_type": "markdown",
      "source": [
        "# Data"
      ],
      "metadata": {
        "id": "b1chjmygMAZS"
      }
    },
    {
      "cell_type": "markdown",
      "source": [
        "The data used is sourced from Kaggle which can be accessed at the following link https://www.kaggle.com/datasets/imakash3011/customer-personality-analysis\n",
        "\n",
        "The dataset for this project is provided by Dr. Omar Romero-Hernandez with totaling 2240 rows and 29 columns."
      ],
      "metadata": {
        "id": "YuPtjUce9uZL"
      }
    },
    {
      "cell_type": "code",
      "source": [
        "df = pd.read_excel('https://github.com/ainunsyafna/Project/blob/main/marketing_campaign.xlsx?raw=true')\n",
        "df"
      ],
      "metadata": {
        "colab": {
          "base_uri": "https://localhost:8080/",
          "height": 488
        },
        "id": "2QmxfmM6Nciu",
        "outputId": "e6744c84-5833-4345-bab9-2bb837a24676"
      },
      "execution_count": 3,
      "outputs": [
        {
          "output_type": "execute_result",
          "data": {
            "text/plain": [
              "         ID  Year_Birth   Education Marital_Status   Income  Kidhome  \\\n",
              "0      5524        1957  Graduation         Single  58138.0        0   \n",
              "1      2174        1954  Graduation         Single  46344.0        1   \n",
              "2      4141        1965  Graduation       Together  71613.0        0   \n",
              "3      6182        1984  Graduation       Together  26646.0        1   \n",
              "4      5324        1981         PhD        Married  58293.0        1   \n",
              "...     ...         ...         ...            ...      ...      ...   \n",
              "2235  10870        1967  Graduation        Married  61223.0        0   \n",
              "2236   4001        1946         PhD       Together  64014.0        2   \n",
              "2237   7270        1981  Graduation       Divorced  56981.0        0   \n",
              "2238   8235        1956      Master       Together  69245.0        0   \n",
              "2239   9405        1954         PhD        Married  52869.0        1   \n",
              "\n",
              "      Teenhome Dt_Customer  Recency  MntWines  ...  NumWebVisitsMonth  \\\n",
              "0            0  04-09-2012       58       635  ...                  7   \n",
              "1            1  08-03-2014       38        11  ...                  5   \n",
              "2            0  21-08-2013       26       426  ...                  4   \n",
              "3            0  10-02-2014       26        11  ...                  6   \n",
              "4            0  19-01-2014       94       173  ...                  5   \n",
              "...        ...         ...      ...       ...  ...                ...   \n",
              "2235         1  13-06-2013       46       709  ...                  5   \n",
              "2236         1  10-06-2014       56       406  ...                  7   \n",
              "2237         0  25-01-2014       91       908  ...                  6   \n",
              "2238         1  24-01-2014        8       428  ...                  3   \n",
              "2239         1  15-10-2012       40        84  ...                  7   \n",
              "\n",
              "      AcceptedCmp3  AcceptedCmp4  AcceptedCmp5  AcceptedCmp1  AcceptedCmp2  \\\n",
              "0                0             0             0             0             0   \n",
              "1                0             0             0             0             0   \n",
              "2                0             0             0             0             0   \n",
              "3                0             0             0             0             0   \n",
              "4                0             0             0             0             0   \n",
              "...            ...           ...           ...           ...           ...   \n",
              "2235             0             0             0             0             0   \n",
              "2236             0             0             0             1             0   \n",
              "2237             0             1             0             0             0   \n",
              "2238             0             0             0             0             0   \n",
              "2239             0             0             0             0             0   \n",
              "\n",
              "      Complain  Z_CostContact  Z_Revenue  Response  \n",
              "0            0              3         11         1  \n",
              "1            0              3         11         0  \n",
              "2            0              3         11         0  \n",
              "3            0              3         11         0  \n",
              "4            0              3         11         0  \n",
              "...        ...            ...        ...       ...  \n",
              "2235         0              3         11         0  \n",
              "2236         0              3         11         0  \n",
              "2237         0              3         11         0  \n",
              "2238         0              3         11         0  \n",
              "2239         0              3         11         1  \n",
              "\n",
              "[2240 rows x 29 columns]"
            ],
            "text/html": [
              "\n",
              "  <div id=\"df-10b60d39-bedb-4e13-afd7-30062ee72d69\">\n",
              "    <div class=\"colab-df-container\">\n",
              "      <div>\n",
              "<style scoped>\n",
              "    .dataframe tbody tr th:only-of-type {\n",
              "        vertical-align: middle;\n",
              "    }\n",
              "\n",
              "    .dataframe tbody tr th {\n",
              "        vertical-align: top;\n",
              "    }\n",
              "\n",
              "    .dataframe thead th {\n",
              "        text-align: right;\n",
              "    }\n",
              "</style>\n",
              "<table border=\"1\" class=\"dataframe\">\n",
              "  <thead>\n",
              "    <tr style=\"text-align: right;\">\n",
              "      <th></th>\n",
              "      <th>ID</th>\n",
              "      <th>Year_Birth</th>\n",
              "      <th>Education</th>\n",
              "      <th>Marital_Status</th>\n",
              "      <th>Income</th>\n",
              "      <th>Kidhome</th>\n",
              "      <th>Teenhome</th>\n",
              "      <th>Dt_Customer</th>\n",
              "      <th>Recency</th>\n",
              "      <th>MntWines</th>\n",
              "      <th>...</th>\n",
              "      <th>NumWebVisitsMonth</th>\n",
              "      <th>AcceptedCmp3</th>\n",
              "      <th>AcceptedCmp4</th>\n",
              "      <th>AcceptedCmp5</th>\n",
              "      <th>AcceptedCmp1</th>\n",
              "      <th>AcceptedCmp2</th>\n",
              "      <th>Complain</th>\n",
              "      <th>Z_CostContact</th>\n",
              "      <th>Z_Revenue</th>\n",
              "      <th>Response</th>\n",
              "    </tr>\n",
              "  </thead>\n",
              "  <tbody>\n",
              "    <tr>\n",
              "      <th>0</th>\n",
              "      <td>5524</td>\n",
              "      <td>1957</td>\n",
              "      <td>Graduation</td>\n",
              "      <td>Single</td>\n",
              "      <td>58138.0</td>\n",
              "      <td>0</td>\n",
              "      <td>0</td>\n",
              "      <td>04-09-2012</td>\n",
              "      <td>58</td>\n",
              "      <td>635</td>\n",
              "      <td>...</td>\n",
              "      <td>7</td>\n",
              "      <td>0</td>\n",
              "      <td>0</td>\n",
              "      <td>0</td>\n",
              "      <td>0</td>\n",
              "      <td>0</td>\n",
              "      <td>0</td>\n",
              "      <td>3</td>\n",
              "      <td>11</td>\n",
              "      <td>1</td>\n",
              "    </tr>\n",
              "    <tr>\n",
              "      <th>1</th>\n",
              "      <td>2174</td>\n",
              "      <td>1954</td>\n",
              "      <td>Graduation</td>\n",
              "      <td>Single</td>\n",
              "      <td>46344.0</td>\n",
              "      <td>1</td>\n",
              "      <td>1</td>\n",
              "      <td>08-03-2014</td>\n",
              "      <td>38</td>\n",
              "      <td>11</td>\n",
              "      <td>...</td>\n",
              "      <td>5</td>\n",
              "      <td>0</td>\n",
              "      <td>0</td>\n",
              "      <td>0</td>\n",
              "      <td>0</td>\n",
              "      <td>0</td>\n",
              "      <td>0</td>\n",
              "      <td>3</td>\n",
              "      <td>11</td>\n",
              "      <td>0</td>\n",
              "    </tr>\n",
              "    <tr>\n",
              "      <th>2</th>\n",
              "      <td>4141</td>\n",
              "      <td>1965</td>\n",
              "      <td>Graduation</td>\n",
              "      <td>Together</td>\n",
              "      <td>71613.0</td>\n",
              "      <td>0</td>\n",
              "      <td>0</td>\n",
              "      <td>21-08-2013</td>\n",
              "      <td>26</td>\n",
              "      <td>426</td>\n",
              "      <td>...</td>\n",
              "      <td>4</td>\n",
              "      <td>0</td>\n",
              "      <td>0</td>\n",
              "      <td>0</td>\n",
              "      <td>0</td>\n",
              "      <td>0</td>\n",
              "      <td>0</td>\n",
              "      <td>3</td>\n",
              "      <td>11</td>\n",
              "      <td>0</td>\n",
              "    </tr>\n",
              "    <tr>\n",
              "      <th>3</th>\n",
              "      <td>6182</td>\n",
              "      <td>1984</td>\n",
              "      <td>Graduation</td>\n",
              "      <td>Together</td>\n",
              "      <td>26646.0</td>\n",
              "      <td>1</td>\n",
              "      <td>0</td>\n",
              "      <td>10-02-2014</td>\n",
              "      <td>26</td>\n",
              "      <td>11</td>\n",
              "      <td>...</td>\n",
              "      <td>6</td>\n",
              "      <td>0</td>\n",
              "      <td>0</td>\n",
              "      <td>0</td>\n",
              "      <td>0</td>\n",
              "      <td>0</td>\n",
              "      <td>0</td>\n",
              "      <td>3</td>\n",
              "      <td>11</td>\n",
              "      <td>0</td>\n",
              "    </tr>\n",
              "    <tr>\n",
              "      <th>4</th>\n",
              "      <td>5324</td>\n",
              "      <td>1981</td>\n",
              "      <td>PhD</td>\n",
              "      <td>Married</td>\n",
              "      <td>58293.0</td>\n",
              "      <td>1</td>\n",
              "      <td>0</td>\n",
              "      <td>19-01-2014</td>\n",
              "      <td>94</td>\n",
              "      <td>173</td>\n",
              "      <td>...</td>\n",
              "      <td>5</td>\n",
              "      <td>0</td>\n",
              "      <td>0</td>\n",
              "      <td>0</td>\n",
              "      <td>0</td>\n",
              "      <td>0</td>\n",
              "      <td>0</td>\n",
              "      <td>3</td>\n",
              "      <td>11</td>\n",
              "      <td>0</td>\n",
              "    </tr>\n",
              "    <tr>\n",
              "      <th>...</th>\n",
              "      <td>...</td>\n",
              "      <td>...</td>\n",
              "      <td>...</td>\n",
              "      <td>...</td>\n",
              "      <td>...</td>\n",
              "      <td>...</td>\n",
              "      <td>...</td>\n",
              "      <td>...</td>\n",
              "      <td>...</td>\n",
              "      <td>...</td>\n",
              "      <td>...</td>\n",
              "      <td>...</td>\n",
              "      <td>...</td>\n",
              "      <td>...</td>\n",
              "      <td>...</td>\n",
              "      <td>...</td>\n",
              "      <td>...</td>\n",
              "      <td>...</td>\n",
              "      <td>...</td>\n",
              "      <td>...</td>\n",
              "      <td>...</td>\n",
              "    </tr>\n",
              "    <tr>\n",
              "      <th>2235</th>\n",
              "      <td>10870</td>\n",
              "      <td>1967</td>\n",
              "      <td>Graduation</td>\n",
              "      <td>Married</td>\n",
              "      <td>61223.0</td>\n",
              "      <td>0</td>\n",
              "      <td>1</td>\n",
              "      <td>13-06-2013</td>\n",
              "      <td>46</td>\n",
              "      <td>709</td>\n",
              "      <td>...</td>\n",
              "      <td>5</td>\n",
              "      <td>0</td>\n",
              "      <td>0</td>\n",
              "      <td>0</td>\n",
              "      <td>0</td>\n",
              "      <td>0</td>\n",
              "      <td>0</td>\n",
              "      <td>3</td>\n",
              "      <td>11</td>\n",
              "      <td>0</td>\n",
              "    </tr>\n",
              "    <tr>\n",
              "      <th>2236</th>\n",
              "      <td>4001</td>\n",
              "      <td>1946</td>\n",
              "      <td>PhD</td>\n",
              "      <td>Together</td>\n",
              "      <td>64014.0</td>\n",
              "      <td>2</td>\n",
              "      <td>1</td>\n",
              "      <td>10-06-2014</td>\n",
              "      <td>56</td>\n",
              "      <td>406</td>\n",
              "      <td>...</td>\n",
              "      <td>7</td>\n",
              "      <td>0</td>\n",
              "      <td>0</td>\n",
              "      <td>0</td>\n",
              "      <td>1</td>\n",
              "      <td>0</td>\n",
              "      <td>0</td>\n",
              "      <td>3</td>\n",
              "      <td>11</td>\n",
              "      <td>0</td>\n",
              "    </tr>\n",
              "    <tr>\n",
              "      <th>2237</th>\n",
              "      <td>7270</td>\n",
              "      <td>1981</td>\n",
              "      <td>Graduation</td>\n",
              "      <td>Divorced</td>\n",
              "      <td>56981.0</td>\n",
              "      <td>0</td>\n",
              "      <td>0</td>\n",
              "      <td>25-01-2014</td>\n",
              "      <td>91</td>\n",
              "      <td>908</td>\n",
              "      <td>...</td>\n",
              "      <td>6</td>\n",
              "      <td>0</td>\n",
              "      <td>1</td>\n",
              "      <td>0</td>\n",
              "      <td>0</td>\n",
              "      <td>0</td>\n",
              "      <td>0</td>\n",
              "      <td>3</td>\n",
              "      <td>11</td>\n",
              "      <td>0</td>\n",
              "    </tr>\n",
              "    <tr>\n",
              "      <th>2238</th>\n",
              "      <td>8235</td>\n",
              "      <td>1956</td>\n",
              "      <td>Master</td>\n",
              "      <td>Together</td>\n",
              "      <td>69245.0</td>\n",
              "      <td>0</td>\n",
              "      <td>1</td>\n",
              "      <td>24-01-2014</td>\n",
              "      <td>8</td>\n",
              "      <td>428</td>\n",
              "      <td>...</td>\n",
              "      <td>3</td>\n",
              "      <td>0</td>\n",
              "      <td>0</td>\n",
              "      <td>0</td>\n",
              "      <td>0</td>\n",
              "      <td>0</td>\n",
              "      <td>0</td>\n",
              "      <td>3</td>\n",
              "      <td>11</td>\n",
              "      <td>0</td>\n",
              "    </tr>\n",
              "    <tr>\n",
              "      <th>2239</th>\n",
              "      <td>9405</td>\n",
              "      <td>1954</td>\n",
              "      <td>PhD</td>\n",
              "      <td>Married</td>\n",
              "      <td>52869.0</td>\n",
              "      <td>1</td>\n",
              "      <td>1</td>\n",
              "      <td>15-10-2012</td>\n",
              "      <td>40</td>\n",
              "      <td>84</td>\n",
              "      <td>...</td>\n",
              "      <td>7</td>\n",
              "      <td>0</td>\n",
              "      <td>0</td>\n",
              "      <td>0</td>\n",
              "      <td>0</td>\n",
              "      <td>0</td>\n",
              "      <td>0</td>\n",
              "      <td>3</td>\n",
              "      <td>11</td>\n",
              "      <td>1</td>\n",
              "    </tr>\n",
              "  </tbody>\n",
              "</table>\n",
              "<p>2240 rows × 29 columns</p>\n",
              "</div>\n",
              "      <button class=\"colab-df-convert\" onclick=\"convertToInteractive('df-10b60d39-bedb-4e13-afd7-30062ee72d69')\"\n",
              "              title=\"Convert this dataframe to an interactive table.\"\n",
              "              style=\"display:none;\">\n",
              "        \n",
              "  <svg xmlns=\"http://www.w3.org/2000/svg\" height=\"24px\"viewBox=\"0 0 24 24\"\n",
              "       width=\"24px\">\n",
              "    <path d=\"M0 0h24v24H0V0z\" fill=\"none\"/>\n",
              "    <path d=\"M18.56 5.44l.94 2.06.94-2.06 2.06-.94-2.06-.94-.94-2.06-.94 2.06-2.06.94zm-11 1L8.5 8.5l.94-2.06 2.06-.94-2.06-.94L8.5 2.5l-.94 2.06-2.06.94zm10 10l.94 2.06.94-2.06 2.06-.94-2.06-.94-.94-2.06-.94 2.06-2.06.94z\"/><path d=\"M17.41 7.96l-1.37-1.37c-.4-.4-.92-.59-1.43-.59-.52 0-1.04.2-1.43.59L10.3 9.45l-7.72 7.72c-.78.78-.78 2.05 0 2.83L4 21.41c.39.39.9.59 1.41.59.51 0 1.02-.2 1.41-.59l7.78-7.78 2.81-2.81c.8-.78.8-2.07 0-2.86zM5.41 20L4 18.59l7.72-7.72 1.47 1.35L5.41 20z\"/>\n",
              "  </svg>\n",
              "      </button>\n",
              "      \n",
              "  <style>\n",
              "    .colab-df-container {\n",
              "      display:flex;\n",
              "      flex-wrap:wrap;\n",
              "      gap: 12px;\n",
              "    }\n",
              "\n",
              "    .colab-df-convert {\n",
              "      background-color: #E8F0FE;\n",
              "      border: none;\n",
              "      border-radius: 50%;\n",
              "      cursor: pointer;\n",
              "      display: none;\n",
              "      fill: #1967D2;\n",
              "      height: 32px;\n",
              "      padding: 0 0 0 0;\n",
              "      width: 32px;\n",
              "    }\n",
              "\n",
              "    .colab-df-convert:hover {\n",
              "      background-color: #E2EBFA;\n",
              "      box-shadow: 0px 1px 2px rgba(60, 64, 67, 0.3), 0px 1px 3px 1px rgba(60, 64, 67, 0.15);\n",
              "      fill: #174EA6;\n",
              "    }\n",
              "\n",
              "    [theme=dark] .colab-df-convert {\n",
              "      background-color: #3B4455;\n",
              "      fill: #D2E3FC;\n",
              "    }\n",
              "\n",
              "    [theme=dark] .colab-df-convert:hover {\n",
              "      background-color: #434B5C;\n",
              "      box-shadow: 0px 1px 3px 1px rgba(0, 0, 0, 0.15);\n",
              "      filter: drop-shadow(0px 1px 2px rgba(0, 0, 0, 0.3));\n",
              "      fill: #FFFFFF;\n",
              "    }\n",
              "  </style>\n",
              "\n",
              "      <script>\n",
              "        const buttonEl =\n",
              "          document.querySelector('#df-10b60d39-bedb-4e13-afd7-30062ee72d69 button.colab-df-convert');\n",
              "        buttonEl.style.display =\n",
              "          google.colab.kernel.accessAllowed ? 'block' : 'none';\n",
              "\n",
              "        async function convertToInteractive(key) {\n",
              "          const element = document.querySelector('#df-10b60d39-bedb-4e13-afd7-30062ee72d69');\n",
              "          const dataTable =\n",
              "            await google.colab.kernel.invokeFunction('convertToInteractive',\n",
              "                                                     [key], {});\n",
              "          if (!dataTable) return;\n",
              "\n",
              "          const docLinkHtml = 'Like what you see? Visit the ' +\n",
              "            '<a target=\"_blank\" href=https://colab.research.google.com/notebooks/data_table.ipynb>data table notebook</a>'\n",
              "            + ' to learn more about interactive tables.';\n",
              "          element.innerHTML = '';\n",
              "          dataTable['output_type'] = 'display_data';\n",
              "          await google.colab.output.renderOutput(dataTable, element);\n",
              "          const docLink = document.createElement('div');\n",
              "          docLink.innerHTML = docLinkHtml;\n",
              "          element.appendChild(docLink);\n",
              "        }\n",
              "      </script>\n",
              "    </div>\n",
              "  </div>\n",
              "  "
            ]
          },
          "metadata": {},
          "execution_count": 3
        }
      ]
    },
    {
      "cell_type": "markdown",
      "source": [
        "# Pre-Processing Data"
      ],
      "metadata": {
        "id": "nGbABEfJPb9K"
      }
    },
    {
      "cell_type": "code",
      "source": [
        "df.info()"
      ],
      "metadata": {
        "colab": {
          "base_uri": "https://localhost:8080/"
        },
        "id": "mJ-29HblPxVi",
        "outputId": "fe705db2-a77d-46ce-c7b3-57d9461c86f0"
      },
      "execution_count": 4,
      "outputs": [
        {
          "output_type": "stream",
          "name": "stdout",
          "text": [
            "<class 'pandas.core.frame.DataFrame'>\n",
            "RangeIndex: 2240 entries, 0 to 2239\n",
            "Data columns (total 29 columns):\n",
            " #   Column               Non-Null Count  Dtype  \n",
            "---  ------               --------------  -----  \n",
            " 0   ID                   2240 non-null   int64  \n",
            " 1   Year_Birth           2240 non-null   int64  \n",
            " 2   Education            2240 non-null   object \n",
            " 3   Marital_Status       2240 non-null   object \n",
            " 4   Income               2216 non-null   float64\n",
            " 5   Kidhome              2240 non-null   int64  \n",
            " 6   Teenhome             2240 non-null   int64  \n",
            " 7   Dt_Customer          2240 non-null   object \n",
            " 8   Recency              2240 non-null   int64  \n",
            " 9   MntWines             2240 non-null   int64  \n",
            " 10  MntFruits            2240 non-null   int64  \n",
            " 11  MntMeatProducts      2240 non-null   int64  \n",
            " 12  MntFishProducts      2240 non-null   int64  \n",
            " 13  MntSweetProducts     2240 non-null   int64  \n",
            " 14  MntGoldProds         2240 non-null   int64  \n",
            " 15  NumDealsPurchases    2240 non-null   int64  \n",
            " 16  NumWebPurchases      2240 non-null   int64  \n",
            " 17  NumCatalogPurchases  2240 non-null   int64  \n",
            " 18  NumStorePurchases    2240 non-null   int64  \n",
            " 19  NumWebVisitsMonth    2240 non-null   int64  \n",
            " 20  AcceptedCmp3         2240 non-null   int64  \n",
            " 21  AcceptedCmp4         2240 non-null   int64  \n",
            " 22  AcceptedCmp5         2240 non-null   int64  \n",
            " 23  AcceptedCmp1         2240 non-null   int64  \n",
            " 24  AcceptedCmp2         2240 non-null   int64  \n",
            " 25  Complain             2240 non-null   int64  \n",
            " 26  Z_CostContact        2240 non-null   int64  \n",
            " 27  Z_Revenue            2240 non-null   int64  \n",
            " 28  Response             2240 non-null   int64  \n",
            "dtypes: float64(1), int64(25), object(3)\n",
            "memory usage: 507.6+ KB\n"
          ]
        }
      ]
    },
    {
      "cell_type": "code",
      "source": [
        "df.isna().sum()"
      ],
      "metadata": {
        "colab": {
          "base_uri": "https://localhost:8080/"
        },
        "id": "vyn-arlbPQwc",
        "outputId": "a1b8c54d-1e2c-43aa-a006-7a69bcf24206"
      },
      "execution_count": 5,
      "outputs": [
        {
          "output_type": "execute_result",
          "data": {
            "text/plain": [
              "ID                      0\n",
              "Year_Birth              0\n",
              "Education               0\n",
              "Marital_Status          0\n",
              "Income                 24\n",
              "Kidhome                 0\n",
              "Teenhome                0\n",
              "Dt_Customer             0\n",
              "Recency                 0\n",
              "MntWines                0\n",
              "MntFruits               0\n",
              "MntMeatProducts         0\n",
              "MntFishProducts         0\n",
              "MntSweetProducts        0\n",
              "MntGoldProds            0\n",
              "NumDealsPurchases       0\n",
              "NumWebPurchases         0\n",
              "NumCatalogPurchases     0\n",
              "NumStorePurchases       0\n",
              "NumWebVisitsMonth       0\n",
              "AcceptedCmp3            0\n",
              "AcceptedCmp4            0\n",
              "AcceptedCmp5            0\n",
              "AcceptedCmp1            0\n",
              "AcceptedCmp2            0\n",
              "Complain                0\n",
              "Z_CostContact           0\n",
              "Z_Revenue               0\n",
              "Response                0\n",
              "dtype: int64"
            ]
          },
          "metadata": {},
          "execution_count": 5
        }
      ]
    },
    {
      "cell_type": "code",
      "source": [
        "df['Income'].fillna(df['Income'].median(), inplace=True)"
      ],
      "metadata": {
        "id": "igAhsknvTP6h"
      },
      "execution_count": 6,
      "outputs": []
    },
    {
      "cell_type": "code",
      "source": [
        "#change the data type\n",
        "df['Income'] = df['Income'].astype('int64')\n",
        "df['Complain'] = df['Complain'].astype('category')\n",
        "df['AcceptedCmp1'] = df['AcceptedCmp1'].astype('category')\n",
        "df['AcceptedCmp2'] = df['AcceptedCmp2'].astype('category')\n",
        "df['AcceptedCmp3'] = df['AcceptedCmp3'].astype('category')\n",
        "df['AcceptedCmp4'] =df['AcceptedCmp4'].astype('category')\n",
        "df['AcceptedCmp5'] = df['AcceptedCmp5'].astype('category')\n",
        "df['Response'] = df['Response'].astype('category')"
      ],
      "metadata": {
        "id": "-nvCZDKRiNLl"
      },
      "execution_count": 7,
      "outputs": []
    },
    {
      "cell_type": "code",
      "source": [
        "df.info()"
      ],
      "metadata": {
        "colab": {
          "base_uri": "https://localhost:8080/"
        },
        "id": "yyDX6aBBjhUm",
        "outputId": "b5ff83ef-9135-430c-f828-4f6bc216a375"
      },
      "execution_count": 8,
      "outputs": [
        {
          "output_type": "stream",
          "name": "stdout",
          "text": [
            "<class 'pandas.core.frame.DataFrame'>\n",
            "RangeIndex: 2240 entries, 0 to 2239\n",
            "Data columns (total 29 columns):\n",
            " #   Column               Non-Null Count  Dtype   \n",
            "---  ------               --------------  -----   \n",
            " 0   ID                   2240 non-null   int64   \n",
            " 1   Year_Birth           2240 non-null   int64   \n",
            " 2   Education            2240 non-null   object  \n",
            " 3   Marital_Status       2240 non-null   object  \n",
            " 4   Income               2240 non-null   int64   \n",
            " 5   Kidhome              2240 non-null   int64   \n",
            " 6   Teenhome             2240 non-null   int64   \n",
            " 7   Dt_Customer          2240 non-null   object  \n",
            " 8   Recency              2240 non-null   int64   \n",
            " 9   MntWines             2240 non-null   int64   \n",
            " 10  MntFruits            2240 non-null   int64   \n",
            " 11  MntMeatProducts      2240 non-null   int64   \n",
            " 12  MntFishProducts      2240 non-null   int64   \n",
            " 13  MntSweetProducts     2240 non-null   int64   \n",
            " 14  MntGoldProds         2240 non-null   int64   \n",
            " 15  NumDealsPurchases    2240 non-null   int64   \n",
            " 16  NumWebPurchases      2240 non-null   int64   \n",
            " 17  NumCatalogPurchases  2240 non-null   int64   \n",
            " 18  NumStorePurchases    2240 non-null   int64   \n",
            " 19  NumWebVisitsMonth    2240 non-null   int64   \n",
            " 20  AcceptedCmp3         2240 non-null   category\n",
            " 21  AcceptedCmp4         2240 non-null   category\n",
            " 22  AcceptedCmp5         2240 non-null   category\n",
            " 23  AcceptedCmp1         2240 non-null   category\n",
            " 24  AcceptedCmp2         2240 non-null   category\n",
            " 25  Complain             2240 non-null   category\n",
            " 26  Z_CostContact        2240 non-null   int64   \n",
            " 27  Z_Revenue            2240 non-null   int64   \n",
            " 28  Response             2240 non-null   category\n",
            "dtypes: category(7), int64(19), object(3)\n",
            "memory usage: 401.3+ KB\n"
          ]
        }
      ]
    },
    {
      "cell_type": "code",
      "source": [
        "df.duplicated().sum()"
      ],
      "metadata": {
        "colab": {
          "base_uri": "https://localhost:8080/"
        },
        "id": "60dP-TGOPgHV",
        "outputId": "3bcccdef-1e64-4836-a635-105b56e6152e"
      },
      "execution_count": 9,
      "outputs": [
        {
          "output_type": "execute_result",
          "data": {
            "text/plain": [
              "0"
            ]
          },
          "metadata": {},
          "execution_count": 9
        }
      ]
    },
    {
      "cell_type": "markdown",
      "source": [
        "#Exploratory Data Analysis"
      ],
      "metadata": {
        "id": "E3FBTlqbQNzu"
      }
    },
    {
      "cell_type": "markdown",
      "source": [
        "#Univariate Analysis"
      ],
      "metadata": {
        "id": "Wp86Ly-lc4Pf"
      }
    },
    {
      "cell_type": "markdown",
      "source": [
        "**Customer's Age**"
      ],
      "metadata": {
        "id": "YD6lh3R3YpCX"
      }
    },
    {
      "cell_type": "code",
      "source": [
        "from datetime import datetime\n",
        "df['Age'] = df['Year_Birth'].apply(lambda x : datetime.now().year - x)"
      ],
      "metadata": {
        "id": "CCqiGSqsYTCs"
      },
      "execution_count": 10,
      "outputs": []
    },
    {
      "cell_type": "code",
      "source": [
        "df['Age'].describe()"
      ],
      "metadata": {
        "colab": {
          "base_uri": "https://localhost:8080/"
        },
        "id": "fmwvxyDPYgUX",
        "outputId": "c20e03d3-40a1-411a-ae21-f3f09430a7f5"
      },
      "execution_count": 11,
      "outputs": [
        {
          "output_type": "execute_result",
          "data": {
            "text/plain": [
              "count    2240.000000\n",
              "mean       54.194196\n",
              "std        11.984069\n",
              "min        27.000000\n",
              "25%        46.000000\n",
              "50%        53.000000\n",
              "75%        64.000000\n",
              "max       130.000000\n",
              "Name: Age, dtype: float64"
            ]
          },
          "metadata": {},
          "execution_count": 11
        }
      ]
    },
    {
      "cell_type": "code",
      "source": [
        "sns.histplot(data=df, x='Age', bins=list(range(10,150,10)))\n",
        "plt.title('Distribution of Customers Age')"
      ],
      "metadata": {
        "colab": {
          "base_uri": "https://localhost:8080/",
          "height": 312
        },
        "id": "4qI1dS83Q6Fb",
        "outputId": "26badd47-1d6c-411b-bd97-30ffa195a7e2"
      },
      "execution_count": 12,
      "outputs": [
        {
          "output_type": "execute_result",
          "data": {
            "text/plain": [
              "Text(0.5, 1.0, 'Distribution of Customers Age')"
            ]
          },
          "metadata": {},
          "execution_count": 12
        },
        {
          "output_type": "display_data",
          "data": {
            "text/plain": [
              "<Figure size 432x288 with 1 Axes>"
            ],
            "image/png": "[encoded data removed]"
          },
          "metadata": {
            "needs_background": "light"
          }
        }
      ]
    },
    {
      "cell_type": "markdown",
      "source": [
        "Based on the distribution chart of customer ages, it appears that most customers are between 40 - 60 years old."
      ],
      "metadata": {
        "id": "U1YG2CLs_Sws"
      }
    },
    {
      "cell_type": "markdown",
      "source": [
        "**Customer's Education**"
      ],
      "metadata": {
        "id": "WYikBll3Y26N"
      }
    },
    {
      "cell_type": "code",
      "source": [
        "df[\"Education\"] = df[\"Education\"].replace({\"Graduation\":\"Graduate\", \"PhD\":\"Postgraduate\", \"Master\":\"Postgraduate\", \"2n Cycle\":\"Postgraduate\", \"Basic\":\"Undergraduate\"})"
      ],
      "metadata": {
        "id": "VlDJi75BY7VN"
      },
      "execution_count": 13,
      "outputs": []
    },
    {
      "cell_type": "code",
      "source": [
        "df[\"Education\"].value_counts()"
      ],
      "metadata": {
        "colab": {
          "base_uri": "https://localhost:8080/"
        },
        "id": "GwByxOk3ZL8X",
        "outputId": "a77ee3b2-3b7c-4789-de20-7c7a52db4aa0"
      },
      "execution_count": 14,
      "outputs": [
        {
          "output_type": "execute_result",
          "data": {
            "text/plain": [
              "Graduate         1127\n",
              "Postgraduate     1059\n",
              "Undergraduate      54\n",
              "Name: Education, dtype: int64"
            ]
          },
          "metadata": {},
          "execution_count": 14
        }
      ]
    },
    {
      "cell_type": "code",
      "source": [
        "df[\"Education\"].unique()"
      ],
      "metadata": {
        "colab": {
          "base_uri": "https://localhost:8080/"
        },
        "id": "1_rP_2e3ZTV3",
        "outputId": "a17e568a-1227-48c4-b67a-3a8f68fda813"
      },
      "execution_count": 15,
      "outputs": [
        {
          "output_type": "execute_result",
          "data": {
            "text/plain": [
              "array(['Graduate', 'Postgraduate', 'Undergraduate'], dtype=object)"
            ]
          },
          "metadata": {},
          "execution_count": 15
        }
      ]
    },
    {
      "cell_type": "code",
      "source": [
        "df[\"Education\"].value_counts(normalize=True).plot.bar(figsize=(8, 6))\n",
        "plt.xticks(rotation=45)\n",
        "plt.title(\"Frequency of Customer's Education\");"
      ],
      "metadata": {
        "colab": {
          "base_uri": "https://localhost:8080/",
          "height": 441
        },
        "id": "0MOK2u2BZXOz",
        "outputId": "8d102748-fead-459d-cfcf-eb14e6b4fa7f"
      },
      "execution_count": 16,
      "outputs": [
        {
          "output_type": "display_data",
          "data": {
            "text/plain": [
              "<Figure size 576x432 with 1 Axes>"
            ],
            "image/png": "[encoded data removed]"
          },
          "metadata": {
            "needs_background": "light"
          }
        }
      ]
    },
    {
      "cell_type": "markdown",
      "source": [
        "Based on the bar chart of the frequency of customer's education, it appears that most of the customers are graduates about 50%, followed by postgraduates and only a few undergraduate customers."
      ],
      "metadata": {
        "id": "noEBes2LKRSE"
      }
    },
    {
      "cell_type": "markdown",
      "source": [
        "**Marital Status**"
      ],
      "metadata": {
        "id": "0AdHFSKZZsJi"
      }
    },
    {
      "cell_type": "code",
      "source": [
        "df['Marital_Status'].unique()"
      ],
      "metadata": {
        "colab": {
          "base_uri": "https://localhost:8080/"
        },
        "id": "hPTTtsy7ZwG9",
        "outputId": "3a052960-242e-4781-b407-04ab9ca0cf4a"
      },
      "execution_count": 17,
      "outputs": [
        {
          "output_type": "execute_result",
          "data": {
            "text/plain": [
              "array(['Single', 'Together', 'Married', 'Divorced', 'Widow', 'Alone',\n",
              "       'Absurd', 'YOLO'], dtype=object)"
            ]
          },
          "metadata": {},
          "execution_count": 17
        }
      ]
    },
    {
      "cell_type": "code",
      "source": [
        "df[\"Marital_Status\"] = df[\"Marital_Status\"].replace({\"Together\":\"Married\", \"Absurd\":\"Single\", \"Divorced\":\"Single\", \"Alone\":\"Single\", \"YOLO\":\"Single\", \"Widow\":\"Single\"})"
      ],
      "metadata": {
        "id": "-4bOAsMGZ5g5"
      },
      "execution_count": 18,
      "outputs": []
    },
    {
      "cell_type": "code",
      "source": [
        "df[\"Marital_Status\"].value_counts(normalize=True).plot.bar(figsize=(8,6))\n",
        "plt.ylabel(\"Frequency\")\n",
        "plt.title(\"Proportion of Customer's Marital Status\");"
      ],
      "metadata": {
        "colab": {
          "base_uri": "https://localhost:8080/",
          "height": 418
        },
        "id": "qJc5zeHBbxGh",
        "outputId": "00cb466c-ff8b-4212-be63-32c93da334ea"
      },
      "execution_count": 19,
      "outputs": [
        {
          "output_type": "display_data",
          "data": {
            "text/plain": [
              "<Figure size 576x432 with 1 Axes>"
            ],
            "image/png": "[encoded data removed]"
          },
          "metadata": {
            "needs_background": "light"
          }
        }
      ]
    },
    {
      "cell_type": "markdown",
      "source": [
        "Based on the bar chart of the proportion of customer's marital status, it appears that about 65% customers are married and about 35% customers are single."
      ],
      "metadata": {
        "id": "-vwcPAWUK5Kb"
      }
    },
    {
      "cell_type": "markdown",
      "source": [
        "**Income**"
      ],
      "metadata": {
        "id": "POQXldYGbLeW"
      }
    },
    {
      "cell_type": "code",
      "source": [
        "sns.histplot(data=df, x=\"Income\", binwidth=1e4)\n",
        "plt.title(\"Distribution of Customer's Income\");"
      ],
      "metadata": {
        "colab": {
          "base_uri": "https://localhost:8080/",
          "height": 295
        },
        "id": "leGi3nNUbNaC",
        "outputId": "71fde7e6-3687-4e91-a155-28944a3bef63"
      },
      "execution_count": 20,
      "outputs": [
        {
          "output_type": "display_data",
          "data": {
            "text/plain": [
              "<Figure size 432x288 with 1 Axes>"
            ],
            "image/png": "[encoded data removed]"
          },
          "metadata": {
            "needs_background": "light"
          }
        }
      ]
    },
    {
      "cell_type": "markdown",
      "source": [
        "Based on the distribution chart of customer's income, it appears that **majority** of the customer's income is within 0 - 100.000 dollar and also there are some customer that earn above 600.000 dollar. "
      ],
      "metadata": {
        "id": "G2zu1_6tLf3q"
      }
    },
    {
      "cell_type": "markdown",
      "source": [
        "**Total Children**"
      ],
      "metadata": {
        "id": "KCpUq7qQbUtk"
      }
    },
    {
      "cell_type": "code",
      "source": [
        "df['TotalChildren'] = df['Kidhome'] + df['Teenhome']"
      ],
      "metadata": {
        "id": "TsG5Kz37bX06"
      },
      "execution_count": 21,
      "outputs": []
    },
    {
      "cell_type": "code",
      "source": [
        "df['TotalChildren'].unique()"
      ],
      "metadata": {
        "colab": {
          "base_uri": "https://localhost:8080/"
        },
        "id": "LcgiPC8gbjbQ",
        "outputId": "c25a0d37-919e-4e09-86d6-f41d16a1614f"
      },
      "execution_count": 22,
      "outputs": [
        {
          "output_type": "execute_result",
          "data": {
            "text/plain": [
              "array([0, 2, 1, 3])"
            ]
          },
          "metadata": {},
          "execution_count": 22
        }
      ]
    },
    {
      "cell_type": "code",
      "source": [
        "df[\"TotalChildren\"].value_counts(normalize=True).sort_index().plot.bar()\n",
        "plt.ylabel(\"Frequency\")\n",
        "plt.title(\"Proportion of Customer's Total Children at Home\");"
      ],
      "metadata": {
        "colab": {
          "base_uri": "https://localhost:8080/",
          "height": 278
        },
        "id": "u1vXJ0_QbqyM",
        "outputId": "7daf6131-962e-4b38-be7b-2e5650c53c3e"
      },
      "execution_count": 23,
      "outputs": [
        {
          "output_type": "display_data",
          "data": {
            "text/plain": [
              "<Figure size 432x288 with 1 Axes>"
            ],
            "image/png": "[encoded data removed]"
          },
          "metadata": {
            "needs_background": "light"
          }
        }
      ]
    },
    {
      "cell_type": "markdown",
      "source": [
        "Based on the bar chart of the proportion of customer's total children, it appears that about 50% customers have 1 child, followed by customers who do not have children, then have 2 children, and only a few customers have 3 children."
      ],
      "metadata": {
        "id": "ZCcB2Vn5MVAq"
      }
    },
    {
      "cell_type": "markdown",
      "source": [
        "**Total Spent**"
      ],
      "metadata": {
        "id": "7rX5VnCicPTj"
      }
    },
    {
      "cell_type": "code",
      "source": [
        "df['TotalSpent'] = df['MntFruits'] + df['MntFishProducts'] + df['MntGoldProds'] + df['MntSweetProducts'] + df['MntMeatProducts'] + df['MntWines']"
      ],
      "metadata": {
        "id": "BLsqRogRQKsw"
      },
      "execution_count": 24,
      "outputs": []
    },
    {
      "cell_type": "code",
      "source": [
        "df['TotalSpent'].describe()"
      ],
      "metadata": {
        "colab": {
          "base_uri": "https://localhost:8080/"
        },
        "id": "EWfDdiw3cRmo",
        "outputId": "a23ba414-3fb6-48fe-f0c1-f1795be90f65"
      },
      "execution_count": 25,
      "outputs": [
        {
          "output_type": "execute_result",
          "data": {
            "text/plain": [
              "count    2240.000000\n",
              "mean      605.798214\n",
              "std       602.249288\n",
              "min         5.000000\n",
              "25%        68.750000\n",
              "50%       396.000000\n",
              "75%      1045.500000\n",
              "max      2525.000000\n",
              "Name: TotalSpent, dtype: float64"
            ]
          },
          "metadata": {},
          "execution_count": 25
        }
      ]
    },
    {
      "cell_type": "code",
      "source": [
        "sns.histplot(data=df, x=\"TotalSpent\", binwidth=200, stat=\"percent\")\n",
        "plt.title(\"Distribution of Total Spent on Product by Customers\");"
      ],
      "metadata": {
        "colab": {
          "base_uri": "https://localhost:8080/",
          "height": 295
        },
        "id": "lAjL-icHcbjF",
        "outputId": "29a5d1ae-89f1-4efa-9502-e9f149bdf342"
      },
      "execution_count": 26,
      "outputs": [
        {
          "output_type": "display_data",
          "data": {
            "text/plain": [
              "<Figure size 432x288 with 1 Axes>"
            ],
            "image/png": "[encoded data removed]"
          },
          "metadata": {
            "needs_background": "light"
          }
        }
      ]
    },
    {
      "cell_type": "markdown",
      "source": [
        "Based on the distribution chart of total spent on products by customers, it appears that half of customers spent on products is within 0 - 200 dollar. "
      ],
      "metadata": {
        "id": "phdsDodKNZnk"
      }
    },
    {
      "cell_type": "markdown",
      "source": [
        "**Product**"
      ],
      "metadata": {
        "id": "4EIBN95YcnJl"
      }
    },
    {
      "cell_type": "code",
      "source": [
        "FishProducts = df['MntFishProducts'].sum()\n",
        "Fruits = df['MntFruits'].sum()\n",
        "Wines = df['MntWines'].sum()\n",
        "MeatProducts = df['MntMeatProducts'].sum()\n",
        "SweetProducts = df['MntSweetProducts'].sum()\n",
        "GoldProds = df['MntGoldProds'].sum()\n",
        "\n",
        "print(FishProducts)\n",
        "print(Fruits)\n",
        "print(Wines)\n",
        "print(MeatProducts)\n",
        "print(SweetProducts)\n",
        "print(GoldProds)"
      ],
      "metadata": {
        "colab": {
          "base_uri": "https://localhost:8080/"
        },
        "id": "um8BI24nT4YN",
        "outputId": "5299a537-02ef-48d3-9047-59793eea9eb1"
      },
      "execution_count": 27,
      "outputs": [
        {
          "output_type": "stream",
          "name": "stdout",
          "text": [
            "84057\n",
            "58917\n",
            "680816\n",
            "373968\n",
            "60621\n",
            "98609\n"
          ]
        }
      ]
    },
    {
      "cell_type": "code",
      "source": [
        "Product = {'Products' : ['Fish Products','Fruits','Wines','Meat Products','Sweet Products','Gold Prods'],\n",
        "           'Quantity' : [84057,58917,680816,373968,60621,98609]}\n",
        "df_product = pd.DataFrame(Product)\n",
        "df_product"
      ],
      "metadata": {
        "colab": {
          "base_uri": "https://localhost:8080/",
          "height": 238
        },
        "id": "-jkpxMnEVGPG",
        "outputId": "926c57e2-036a-4a9a-dd20-af539bf5656c"
      },
      "execution_count": 28,
      "outputs": [
        {
          "output_type": "execute_result",
          "data": {
            "text/plain": [
              "         Products  Quantity\n",
              "0   Fish Products     84057\n",
              "1          Fruits     58917\n",
              "2           Wines    680816\n",
              "3   Meat Products    373968\n",
              "4  Sweet Products     60621\n",
              "5      Gold Prods     98609"
            ],
            "text/html": [
              "\n",
              "  <div id=\"df-120d517b-005b-41ad-a69c-605349b56c9b\">\n",
              "    <div class=\"colab-df-container\">\n",
              "      <div>\n",
              "<style scoped>\n",
              "    .dataframe tbody tr th:only-of-type {\n",
              "        vertical-align: middle;\n",
              "    }\n",
              "\n",
              "    .dataframe tbody tr th {\n",
              "        vertical-align: top;\n",
              "    }\n",
              "\n",
              "    .dataframe thead th {\n",
              "        text-align: right;\n",
              "    }\n",
              "</style>\n",
              "<table border=\"1\" class=\"dataframe\">\n",
              "  <thead>\n",
              "    <tr style=\"text-align: right;\">\n",
              "      <th></th>\n",
              "      <th>Products</th>\n",
              "      <th>Quantity</th>\n",
              "    </tr>\n",
              "  </thead>\n",
              "  <tbody>\n",
              "    <tr>\n",
              "      <th>0</th>\n",
              "      <td>Fish Products</td>\n",
              "      <td>84057</td>\n",
              "    </tr>\n",
              "    <tr>\n",
              "      <th>1</th>\n",
              "      <td>Fruits</td>\n",
              "      <td>58917</td>\n",
              "    </tr>\n",
              "    <tr>\n",
              "      <th>2</th>\n",
              "      <td>Wines</td>\n",
              "      <td>680816</td>\n",
              "    </tr>\n",
              "    <tr>\n",
              "      <th>3</th>\n",
              "      <td>Meat Products</td>\n",
              "      <td>373968</td>\n",
              "    </tr>\n",
              "    <tr>\n",
              "      <th>4</th>\n",
              "      <td>Sweet Products</td>\n",
              "      <td>60621</td>\n",
              "    </tr>\n",
              "    <tr>\n",
              "      <th>5</th>\n",
              "      <td>Gold Prods</td>\n",
              "      <td>98609</td>\n",
              "    </tr>\n",
              "  </tbody>\n",
              "</table>\n",
              "</div>\n",
              "      <button class=\"colab-df-convert\" onclick=\"convertToInteractive('df-120d517b-005b-41ad-a69c-605349b56c9b')\"\n",
              "              title=\"Convert this dataframe to an interactive table.\"\n",
              "              style=\"display:none;\">\n",
              "        \n",
              "  <svg xmlns=\"http://www.w3.org/2000/svg\" height=\"24px\"viewBox=\"0 0 24 24\"\n",
              "       width=\"24px\">\n",
              "    <path d=\"M0 0h24v24H0V0z\" fill=\"none\"/>\n",
              "    <path d=\"M18.56 5.44l.94 2.06.94-2.06 2.06-.94-2.06-.94-.94-2.06-.94 2.06-2.06.94zm-11 1L8.5 8.5l.94-2.06 2.06-.94-2.06-.94L8.5 2.5l-.94 2.06-2.06.94zm10 10l.94 2.06.94-2.06 2.06-.94-2.06-.94-.94-2.06-.94 2.06-2.06.94z\"/><path d=\"M17.41 7.96l-1.37-1.37c-.4-.4-.92-.59-1.43-.59-.52 0-1.04.2-1.43.59L10.3 9.45l-7.72 7.72c-.78.78-.78 2.05 0 2.83L4 21.41c.39.39.9.59 1.41.59.51 0 1.02-.2 1.41-.59l7.78-7.78 2.81-2.81c.8-.78.8-2.07 0-2.86zM5.41 20L4 18.59l7.72-7.72 1.47 1.35L5.41 20z\"/>\n",
              "  </svg>\n",
              "      </button>\n",
              "      \n",
              "  <style>\n",
              "    .colab-df-container {\n",
              "      display:flex;\n",
              "      flex-wrap:wrap;\n",
              "      gap: 12px;\n",
              "    }\n",
              "\n",
              "    .colab-df-convert {\n",
              "      background-color: #E8F0FE;\n",
              "      border: none;\n",
              "      border-radius: 50%;\n",
              "      cursor: pointer;\n",
              "      display: none;\n",
              "      fill: #1967D2;\n",
              "      height: 32px;\n",
              "      padding: 0 0 0 0;\n",
              "      width: 32px;\n",
              "    }\n",
              "\n",
              "    .colab-df-convert:hover {\n",
              "      background-color: #E2EBFA;\n",
              "      box-shadow: 0px 1px 2px rgba(60, 64, 67, 0.3), 0px 1px 3px 1px rgba(60, 64, 67, 0.15);\n",
              "      fill: #174EA6;\n",
              "    }\n",
              "\n",
              "    [theme=dark] .colab-df-convert {\n",
              "      background-color: #3B4455;\n",
              "      fill: #D2E3FC;\n",
              "    }\n",
              "\n",
              "    [theme=dark] .colab-df-convert:hover {\n",
              "      background-color: #434B5C;\n",
              "      box-shadow: 0px 1px 3px 1px rgba(0, 0, 0, 0.15);\n",
              "      filter: drop-shadow(0px 1px 2px rgba(0, 0, 0, 0.3));\n",
              "      fill: #FFFFFF;\n",
              "    }\n",
              "  </style>\n",
              "\n",
              "      <script>\n",
              "        const buttonEl =\n",
              "          document.querySelector('#df-120d517b-005b-41ad-a69c-605349b56c9b button.colab-df-convert');\n",
              "        buttonEl.style.display =\n",
              "          google.colab.kernel.accessAllowed ? 'block' : 'none';\n",
              "\n",
              "        async function convertToInteractive(key) {\n",
              "          const element = document.querySelector('#df-120d517b-005b-41ad-a69c-605349b56c9b');\n",
              "          const dataTable =\n",
              "            await google.colab.kernel.invokeFunction('convertToInteractive',\n",
              "                                                     [key], {});\n",
              "          if (!dataTable) return;\n",
              "\n",
              "          const docLinkHtml = 'Like what you see? Visit the ' +\n",
              "            '<a target=\"_blank\" href=https://colab.research.google.com/notebooks/data_table.ipynb>data table notebook</a>'\n",
              "            + ' to learn more about interactive tables.';\n",
              "          element.innerHTML = '';\n",
              "          dataTable['output_type'] = 'display_data';\n",
              "          await google.colab.output.renderOutput(dataTable, element);\n",
              "          const docLink = document.createElement('div');\n",
              "          docLink.innerHTML = docLinkHtml;\n",
              "          element.appendChild(docLink);\n",
              "        }\n",
              "      </script>\n",
              "    </div>\n",
              "  </div>\n",
              "  "
            ]
          },
          "metadata": {},
          "execution_count": 28
        }
      ]
    },
    {
      "cell_type": "code",
      "source": [
        "plt.figure(figsize=(12,7))\n",
        "plt.bar(df_product['Products'], df_product['Quantity'], color='lightcoral')\n",
        "\n",
        "plt.title('Most Purchased Product', size=16)\n",
        "plt.ylabel('Quantity', size=14)\n",
        "plt.xticks(size=12)\n",
        "plt.yticks(size=12)\n",
        "\n",
        "plt.show()"
      ],
      "metadata": {
        "colab": {
          "base_uri": "https://localhost:8080/",
          "height": 449
        },
        "id": "E9s8zoaYXgFA",
        "outputId": "51149322-889f-4e75-a09e-7f77cafed8b0"
      },
      "execution_count": 29,
      "outputs": [
        {
          "output_type": "display_data",
          "data": {
            "text/plain": [
              "<Figure size 864x504 with 1 Axes>"
            ],
            "image/png": "[encoded data removed]"
          },
          "metadata": {
            "needs_background": "light"
          }
        }
      ]
    },
    {
      "cell_type": "markdown",
      "source": [
        "Based on the bar chart of the most purchased product, it appears that customers purchased almost 700.000 wines, purchased almost 400.000 meat products, purchased over 100.000 gold products, purchased almost 100.000 fish products, and purchased less than 100.000 fruits and sweet products.  "
      ],
      "metadata": {
        "id": "U1Shn64qN3nI"
      }
    },
    {
      "cell_type": "markdown",
      "source": [
        "**Place**"
      ],
      "metadata": {
        "id": "u8WDpRARcvMm"
      }
    },
    {
      "cell_type": "code",
      "source": [
        "Web = df['NumWebPurchases'].sum()\n",
        "Catalog = df['NumCatalogPurchases'].sum()\n",
        "Store = df['NumStorePurchases'].sum()\n",
        "\n",
        "print(Web)\n",
        "print(Catalog)\n",
        "print(Store)"
      ],
      "metadata": {
        "colab": {
          "base_uri": "https://localhost:8080/"
        },
        "id": "umDhysCVY46B",
        "outputId": "a1a991fa-616e-4a84-ce45-6ba63b666378"
      },
      "execution_count": 30,
      "outputs": [
        {
          "output_type": "stream",
          "name": "stdout",
          "text": [
            "9150\n",
            "5963\n",
            "12970\n"
          ]
        }
      ]
    },
    {
      "cell_type": "code",
      "source": [
        "Place = {'Place' : ['Web Purchases','Catalog Purchases','Store Purchases'],\n",
        "         'Quantity' : [9150,5963,12970]}\n",
        "df_place = pd.DataFrame(Place)\n",
        "df_place"
      ],
      "metadata": {
        "colab": {
          "base_uri": "https://localhost:8080/",
          "height": 144
        },
        "id": "PVdOREUkZZkI",
        "outputId": "6994b379-a9ff-471f-ef13-d68277542c00"
      },
      "execution_count": 31,
      "outputs": [
        {
          "output_type": "execute_result",
          "data": {
            "text/plain": [
              "               Place  Quantity\n",
              "0      Web Purchases      9150\n",
              "1  Catalog Purchases      5963\n",
              "2    Store Purchases     12970"
            ],
            "text/html": [
              "\n",
              "  <div id=\"df-9951f996-6ef4-48eb-b99d-68cdd17e1c40\">\n",
              "    <div class=\"colab-df-container\">\n",
              "      <div>\n",
              "<style scoped>\n",
              "    .dataframe tbody tr th:only-of-type {\n",
              "        vertical-align: middle;\n",
              "    }\n",
              "\n",
              "    .dataframe tbody tr th {\n",
              "        vertical-align: top;\n",
              "    }\n",
              "\n",
              "    .dataframe thead th {\n",
              "        text-align: right;\n",
              "    }\n",
              "</style>\n",
              "<table border=\"1\" class=\"dataframe\">\n",
              "  <thead>\n",
              "    <tr style=\"text-align: right;\">\n",
              "      <th></th>\n",
              "      <th>Place</th>\n",
              "      <th>Quantity</th>\n",
              "    </tr>\n",
              "  </thead>\n",
              "  <tbody>\n",
              "    <tr>\n",
              "      <th>0</th>\n",
              "      <td>Web Purchases</td>\n",
              "      <td>9150</td>\n",
              "    </tr>\n",
              "    <tr>\n",
              "      <th>1</th>\n",
              "      <td>Catalog Purchases</td>\n",
              "      <td>5963</td>\n",
              "    </tr>\n",
              "    <tr>\n",
              "      <th>2</th>\n",
              "      <td>Store Purchases</td>\n",
              "      <td>12970</td>\n",
              "    </tr>\n",
              "  </tbody>\n",
              "</table>\n",
              "</div>\n",
              "      <button class=\"colab-df-convert\" onclick=\"convertToInteractive('df-9951f996-6ef4-48eb-b99d-68cdd17e1c40')\"\n",
              "              title=\"Convert this dataframe to an interactive table.\"\n",
              "              style=\"display:none;\">\n",
              "        \n",
              "  <svg xmlns=\"http://www.w3.org/2000/svg\" height=\"24px\"viewBox=\"0 0 24 24\"\n",
              "       width=\"24px\">\n",
              "    <path d=\"M0 0h24v24H0V0z\" fill=\"none\"/>\n",
              "    <path d=\"M18.56 5.44l.94 2.06.94-2.06 2.06-.94-2.06-.94-.94-2.06-.94 2.06-2.06.94zm-11 1L8.5 8.5l.94-2.06 2.06-.94-2.06-.94L8.5 2.5l-.94 2.06-2.06.94zm10 10l.94 2.06.94-2.06 2.06-.94-2.06-.94-.94-2.06-.94 2.06-2.06.94z\"/><path d=\"M17.41 7.96l-1.37-1.37c-.4-.4-.92-.59-1.43-.59-.52 0-1.04.2-1.43.59L10.3 9.45l-7.72 7.72c-.78.78-.78 2.05 0 2.83L4 21.41c.39.39.9.59 1.41.59.51 0 1.02-.2 1.41-.59l7.78-7.78 2.81-2.81c.8-.78.8-2.07 0-2.86zM5.41 20L4 18.59l7.72-7.72 1.47 1.35L5.41 20z\"/>\n",
              "  </svg>\n",
              "      </button>\n",
              "      \n",
              "  <style>\n",
              "    .colab-df-container {\n",
              "      display:flex;\n",
              "      flex-wrap:wrap;\n",
              "      gap: 12px;\n",
              "    }\n",
              "\n",
              "    .colab-df-convert {\n",
              "      background-color: #E8F0FE;\n",
              "      border: none;\n",
              "      border-radius: 50%;\n",
              "      cursor: pointer;\n",
              "      display: none;\n",
              "      fill: #1967D2;\n",
              "      height: 32px;\n",
              "      padding: 0 0 0 0;\n",
              "      width: 32px;\n",
              "    }\n",
              "\n",
              "    .colab-df-convert:hover {\n",
              "      background-color: #E2EBFA;\n",
              "      box-shadow: 0px 1px 2px rgba(60, 64, 67, 0.3), 0px 1px 3px 1px rgba(60, 64, 67, 0.15);\n",
              "      fill: #174EA6;\n",
              "    }\n",
              "\n",
              "    [theme=dark] .colab-df-convert {\n",
              "      background-color: #3B4455;\n",
              "      fill: #D2E3FC;\n",
              "    }\n",
              "\n",
              "    [theme=dark] .colab-df-convert:hover {\n",
              "      background-color: #434B5C;\n",
              "      box-shadow: 0px 1px 3px 1px rgba(0, 0, 0, 0.15);\n",
              "      filter: drop-shadow(0px 1px 2px rgba(0, 0, 0, 0.3));\n",
              "      fill: #FFFFFF;\n",
              "    }\n",
              "  </style>\n",
              "\n",
              "      <script>\n",
              "        const buttonEl =\n",
              "          document.querySelector('#df-9951f996-6ef4-48eb-b99d-68cdd17e1c40 button.colab-df-convert');\n",
              "        buttonEl.style.display =\n",
              "          google.colab.kernel.accessAllowed ? 'block' : 'none';\n",
              "\n",
              "        async function convertToInteractive(key) {\n",
              "          const element = document.querySelector('#df-9951f996-6ef4-48eb-b99d-68cdd17e1c40');\n",
              "          const dataTable =\n",
              "            await google.colab.kernel.invokeFunction('convertToInteractive',\n",
              "                                                     [key], {});\n",
              "          if (!dataTable) return;\n",
              "\n",
              "          const docLinkHtml = 'Like what you see? Visit the ' +\n",
              "            '<a target=\"_blank\" href=https://colab.research.google.com/notebooks/data_table.ipynb>data table notebook</a>'\n",
              "            + ' to learn more about interactive tables.';\n",
              "          element.innerHTML = '';\n",
              "          dataTable['output_type'] = 'display_data';\n",
              "          await google.colab.output.renderOutput(dataTable, element);\n",
              "          const docLink = document.createElement('div');\n",
              "          docLink.innerHTML = docLinkHtml;\n",
              "          element.appendChild(docLink);\n",
              "        }\n",
              "      </script>\n",
              "    </div>\n",
              "  </div>\n",
              "  "
            ]
          },
          "metadata": {},
          "execution_count": 31
        }
      ]
    },
    {
      "cell_type": "code",
      "source": [
        "plt.figure(figsize=(12,7))\n",
        "plt.bar(df_place['Place'], df_place['Quantity'], color='steelblue')\n",
        "\n",
        "plt.title('Place to Purchased', size=16)\n",
        "plt.ylabel('Quantity', size=14)\n",
        "plt.xticks(size=12)\n",
        "plt.yticks(size=12)\n",
        "\n",
        "plt.show()"
      ],
      "metadata": {
        "colab": {
          "base_uri": "https://localhost:8080/",
          "height": 449
        },
        "id": "5HoCW_akZ6ny",
        "outputId": "ad696cdc-638e-4cb2-f0b6-381074650c4c"
      },
      "execution_count": 32,
      "outputs": [
        {
          "output_type": "display_data",
          "data": {
            "text/plain": [
              "<Figure size 864x504 with 1 Axes>"
            ],
            "image/png": "[encoded data removed]"
          },
          "metadata": {
            "needs_background": "light"
          }
        }
      ]
    },
    {
      "cell_type": "markdown",
      "source": [
        "Based on the bar chart of the place to purchased products, customers **prefer** to purchased directly to the store, then purchased on the websites, last purchased through the catalog."
      ],
      "metadata": {
        "id": "dvXc7OAlO9rS"
      }
    },
    {
      "cell_type": "markdown",
      "source": [
        "#Bivariate Analysis"
      ],
      "metadata": {
        "id": "i7x5tMM0czXI"
      }
    },
    {
      "cell_type": "markdown",
      "source": [
        "**Customer's Age and Total Spent**"
      ],
      "metadata": {
        "id": "-RazotRWeRHk"
      }
    },
    {
      "cell_type": "code",
      "source": [
        "def group_age(age):\n",
        "    if age <20:\n",
        "        return \"11-20\"\n",
        "    elif age > 20 and age <31:\n",
        "        return \"21-30\"\n",
        "    elif age > 30 and age <41:\n",
        "        return \"31-40\"\n",
        "    elif age > 40 and age <51:\n",
        "        return \"41-50\"\n",
        "    elif age > 50 and age <61:\n",
        "        return \"51-60\"\n",
        "    elif age > 60 and age <71:\n",
        "        return \"61-70\"\n",
        "    elif age > 70 and age <81:\n",
        "        return \"71-80\"\n",
        "    elif age > 80:\n",
        "        return \">80\""
      ],
      "metadata": {
        "id": "F2vQahJBei0I"
      },
      "execution_count": 33,
      "outputs": []
    },
    {
      "cell_type": "code",
      "source": [
        "df[\"Age Group\"] = df[\"Age\"].apply(group_age)\n",
        "order = [\"21-30\", \"31-40\", \"41-50\", \"51-60\", \"61-70\", \"71-80\", \">80\"]"
      ],
      "metadata": {
        "id": "xIBTZOVCekI5"
      },
      "execution_count": 34,
      "outputs": []
    },
    {
      "cell_type": "code",
      "source": [
        "mask = df.groupby(\"Age Group\")[\"TotalSpent\"].median()\n",
        "mask = mask.reset_index()\n",
        "fig = px.bar(data_frame=mask, \n",
        "             x=\"Age Group\", \n",
        "             y=\"TotalSpent\",\n",
        "             title = \"Relationship Between Customer's Age Group and Total Spent\", \n",
        "             height=500)\n",
        "\n",
        "annotation = []\n",
        "for x, y in zip(mask[\"Age Group\"], mask[\"TotalSpent\"]):\n",
        "    annotation.append(\n",
        "        dict(x=x, y=y +20,\n",
        "             text=str(round(y, 2)) + '$',\n",
        "             font=dict(family='Arial', size=14, color='rgb(66, 99, 236)'), showarrow=False)\n",
        "    )\n",
        "fig.update_xaxes(categoryorder='array', categoryarray= order)\n",
        "fig.update_layout(annotations=annotation)\n",
        "fig.show()"
      ],
      "metadata": {
        "colab": {
          "base_uri": "https://localhost:8080/",
          "height": 517
        },
        "id": "s0q1MDXPerIf",
        "outputId": "25fab0ad-1d5f-489b-dbea-d80fa2d8314d"
      },
      "execution_count": 35,
      "outputs": [
        {
          "output_type": "display_data",
          "data": {
            "text/html": [
              "<html>\n",
              "<head><meta charset=\"utf-8\" /></head>\n",
              "<body>\n",
              "    <div>            <script src=\"https://cdnjs.cloudflare.com/ajax/libs/mathjax/2.7.5/MathJax.js?config=TeX-AMS-MML_SVG\"></script><script type=\"text/javascript\">if (window.MathJax) {MathJax.Hub.Config({SVG: {font: \"STIX-Web\"}});}</script>                <script type=\"text/javascript\">window.PlotlyConfig = {MathJaxConfig: 'local'};</script>\n",
              "        <script src=\"https://cdn.plot.ly/plotly-2.8.3.min.js\"></script>                <div id=\"201a5c97-6a24-46b7-851f-ac8d3a0ddd63\" class=\"plotly-graph-div\" style=\"height:500px; width:100%;\"></div>            <script type=\"text/javascript\">                                    window.PLOTLYENV=window.PLOTLYENV || {};                                    if (document.getElementById(\"201a5c97-6a24-46b7-851f-ac8d3a0ddd63\")) {                    Plotly.newPlot(                        \"201a5c97-6a24-46b7-851f-ac8d3a0ddd63\",                        [{\"alignmentgroup\":\"True\",\"hovertemplate\":\"Age Group=%{x}<br>TotalSpent=%{y}<extra></extra>\",\"legendgroup\":\"\",\"marker\":{\"color\":\"#636efa\",\"pattern\":{\"shape\":\"\"}},\"name\":\"\",\"offsetgroup\":\"\",\"orientation\":\"v\",\"showlegend\":false,\"textposition\":\"auto\",\"x\":[\"21-30\",\"31-40\",\"41-50\",\"51-60\",\"61-70\",\"71-80\",\">80\"],\"xaxis\":\"x\",\"y\":[1127.0,138.0,235.0,363.0,603.0,685.0,157.0],\"yaxis\":\"y\",\"type\":\"bar\"}],                        {\"template\":{\"data\":{\"bar\":[{\"error_x\":{\"color\":\"#2a3f5f\"},\"error_y\":{\"color\":\"#2a3f5f\"},\"marker\":{\"line\":{\"color\":\"#E5ECF6\",\"width\":0.5},\"pattern\":{\"fillmode\":\"overlay\",\"size\":10,\"solidity\":0.2}},\"type\":\"bar\"}],\"barpolar\":[{\"marker\":{\"line\":{\"color\":\"#E5ECF6\",\"width\":0.5},\"pattern\":{\"fillmode\":\"overlay\",\"size\":10,\"solidity\":0.2}},\"type\":\"barpolar\"}],\"carpet\":[{\"aaxis\":{\"endlinecolor\":\"#2a3f5f\",\"gridcolor\":\"white\",\"linecolor\":\"white\",\"minorgridcolor\":\"white\",\"startlinecolor\":\"#2a3f5f\"},\"baxis\":{\"endlinecolor\":\"#2a3f5f\",\"gridcolor\":\"white\",\"linecolor\":\"white\",\"minorgridcolor\":\"white\",\"startlinecolor\":\"#2a3f5f\"},\"type\":\"carpet\"}],\"choropleth\":[{\"colorbar\":{\"outlinewidth\":0,\"ticks\":\"\"},\"type\":\"choropleth\"}],\"contour\":[{\"colorbar\":{\"outlinewidth\":0,\"ticks\":\"\"},\"colorscale\":[[0.0,\"#0d0887\"],[0.1111111111111111,\"#46039f\"],[0.2222222222222222,\"#7201a8\"],[0.3333333333333333,\"#9c179e\"],[0.4444444444444444,\"#bd3786\"],[0.5555555555555556,\"#d8576b\"],[0.6666666666666666,\"#ed7953\"],[0.7777777777777778,\"#fb9f3a\"],[0.8888888888888888,\"#fdca26\"],[1.0,\"#f0f921\"]],\"type\":\"contour\"}],\"contourcarpet\":[{\"colorbar\":{\"outlinewidth\":0,\"ticks\":\"\"},\"type\":\"contourcarpet\"}],\"heatmap\":[{\"colorbar\":{\"outlinewidth\":0,\"ticks\":\"\"},\"colorscale\":[[0.0,\"#0d0887\"],[0.1111111111111111,\"#46039f\"],[0.2222222222222222,\"#7201a8\"],[0.3333333333333333,\"#9c179e\"],[0.4444444444444444,\"#bd3786\"],[0.5555555555555556,\"#d8576b\"],[0.6666666666666666,\"#ed7953\"],[0.7777777777777778,\"#fb9f3a\"],[0.8888888888888888,\"#fdca26\"],[1.0,\"#f0f921\"]],\"type\":\"heatmap\"}],\"heatmapgl\":[{\"colorbar\":{\"outlinewidth\":0,\"ticks\":\"\"},\"colorscale\":[[0.0,\"#0d0887\"],[0.1111111111111111,\"#46039f\"],[0.2222222222222222,\"#7201a8\"],[0.3333333333333333,\"#9c179e\"],[0.4444444444444444,\"#bd3786\"],[0.5555555555555556,\"#d8576b\"],[0.6666666666666666,\"#ed7953\"],[0.7777777777777778,\"#fb9f3a\"],[0.8888888888888888,\"#fdca26\"],[1.0,\"#f0f921\"]],\"type\":\"heatmapgl\"}],\"histogram\":[{\"marker\":{\"pattern\":{\"fillmode\":\"overlay\",\"size\":10,\"solidity\":0.2}},\"type\":\"histogram\"}],\"histogram2d\":[{\"colorbar\":{\"outlinewidth\":0,\"ticks\":\"\"},\"colorscale\":[[0.0,\"#0d0887\"],[0.1111111111111111,\"#46039f\"],[0.2222222222222222,\"#7201a8\"],[0.3333333333333333,\"#9c179e\"],[0.4444444444444444,\"#bd3786\"],[0.5555555555555556,\"#d8576b\"],[0.6666666666666666,\"#ed7953\"],[0.7777777777777778,\"#fb9f3a\"],[0.8888888888888888,\"#fdca26\"],[1.0,\"#f0f921\"]],\"type\":\"histogram2d\"}],\"histogram2dcontour\":[{\"colorbar\":{\"outlinewidth\":0,\"ticks\":\"\"},\"colorscale\":[[0.0,\"#0d0887\"],[0.1111111111111111,\"#46039f\"],[0.2222222222222222,\"#7201a8\"],[0.3333333333333333,\"#9c179e\"],[0.4444444444444444,\"#bd3786\"],[0.5555555555555556,\"#d8576b\"],[0.6666666666666666,\"#ed7953\"],[0.7777777777777778,\"#fb9f3a\"],[0.8888888888888888,\"#fdca26\"],[1.0,\"#f0f921\"]],\"type\":\"histogram2dcontour\"}],\"mesh3d\":[{\"colorbar\":{\"outlinewidth\":0,\"ticks\":\"\"},\"type\":\"mesh3d\"}],\"parcoords\":[{\"line\":{\"colorbar\":{\"outlinewidth\":0,\"ticks\":\"\"}},\"type\":\"parcoords\"}],\"pie\":[{\"automargin\":true,\"type\":\"pie\"}],\"scatter\":[{\"marker\":{\"colorbar\":{\"outlinewidth\":0,\"ticks\":\"\"}},\"type\":\"scatter\"}],\"scatter3d\":[{\"line\":{\"colorbar\":{\"outlinewidth\":0,\"ticks\":\"\"}},\"marker\":{\"colorbar\":{\"outlinewidth\":0,\"ticks\":\"\"}},\"type\":\"scatter3d\"}],\"scattercarpet\":[{\"marker\":{\"colorbar\":{\"outlinewidth\":0,\"ticks\":\"\"}},\"type\":\"scattercarpet\"}],\"scattergeo\":[{\"marker\":{\"colorbar\":{\"outlinewidth\":0,\"ticks\":\"\"}},\"type\":\"scattergeo\"}],\"scattergl\":[{\"marker\":{\"colorbar\":{\"outlinewidth\":0,\"ticks\":\"\"}},\"type\":\"scattergl\"}],\"scattermapbox\":[{\"marker\":{\"colorbar\":{\"outlinewidth\":0,\"ticks\":\"\"}},\"type\":\"scattermapbox\"}],\"scatterpolar\":[{\"marker\":{\"colorbar\":{\"outlinewidth\":0,\"ticks\":\"\"}},\"type\":\"scatterpolar\"}],\"scatterpolargl\":[{\"marker\":{\"colorbar\":{\"outlinewidth\":0,\"ticks\":\"\"}},\"type\":\"scatterpolargl\"}],\"scatterternary\":[{\"marker\":{\"colorbar\":{\"outlinewidth\":0,\"ticks\":\"\"}},\"type\":\"scatterternary\"}],\"surface\":[{\"colorbar\":{\"outlinewidth\":0,\"ticks\":\"\"},\"colorscale\":[[0.0,\"#0d0887\"],[0.1111111111111111,\"#46039f\"],[0.2222222222222222,\"#7201a8\"],[0.3333333333333333,\"#9c179e\"],[0.4444444444444444,\"#bd3786\"],[0.5555555555555556,\"#d8576b\"],[0.6666666666666666,\"#ed7953\"],[0.7777777777777778,\"#fb9f3a\"],[0.8888888888888888,\"#fdca26\"],[1.0,\"#f0f921\"]],\"type\":\"surface\"}],\"table\":[{\"cells\":{\"fill\":{\"color\":\"#EBF0F8\"},\"line\":{\"color\":\"white\"}},\"header\":{\"fill\":{\"color\":\"#C8D4E3\"},\"line\":{\"color\":\"white\"}},\"type\":\"table\"}]},\"layout\":{\"annotationdefaults\":{\"arrowcolor\":\"#2a3f5f\",\"arrowhead\":0,\"arrowwidth\":1},\"autotypenumbers\":\"strict\",\"coloraxis\":{\"colorbar\":{\"outlinewidth\":0,\"ticks\":\"\"}},\"colorscale\":{\"diverging\":[[0,\"#8e0152\"],[0.1,\"#c51b7d\"],[0.2,\"#de77ae\"],[0.3,\"#f1b6da\"],[0.4,\"#fde0ef\"],[0.5,\"#f7f7f7\"],[0.6,\"#e6f5d0\"],[0.7,\"#b8e186\"],[0.8,\"#7fbc41\"],[0.9,\"#4d9221\"],[1,\"#276419\"]],\"sequential\":[[0.0,\"#0d0887\"],[0.1111111111111111,\"#46039f\"],[0.2222222222222222,\"#7201a8\"],[0.3333333333333333,\"#9c179e\"],[0.4444444444444444,\"#bd3786\"],[0.5555555555555556,\"#d8576b\"],[0.6666666666666666,\"#ed7953\"],[0.7777777777777778,\"#fb9f3a\"],[0.8888888888888888,\"#fdca26\"],[1.0,\"#f0f921\"]],\"sequentialminus\":[[0.0,\"#0d0887\"],[0.1111111111111111,\"#46039f\"],[0.2222222222222222,\"#7201a8\"],[0.3333333333333333,\"#9c179e\"],[0.4444444444444444,\"#bd3786\"],[0.5555555555555556,\"#d8576b\"],[0.6666666666666666,\"#ed7953\"],[0.7777777777777778,\"#fb9f3a\"],[0.8888888888888888,\"#fdca26\"],[1.0,\"#f0f921\"]]},\"colorway\":[\"#636efa\",\"#EF553B\",\"#00cc96\",\"#ab63fa\",\"#FFA15A\",\"#19d3f3\",\"#FF6692\",\"#B6E880\",\"#FF97FF\",\"#FECB52\"],\"font\":{\"color\":\"#2a3f5f\"},\"geo\":{\"bgcolor\":\"white\",\"lakecolor\":\"white\",\"landcolor\":\"#E5ECF6\",\"showlakes\":true,\"showland\":true,\"subunitcolor\":\"white\"},\"hoverlabel\":{\"align\":\"left\"},\"hovermode\":\"closest\",\"mapbox\":{\"style\":\"light\"},\"paper_bgcolor\":\"white\",\"plot_bgcolor\":\"#E5ECF6\",\"polar\":{\"angularaxis\":{\"gridcolor\":\"white\",\"linecolor\":\"white\",\"ticks\":\"\"},\"bgcolor\":\"#E5ECF6\",\"radialaxis\":{\"gridcolor\":\"white\",\"linecolor\":\"white\",\"ticks\":\"\"}},\"scene\":{\"xaxis\":{\"backgroundcolor\":\"#E5ECF6\",\"gridcolor\":\"white\",\"gridwidth\":2,\"linecolor\":\"white\",\"showbackground\":true,\"ticks\":\"\",\"zerolinecolor\":\"white\"},\"yaxis\":{\"backgroundcolor\":\"#E5ECF6\",\"gridcolor\":\"white\",\"gridwidth\":2,\"linecolor\":\"white\",\"showbackground\":true,\"ticks\":\"\",\"zerolinecolor\":\"white\"},\"zaxis\":{\"backgroundcolor\":\"#E5ECF6\",\"gridcolor\":\"white\",\"gridwidth\":2,\"linecolor\":\"white\",\"showbackground\":true,\"ticks\":\"\",\"zerolinecolor\":\"white\"}},\"shapedefaults\":{\"line\":{\"color\":\"#2a3f5f\"}},\"ternary\":{\"aaxis\":{\"gridcolor\":\"white\",\"linecolor\":\"white\",\"ticks\":\"\"},\"baxis\":{\"gridcolor\":\"white\",\"linecolor\":\"white\",\"ticks\":\"\"},\"bgcolor\":\"#E5ECF6\",\"caxis\":{\"gridcolor\":\"white\",\"linecolor\":\"white\",\"ticks\":\"\"}},\"title\":{\"x\":0.05},\"xaxis\":{\"automargin\":true,\"gridcolor\":\"white\",\"linecolor\":\"white\",\"ticks\":\"\",\"title\":{\"standoff\":15},\"zerolinecolor\":\"white\",\"zerolinewidth\":2},\"yaxis\":{\"automargin\":true,\"gridcolor\":\"white\",\"linecolor\":\"white\",\"ticks\":\"\",\"title\":{\"standoff\":15},\"zerolinecolor\":\"white\",\"zerolinewidth\":2}}},\"xaxis\":{\"anchor\":\"y\",\"domain\":[0.0,1.0],\"title\":{\"text\":\"Age Group\"},\"categoryorder\":\"array\",\"categoryarray\":[\"21-30\",\"31-40\",\"41-50\",\"51-60\",\"61-70\",\"71-80\",\">80\"]},\"yaxis\":{\"anchor\":\"x\",\"domain\":[0.0,1.0],\"title\":{\"text\":\"TotalSpent\"}},\"legend\":{\"tracegroupgap\":0},\"title\":{\"text\":\"Relationship Between Customer's Age Group and Total Spent\"},\"barmode\":\"relative\",\"height\":500,\"annotations\":[{\"font\":{\"color\":\"rgb(66, 99, 236)\",\"family\":\"Arial\",\"size\":14},\"showarrow\":false,\"text\":\"1127.0$\",\"x\":\"21-30\",\"y\":1147.0},{\"font\":{\"color\":\"rgb(66, 99, 236)\",\"family\":\"Arial\",\"size\":14},\"showarrow\":false,\"text\":\"138.0$\",\"x\":\"31-40\",\"y\":158.0},{\"font\":{\"color\":\"rgb(66, 99, 236)\",\"family\":\"Arial\",\"size\":14},\"showarrow\":false,\"text\":\"235.0$\",\"x\":\"41-50\",\"y\":255.0},{\"font\":{\"color\":\"rgb(66, 99, 236)\",\"family\":\"Arial\",\"size\":14},\"showarrow\":false,\"text\":\"363.0$\",\"x\":\"51-60\",\"y\":383.0},{\"font\":{\"color\":\"rgb(66, 99, 236)\",\"family\":\"Arial\",\"size\":14},\"showarrow\":false,\"text\":\"603.0$\",\"x\":\"61-70\",\"y\":623.0},{\"font\":{\"color\":\"rgb(66, 99, 236)\",\"family\":\"Arial\",\"size\":14},\"showarrow\":false,\"text\":\"685.0$\",\"x\":\"71-80\",\"y\":705.0},{\"font\":{\"color\":\"rgb(66, 99, 236)\",\"family\":\"Arial\",\"size\":14},\"showarrow\":false,\"text\":\"157.0$\",\"x\":\">80\",\"y\":177.0}]},                        {\"responsive\": true}                    ).then(function(){\n",
              "                            \n",
              "var gd = document.getElementById('201a5c97-6a24-46b7-851f-ac8d3a0ddd63');\n",
              "var x = new MutationObserver(function (mutations, observer) {{\n",
              "        var display = window.getComputedStyle(gd).display;\n",
              "        if (!display || display === 'none') {{\n",
              "            console.log([gd, 'removed!']);\n",
              "            Plotly.purge(gd);\n",
              "            observer.disconnect();\n",
              "        }}\n",
              "}});\n",
              "\n",
              "// Listen for the removal of the full notebook cells\n",
              "var notebookContainer = gd.closest('#notebook-container');\n",
              "if (notebookContainer) {{\n",
              "    x.observe(notebookContainer, {childList: true});\n",
              "}}\n",
              "\n",
              "// Listen for the clearing of the current output cell\n",
              "var outputEl = gd.closest('.output');\n",
              "if (outputEl) {{\n",
              "    x.observe(outputEl, {childList: true});\n",
              "}}\n",
              "\n",
              "                        })                };                            </script>        </div>\n",
              "</body>\n",
              "</html>"
            ]
          },
          "metadata": {}
        }
      ]
    },
    {
      "cell_type": "markdown",
      "source": [
        "Based on the bar chart of the relationship between customer's age group and total spent, it appears that the group that **spends the most** on total spent is customers with an age range of 21-30 years which is 1127 dollar, followed by customers with an age range of 71-80 years which is 685 dollar. Let's look at the comparison distribution."
      ],
      "metadata": {
        "id": "elZcnKSkTLKq"
      }
    },
    {
      "cell_type": "code",
      "source": [
        "plt.figure(figsize=(8, 8))\n",
        "sns.violinplot(x=\"Age Group\", y=\"TotalSpent\", data=df, cut=0, order=order)\n",
        "plt.title(\"Relationship between Age Range and Total Spent\");"
      ],
      "metadata": {
        "colab": {
          "base_uri": "https://localhost:8080/",
          "height": 513
        },
        "id": "pybMivCUhfuu",
        "outputId": "7dfcfd94-8a5b-4655-9461-13ee4bff15f7"
      },
      "execution_count": 36,
      "outputs": [
        {
          "output_type": "display_data",
          "data": {
            "text/plain": [
              "<Figure size 576x576 with 1 Axes>"
            ],
            "image/png": "[encoded data removed]"
          },
          "metadata": {
            "needs_background": "light"
          }
        }
      ]
    },
    {
      "cell_type": "markdown",
      "source": [
        "Then a violin plot is made to find out whether there are outliers or not. It appears that most age groups have outliers. For example, the age group 80 years and over has a lot of outliers."
      ],
      "metadata": {
        "id": "4S1_MgYVUQQ2"
      }
    },
    {
      "cell_type": "markdown",
      "source": [
        "**Customer's Age and Income**"
      ],
      "metadata": {
        "id": "De1oHzx0VqL5"
      }
    },
    {
      "cell_type": "code",
      "source": [
        "from scipy.stats import iqr\n",
        "iqr = iqr(df[\"Income\"], nan_policy=\"omit\")\n",
        "\n",
        "low = np.nanquantile(df[\"Income\"], 0.25) - 1.5 * iqr\n",
        "high = np.nanquantile(df[\"Income\"], 0.75) + 1.5 * iqr"
      ],
      "metadata": {
        "id": "9U69V-gkgIDf"
      },
      "execution_count": 37,
      "outputs": []
    },
    {
      "cell_type": "code",
      "source": [
        "df_cut = df[df[\"Income\"].between(low, high)]"
      ],
      "metadata": {
        "id": "4zY-4uhdgPQf"
      },
      "execution_count": 38,
      "outputs": []
    },
    {
      "cell_type": "code",
      "source": [
        "mask = df_cut.groupby(\"Age Group\")[\"Income\"].mean()\n",
        "mask = mask.reset_index()\n",
        "fig = px.bar(data_frame=mask, \n",
        "             x=\"Age Group\", \n",
        "             y=\"Income\",\n",
        "             title = \"Relationship Between Customer's Age Group and Income\",\n",
        "             height=500)\n",
        "\n",
        "annotation = []\n",
        "for x, y in zip(mask[\"Age Group\"], mask[\"Income\"]):\n",
        "    annotation.append(\n",
        "        dict(x=x, y=y +5000,\n",
        "             text=str(round(y, 2)) + '$',\n",
        "             font=dict(family='Arial', size=14, color='rgb(66, 99, 236)'), showarrow=False)\n",
        "    )\n",
        "fig.update_xaxes(categoryorder='array', categoryarray= [\"21-30\", \"31-40\"])\n",
        "fig.update_layout(annotations=annotation)\n",
        "fig.show()"
      ],
      "metadata": {
        "colab": {
          "base_uri": "https://localhost:8080/",
          "height": 517
        },
        "id": "P0EWofYhgSU_",
        "outputId": "2ede217b-2884-46df-9eb3-6d7124b06b5c"
      },
      "execution_count": 39,
      "outputs": [
        {
          "output_type": "display_data",
          "data": {
            "text/html": [
              "<html>\n",
              "<head><meta charset=\"utf-8\" /></head>\n",
              "<body>\n",
              "    <div>            <script src=\"https://cdnjs.cloudflare.com/ajax/libs/mathjax/2.7.5/MathJax.js?config=TeX-AMS-MML_SVG\"></script><script type=\"text/javascript\">if (window.MathJax) {MathJax.Hub.Config({SVG: {font: \"STIX-Web\"}});}</script>                <script type=\"text/javascript\">window.PlotlyConfig = {MathJaxConfig: 'local'};</script>\n",
              "        <script src=\"https://cdn.plot.ly/plotly-2.8.3.min.js\"></script>                <div id=\"18f67b3c-ad18-4abe-be6a-ca4e6f66fe13\" class=\"plotly-graph-div\" style=\"height:500px; width:100%;\"></div>            <script type=\"text/javascript\">                                    window.PLOTLYENV=window.PLOTLYENV || {};                                    if (document.getElementById(\"18f67b3c-ad18-4abe-be6a-ca4e6f66fe13\")) {                    Plotly.newPlot(                        \"18f67b3c-ad18-4abe-be6a-ca4e6f66fe13\",                        [{\"alignmentgroup\":\"True\",\"hovertemplate\":\"Age Group=%{x}<br>Income=%{y}<extra></extra>\",\"legendgroup\":\"\",\"marker\":{\"color\":\"#636efa\",\"pattern\":{\"shape\":\"\"}},\"name\":\"\",\"offsetgroup\":\"\",\"orientation\":\"v\",\"showlegend\":false,\"textposition\":\"auto\",\"x\":[\"21-30\",\"31-40\",\"41-50\",\"51-60\",\"61-70\",\"71-80\",\">80\"],\"xaxis\":\"x\",\"y\":[63576.86666666667,44734.25174825175,47720.503257328994,51573.33925686591,57179.913978494624,58575.0,64904.4],\"yaxis\":\"y\",\"type\":\"bar\"}],                        {\"template\":{\"data\":{\"bar\":[{\"error_x\":{\"color\":\"#2a3f5f\"},\"error_y\":{\"color\":\"#2a3f5f\"},\"marker\":{\"line\":{\"color\":\"#E5ECF6\",\"width\":0.5},\"pattern\":{\"fillmode\":\"overlay\",\"size\":10,\"solidity\":0.2}},\"type\":\"bar\"}],\"barpolar\":[{\"marker\":{\"line\":{\"color\":\"#E5ECF6\",\"width\":0.5},\"pattern\":{\"fillmode\":\"overlay\",\"size\":10,\"solidity\":0.2}},\"type\":\"barpolar\"}],\"carpet\":[{\"aaxis\":{\"endlinecolor\":\"#2a3f5f\",\"gridcolor\":\"white\",\"linecolor\":\"white\",\"minorgridcolor\":\"white\",\"startlinecolor\":\"#2a3f5f\"},\"baxis\":{\"endlinecolor\":\"#2a3f5f\",\"gridcolor\":\"white\",\"linecolor\":\"white\",\"minorgridcolor\":\"white\",\"startlinecolor\":\"#2a3f5f\"},\"type\":\"carpet\"}],\"choropleth\":[{\"colorbar\":{\"outlinewidth\":0,\"ticks\":\"\"},\"type\":\"choropleth\"}],\"contour\":[{\"colorbar\":{\"outlinewidth\":0,\"ticks\":\"\"},\"colorscale\":[[0.0,\"#0d0887\"],[0.1111111111111111,\"#46039f\"],[0.2222222222222222,\"#7201a8\"],[0.3333333333333333,\"#9c179e\"],[0.4444444444444444,\"#bd3786\"],[0.5555555555555556,\"#d8576b\"],[0.6666666666666666,\"#ed7953\"],[0.7777777777777778,\"#fb9f3a\"],[0.8888888888888888,\"#fdca26\"],[1.0,\"#f0f921\"]],\"type\":\"contour\"}],\"contourcarpet\":[{\"colorbar\":{\"outlinewidth\":0,\"ticks\":\"\"},\"type\":\"contourcarpet\"}],\"heatmap\":[{\"colorbar\":{\"outlinewidth\":0,\"ticks\":\"\"},\"colorscale\":[[0.0,\"#0d0887\"],[0.1111111111111111,\"#46039f\"],[0.2222222222222222,\"#7201a8\"],[0.3333333333333333,\"#9c179e\"],[0.4444444444444444,\"#bd3786\"],[0.5555555555555556,\"#d8576b\"],[0.6666666666666666,\"#ed7953\"],[0.7777777777777778,\"#fb9f3a\"],[0.8888888888888888,\"#fdca26\"],[1.0,\"#f0f921\"]],\"type\":\"heatmap\"}],\"heatmapgl\":[{\"colorbar\":{\"outlinewidth\":0,\"ticks\":\"\"},\"colorscale\":[[0.0,\"#0d0887\"],[0.1111111111111111,\"#46039f\"],[0.2222222222222222,\"#7201a8\"],[0.3333333333333333,\"#9c179e\"],[0.4444444444444444,\"#bd3786\"],[0.5555555555555556,\"#d8576b\"],[0.6666666666666666,\"#ed7953\"],[0.7777777777777778,\"#fb9f3a\"],[0.8888888888888888,\"#fdca26\"],[1.0,\"#f0f921\"]],\"type\":\"heatmapgl\"}],\"histogram\":[{\"marker\":{\"pattern\":{\"fillmode\":\"overlay\",\"size\":10,\"solidity\":0.2}},\"type\":\"histogram\"}],\"histogram2d\":[{\"colorbar\":{\"outlinewidth\":0,\"ticks\":\"\"},\"colorscale\":[[0.0,\"#0d0887\"],[0.1111111111111111,\"#46039f\"],[0.2222222222222222,\"#7201a8\"],[0.3333333333333333,\"#9c179e\"],[0.4444444444444444,\"#bd3786\"],[0.5555555555555556,\"#d8576b\"],[0.6666666666666666,\"#ed7953\"],[0.7777777777777778,\"#fb9f3a\"],[0.8888888888888888,\"#fdca26\"],[1.0,\"#f0f921\"]],\"type\":\"histogram2d\"}],\"histogram2dcontour\":[{\"colorbar\":{\"outlinewidth\":0,\"ticks\":\"\"},\"colorscale\":[[0.0,\"#0d0887\"],[0.1111111111111111,\"#46039f\"],[0.2222222222222222,\"#7201a8\"],[0.3333333333333333,\"#9c179e\"],[0.4444444444444444,\"#bd3786\"],[0.5555555555555556,\"#d8576b\"],[0.6666666666666666,\"#ed7953\"],[0.7777777777777778,\"#fb9f3a\"],[0.8888888888888888,\"#fdca26\"],[1.0,\"#f0f921\"]],\"type\":\"histogram2dcontour\"}],\"mesh3d\":[{\"colorbar\":{\"outlinewidth\":0,\"ticks\":\"\"},\"type\":\"mesh3d\"}],\"parcoords\":[{\"line\":{\"colorbar\":{\"outlinewidth\":0,\"ticks\":\"\"}},\"type\":\"parcoords\"}],\"pie\":[{\"automargin\":true,\"type\":\"pie\"}],\"scatter\":[{\"marker\":{\"colorbar\":{\"outlinewidth\":0,\"ticks\":\"\"}},\"type\":\"scatter\"}],\"scatter3d\":[{\"line\":{\"colorbar\":{\"outlinewidth\":0,\"ticks\":\"\"}},\"marker\":{\"colorbar\":{\"outlinewidth\":0,\"ticks\":\"\"}},\"type\":\"scatter3d\"}],\"scattercarpet\":[{\"marker\":{\"colorbar\":{\"outlinewidth\":0,\"ticks\":\"\"}},\"type\":\"scattercarpet\"}],\"scattergeo\":[{\"marker\":{\"colorbar\":{\"outlinewidth\":0,\"ticks\":\"\"}},\"type\":\"scattergeo\"}],\"scattergl\":[{\"marker\":{\"colorbar\":{\"outlinewidth\":0,\"ticks\":\"\"}},\"type\":\"scattergl\"}],\"scattermapbox\":[{\"marker\":{\"colorbar\":{\"outlinewidth\":0,\"ticks\":\"\"}},\"type\":\"scattermapbox\"}],\"scatterpolar\":[{\"marker\":{\"colorbar\":{\"outlinewidth\":0,\"ticks\":\"\"}},\"type\":\"scatterpolar\"}],\"scatterpolargl\":[{\"marker\":{\"colorbar\":{\"outlinewidth\":0,\"ticks\":\"\"}},\"type\":\"scatterpolargl\"}],\"scatterternary\":[{\"marker\":{\"colorbar\":{\"outlinewidth\":0,\"ticks\":\"\"}},\"type\":\"scatterternary\"}],\"surface\":[{\"colorbar\":{\"outlinewidth\":0,\"ticks\":\"\"},\"colorscale\":[[0.0,\"#0d0887\"],[0.1111111111111111,\"#46039f\"],[0.2222222222222222,\"#7201a8\"],[0.3333333333333333,\"#9c179e\"],[0.4444444444444444,\"#bd3786\"],[0.5555555555555556,\"#d8576b\"],[0.6666666666666666,\"#ed7953\"],[0.7777777777777778,\"#fb9f3a\"],[0.8888888888888888,\"#fdca26\"],[1.0,\"#f0f921\"]],\"type\":\"surface\"}],\"table\":[{\"cells\":{\"fill\":{\"color\":\"#EBF0F8\"},\"line\":{\"color\":\"white\"}},\"header\":{\"fill\":{\"color\":\"#C8D4E3\"},\"line\":{\"color\":\"white\"}},\"type\":\"table\"}]},\"layout\":{\"annotationdefaults\":{\"arrowcolor\":\"#2a3f5f\",\"arrowhead\":0,\"arrowwidth\":1},\"autotypenumbers\":\"strict\",\"coloraxis\":{\"colorbar\":{\"outlinewidth\":0,\"ticks\":\"\"}},\"colorscale\":{\"diverging\":[[0,\"#8e0152\"],[0.1,\"#c51b7d\"],[0.2,\"#de77ae\"],[0.3,\"#f1b6da\"],[0.4,\"#fde0ef\"],[0.5,\"#f7f7f7\"],[0.6,\"#e6f5d0\"],[0.7,\"#b8e186\"],[0.8,\"#7fbc41\"],[0.9,\"#4d9221\"],[1,\"#276419\"]],\"sequential\":[[0.0,\"#0d0887\"],[0.1111111111111111,\"#46039f\"],[0.2222222222222222,\"#7201a8\"],[0.3333333333333333,\"#9c179e\"],[0.4444444444444444,\"#bd3786\"],[0.5555555555555556,\"#d8576b\"],[0.6666666666666666,\"#ed7953\"],[0.7777777777777778,\"#fb9f3a\"],[0.8888888888888888,\"#fdca26\"],[1.0,\"#f0f921\"]],\"sequentialminus\":[[0.0,\"#0d0887\"],[0.1111111111111111,\"#46039f\"],[0.2222222222222222,\"#7201a8\"],[0.3333333333333333,\"#9c179e\"],[0.4444444444444444,\"#bd3786\"],[0.5555555555555556,\"#d8576b\"],[0.6666666666666666,\"#ed7953\"],[0.7777777777777778,\"#fb9f3a\"],[0.8888888888888888,\"#fdca26\"],[1.0,\"#f0f921\"]]},\"colorway\":[\"#636efa\",\"#EF553B\",\"#00cc96\",\"#ab63fa\",\"#FFA15A\",\"#19d3f3\",\"#FF6692\",\"#B6E880\",\"#FF97FF\",\"#FECB52\"],\"font\":{\"color\":\"#2a3f5f\"},\"geo\":{\"bgcolor\":\"white\",\"lakecolor\":\"white\",\"landcolor\":\"#E5ECF6\",\"showlakes\":true,\"showland\":true,\"subunitcolor\":\"white\"},\"hoverlabel\":{\"align\":\"left\"},\"hovermode\":\"closest\",\"mapbox\":{\"style\":\"light\"},\"paper_bgcolor\":\"white\",\"plot_bgcolor\":\"#E5ECF6\",\"polar\":{\"angularaxis\":{\"gridcolor\":\"white\",\"linecolor\":\"white\",\"ticks\":\"\"},\"bgcolor\":\"#E5ECF6\",\"radialaxis\":{\"gridcolor\":\"white\",\"linecolor\":\"white\",\"ticks\":\"\"}},\"scene\":{\"xaxis\":{\"backgroundcolor\":\"#E5ECF6\",\"gridcolor\":\"white\",\"gridwidth\":2,\"linecolor\":\"white\",\"showbackground\":true,\"ticks\":\"\",\"zerolinecolor\":\"white\"},\"yaxis\":{\"backgroundcolor\":\"#E5ECF6\",\"gridcolor\":\"white\",\"gridwidth\":2,\"linecolor\":\"white\",\"showbackground\":true,\"ticks\":\"\",\"zerolinecolor\":\"white\"},\"zaxis\":{\"backgroundcolor\":\"#E5ECF6\",\"gridcolor\":\"white\",\"gridwidth\":2,\"linecolor\":\"white\",\"showbackground\":true,\"ticks\":\"\",\"zerolinecolor\":\"white\"}},\"shapedefaults\":{\"line\":{\"color\":\"#2a3f5f\"}},\"ternary\":{\"aaxis\":{\"gridcolor\":\"white\",\"linecolor\":\"white\",\"ticks\":\"\"},\"baxis\":{\"gridcolor\":\"white\",\"linecolor\":\"white\",\"ticks\":\"\"},\"bgcolor\":\"#E5ECF6\",\"caxis\":{\"gridcolor\":\"white\",\"linecolor\":\"white\",\"ticks\":\"\"}},\"title\":{\"x\":0.05},\"xaxis\":{\"automargin\":true,\"gridcolor\":\"white\",\"linecolor\":\"white\",\"ticks\":\"\",\"title\":{\"standoff\":15},\"zerolinecolor\":\"white\",\"zerolinewidth\":2},\"yaxis\":{\"automargin\":true,\"gridcolor\":\"white\",\"linecolor\":\"white\",\"ticks\":\"\",\"title\":{\"standoff\":15},\"zerolinecolor\":\"white\",\"zerolinewidth\":2}}},\"xaxis\":{\"anchor\":\"y\",\"domain\":[0.0,1.0],\"title\":{\"text\":\"Age Group\"},\"categoryorder\":\"array\",\"categoryarray\":[\"21-30\",\"31-40\"]},\"yaxis\":{\"anchor\":\"x\",\"domain\":[0.0,1.0],\"title\":{\"text\":\"Income\"}},\"legend\":{\"tracegroupgap\":0},\"title\":{\"text\":\"Relationship Between Customer's Age Group and Income\"},\"barmode\":\"relative\",\"height\":500,\"annotations\":[{\"font\":{\"color\":\"rgb(66, 99, 236)\",\"family\":\"Arial\",\"size\":14},\"showarrow\":false,\"text\":\"63576.87$\",\"x\":\"21-30\",\"y\":68576.86666666667},{\"font\":{\"color\":\"rgb(66, 99, 236)\",\"family\":\"Arial\",\"size\":14},\"showarrow\":false,\"text\":\"44734.25$\",\"x\":\"31-40\",\"y\":49734.25174825175},{\"font\":{\"color\":\"rgb(66, 99, 236)\",\"family\":\"Arial\",\"size\":14},\"showarrow\":false,\"text\":\"47720.5$\",\"x\":\"41-50\",\"y\":52720.503257328994},{\"font\":{\"color\":\"rgb(66, 99, 236)\",\"family\":\"Arial\",\"size\":14},\"showarrow\":false,\"text\":\"51573.34$\",\"x\":\"51-60\",\"y\":56573.33925686591},{\"font\":{\"color\":\"rgb(66, 99, 236)\",\"family\":\"Arial\",\"size\":14},\"showarrow\":false,\"text\":\"57179.91$\",\"x\":\"61-70\",\"y\":62179.913978494624},{\"font\":{\"color\":\"rgb(66, 99, 236)\",\"family\":\"Arial\",\"size\":14},\"showarrow\":false,\"text\":\"58575.0$\",\"x\":\"71-80\",\"y\":63575.0},{\"font\":{\"color\":\"rgb(66, 99, 236)\",\"family\":\"Arial\",\"size\":14},\"showarrow\":false,\"text\":\"64904.4$\",\"x\":\">80\",\"y\":69904.4}]},                        {\"responsive\": true}                    ).then(function(){\n",
              "                            \n",
              "var gd = document.getElementById('18f67b3c-ad18-4abe-be6a-ca4e6f66fe13');\n",
              "var x = new MutationObserver(function (mutations, observer) {{\n",
              "        var display = window.getComputedStyle(gd).display;\n",
              "        if (!display || display === 'none') {{\n",
              "            console.log([gd, 'removed!']);\n",
              "            Plotly.purge(gd);\n",
              "            observer.disconnect();\n",
              "        }}\n",
              "}});\n",
              "\n",
              "// Listen for the removal of the full notebook cells\n",
              "var notebookContainer = gd.closest('#notebook-container');\n",
              "if (notebookContainer) {{\n",
              "    x.observe(notebookContainer, {childList: true});\n",
              "}}\n",
              "\n",
              "// Listen for the clearing of the current output cell\n",
              "var outputEl = gd.closest('.output');\n",
              "if (outputEl) {{\n",
              "    x.observe(outputEl, {childList: true});\n",
              "}}\n",
              "\n",
              "                        })                };                            </script>        </div>\n",
              "</body>\n",
              "</html>"
            ]
          },
          "metadata": {}
        }
      ]
    },
    {
      "cell_type": "markdown",
      "source": [
        "Based on the bar chart of the relationship between customer's age and income, it appears that the group with **greater income** are the customers within above 80 years which is 64904.4 dollar, followed by the customers within 21 - 30 years which is 63576.87 dollar, and the **least income** are the customers within 31 - 40 years which is 44734.26 dollar."
      ],
      "metadata": {
        "id": "CrlQ8T5kUhle"
      }
    },
    {
      "cell_type": "markdown",
      "source": [
        "**Customer's Education and Total Spent**"
      ],
      "metadata": {
        "id": "odMA2Xj8hzNR"
      }
    },
    {
      "cell_type": "code",
      "source": [
        "mask = df.groupby(\"Education\")[\"TotalSpent\"].median()\n",
        "mask = mask.reset_index()\n",
        "fig = px.bar(data_frame=mask, x=\"Education\", y=\"TotalSpent\", height=500,\n",
        "            title = \"Relationsip Between Education and Total (Average) Spent\")\n",
        "\n",
        "annotation = []\n",
        "for x, y in zip(mask[\"Education\"], mask[\"TotalSpent\"]):\n",
        "    annotation.append(\n",
        "        dict(x=x, y=y +20,\n",
        "             text=str(round(y, 2)) + '$',\n",
        "             font=dict(family='Arial', size=14, color='rgb(66, 99, 236)'), showarrow=False)\n",
        "    )\n",
        "fig.update_xaxes(categoryorder='array', categoryarray= order)\n",
        "fig.update_layout(annotations=annotation)\n",
        "fig.show()"
      ],
      "metadata": {
        "colab": {
          "base_uri": "https://localhost:8080/",
          "height": 517
        },
        "id": "V7NQCRBuuy0-",
        "outputId": "af5e4541-5d29-41bc-db69-7cac63629c6a"
      },
      "execution_count": 40,
      "outputs": [
        {
          "output_type": "display_data",
          "data": {
            "text/html": [
              "<html>\n",
              "<head><meta charset=\"utf-8\" /></head>\n",
              "<body>\n",
              "    <div>            <script src=\"https://cdnjs.cloudflare.com/ajax/libs/mathjax/2.7.5/MathJax.js?config=TeX-AMS-MML_SVG\"></script><script type=\"text/javascript\">if (window.MathJax) {MathJax.Hub.Config({SVG: {font: \"STIX-Web\"}});}</script>                <script type=\"text/javascript\">window.PlotlyConfig = {MathJaxConfig: 'local'};</script>\n",
              "        <script src=\"https://cdn.plot.ly/plotly-2.8.3.min.js\"></script>                <div id=\"4eb0e1c5-97a5-4482-aa5b-510ef20c8a51\" class=\"plotly-graph-div\" style=\"height:500px; width:100%;\"></div>            <script type=\"text/javascript\">                                    window.PLOTLYENV=window.PLOTLYENV || {};                                    if (document.getElementById(\"4eb0e1c5-97a5-4482-aa5b-510ef20c8a51\")) {                    Plotly.newPlot(                        \"4eb0e1c5-97a5-4482-aa5b-510ef20c8a51\",                        [{\"alignmentgroup\":\"True\",\"hovertemplate\":\"Education=%{x}<br>TotalSpent=%{y}<extra></extra>\",\"legendgroup\":\"\",\"marker\":{\"color\":\"#636efa\",\"pattern\":{\"shape\":\"\"}},\"name\":\"\",\"offsetgroup\":\"\",\"orientation\":\"v\",\"showlegend\":false,\"textposition\":\"auto\",\"x\":[\"Graduate\",\"Postgraduate\",\"Undergraduate\"],\"xaxis\":\"x\",\"y\":[414.0,411.0,57.0],\"yaxis\":\"y\",\"type\":\"bar\"}],                        {\"template\":{\"data\":{\"bar\":[{\"error_x\":{\"color\":\"#2a3f5f\"},\"error_y\":{\"color\":\"#2a3f5f\"},\"marker\":{\"line\":{\"color\":\"#E5ECF6\",\"width\":0.5},\"pattern\":{\"fillmode\":\"overlay\",\"size\":10,\"solidity\":0.2}},\"type\":\"bar\"}],\"barpolar\":[{\"marker\":{\"line\":{\"color\":\"#E5ECF6\",\"width\":0.5},\"pattern\":{\"fillmode\":\"overlay\",\"size\":10,\"solidity\":0.2}},\"type\":\"barpolar\"}],\"carpet\":[{\"aaxis\":{\"endlinecolor\":\"#2a3f5f\",\"gridcolor\":\"white\",\"linecolor\":\"white\",\"minorgridcolor\":\"white\",\"startlinecolor\":\"#2a3f5f\"},\"baxis\":{\"endlinecolor\":\"#2a3f5f\",\"gridcolor\":\"white\",\"linecolor\":\"white\",\"minorgridcolor\":\"white\",\"startlinecolor\":\"#2a3f5f\"},\"type\":\"carpet\"}],\"choropleth\":[{\"colorbar\":{\"outlinewidth\":0,\"ticks\":\"\"},\"type\":\"choropleth\"}],\"contour\":[{\"colorbar\":{\"outlinewidth\":0,\"ticks\":\"\"},\"colorscale\":[[0.0,\"#0d0887\"],[0.1111111111111111,\"#46039f\"],[0.2222222222222222,\"#7201a8\"],[0.3333333333333333,\"#9c179e\"],[0.4444444444444444,\"#bd3786\"],[0.5555555555555556,\"#d8576b\"],[0.6666666666666666,\"#ed7953\"],[0.7777777777777778,\"#fb9f3a\"],[0.8888888888888888,\"#fdca26\"],[1.0,\"#f0f921\"]],\"type\":\"contour\"}],\"contourcarpet\":[{\"colorbar\":{\"outlinewidth\":0,\"ticks\":\"\"},\"type\":\"contourcarpet\"}],\"heatmap\":[{\"colorbar\":{\"outlinewidth\":0,\"ticks\":\"\"},\"colorscale\":[[0.0,\"#0d0887\"],[0.1111111111111111,\"#46039f\"],[0.2222222222222222,\"#7201a8\"],[0.3333333333333333,\"#9c179e\"],[0.4444444444444444,\"#bd3786\"],[0.5555555555555556,\"#d8576b\"],[0.6666666666666666,\"#ed7953\"],[0.7777777777777778,\"#fb9f3a\"],[0.8888888888888888,\"#fdca26\"],[1.0,\"#f0f921\"]],\"type\":\"heatmap\"}],\"heatmapgl\":[{\"colorbar\":{\"outlinewidth\":0,\"ticks\":\"\"},\"colorscale\":[[0.0,\"#0d0887\"],[0.1111111111111111,\"#46039f\"],[0.2222222222222222,\"#7201a8\"],[0.3333333333333333,\"#9c179e\"],[0.4444444444444444,\"#bd3786\"],[0.5555555555555556,\"#d8576b\"],[0.6666666666666666,\"#ed7953\"],[0.7777777777777778,\"#fb9f3a\"],[0.8888888888888888,\"#fdca26\"],[1.0,\"#f0f921\"]],\"type\":\"heatmapgl\"}],\"histogram\":[{\"marker\":{\"pattern\":{\"fillmode\":\"overlay\",\"size\":10,\"solidity\":0.2}},\"type\":\"histogram\"}],\"histogram2d\":[{\"colorbar\":{\"outlinewidth\":0,\"ticks\":\"\"},\"colorscale\":[[0.0,\"#0d0887\"],[0.1111111111111111,\"#46039f\"],[0.2222222222222222,\"#7201a8\"],[0.3333333333333333,\"#9c179e\"],[0.4444444444444444,\"#bd3786\"],[0.5555555555555556,\"#d8576b\"],[0.6666666666666666,\"#ed7953\"],[0.7777777777777778,\"#fb9f3a\"],[0.8888888888888888,\"#fdca26\"],[1.0,\"#f0f921\"]],\"type\":\"histogram2d\"}],\"histogram2dcontour\":[{\"colorbar\":{\"outlinewidth\":0,\"ticks\":\"\"},\"colorscale\":[[0.0,\"#0d0887\"],[0.1111111111111111,\"#46039f\"],[0.2222222222222222,\"#7201a8\"],[0.3333333333333333,\"#9c179e\"],[0.4444444444444444,\"#bd3786\"],[0.5555555555555556,\"#d8576b\"],[0.6666666666666666,\"#ed7953\"],[0.7777777777777778,\"#fb9f3a\"],[0.8888888888888888,\"#fdca26\"],[1.0,\"#f0f921\"]],\"type\":\"histogram2dcontour\"}],\"mesh3d\":[{\"colorbar\":{\"outlinewidth\":0,\"ticks\":\"\"},\"type\":\"mesh3d\"}],\"parcoords\":[{\"line\":{\"colorbar\":{\"outlinewidth\":0,\"ticks\":\"\"}},\"type\":\"parcoords\"}],\"pie\":[{\"automargin\":true,\"type\":\"pie\"}],\"scatter\":[{\"marker\":{\"colorbar\":{\"outlinewidth\":0,\"ticks\":\"\"}},\"type\":\"scatter\"}],\"scatter3d\":[{\"line\":{\"colorbar\":{\"outlinewidth\":0,\"ticks\":\"\"}},\"marker\":{\"colorbar\":{\"outlinewidth\":0,\"ticks\":\"\"}},\"type\":\"scatter3d\"}],\"scattercarpet\":[{\"marker\":{\"colorbar\":{\"outlinewidth\":0,\"ticks\":\"\"}},\"type\":\"scattercarpet\"}],\"scattergeo\":[{\"marker\":{\"colorbar\":{\"outlinewidth\":0,\"ticks\":\"\"}},\"type\":\"scattergeo\"}],\"scattergl\":[{\"marker\":{\"colorbar\":{\"outlinewidth\":0,\"ticks\":\"\"}},\"type\":\"scattergl\"}],\"scattermapbox\":[{\"marker\":{\"colorbar\":{\"outlinewidth\":0,\"ticks\":\"\"}},\"type\":\"scattermapbox\"}],\"scatterpolar\":[{\"marker\":{\"colorbar\":{\"outlinewidth\":0,\"ticks\":\"\"}},\"type\":\"scatterpolar\"}],\"scatterpolargl\":[{\"marker\":{\"colorbar\":{\"outlinewidth\":0,\"ticks\":\"\"}},\"type\":\"scatterpolargl\"}],\"scatterternary\":[{\"marker\":{\"colorbar\":{\"outlinewidth\":0,\"ticks\":\"\"}},\"type\":\"scatterternary\"}],\"surface\":[{\"colorbar\":{\"outlinewidth\":0,\"ticks\":\"\"},\"colorscale\":[[0.0,\"#0d0887\"],[0.1111111111111111,\"#46039f\"],[0.2222222222222222,\"#7201a8\"],[0.3333333333333333,\"#9c179e\"],[0.4444444444444444,\"#bd3786\"],[0.5555555555555556,\"#d8576b\"],[0.6666666666666666,\"#ed7953\"],[0.7777777777777778,\"#fb9f3a\"],[0.8888888888888888,\"#fdca26\"],[1.0,\"#f0f921\"]],\"type\":\"surface\"}],\"table\":[{\"cells\":{\"fill\":{\"color\":\"#EBF0F8\"},\"line\":{\"color\":\"white\"}},\"header\":{\"fill\":{\"color\":\"#C8D4E3\"},\"line\":{\"color\":\"white\"}},\"type\":\"table\"}]},\"layout\":{\"annotationdefaults\":{\"arrowcolor\":\"#2a3f5f\",\"arrowhead\":0,\"arrowwidth\":1},\"autotypenumbers\":\"strict\",\"coloraxis\":{\"colorbar\":{\"outlinewidth\":0,\"ticks\":\"\"}},\"colorscale\":{\"diverging\":[[0,\"#8e0152\"],[0.1,\"#c51b7d\"],[0.2,\"#de77ae\"],[0.3,\"#f1b6da\"],[0.4,\"#fde0ef\"],[0.5,\"#f7f7f7\"],[0.6,\"#e6f5d0\"],[0.7,\"#b8e186\"],[0.8,\"#7fbc41\"],[0.9,\"#4d9221\"],[1,\"#276419\"]],\"sequential\":[[0.0,\"#0d0887\"],[0.1111111111111111,\"#46039f\"],[0.2222222222222222,\"#7201a8\"],[0.3333333333333333,\"#9c179e\"],[0.4444444444444444,\"#bd3786\"],[0.5555555555555556,\"#d8576b\"],[0.6666666666666666,\"#ed7953\"],[0.7777777777777778,\"#fb9f3a\"],[0.8888888888888888,\"#fdca26\"],[1.0,\"#f0f921\"]],\"sequentialminus\":[[0.0,\"#0d0887\"],[0.1111111111111111,\"#46039f\"],[0.2222222222222222,\"#7201a8\"],[0.3333333333333333,\"#9c179e\"],[0.4444444444444444,\"#bd3786\"],[0.5555555555555556,\"#d8576b\"],[0.6666666666666666,\"#ed7953\"],[0.7777777777777778,\"#fb9f3a\"],[0.8888888888888888,\"#fdca26\"],[1.0,\"#f0f921\"]]},\"colorway\":[\"#636efa\",\"#EF553B\",\"#00cc96\",\"#ab63fa\",\"#FFA15A\",\"#19d3f3\",\"#FF6692\",\"#B6E880\",\"#FF97FF\",\"#FECB52\"],\"font\":{\"color\":\"#2a3f5f\"},\"geo\":{\"bgcolor\":\"white\",\"lakecolor\":\"white\",\"landcolor\":\"#E5ECF6\",\"showlakes\":true,\"showland\":true,\"subunitcolor\":\"white\"},\"hoverlabel\":{\"align\":\"left\"},\"hovermode\":\"closest\",\"mapbox\":{\"style\":\"light\"},\"paper_bgcolor\":\"white\",\"plot_bgcolor\":\"#E5ECF6\",\"polar\":{\"angularaxis\":{\"gridcolor\":\"white\",\"linecolor\":\"white\",\"ticks\":\"\"},\"bgcolor\":\"#E5ECF6\",\"radialaxis\":{\"gridcolor\":\"white\",\"linecolor\":\"white\",\"ticks\":\"\"}},\"scene\":{\"xaxis\":{\"backgroundcolor\":\"#E5ECF6\",\"gridcolor\":\"white\",\"gridwidth\":2,\"linecolor\":\"white\",\"showbackground\":true,\"ticks\":\"\",\"zerolinecolor\":\"white\"},\"yaxis\":{\"backgroundcolor\":\"#E5ECF6\",\"gridcolor\":\"white\",\"gridwidth\":2,\"linecolor\":\"white\",\"showbackground\":true,\"ticks\":\"\",\"zerolinecolor\":\"white\"},\"zaxis\":{\"backgroundcolor\":\"#E5ECF6\",\"gridcolor\":\"white\",\"gridwidth\":2,\"linecolor\":\"white\",\"showbackground\":true,\"ticks\":\"\",\"zerolinecolor\":\"white\"}},\"shapedefaults\":{\"line\":{\"color\":\"#2a3f5f\"}},\"ternary\":{\"aaxis\":{\"gridcolor\":\"white\",\"linecolor\":\"white\",\"ticks\":\"\"},\"baxis\":{\"gridcolor\":\"white\",\"linecolor\":\"white\",\"ticks\":\"\"},\"bgcolor\":\"#E5ECF6\",\"caxis\":{\"gridcolor\":\"white\",\"linecolor\":\"white\",\"ticks\":\"\"}},\"title\":{\"x\":0.05},\"xaxis\":{\"automargin\":true,\"gridcolor\":\"white\",\"linecolor\":\"white\",\"ticks\":\"\",\"title\":{\"standoff\":15},\"zerolinecolor\":\"white\",\"zerolinewidth\":2},\"yaxis\":{\"automargin\":true,\"gridcolor\":\"white\",\"linecolor\":\"white\",\"ticks\":\"\",\"title\":{\"standoff\":15},\"zerolinecolor\":\"white\",\"zerolinewidth\":2}}},\"xaxis\":{\"anchor\":\"y\",\"domain\":[0.0,1.0],\"title\":{\"text\":\"Education\"},\"categoryorder\":\"array\",\"categoryarray\":[\"21-30\",\"31-40\",\"41-50\",\"51-60\",\"61-70\",\"71-80\",\">80\"]},\"yaxis\":{\"anchor\":\"x\",\"domain\":[0.0,1.0],\"title\":{\"text\":\"TotalSpent\"}},\"legend\":{\"tracegroupgap\":0},\"title\":{\"text\":\"Relationsip Between Education and Total (Average) Spent\"},\"barmode\":\"relative\",\"height\":500,\"annotations\":[{\"font\":{\"color\":\"rgb(66, 99, 236)\",\"family\":\"Arial\",\"size\":14},\"showarrow\":false,\"text\":\"414.0$\",\"x\":\"Graduate\",\"y\":434.0},{\"font\":{\"color\":\"rgb(66, 99, 236)\",\"family\":\"Arial\",\"size\":14},\"showarrow\":false,\"text\":\"411.0$\",\"x\":\"Postgraduate\",\"y\":431.0},{\"font\":{\"color\":\"rgb(66, 99, 236)\",\"family\":\"Arial\",\"size\":14},\"showarrow\":false,\"text\":\"57.0$\",\"x\":\"Undergraduate\",\"y\":77.0}]},                        {\"responsive\": true}                    ).then(function(){\n",
              "                            \n",
              "var gd = document.getElementById('4eb0e1c5-97a5-4482-aa5b-510ef20c8a51');\n",
              "var x = new MutationObserver(function (mutations, observer) {{\n",
              "        var display = window.getComputedStyle(gd).display;\n",
              "        if (!display || display === 'none') {{\n",
              "            console.log([gd, 'removed!']);\n",
              "            Plotly.purge(gd);\n",
              "            observer.disconnect();\n",
              "        }}\n",
              "}});\n",
              "\n",
              "// Listen for the removal of the full notebook cells\n",
              "var notebookContainer = gd.closest('#notebook-container');\n",
              "if (notebookContainer) {{\n",
              "    x.observe(notebookContainer, {childList: true});\n",
              "}}\n",
              "\n",
              "// Listen for the clearing of the current output cell\n",
              "var outputEl = gd.closest('.output');\n",
              "if (outputEl) {{\n",
              "    x.observe(outputEl, {childList: true});\n",
              "}}\n",
              "\n",
              "                        })                };                            </script>        </div>\n",
              "</body>\n",
              "</html>"
            ]
          },
          "metadata": {}
        }
      ]
    },
    {
      "cell_type": "markdown",
      "source": [
        "Based on the bar chart of relationship between education and total (average) spent, it appears that graduate customers and postgraduate customer have a total (average) spent that is not significantly different. Graduate customers have the highest total average spent, 3 dollar more than postgraduate customers. However, undergraduate customers have a significantly different total (average) spent with graduate and postgraduate customers about 7 times less."
      ],
      "metadata": {
        "id": "A98l0C4WPu6V"
      }
    },
    {
      "cell_type": "markdown",
      "source": [
        "**Customer's Education and Income**"
      ],
      "metadata": {
        "id": "-0MnD2l5ve9C"
      }
    },
    {
      "cell_type": "code",
      "source": [
        "mask = df_cut.groupby(\"Education\")[\"Income\"].mean()\n",
        "mask = mask.reset_index()\n",
        "fig = px.bar(data_frame=mask, x=\"Education\", y=\"Income\", height=500,\n",
        "            title = \"Relationsip Between Customer's Education Level and Average Income\")\n",
        "\n",
        "annotation = []\n",
        "for x, y in zip(mask[\"Education\"], mask[\"Income\"]):\n",
        "    annotation.append(\n",
        "        dict(x=x, y=y +1500,\n",
        "             text=str(round(y, 2)) + '$',\n",
        "             font=dict(family='Arial', size=14, color='rgb(66, 99, 236)'), showarrow=False)\n",
        "    )\n",
        "fig.update_xaxes(categoryorder='array', categoryarray= order)\n",
        "fig.update_layout(annotations=annotation)\n",
        "\n",
        "fig.show()"
      ],
      "metadata": {
        "colab": {
          "base_uri": "https://localhost:8080/",
          "height": 517
        },
        "id": "MjzzBDFdvijL",
        "outputId": "899d4f1e-adf7-4d6e-aea7-997b3b196613"
      },
      "execution_count": 41,
      "outputs": [
        {
          "output_type": "display_data",
          "data": {
            "text/html": [
              "<html>\n",
              "<head><meta charset=\"utf-8\" /></head>\n",
              "<body>\n",
              "    <div>            <script src=\"https://cdnjs.cloudflare.com/ajax/libs/mathjax/2.7.5/MathJax.js?config=TeX-AMS-MML_SVG\"></script><script type=\"text/javascript\">if (window.MathJax) {MathJax.Hub.Config({SVG: {font: \"STIX-Web\"}});}</script>                <script type=\"text/javascript\">window.PlotlyConfig = {MathJaxConfig: 'local'};</script>\n",
              "        <script src=\"https://cdn.plot.ly/plotly-2.8.3.min.js\"></script>                <div id=\"497fcecb-e486-4833-9e5e-42871e71a577\" class=\"plotly-graph-div\" style=\"height:500px; width:100%;\"></div>            <script type=\"text/javascript\">                                    window.PLOTLYENV=window.PLOTLYENV || {};                                    if (document.getElementById(\"497fcecb-e486-4833-9e5e-42871e71a577\")) {                    Plotly.newPlot(                        \"497fcecb-e486-4833-9e5e-42871e71a577\",                        [{\"alignmentgroup\":\"True\",\"hovertemplate\":\"Education=%{x}<br>Income=%{y}<extra></extra>\",\"legendgroup\":\"\",\"marker\":{\"color\":\"#636efa\",\"pattern\":{\"shape\":\"\"}},\"name\":\"\",\"offsetgroup\":\"\",\"orientation\":\"v\",\"showlegend\":false,\"textposition\":\"auto\",\"x\":[\"Graduate\",\"Postgraduate\",\"Undergraduate\"],\"xaxis\":\"x\",\"y\":[51978.10676156584,52865.54743833017,20306.25925925926],\"yaxis\":\"y\",\"type\":\"bar\"}],                        {\"template\":{\"data\":{\"bar\":[{\"error_x\":{\"color\":\"#2a3f5f\"},\"error_y\":{\"color\":\"#2a3f5f\"},\"marker\":{\"line\":{\"color\":\"#E5ECF6\",\"width\":0.5},\"pattern\":{\"fillmode\":\"overlay\",\"size\":10,\"solidity\":0.2}},\"type\":\"bar\"}],\"barpolar\":[{\"marker\":{\"line\":{\"color\":\"#E5ECF6\",\"width\":0.5},\"pattern\":{\"fillmode\":\"overlay\",\"size\":10,\"solidity\":0.2}},\"type\":\"barpolar\"}],\"carpet\":[{\"aaxis\":{\"endlinecolor\":\"#2a3f5f\",\"gridcolor\":\"white\",\"linecolor\":\"white\",\"minorgridcolor\":\"white\",\"startlinecolor\":\"#2a3f5f\"},\"baxis\":{\"endlinecolor\":\"#2a3f5f\",\"gridcolor\":\"white\",\"linecolor\":\"white\",\"minorgridcolor\":\"white\",\"startlinecolor\":\"#2a3f5f\"},\"type\":\"carpet\"}],\"choropleth\":[{\"colorbar\":{\"outlinewidth\":0,\"ticks\":\"\"},\"type\":\"choropleth\"}],\"contour\":[{\"colorbar\":{\"outlinewidth\":0,\"ticks\":\"\"},\"colorscale\":[[0.0,\"#0d0887\"],[0.1111111111111111,\"#46039f\"],[0.2222222222222222,\"#7201a8\"],[0.3333333333333333,\"#9c179e\"],[0.4444444444444444,\"#bd3786\"],[0.5555555555555556,\"#d8576b\"],[0.6666666666666666,\"#ed7953\"],[0.7777777777777778,\"#fb9f3a\"],[0.8888888888888888,\"#fdca26\"],[1.0,\"#f0f921\"]],\"type\":\"contour\"}],\"contourcarpet\":[{\"colorbar\":{\"outlinewidth\":0,\"ticks\":\"\"},\"type\":\"contourcarpet\"}],\"heatmap\":[{\"colorbar\":{\"outlinewidth\":0,\"ticks\":\"\"},\"colorscale\":[[0.0,\"#0d0887\"],[0.1111111111111111,\"#46039f\"],[0.2222222222222222,\"#7201a8\"],[0.3333333333333333,\"#9c179e\"],[0.4444444444444444,\"#bd3786\"],[0.5555555555555556,\"#d8576b\"],[0.6666666666666666,\"#ed7953\"],[0.7777777777777778,\"#fb9f3a\"],[0.8888888888888888,\"#fdca26\"],[1.0,\"#f0f921\"]],\"type\":\"heatmap\"}],\"heatmapgl\":[{\"colorbar\":{\"outlinewidth\":0,\"ticks\":\"\"},\"colorscale\":[[0.0,\"#0d0887\"],[0.1111111111111111,\"#46039f\"],[0.2222222222222222,\"#7201a8\"],[0.3333333333333333,\"#9c179e\"],[0.4444444444444444,\"#bd3786\"],[0.5555555555555556,\"#d8576b\"],[0.6666666666666666,\"#ed7953\"],[0.7777777777777778,\"#fb9f3a\"],[0.8888888888888888,\"#fdca26\"],[1.0,\"#f0f921\"]],\"type\":\"heatmapgl\"}],\"histogram\":[{\"marker\":{\"pattern\":{\"fillmode\":\"overlay\",\"size\":10,\"solidity\":0.2}},\"type\":\"histogram\"}],\"histogram2d\":[{\"colorbar\":{\"outlinewidth\":0,\"ticks\":\"\"},\"colorscale\":[[0.0,\"#0d0887\"],[0.1111111111111111,\"#46039f\"],[0.2222222222222222,\"#7201a8\"],[0.3333333333333333,\"#9c179e\"],[0.4444444444444444,\"#bd3786\"],[0.5555555555555556,\"#d8576b\"],[0.6666666666666666,\"#ed7953\"],[0.7777777777777778,\"#fb9f3a\"],[0.8888888888888888,\"#fdca26\"],[1.0,\"#f0f921\"]],\"type\":\"histogram2d\"}],\"histogram2dcontour\":[{\"colorbar\":{\"outlinewidth\":0,\"ticks\":\"\"},\"colorscale\":[[0.0,\"#0d0887\"],[0.1111111111111111,\"#46039f\"],[0.2222222222222222,\"#7201a8\"],[0.3333333333333333,\"#9c179e\"],[0.4444444444444444,\"#bd3786\"],[0.5555555555555556,\"#d8576b\"],[0.6666666666666666,\"#ed7953\"],[0.7777777777777778,\"#fb9f3a\"],[0.8888888888888888,\"#fdca26\"],[1.0,\"#f0f921\"]],\"type\":\"histogram2dcontour\"}],\"mesh3d\":[{\"colorbar\":{\"outlinewidth\":0,\"ticks\":\"\"},\"type\":\"mesh3d\"}],\"parcoords\":[{\"line\":{\"colorbar\":{\"outlinewidth\":0,\"ticks\":\"\"}},\"type\":\"parcoords\"}],\"pie\":[{\"automargin\":true,\"type\":\"pie\"}],\"scatter\":[{\"marker\":{\"colorbar\":{\"outlinewidth\":0,\"ticks\":\"\"}},\"type\":\"scatter\"}],\"scatter3d\":[{\"line\":{\"colorbar\":{\"outlinewidth\":0,\"ticks\":\"\"}},\"marker\":{\"colorbar\":{\"outlinewidth\":0,\"ticks\":\"\"}},\"type\":\"scatter3d\"}],\"scattercarpet\":[{\"marker\":{\"colorbar\":{\"outlinewidth\":0,\"ticks\":\"\"}},\"type\":\"scattercarpet\"}],\"scattergeo\":[{\"marker\":{\"colorbar\":{\"outlinewidth\":0,\"ticks\":\"\"}},\"type\":\"scattergeo\"}],\"scattergl\":[{\"marker\":{\"colorbar\":{\"outlinewidth\":0,\"ticks\":\"\"}},\"type\":\"scattergl\"}],\"scattermapbox\":[{\"marker\":{\"colorbar\":{\"outlinewidth\":0,\"ticks\":\"\"}},\"type\":\"scattermapbox\"}],\"scatterpolar\":[{\"marker\":{\"colorbar\":{\"outlinewidth\":0,\"ticks\":\"\"}},\"type\":\"scatterpolar\"}],\"scatterpolargl\":[{\"marker\":{\"colorbar\":{\"outlinewidth\":0,\"ticks\":\"\"}},\"type\":\"scatterpolargl\"}],\"scatterternary\":[{\"marker\":{\"colorbar\":{\"outlinewidth\":0,\"ticks\":\"\"}},\"type\":\"scatterternary\"}],\"surface\":[{\"colorbar\":{\"outlinewidth\":0,\"ticks\":\"\"},\"colorscale\":[[0.0,\"#0d0887\"],[0.1111111111111111,\"#46039f\"],[0.2222222222222222,\"#7201a8\"],[0.3333333333333333,\"#9c179e\"],[0.4444444444444444,\"#bd3786\"],[0.5555555555555556,\"#d8576b\"],[0.6666666666666666,\"#ed7953\"],[0.7777777777777778,\"#fb9f3a\"],[0.8888888888888888,\"#fdca26\"],[1.0,\"#f0f921\"]],\"type\":\"surface\"}],\"table\":[{\"cells\":{\"fill\":{\"color\":\"#EBF0F8\"},\"line\":{\"color\":\"white\"}},\"header\":{\"fill\":{\"color\":\"#C8D4E3\"},\"line\":{\"color\":\"white\"}},\"type\":\"table\"}]},\"layout\":{\"annotationdefaults\":{\"arrowcolor\":\"#2a3f5f\",\"arrowhead\":0,\"arrowwidth\":1},\"autotypenumbers\":\"strict\",\"coloraxis\":{\"colorbar\":{\"outlinewidth\":0,\"ticks\":\"\"}},\"colorscale\":{\"diverging\":[[0,\"#8e0152\"],[0.1,\"#c51b7d\"],[0.2,\"#de77ae\"],[0.3,\"#f1b6da\"],[0.4,\"#fde0ef\"],[0.5,\"#f7f7f7\"],[0.6,\"#e6f5d0\"],[0.7,\"#b8e186\"],[0.8,\"#7fbc41\"],[0.9,\"#4d9221\"],[1,\"#276419\"]],\"sequential\":[[0.0,\"#0d0887\"],[0.1111111111111111,\"#46039f\"],[0.2222222222222222,\"#7201a8\"],[0.3333333333333333,\"#9c179e\"],[0.4444444444444444,\"#bd3786\"],[0.5555555555555556,\"#d8576b\"],[0.6666666666666666,\"#ed7953\"],[0.7777777777777778,\"#fb9f3a\"],[0.8888888888888888,\"#fdca26\"],[1.0,\"#f0f921\"]],\"sequentialminus\":[[0.0,\"#0d0887\"],[0.1111111111111111,\"#46039f\"],[0.2222222222222222,\"#7201a8\"],[0.3333333333333333,\"#9c179e\"],[0.4444444444444444,\"#bd3786\"],[0.5555555555555556,\"#d8576b\"],[0.6666666666666666,\"#ed7953\"],[0.7777777777777778,\"#fb9f3a\"],[0.8888888888888888,\"#fdca26\"],[1.0,\"#f0f921\"]]},\"colorway\":[\"#636efa\",\"#EF553B\",\"#00cc96\",\"#ab63fa\",\"#FFA15A\",\"#19d3f3\",\"#FF6692\",\"#B6E880\",\"#FF97FF\",\"#FECB52\"],\"font\":{\"color\":\"#2a3f5f\"},\"geo\":{\"bgcolor\":\"white\",\"lakecolor\":\"white\",\"landcolor\":\"#E5ECF6\",\"showlakes\":true,\"showland\":true,\"subunitcolor\":\"white\"},\"hoverlabel\":{\"align\":\"left\"},\"hovermode\":\"closest\",\"mapbox\":{\"style\":\"light\"},\"paper_bgcolor\":\"white\",\"plot_bgcolor\":\"#E5ECF6\",\"polar\":{\"angularaxis\":{\"gridcolor\":\"white\",\"linecolor\":\"white\",\"ticks\":\"\"},\"bgcolor\":\"#E5ECF6\",\"radialaxis\":{\"gridcolor\":\"white\",\"linecolor\":\"white\",\"ticks\":\"\"}},\"scene\":{\"xaxis\":{\"backgroundcolor\":\"#E5ECF6\",\"gridcolor\":\"white\",\"gridwidth\":2,\"linecolor\":\"white\",\"showbackground\":true,\"ticks\":\"\",\"zerolinecolor\":\"white\"},\"yaxis\":{\"backgroundcolor\":\"#E5ECF6\",\"gridcolor\":\"white\",\"gridwidth\":2,\"linecolor\":\"white\",\"showbackground\":true,\"ticks\":\"\",\"zerolinecolor\":\"white\"},\"zaxis\":{\"backgroundcolor\":\"#E5ECF6\",\"gridcolor\":\"white\",\"gridwidth\":2,\"linecolor\":\"white\",\"showbackground\":true,\"ticks\":\"\",\"zerolinecolor\":\"white\"}},\"shapedefaults\":{\"line\":{\"color\":\"#2a3f5f\"}},\"ternary\":{\"aaxis\":{\"gridcolor\":\"white\",\"linecolor\":\"white\",\"ticks\":\"\"},\"baxis\":{\"gridcolor\":\"white\",\"linecolor\":\"white\",\"ticks\":\"\"},\"bgcolor\":\"#E5ECF6\",\"caxis\":{\"gridcolor\":\"white\",\"linecolor\":\"white\",\"ticks\":\"\"}},\"title\":{\"x\":0.05},\"xaxis\":{\"automargin\":true,\"gridcolor\":\"white\",\"linecolor\":\"white\",\"ticks\":\"\",\"title\":{\"standoff\":15},\"zerolinecolor\":\"white\",\"zerolinewidth\":2},\"yaxis\":{\"automargin\":true,\"gridcolor\":\"white\",\"linecolor\":\"white\",\"ticks\":\"\",\"title\":{\"standoff\":15},\"zerolinecolor\":\"white\",\"zerolinewidth\":2}}},\"xaxis\":{\"anchor\":\"y\",\"domain\":[0.0,1.0],\"title\":{\"text\":\"Education\"},\"categoryorder\":\"array\",\"categoryarray\":[\"21-30\",\"31-40\",\"41-50\",\"51-60\",\"61-70\",\"71-80\",\">80\"]},\"yaxis\":{\"anchor\":\"x\",\"domain\":[0.0,1.0],\"title\":{\"text\":\"Income\"}},\"legend\":{\"tracegroupgap\":0},\"title\":{\"text\":\"Relationsip Between Customer's Education Level and Average Income\"},\"barmode\":\"relative\",\"height\":500,\"annotations\":[{\"font\":{\"color\":\"rgb(66, 99, 236)\",\"family\":\"Arial\",\"size\":14},\"showarrow\":false,\"text\":\"51978.11$\",\"x\":\"Graduate\",\"y\":53478.10676156584},{\"font\":{\"color\":\"rgb(66, 99, 236)\",\"family\":\"Arial\",\"size\":14},\"showarrow\":false,\"text\":\"52865.55$\",\"x\":\"Postgraduate\",\"y\":54365.54743833017},{\"font\":{\"color\":\"rgb(66, 99, 236)\",\"family\":\"Arial\",\"size\":14},\"showarrow\":false,\"text\":\"20306.26$\",\"x\":\"Undergraduate\",\"y\":21806.25925925926}]},                        {\"responsive\": true}                    ).then(function(){\n",
              "                            \n",
              "var gd = document.getElementById('497fcecb-e486-4833-9e5e-42871e71a577');\n",
              "var x = new MutationObserver(function (mutations, observer) {{\n",
              "        var display = window.getComputedStyle(gd).display;\n",
              "        if (!display || display === 'none') {{\n",
              "            console.log([gd, 'removed!']);\n",
              "            Plotly.purge(gd);\n",
              "            observer.disconnect();\n",
              "        }}\n",
              "}});\n",
              "\n",
              "// Listen for the removal of the full notebook cells\n",
              "var notebookContainer = gd.closest('#notebook-container');\n",
              "if (notebookContainer) {{\n",
              "    x.observe(notebookContainer, {childList: true});\n",
              "}}\n",
              "\n",
              "// Listen for the clearing of the current output cell\n",
              "var outputEl = gd.closest('.output');\n",
              "if (outputEl) {{\n",
              "    x.observe(outputEl, {childList: true});\n",
              "}}\n",
              "\n",
              "                        })                };                            </script>        </div>\n",
              "</body>\n",
              "</html>"
            ]
          },
          "metadata": {}
        }
      ]
    },
    {
      "cell_type": "markdown",
      "source": [
        "Based on the bar chart of relationship between education and average income, it appears that graduate customers and postgraduate customer have an average income that is not significantly different. Postgraduate customers have the highest average income, 887.44 more than graduate customers. However, undergraduate customers have a significantly different average income with graduate and postgraduate customers about 2 times less."
      ],
      "metadata": {
        "id": "jZeettD69hdH"
      }
    },
    {
      "cell_type": "markdown",
      "source": [
        "**Total Children and Total Spent**"
      ],
      "metadata": {
        "id": "0Y3Mz6Y20l5P"
      }
    },
    {
      "cell_type": "code",
      "source": [
        "mask = df.groupby(\"TotalChildren\")[\"TotalSpent\"].median()\n",
        "mask = mask.reset_index()\n",
        "fig = px.bar(data_frame=mask, x=\"TotalChildren\", y=\"TotalSpent\", height=500,\n",
        "             title=\"Relationship between Total Children and Total (Average) Spent\")\n",
        "\n",
        "annotation = []\n",
        "for x, y in zip(mask[\"TotalChildren\"], mask[\"TotalSpent\"]):\n",
        "    annotation.append(\n",
        "        dict(x=x, y=y +50,\n",
        "             text=str(round(y, 2)) + '$',\n",
        "             font=dict(family='Arial', size=14, color='rgb(66, 99, 236)'), showarrow=False)\n",
        "    )\n",
        "fig.update_layout(annotations=annotation)\n",
        "fig.show()"
      ],
      "metadata": {
        "colab": {
          "base_uri": "https://localhost:8080/",
          "height": 517
        },
        "id": "P3vII4B10LzV",
        "outputId": "78b15aed-e4cb-4af8-a952-d57283ddb650"
      },
      "execution_count": 42,
      "outputs": [
        {
          "output_type": "display_data",
          "data": {
            "text/html": [
              "<html>\n",
              "<head><meta charset=\"utf-8\" /></head>\n",
              "<body>\n",
              "    <div>            <script src=\"https://cdnjs.cloudflare.com/ajax/libs/mathjax/2.7.5/MathJax.js?config=TeX-AMS-MML_SVG\"></script><script type=\"text/javascript\">if (window.MathJax) {MathJax.Hub.Config({SVG: {font: \"STIX-Web\"}});}</script>                <script type=\"text/javascript\">window.PlotlyConfig = {MathJaxConfig: 'local'};</script>\n",
              "        <script src=\"https://cdn.plot.ly/plotly-2.8.3.min.js\"></script>                <div id=\"38f5754b-b2e8-47ff-b3bf-597a192d7357\" class=\"plotly-graph-div\" style=\"height:500px; width:100%;\"></div>            <script type=\"text/javascript\">                                    window.PLOTLYENV=window.PLOTLYENV || {};                                    if (document.getElementById(\"38f5754b-b2e8-47ff-b3bf-597a192d7357\")) {                    Plotly.newPlot(                        \"38f5754b-b2e8-47ff-b3bf-597a192d7357\",                        [{\"alignmentgroup\":\"True\",\"hovertemplate\":\"TotalChildren=%{x}<br>TotalSpent=%{y}<extra></extra>\",\"legendgroup\":\"\",\"marker\":{\"color\":\"#636efa\",\"pattern\":{\"shape\":\"\"}},\"name\":\"\",\"offsetgroup\":\"\",\"orientation\":\"v\",\"showlegend\":false,\"textposition\":\"auto\",\"x\":[0,1,2,3],\"xaxis\":\"x\",\"y\":[1189.5,305.0,93.0,88.0],\"yaxis\":\"y\",\"type\":\"bar\"}],                        {\"template\":{\"data\":{\"bar\":[{\"error_x\":{\"color\":\"#2a3f5f\"},\"error_y\":{\"color\":\"#2a3f5f\"},\"marker\":{\"line\":{\"color\":\"#E5ECF6\",\"width\":0.5},\"pattern\":{\"fillmode\":\"overlay\",\"size\":10,\"solidity\":0.2}},\"type\":\"bar\"}],\"barpolar\":[{\"marker\":{\"line\":{\"color\":\"#E5ECF6\",\"width\":0.5},\"pattern\":{\"fillmode\":\"overlay\",\"size\":10,\"solidity\":0.2}},\"type\":\"barpolar\"}],\"carpet\":[{\"aaxis\":{\"endlinecolor\":\"#2a3f5f\",\"gridcolor\":\"white\",\"linecolor\":\"white\",\"minorgridcolor\":\"white\",\"startlinecolor\":\"#2a3f5f\"},\"baxis\":{\"endlinecolor\":\"#2a3f5f\",\"gridcolor\":\"white\",\"linecolor\":\"white\",\"minorgridcolor\":\"white\",\"startlinecolor\":\"#2a3f5f\"},\"type\":\"carpet\"}],\"choropleth\":[{\"colorbar\":{\"outlinewidth\":0,\"ticks\":\"\"},\"type\":\"choropleth\"}],\"contour\":[{\"colorbar\":{\"outlinewidth\":0,\"ticks\":\"\"},\"colorscale\":[[0.0,\"#0d0887\"],[0.1111111111111111,\"#46039f\"],[0.2222222222222222,\"#7201a8\"],[0.3333333333333333,\"#9c179e\"],[0.4444444444444444,\"#bd3786\"],[0.5555555555555556,\"#d8576b\"],[0.6666666666666666,\"#ed7953\"],[0.7777777777777778,\"#fb9f3a\"],[0.8888888888888888,\"#fdca26\"],[1.0,\"#f0f921\"]],\"type\":\"contour\"}],\"contourcarpet\":[{\"colorbar\":{\"outlinewidth\":0,\"ticks\":\"\"},\"type\":\"contourcarpet\"}],\"heatmap\":[{\"colorbar\":{\"outlinewidth\":0,\"ticks\":\"\"},\"colorscale\":[[0.0,\"#0d0887\"],[0.1111111111111111,\"#46039f\"],[0.2222222222222222,\"#7201a8\"],[0.3333333333333333,\"#9c179e\"],[0.4444444444444444,\"#bd3786\"],[0.5555555555555556,\"#d8576b\"],[0.6666666666666666,\"#ed7953\"],[0.7777777777777778,\"#fb9f3a\"],[0.8888888888888888,\"#fdca26\"],[1.0,\"#f0f921\"]],\"type\":\"heatmap\"}],\"heatmapgl\":[{\"colorbar\":{\"outlinewidth\":0,\"ticks\":\"\"},\"colorscale\":[[0.0,\"#0d0887\"],[0.1111111111111111,\"#46039f\"],[0.2222222222222222,\"#7201a8\"],[0.3333333333333333,\"#9c179e\"],[0.4444444444444444,\"#bd3786\"],[0.5555555555555556,\"#d8576b\"],[0.6666666666666666,\"#ed7953\"],[0.7777777777777778,\"#fb9f3a\"],[0.8888888888888888,\"#fdca26\"],[1.0,\"#f0f921\"]],\"type\":\"heatmapgl\"}],\"histogram\":[{\"marker\":{\"pattern\":{\"fillmode\":\"overlay\",\"size\":10,\"solidity\":0.2}},\"type\":\"histogram\"}],\"histogram2d\":[{\"colorbar\":{\"outlinewidth\":0,\"ticks\":\"\"},\"colorscale\":[[0.0,\"#0d0887\"],[0.1111111111111111,\"#46039f\"],[0.2222222222222222,\"#7201a8\"],[0.3333333333333333,\"#9c179e\"],[0.4444444444444444,\"#bd3786\"],[0.5555555555555556,\"#d8576b\"],[0.6666666666666666,\"#ed7953\"],[0.7777777777777778,\"#fb9f3a\"],[0.8888888888888888,\"#fdca26\"],[1.0,\"#f0f921\"]],\"type\":\"histogram2d\"}],\"histogram2dcontour\":[{\"colorbar\":{\"outlinewidth\":0,\"ticks\":\"\"},\"colorscale\":[[0.0,\"#0d0887\"],[0.1111111111111111,\"#46039f\"],[0.2222222222222222,\"#7201a8\"],[0.3333333333333333,\"#9c179e\"],[0.4444444444444444,\"#bd3786\"],[0.5555555555555556,\"#d8576b\"],[0.6666666666666666,\"#ed7953\"],[0.7777777777777778,\"#fb9f3a\"],[0.8888888888888888,\"#fdca26\"],[1.0,\"#f0f921\"]],\"type\":\"histogram2dcontour\"}],\"mesh3d\":[{\"colorbar\":{\"outlinewidth\":0,\"ticks\":\"\"},\"type\":\"mesh3d\"}],\"parcoords\":[{\"line\":{\"colorbar\":{\"outlinewidth\":0,\"ticks\":\"\"}},\"type\":\"parcoords\"}],\"pie\":[{\"automargin\":true,\"type\":\"pie\"}],\"scatter\":[{\"marker\":{\"colorbar\":{\"outlinewidth\":0,\"ticks\":\"\"}},\"type\":\"scatter\"}],\"scatter3d\":[{\"line\":{\"colorbar\":{\"outlinewidth\":0,\"ticks\":\"\"}},\"marker\":{\"colorbar\":{\"outlinewidth\":0,\"ticks\":\"\"}},\"type\":\"scatter3d\"}],\"scattercarpet\":[{\"marker\":{\"colorbar\":{\"outlinewidth\":0,\"ticks\":\"\"}},\"type\":\"scattercarpet\"}],\"scattergeo\":[{\"marker\":{\"colorbar\":{\"outlinewidth\":0,\"ticks\":\"\"}},\"type\":\"scattergeo\"}],\"scattergl\":[{\"marker\":{\"colorbar\":{\"outlinewidth\":0,\"ticks\":\"\"}},\"type\":\"scattergl\"}],\"scattermapbox\":[{\"marker\":{\"colorbar\":{\"outlinewidth\":0,\"ticks\":\"\"}},\"type\":\"scattermapbox\"}],\"scatterpolar\":[{\"marker\":{\"colorbar\":{\"outlinewidth\":0,\"ticks\":\"\"}},\"type\":\"scatterpolar\"}],\"scatterpolargl\":[{\"marker\":{\"colorbar\":{\"outlinewidth\":0,\"ticks\":\"\"}},\"type\":\"scatterpolargl\"}],\"scatterternary\":[{\"marker\":{\"colorbar\":{\"outlinewidth\":0,\"ticks\":\"\"}},\"type\":\"scatterternary\"}],\"surface\":[{\"colorbar\":{\"outlinewidth\":0,\"ticks\":\"\"},\"colorscale\":[[0.0,\"#0d0887\"],[0.1111111111111111,\"#46039f\"],[0.2222222222222222,\"#7201a8\"],[0.3333333333333333,\"#9c179e\"],[0.4444444444444444,\"#bd3786\"],[0.5555555555555556,\"#d8576b\"],[0.6666666666666666,\"#ed7953\"],[0.7777777777777778,\"#fb9f3a\"],[0.8888888888888888,\"#fdca26\"],[1.0,\"#f0f921\"]],\"type\":\"surface\"}],\"table\":[{\"cells\":{\"fill\":{\"color\":\"#EBF0F8\"},\"line\":{\"color\":\"white\"}},\"header\":{\"fill\":{\"color\":\"#C8D4E3\"},\"line\":{\"color\":\"white\"}},\"type\":\"table\"}]},\"layout\":{\"annotationdefaults\":{\"arrowcolor\":\"#2a3f5f\",\"arrowhead\":0,\"arrowwidth\":1},\"autotypenumbers\":\"strict\",\"coloraxis\":{\"colorbar\":{\"outlinewidth\":0,\"ticks\":\"\"}},\"colorscale\":{\"diverging\":[[0,\"#8e0152\"],[0.1,\"#c51b7d\"],[0.2,\"#de77ae\"],[0.3,\"#f1b6da\"],[0.4,\"#fde0ef\"],[0.5,\"#f7f7f7\"],[0.6,\"#e6f5d0\"],[0.7,\"#b8e186\"],[0.8,\"#7fbc41\"],[0.9,\"#4d9221\"],[1,\"#276419\"]],\"sequential\":[[0.0,\"#0d0887\"],[0.1111111111111111,\"#46039f\"],[0.2222222222222222,\"#7201a8\"],[0.3333333333333333,\"#9c179e\"],[0.4444444444444444,\"#bd3786\"],[0.5555555555555556,\"#d8576b\"],[0.6666666666666666,\"#ed7953\"],[0.7777777777777778,\"#fb9f3a\"],[0.8888888888888888,\"#fdca26\"],[1.0,\"#f0f921\"]],\"sequentialminus\":[[0.0,\"#0d0887\"],[0.1111111111111111,\"#46039f\"],[0.2222222222222222,\"#7201a8\"],[0.3333333333333333,\"#9c179e\"],[0.4444444444444444,\"#bd3786\"],[0.5555555555555556,\"#d8576b\"],[0.6666666666666666,\"#ed7953\"],[0.7777777777777778,\"#fb9f3a\"],[0.8888888888888888,\"#fdca26\"],[1.0,\"#f0f921\"]]},\"colorway\":[\"#636efa\",\"#EF553B\",\"#00cc96\",\"#ab63fa\",\"#FFA15A\",\"#19d3f3\",\"#FF6692\",\"#B6E880\",\"#FF97FF\",\"#FECB52\"],\"font\":{\"color\":\"#2a3f5f\"},\"geo\":{\"bgcolor\":\"white\",\"lakecolor\":\"white\",\"landcolor\":\"#E5ECF6\",\"showlakes\":true,\"showland\":true,\"subunitcolor\":\"white\"},\"hoverlabel\":{\"align\":\"left\"},\"hovermode\":\"closest\",\"mapbox\":{\"style\":\"light\"},\"paper_bgcolor\":\"white\",\"plot_bgcolor\":\"#E5ECF6\",\"polar\":{\"angularaxis\":{\"gridcolor\":\"white\",\"linecolor\":\"white\",\"ticks\":\"\"},\"bgcolor\":\"#E5ECF6\",\"radialaxis\":{\"gridcolor\":\"white\",\"linecolor\":\"white\",\"ticks\":\"\"}},\"scene\":{\"xaxis\":{\"backgroundcolor\":\"#E5ECF6\",\"gridcolor\":\"white\",\"gridwidth\":2,\"linecolor\":\"white\",\"showbackground\":true,\"ticks\":\"\",\"zerolinecolor\":\"white\"},\"yaxis\":{\"backgroundcolor\":\"#E5ECF6\",\"gridcolor\":\"white\",\"gridwidth\":2,\"linecolor\":\"white\",\"showbackground\":true,\"ticks\":\"\",\"zerolinecolor\":\"white\"},\"zaxis\":{\"backgroundcolor\":\"#E5ECF6\",\"gridcolor\":\"white\",\"gridwidth\":2,\"linecolor\":\"white\",\"showbackground\":true,\"ticks\":\"\",\"zerolinecolor\":\"white\"}},\"shapedefaults\":{\"line\":{\"color\":\"#2a3f5f\"}},\"ternary\":{\"aaxis\":{\"gridcolor\":\"white\",\"linecolor\":\"white\",\"ticks\":\"\"},\"baxis\":{\"gridcolor\":\"white\",\"linecolor\":\"white\",\"ticks\":\"\"},\"bgcolor\":\"#E5ECF6\",\"caxis\":{\"gridcolor\":\"white\",\"linecolor\":\"white\",\"ticks\":\"\"}},\"title\":{\"x\":0.05},\"xaxis\":{\"automargin\":true,\"gridcolor\":\"white\",\"linecolor\":\"white\",\"ticks\":\"\",\"title\":{\"standoff\":15},\"zerolinecolor\":\"white\",\"zerolinewidth\":2},\"yaxis\":{\"automargin\":true,\"gridcolor\":\"white\",\"linecolor\":\"white\",\"ticks\":\"\",\"title\":{\"standoff\":15},\"zerolinecolor\":\"white\",\"zerolinewidth\":2}}},\"xaxis\":{\"anchor\":\"y\",\"domain\":[0.0,1.0],\"title\":{\"text\":\"TotalChildren\"}},\"yaxis\":{\"anchor\":\"x\",\"domain\":[0.0,1.0],\"title\":{\"text\":\"TotalSpent\"}},\"legend\":{\"tracegroupgap\":0},\"title\":{\"text\":\"Relationship between Total Children and Total (Average) Spent\"},\"barmode\":\"relative\",\"height\":500,\"annotations\":[{\"font\":{\"color\":\"rgb(66, 99, 236)\",\"family\":\"Arial\",\"size\":14},\"showarrow\":false,\"text\":\"1189.5$\",\"x\":0,\"y\":1239.5},{\"font\":{\"color\":\"rgb(66, 99, 236)\",\"family\":\"Arial\",\"size\":14},\"showarrow\":false,\"text\":\"305.0$\",\"x\":1,\"y\":355.0},{\"font\":{\"color\":\"rgb(66, 99, 236)\",\"family\":\"Arial\",\"size\":14},\"showarrow\":false,\"text\":\"93.0$\",\"x\":2,\"y\":143.0},{\"font\":{\"color\":\"rgb(66, 99, 236)\",\"family\":\"Arial\",\"size\":14},\"showarrow\":false,\"text\":\"88.0$\",\"x\":3,\"y\":138.0}]},                        {\"responsive\": true}                    ).then(function(){\n",
              "                            \n",
              "var gd = document.getElementById('38f5754b-b2e8-47ff-b3bf-597a192d7357');\n",
              "var x = new MutationObserver(function (mutations, observer) {{\n",
              "        var display = window.getComputedStyle(gd).display;\n",
              "        if (!display || display === 'none') {{\n",
              "            console.log([gd, 'removed!']);\n",
              "            Plotly.purge(gd);\n",
              "            observer.disconnect();\n",
              "        }}\n",
              "}});\n",
              "\n",
              "// Listen for the removal of the full notebook cells\n",
              "var notebookContainer = gd.closest('#notebook-container');\n",
              "if (notebookContainer) {{\n",
              "    x.observe(notebookContainer, {childList: true});\n",
              "}}\n",
              "\n",
              "// Listen for the clearing of the current output cell\n",
              "var outputEl = gd.closest('.output');\n",
              "if (outputEl) {{\n",
              "    x.observe(outputEl, {childList: true});\n",
              "}}\n",
              "\n",
              "                        })                };                            </script>        </div>\n",
              "</body>\n",
              "</html>"
            ]
          },
          "metadata": {}
        }
      ]
    },
    {
      "cell_type": "markdown",
      "source": [
        "Based on the bar chart of relationship between total children and total (average) spent, it appears that customers who do not have children spend more. It also appears that the more children a customer has, the less the total average spent."
      ],
      "metadata": {
        "id": "cb8g_7g2_HJ6"
      }
    },
    {
      "cell_type": "markdown",
      "source": [
        "**Total Spent and Income**\n",
        "\n"
      ],
      "metadata": {
        "id": "NNBrXPAjv2sW"
      }
    },
    {
      "cell_type": "code",
      "source": [
        "fig = px.scatter(data_frame=df_cut, \n",
        "                 x=\"Income\",\n",
        "                 y=\"TotalSpent\", \n",
        "                 title=\"Relationship Between Customer's Income and Total Spent\",\n",
        "                 height=500,\n",
        "                 color_discrete_sequence = px.colors.qualitative.G10[1:])\n",
        "fig.show()"
      ],
      "metadata": {
        "colab": {
          "base_uri": "https://localhost:8080/",
          "height": 517
        },
        "id": "cPD93Rfvw7-f",
        "outputId": "d50ac681-1753-4454-d106-545f0407a85f"
      },
      "execution_count": 43,
      "outputs": [
        {
          "output_type": "display_data",
          "data": {
            "text/html": [
              "<html>\n",
              "<head><meta charset=\"utf-8\" /></head>\n",
              "<body>\n",
              "    <div>            <script src=\"https://cdnjs.cloudflare.com/ajax/libs/mathjax/2.7.5/MathJax.js?config=TeX-AMS-MML_SVG\"></script><script type=\"text/javascript\">if (window.MathJax) {MathJax.Hub.Config({SVG: {font: \"STIX-Web\"}});}</script>                <script type=\"text/javascript\">window.PlotlyConfig = {MathJaxConfig: 'local'};</script>\n",
              "        <script src=\"https://cdn.plot.ly/plotly-2.8.3.min.js\"></script>                <div id=\"b29d714d-744a-4d9c-81ba-12b035aa959b\" class=\"plotly-graph-div\" style=\"height:500px; width:100%;\"></div>            <script type=\"text/javascript\">                                    window.PLOTLYENV=window.PLOTLYENV || {};                                    if (document.getElementById(\"b29d714d-744a-4d9c-81ba-12b035aa959b\")) {                    Plotly.newPlot(                        \"b29d714d-744a-4d9c-81ba-12b035aa959b\",                        [{\"hovertemplate\":\"Income=%{x}<br>TotalSpent=%{y}<extra></extra>\",\"legendgroup\":\"\",\"marker\":{\"color\":\"#DC3912\",\"symbol\":\"circle\"},\"mode\":\"markers\",\"name\":\"\",\"showlegend\":false,\"x\":[58138,46344,71613,26646,58293,62513,55635,33454,30351,5648,51381,7500,63033,59354,17323,82800,41850,37760,76995,33812,37040,2447,58607,65324,40689,18589,53359,51381,38360,84618,10979,38620,40548,46610,68657,49389,67353,23718,42429,48948,80011,20559,21994,51381,7500,79941,7500,41728,51381,72550,65486,79143,35790,82582,66373,82384,70287,27938,51381,55954,75777,66653,61823,67680,70666,25721,32474,88194,69096,74854,66991,51381,65031,60631,28332,40246,75251,75825,26326,56046,29760,26304,23559,38620,81361,29440,36138,50388,79593,54178,51381,51381,51381,42394,23626,30096,47916,51813,78497,50150,47823,34554,85693,65846,87195,24594,49096,52413,38557,89058,77298,68126,57288,86037,43974,50785,90765,36550,30753,21918,56129,32557,19510,30992,101970,71488,79607,54348,51381,77376,62998,61331,73448,51381,41551,62981,9548,33762,35860,36921,92859,65104,86111,68352,41883,59809,23957,38547,35688,49605,59354,65747,46344,34176,61010,69372,49967,60199,55375,80317,30523,70356,23228,74165,43482,62551,52332,66951,26091,33456,28718,50447,53537,52074,80427,83837,38853,38285,78497,51650,16248,66835,30477,28249,25271,32303,61286,74068,45759,24882,66973,36640,38872,51148,31353,69661,80067,86718,46854,69142,75922,63693,102160,40637,18890,29604,48721,44794,64497,46097,77972,44377,46014,70951,41443,52195,83790,44551,69508,45204,72460,77622,30732,63887,42011,51369,51537,79930,34320,37070,81975,38590,15033,62745,22212,23661,79761,7500,60182,73455,64961,22804,73687,61074,31686,80134,75027,67546,65176,31160,29938,102692,26490,75702,30899,63342,45989,18701,40737,15287,69674,44159,37717,43776,38179,80124,38097,72940,22070,69267,31788,61905,29315,33378,66313,60714,77882,69867,63841,24480,51369,37760,65640,44319,30631,75278,50898,79946,35416,32414,38361,82497,16626,29672,55951,35388,42386,68627,57912,35246,58821,46377,39747,23976,80950,27038,77457,64100,42670,12571,22574,51381,70893,54198,28839,40321,66503,30833,51381,64795,34421,47025,64325,40464,62187,14849,27255,54432,29999,24072,33996,66334,35178,22010,62204,75693,30675,83003,83532,68655,41411,55212,59292,27190,82623,44300,84835,30372,33181,71113,71952,69759,72099,60000,38643,50737,68462,65073,46681,78618,62187,28442,37717,51479,54803,79530,31615,72025,52614,35684,48178,29548,63810,38578,46098,22585,30279,66426,30822,33581,19986,27421,35688,36143,10245,43795,63381,38823,83664,90300,62499,74293,51012,70777,68682,43824,15345,23442,14515,31395,75276,42373,30507,55521,48006,27213,65808,30351,50437,23616,53858,66465,46923,75072,75865,19789,80134,91065,49505,37401,30096,18492,82584,93027,48686,92910,75433,10404,61314,84865,42387,67309,75236,30015,50943,67272,51529,32011,7500,28691,56223,18100,30279,20130,23295,42618,81246,24027,55707,57959,56796,36230,70829,65991,38988,89572,42207,50300,66664,60597,70165,50520,80124,33183,66582,75261,31880,53790,49269,61456,37406,56937,38415,20518,62503,41644,55842,62010,41124,38961,37760,32233,43057,83151,78825,65104,60093,14045,28457,78952,46310,76005,58308,55614,59432,55563,78642,67911,65275,27203,48330,24279,64355,50943,53653,65665,81217,34935,61250,39665,60152,48920,89120,44124,81169,36443,26095,71367,80184,30630,73454,42691,70503,25545,32880,77863,50353,61839,49154,47682,72679,57954,65316,28567,47352,44931,76982,57247,22944,25315,43638,42710,84169,54058,24683,85620,47850,19514,27159,39548,21474,60504,22419,81698,43462,54880,79908,15315,87771,33039,81741,71499,62466,48799,52157,66565,29298,47691,38200,44989,38443,38593,64413,36959,61996,51287,13260,47472,54603,45207,40689,47821,27450,39453,26850,79800,61794,53863,24221,39684,92163,69882,33178,59973,17459,23910,42169,26224,31089,30081,62807,72906,61467,49618,21888,42429,26150,30801,81168,26877,45006,18978,22574,48240,45837,35791,54162,30522,54456,31632,72298,36975,72635,13624,84196,70971,34487,28769,69084,65488,62466,32218,83917,46102,84574,56181,63120,73691,63381,76140,62859,45906,77632,46463,105471,55282,78710,66886,98777,29103,67445,50616,49431,61278,26490,73059,46734,56253,19986,58330,25965,14661,18690,45068,21063,29187,54690,59304,59247,66731,77353,52614,26751,81300,70337,36145,65295,68118,68743,41039,38946,65777,66476,86857,77845,69476,50611,61209,42315,13084,47570,61923,34824,26518,45938,78468,78901,71427,71022,90247,41335,71952,35682,43185,66375,35178,25252,55250,33249,58398,50272,76618,87305,25851,58710,45160,74806,59111,18988,72190,7500,44794,80395,75012,56962,89891,35946,53593,66373,45072,89694,72025,67432,70545,17487,62882,64108,34941,48767,38702,82224,83844,17003,71163,33697,63564,83443,51518,58330,80952,75507,63855,62220,58512,40662,38829,35523,79146,78285,31626,75127,48726,74985,67430,46891,62058,72063,78939,42720,33622,6835,41452,40760,74250,51124,72258,71466,36283,20587,30467,31590,20425,17144,42564,43783,40780,62847,82017,16813,51267,46524,45183,70421,60161,73926,19329,61872,46984,34838,82716,48192,49681,56850,55267,59666,72504,26872,21359,73170,52750,91820,65968,30772,22507,65685,25804,76412,22063,57091,22419,87771,78353,93404,37859,80995,16529,55412,48789,56575,25130,35441,71391,49494,81702,45889,56628,34026,40049,34176,19419,82504,81205,61618,55284,49980,15072,49166,65324,82347,30843,46374,60474,38576,55357,37758,85710,23228,44602,7500,38683,49514,57906,43456,19485,53172,30545,70123,62450,21675,42395,61346,80812,42835,39922,86424,17117,24762,35797,36627,51111,86857,82072,46231,42243,51195,68092,31814,51390,76630,26868,48948,55260,64090,78331,37087,21846,81320,54137,66825,57100,58917,85072,86429,45684,47889,45921,78420,75114,52278,35641,95529,62820,73113,84169,42607,74637,46015,72354,39858,34469,83033,24401,77583,74116,74293,68397,79632,46107,64950,25443,75127,32892,71796,67536,55239,60554,64831,56067,82025,94384,14906,51563,57937,68274,39771,67893,27922,52190,44051,42767,46106,16927,59754,53700,59041,54237,70647,52597,41021,40233,50183,54753,92955,33471,34596,44010,84219,40706,15716,59052,80573,83715,82576,56962,35704,53103,46779,4861,33462,63693,80763,65352,82170,75759,79689,35340,85683,24884,42021,64449,64587,34824,75437,26091,52845,46086,78028,95169,56337,22434,36930,36130,65569,83844,19514,36736,77568,49187,30168,34053,38196,59412,70924,54165,32300,20180,34961,28440,64504,33564,17345,56320,28647,15038,32173,68316,74538,91700,68695,31056,79593,28071,37334,46423,37126,47703,61180,38998,8028,76081,34728,33168,33585,77037,35196,44529,70924,28764,69098,25959,27100,70596,42557,53312,72228,67605,62845,65196,42000,35860,65526,16860,83528,64176,22304,67023,32892,70713,59925,39722,46610,88347,87171,26907,50014,41014,66294,36715,79456,40479,75345,54233,24163,84460,43776,71691,85844,39190,71367,38578,57236,61825,79803,80910,27590,56775,83829,54210,38508,53187,30023,76045,50870,15315,65463,66480,76773,81698,54466,98777,16269,71819,33569,36262,22634,47025,70566,31605,52034,48526,46734,39552,86358,46931,16581,63998,67381,25930,42693,85606,72903,49669,36778,85696,10979,49678,56129,37155,21282,33419,63285,21255,42162,54450,57744,26576,57513,68142,7500,83145,54197,23091,46049,56715,79410,57304,44375,54450,59594,80685,40344,62710,48985,35322,77142,81657,14421,20130,74214,66726,23724,47353,33444,54386,28510,90638,48070,43140,54959,15056,26954,22327,44393,62000,31497,45894,78579,67369,58401,62307,43641,63841,46891,70091,78075,59184,54809,58113,51412,15287,66636,50965,84618,18351,40451,36317,42213,65748,77044,74918,56721,42160,61559,33629,68682,34377,8940,26228,77297,40211,33438,75032,61284,22518,54730,38452,44421,38197,41986,28427,37395,64722,55249,84906,28691,44213,25707,59062,76624,66000,27683,1730,7500,40521,20427,65106,69969,67433,77766,74716,68118,55158,62972,74190,39356,76653,35860,90687,73450,31454,47139,83829,53378,19656,45579,85485,55956,64191,38808,57183,23748,66303,37368,40800,71847,46149,78687,49118,37633,39767,26997,33986,57091,46831,83151,52531,15759,22804,43050,42997,48918,60033,34043,57811,78569,7500,94384,23148,44267,71626,60894,50200,81051,65169,59868,65695,64857,45143,74805,59060,27238,47009,46094,40321,37235,81843,46692,77382,37774,18393,72828,24711,45503,6560,71604,27244,48752,71434,90842,88097,51948,71853,35876,40049,39660,50127,43263,62845,18929,24367,33249,26887,50150,62061,85696,76542,70515,18227,69139,69109,69627,38136,62159,80695,33316,58554,17256,53034,52203,59601,75154,47025,37971,41335,67267,57338,50523,35791,50611,56242,48904,56243,21355,57420,51381,46390,54342,51381,51381,20895,92344,51381,26907,44964,75507,53761,22682,38887,41658,29791,63915,39996,26759,63841,51039,60544,65685,37716,36864,44511,36947,47352,67087,57045,36957,69389,80134,43142,80589,34412,57537,22634,51315,36026,24639,34578,65704,63810,54132,18690,28164,34596,43269,38741,31907,27100,31163,92533,34853,70844,31086,60544,20491,42523,39922,33402,36408,21645,78427,82657,51876,78041,52852,70038,69401,46053,77343,73892,40304,32727,68695,43300,26290,93790,38410,64866,57957,46015,16531,28072,49476,50725,83844,41145,67419,23162,34380,34704,94871,65148,39898,64857,59892,41020,57072,60474,62807,19414,19107,75484,70379,79419,64014,76998,49854,60585,42873,87679,57867,35765,65492,32952,53374,71706,68487,53253,31163,42014,54108,49667,63206,57136,46772,78931,53977,84219,46098,73538,79529,20981,51766,55759,33039,37787,27242,87188,69930,37697,37401,3502,58597,82032,28087,74004,19740,57036,53083,69283,46098,23331,23331,9255,67786,71969,59235,31928,74881,65819,51411,51983,42386,30390,30983,66033,37284,57530,76800,63943,76081,67445,37054,47175,31859,27215,70179,39922,49681,24645,79865,44322,47958,63972,75315,55517,75283,82800,38998,90638,27161,42014,38201,45203,81574,34935,60482,34633,78093,82460,45903,81361,35860,40442,61482,34968,75794,31497,74268,13724,45143,52569,48432,17144,36108,76445,36663,53843,90226,70638,44512,27116,54072,71855,51250,60432,65526,68655,12393,64509,33955,31353,55434,28359,57100,69139,52973,51717,18793,66664,50664,54414,54549,47111,41003,19444,36301,73059,42731,52854,22775,46681,59821,50002,69755,44078,30560,35924,64140,56386,24594,75774,39228,58494,58684,57136,56551,22448,82014,34213,25358,35544,36634,62670,50334,72066,50729,34916,64892,43602,33996,41473,63246,36732,69084,77766,37929,86610,80141,72635,69016,20193,27573,15862,49544,33228,70440,38232,22554,23536,49413,42231,78789,56534,58350,81217,49090,61787,18169,24336,18222,62335,42033,86580,41437,73705,61064,38452,18358,55012,9722,38175,58656,52117,64813,54222,83512,77520,41154,80398,18746,35196,60230,22108,44392,55424,17688,92491,90273,82571,38513,16653,42586,23529,74881,71107,46910,18690,37244,82427,75342,70044,79146,77437,54984,42403,55761,37292,45576,70321,58086,81795,28389,66835,69901,80360,63342,44989,31859,51569,30372,16014,41120,39763,38725,77981,62905,13533,59481,72117,21955,67131,36802,71853,28249,47808,25509,51012,70596,85431,42664,42586,29760,28973,39435,65370,20194,42473,64590,71232,34600,46904,49094,36075,60839,77298,34026,48918,82122,37697,34074,28520,62535,36273,63404,75774,78416,75702,59385,37070,44689,53977,7144,18701,90369,63159,37758,46757,79734,63207,72071,21840,58582,72282,50387,32583,62568,44635,33316,63967,52513,25293,54111,78394,80739,22669,29236,44911,54693,48186,54809,41580,80336,47743,62972,57333,32313,84953,27071,68148,65735,86836,4023,30093,57705,25008,83257,22280,72159,64260,82733,74290,58217,21024,70116,54006,69063,11448,61825,70886,69109,60208,32889,34738,30538,82326,26642,69932,44503,60200,49638,23830,33051,72905,69702,70300,70643,30396,50616,62772,30298,52413,44155,86979,76532,42081,67546,88420,31158,61671,69719,49160,24882,90933,113734,59292,45759,22148,73395,29819,45688,62820,60491,33235,35701,31535,92556,67384,80573,77870,52278,57107,18929,36038,20180,34230,31878,70932,91249,77598,80982,22701,55212,70617,64849,62694,61917,67472,21059,29543,75903,34984,54998,54356,34242,25410,73356,28320,23763,72570,34529,70792,63211,83891,36065,39898,51141,56939,80872,72335,61798,76842,29478,46998,96843,56551,70053,71670,44359,40887,48877,74485,64474,77226,72643,85738,55686,39062,34600,40794,54690,4428,32632,38236,36781,31385,24570,25509,94642,58646,53201,21994,57113,51373,23477,58116,72968,39791,91712,94472,13672,96547,79205,56559,32644,67506,24206,28420,22979,33279,46423,30368,63684,41638,68805,65814,71964,39146,96876,34445,68281,37284,36790,27943,22263,30261,28587,43815,48195,77027,71322,32765,29672,23272,49912,7500,68117,67225,17649,55914,40059,60905,75330,60689,38680,61416,49767,83273,29009,45057,37150,43020,53154,65308,76467,81044,32871,55801,76320,36927,48794,23478,71128,70179,59462,51381,38361,51381,70038,42554,67445,67046,42192,77610,31761,34350,54591,71866,25293,42000,69520,64713,27889,22123,51381,51381,27803,51381,51651,68487,51381,56796,87000,79823,30828,34109,53367,22390,71322,79244,49912,48699,80144,54252,81929,76068,53204,67911,14796,78128,14188,20425,58646,72967,48150,82332,58275,44953,34587,43018,45736,66476,27733,69805,72217,25818,37509,25176,43586,53230,50116,84906,61286,82333,65220,33590,30992,72309,16005,65487,58692,40590,20587,62637,29435,19346,35788,36997,23539,65333,78499,29732,41275,63516,42769,49572,69209,17148,40590,30560,32146,41713,34176,58482,59686,60896,62994,47320,74859,15253,31560,72071,91172,90000,41967,69263,65706,60934,71965,65210,79174,81380,48432,52914,38946,26067,44325,42523,26487,53233,67716,76234,84117,65487,25224,89616,40851,27469,82347,73803,8820,43322,55593,50501,37085,16185,57731,48432,73807,18929,35893,61014,32144,14918,45146,41769,88325,38054,80617,5305,36807,28427,82032,22775,40101,58025,75777,7500,33562,57642,58554,63777,57967,51381,24434,11012,44802,26816,34421,61223,64014,56981,69245,52869],\"xaxis\":\"x\",\"y\":[1617,27,776,53,422,716,590,169,46,49,19,61,1102,310,46,1315,96,317,1782,133,316,1730,972,544,444,75,257,637,131,1672,30,318,120,302,1196,65,913,81,67,902,1395,53,22,186,31,984,122,55,124,1319,507,1693,72,1617,606,1957,1093,29,46,518,1438,612,884,606,1076,34,11,1274,653,1562,1253,109,863,661,65,13,1890,2209,18,692,165,16,79,318,778,56,151,372,1366,194,603,18,985,32,43,45,606,63,978,410,72,55,1169,1120,1097,29,187,910,145,850,969,1820,608,730,551,114,1724,577,81,33,660,80,30,43,1135,559,1923,90,404,661,463,632,725,725,279,1482,29,106,49,38,2077,1053,1385,871,312,877,68,22,211,127,459,460,429,89,1021,1381,306,18,162,1231,13,1706,121,1293,88,421,259,1117,89,36,57,148,93,119,1835,1318,45,10,978,191,57,1033,66,43,50,39,608,1581,68,80,1282,65,91,315,31,834,1600,1270,263,535,1295,1150,1240,38,35,53,293,65,1804,241,1101,264,541,1198,482,17,1615,285,1135,114,1047,714,185,1245,189,576,1103,1753,17,433,1588,22,19,1117,69,23,605,57,22,2088,1009,26,1627,1102,17,1690,1390,2126,1531,64,26,1112,210,1148,33,1101,322,44,17,31,845,275,25,275,90,1495,184,981,67,1635,60,231,48,99,770,957,818,925,908,102,576,317,461,37,70,930,859,1478,390,52,137,1919,68,25,1374,32,100,825,916,62,728,90,273,66,1213,107,1157,546,241,53,37,1611,1508,235,32,102,401,28,1052,680,30,20,1307,630,1283,65,37,38,160,23,71,1161,59,33,946,1442,62,1674,1853,1538,139,1182,507,18,940,42,1190,44,16,835,1443,1029,1188,1277,49,99,1670,900,425,2153,636,57,25,494,693,1348,51,1932,990,30,254,29,1371,73,120,81,37,1377,51,17,22,324,211,19,41,492,1005,114,1173,1738,222,1127,209,787,1598,186,47,27,96,64,1040,163,343,446,41,70,272,46,490,79,915,1485,369,1073,1242,78,1378,1474,751,48,45,10,1435,2119,20,1795,1188,43,1008,1688,684,1082,1068,57,46,733,467,122,36,34,156,14,37,34,20,192,1379,48,428,868,1001,59,431,971,348,2059,265,270,1289,893,926,135,1495,120,1288,1743,15,542,890,1388,17,906,44,25,973,31,518,530,506,70,54,296,266,747,895,1053,735,20,205,2092,309,1722,900,682,663,43,1816,976,746,64,32,263,1445,46,1210,945,1157,137,730,216,943,347,1924,397,2089,138,42,777,1902,52,1651,358,1727,210,42,1291,442,1895,411,521,1168,493,260,46,319,96,1062,232,76,54,201,406,1919,662,41,1600,134,69,21,54,91,526,162,1008,240,795,1772,64,1957,78,1572,795,889,331,265,1065,11,21,17,369,38,177,279,62,1230,182,49,75,227,215,444,47,143,55,63,1867,611,473,55,81,2086,1478,49,382,69,67,30,63,79,42,819,1151,594,129,213,67,28,45,1193,268,266,37,37,882,373,35,42,326,404,95,939,33,981,36,1237,1825,103,191,1586,963,889,93,1587,16,1375,393,1477,1179,1005,1348,1307,486,2252,235,1724,235,1092,599,2008,48,1174,67,365,165,210,1095,223,597,22,1064,74,26,60,20,59,34,198,1048,574,1029,670,990,11,1241,576,172,664,928,2074,467,257,1146,689,2114,1346,1044,493,957,270,29,121,126,23,57,636,1004,734,614,1453,1621,187,1443,57,637,948,59,18,903,112,596,233,1511,1152,48,1185,21,965,869,16,1947,71,65,1380,1027,411,836,11,480,606,284,1472,1677,1335,334,18,1338,1099,97,63,109,902,1574,38,960,28,1215,1497,449,1064,1757,1440,1006,1226,1171,92,99,66,564,1427,86,833,242,1869,1364,183,450,758,1507,654,81,137,16,93,1158,43,1525,1230,29,25,24,38,57,47,813,629,377,1612,729,50,270,177,315,767,1071,1580,60,573,41,170,1167,1526,458,63,405,1027,1478,72,48,726,860,1497,495,20,570,769,55,1808,55,577,162,1957,1576,1616,36,1482,22,63,680,542,50,39,1043,385,1633,46,761,76,290,89,70,1066,2009,1345,764,195,53,368,544,1853,35,446,1180,41,727,40,1062,40,292,15,341,369,401,393,10,486,69,1727,995,45,182,989,1677,595,156,1226,128,86,68,16,55,2114,2018,263,55,564,1281,83,353,1003,14,902,1139,797,1638,401,84,928,203,858,409,282,1423,1449,28,67,199,1453,1253,1198,178,1990,976,1001,1919,350,1650,46,1228,95,62,1761,467,1149,2052,1127,1416,1113,125,966,32,833,46,960,1829,779,811,1120,725,1187,2302,66,1250,683,305,50,995,41,77,171,131,54,53,475,694,96,361,1079,578,64,149,231,728,1778,93,23,662,1198,81,92,491,1564,926,1910,411,94,1085,23,6,54,1150,1415,405,1908,2486,1315,45,1789,19,573,805,108,23,1493,89,936,343,528,1901,724,58,297,488,859,1574,69,17,2194,116,279,103,44,406,1363,236,39,137,79,63,1314,71,58,702,94,80,22,1211,1461,1968,1091,55,1366,313,62,92,72,655,704,54,178,1033,36,122,122,1123,497,691,1363,12,2440,56,37,968,270,278,1250,938,1178,1155,653,49,506,38,1650,1826,18,906,46,1477,766,47,467,2116,1298,22,396,20,967,357,1401,15,2087,981,17,523,23,1192,1958,133,777,73,121,424,868,756,12,937,1862,367,443,267,61,1323,63,64,562,312,1156,1104,16,2008,44,1574,63,426,96,635,757,125,332,135,330,384,1722,78,24,1168,957,15,57,1956,2013,326,77,1313,30,315,660,74,46,86,1103,61,145,684,411,27,1060,1459,18,1833,237,48,515,1020,1370,1026,301,684,499,1004,218,606,75,106,990,1097,16,34,1711,438,75,225,18,470,91,2525,504,235,1232,88,17,24,60,1020,155,51,1812,1461,96,160,139,908,183,1161,988,1072,174,758,195,31,1084,685,1672,43,49,133,363,545,1065,2047,296,140,530,152,1598,114,101,25,789,87,90,1215,811,61,405,72,189,40,63,52,39,805,130,1631,34,152,21,71,899,711,351,8,119,21,10,973,1536,992,1529,860,928,418,587,641,23,2279,49,1779,1804,48,83,1862,793,84,183,1383,999,825,246,610,76,1286,30,99,1192,362,2130,1229,38,485,434,44,496,78,2346,794,17,26,76,15,62,198,49,802,1736,57,2302,37,310,1305,832,401,1501,1189,1194,656,1540,311,820,274,57,448,44,102,61,1643,397,1121,473,50,1678,58,170,373,1196,101,316,1400,1424,844,311,1149,129,32,299,320,441,1178,85,24,112,30,410,800,1313,1483,1258,28,227,1555,861,103,634,1918,131,586,62,447,939,797,1143,415,30,187,251,237,91,35,493,971,371,396,68,322,317,222,177,45,21,45,1899,42,22,41,1440,325,95,42,72,20,789,15,59,908,417,289,769,188,354,727,146,319,794,454,152,797,1690,20,1428,209,545,96,222,61,44,8,817,1371,42,60,78,23,19,61,449,37,38,1131,34,294,48,289,30,125,156,70,22,65,1930,2283,310,1319,879,1244,690,209,1134,1507,57,529,1091,180,77,2349,534,556,637,46,44,47,795,586,1574,13,1471,65,175,40,1078,1115,134,1540,87,217,1034,1180,819,32,46,1159,860,1631,444,1910,380,736,269,2524,612,75,1045,55,1064,1443,1366,436,38,436,747,1396,928,642,1048,943,907,1198,120,1658,1638,73,275,854,78,106,106,1923,1662,84,48,5,733,1234,112,1658,55,1513,271,904,120,103,269,22,1156,1086,1128,72,964,1383,18,793,100,80,167,677,23,92,641,1106,1033,1174,25,240,20,102,1034,156,458,17,792,92,407,1269,841,633,1019,1315,54,2525,52,436,268,147,1798,137,507,15,1105,974,66,778,49,169,299,221,1682,155,892,58,311,95,424,47,339,1410,35,562,2352,1334,32,41,39,1141,710,401,506,1538,57,1722,270,31,882,16,311,227,1152,122,77,1289,561,211,233,1092,601,54,78,1095,244,116,15,425,734,638,894,41,31,34,1750,612,29,823,20,396,813,1179,138,55,1511,117,32,67,335,825,694,1792,496,231,902,68,71,76,772,47,1586,1529,265,1603,2091,981,1533,82,244,36,404,71,1572,122,41,10,304,37,1754,815,1001,1157,688,1319,21,31,67,708,25,746,32,1695,1080,72,57,660,103,153,1220,279,745,264,2157,1526,69,1597,64,497,1067,31,211,877,11,2034,1991,1686,324,69,252,54,964,1327,68,60,55,1456,563,1504,564,1125,358,42,184,460,145,1376,792,1382,28,1033,882,2231,1101,369,48,467,44,38,81,167,45,664,622,48,461,1073,55,976,20,1149,43,224,101,209,968,1165,24,252,165,269,102,461,47,144,1338,917,318,253,502,119,1250,969,76,62,1382,84,255,43,398,76,902,823,1179,1921,185,433,34,907,416,44,1588,1797,40,1143,914,1502,1338,27,763,1331,525,9,953,68,131,882,1149,37,388,1428,1633,173,99,215,929,219,174,92,1052,275,587,1662,159,1024,35,1042,395,557,9,69,486,34,1365,13,1401,1574,1323,1217,103,84,1536,581,928,14,424,960,1555,656,55,20,367,2257,42,1049,48,685,39,43,835,1515,1039,1596,1828,34,149,946,28,450,46,1702,820,382,2126,2069,72,732,801,236,80,1685,277,507,68,49,397,39,306,976,1028,70,46,51,1263,1490,1564,1815,1198,416,85,47,137,21,70,909,1676,1735,1191,24,1182,1280,1336,749,91,414,44,63,901,38,455,775,15,38,1512,43,42,1089,162,1272,1173,816,74,134,157,561,1336,2092,463,1130,20,377,1544,138,1012,1766,45,161,144,1734,823,1138,1429,1371,982,44,318,434,198,359,576,88,63,27,193,101,2211,140,415,22,263,393,147,443,1958,174,2217,1691,25,809,895,484,413,331,25,13,115,16,92,52,1464,441,283,747,1870,165,1941,839,1655,23,66,37,21,22,78,79,265,1175,1305,46,25,46,874,100,930,868,45,1260,414,392,1109,639,79,1665,692,1392,44,50,467,223,158,1211,1575,1208,43,527,932,71,54,129,1615,1034,1088,721,137,47,1244,41,1174,993,100,1680,98,48,519,715,37,653,1455,602,26,102,97,207,176,450,433,1366,1564,1001,961,1518,56,22,400,26,350,1216,874,40,1367,264,2053,1376,45,976,51,1264,75,57,140,497,266,2006,615,1021,22,133,437,1013,57,1038,1573,28,123,13,132,732,66,1631,608,1822,1282,8,43,1931,103,1169,395,258,25,185,180,22,44,94,81,798,1334,38,61,300,88,54,1782,68,258,31,66,174,28,731,274,1701,312,414,1565,29,94,1338,1092,1479,54,568,1199,873,1213,731,2043,1893,424,575,257,56,542,125,69,40,1016,907,1566,1169,46,1644,59,17,1853,1528,35,141,546,500,61,106,704,424,849,85,199,1147,54,43,53,521,1623,45,1435,32,16,52,1234,15,415,470,1438,53,51,679,586,653,468,1679,50,84,1049,22,30,1341,444,1241,843,172],\"yaxis\":\"y\",\"type\":\"scattergl\"}],                        {\"template\":{\"data\":{\"bar\":[{\"error_x\":{\"color\":\"#2a3f5f\"},\"error_y\":{\"color\":\"#2a3f5f\"},\"marker\":{\"line\":{\"color\":\"#E5ECF6\",\"width\":0.5},\"pattern\":{\"fillmode\":\"overlay\",\"size\":10,\"solidity\":0.2}},\"type\":\"bar\"}],\"barpolar\":[{\"marker\":{\"line\":{\"color\":\"#E5ECF6\",\"width\":0.5},\"pattern\":{\"fillmode\":\"overlay\",\"size\":10,\"solidity\":0.2}},\"type\":\"barpolar\"}],\"carpet\":[{\"aaxis\":{\"endlinecolor\":\"#2a3f5f\",\"gridcolor\":\"white\",\"linecolor\":\"white\",\"minorgridcolor\":\"white\",\"startlinecolor\":\"#2a3f5f\"},\"baxis\":{\"endlinecolor\":\"#2a3f5f\",\"gridcolor\":\"white\",\"linecolor\":\"white\",\"minorgridcolor\":\"white\",\"startlinecolor\":\"#2a3f5f\"},\"type\":\"carpet\"}],\"choropleth\":[{\"colorbar\":{\"outlinewidth\":0,\"ticks\":\"\"},\"type\":\"choropleth\"}],\"contour\":[{\"colorbar\":{\"outlinewidth\":0,\"ticks\":\"\"},\"colorscale\":[[0.0,\"#0d0887\"],[0.1111111111111111,\"#46039f\"],[0.2222222222222222,\"#7201a8\"],[0.3333333333333333,\"#9c179e\"],[0.4444444444444444,\"#bd3786\"],[0.5555555555555556,\"#d8576b\"],[0.6666666666666666,\"#ed7953\"],[0.7777777777777778,\"#fb9f3a\"],[0.8888888888888888,\"#fdca26\"],[1.0,\"#f0f921\"]],\"type\":\"contour\"}],\"contourcarpet\":[{\"colorbar\":{\"outlinewidth\":0,\"ticks\":\"\"},\"type\":\"contourcarpet\"}],\"heatmap\":[{\"colorbar\":{\"outlinewidth\":0,\"ticks\":\"\"},\"colorscale\":[[0.0,\"#0d0887\"],[0.1111111111111111,\"#46039f\"],[0.2222222222222222,\"#7201a8\"],[0.3333333333333333,\"#9c179e\"],[0.4444444444444444,\"#bd3786\"],[0.5555555555555556,\"#d8576b\"],[0.6666666666666666,\"#ed7953\"],[0.7777777777777778,\"#fb9f3a\"],[0.8888888888888888,\"#fdca26\"],[1.0,\"#f0f921\"]],\"type\":\"heatmap\"}],\"heatmapgl\":[{\"colorbar\":{\"outlinewidth\":0,\"ticks\":\"\"},\"colorscale\":[[0.0,\"#0d0887\"],[0.1111111111111111,\"#46039f\"],[0.2222222222222222,\"#7201a8\"],[0.3333333333333333,\"#9c179e\"],[0.4444444444444444,\"#bd3786\"],[0.5555555555555556,\"#d8576b\"],[0.6666666666666666,\"#ed7953\"],[0.7777777777777778,\"#fb9f3a\"],[0.8888888888888888,\"#fdca26\"],[1.0,\"#f0f921\"]],\"type\":\"heatmapgl\"}],\"histogram\":[{\"marker\":{\"pattern\":{\"fillmode\":\"overlay\",\"size\":10,\"solidity\":0.2}},\"type\":\"histogram\"}],\"histogram2d\":[{\"colorbar\":{\"outlinewidth\":0,\"ticks\":\"\"},\"colorscale\":[[0.0,\"#0d0887\"],[0.1111111111111111,\"#46039f\"],[0.2222222222222222,\"#7201a8\"],[0.3333333333333333,\"#9c179e\"],[0.4444444444444444,\"#bd3786\"],[0.5555555555555556,\"#d8576b\"],[0.6666666666666666,\"#ed7953\"],[0.7777777777777778,\"#fb9f3a\"],[0.8888888888888888,\"#fdca26\"],[1.0,\"#f0f921\"]],\"type\":\"histogram2d\"}],\"histogram2dcontour\":[{\"colorbar\":{\"outlinewidth\":0,\"ticks\":\"\"},\"colorscale\":[[0.0,\"#0d0887\"],[0.1111111111111111,\"#46039f\"],[0.2222222222222222,\"#7201a8\"],[0.3333333333333333,\"#9c179e\"],[0.4444444444444444,\"#bd3786\"],[0.5555555555555556,\"#d8576b\"],[0.6666666666666666,\"#ed7953\"],[0.7777777777777778,\"#fb9f3a\"],[0.8888888888888888,\"#fdca26\"],[1.0,\"#f0f921\"]],\"type\":\"histogram2dcontour\"}],\"mesh3d\":[{\"colorbar\":{\"outlinewidth\":0,\"ticks\":\"\"},\"type\":\"mesh3d\"}],\"parcoords\":[{\"line\":{\"colorbar\":{\"outlinewidth\":0,\"ticks\":\"\"}},\"type\":\"parcoords\"}],\"pie\":[{\"automargin\":true,\"type\":\"pie\"}],\"scatter\":[{\"marker\":{\"colorbar\":{\"outlinewidth\":0,\"ticks\":\"\"}},\"type\":\"scatter\"}],\"scatter3d\":[{\"line\":{\"colorbar\":{\"outlinewidth\":0,\"ticks\":\"\"}},\"marker\":{\"colorbar\":{\"outlinewidth\":0,\"ticks\":\"\"}},\"type\":\"scatter3d\"}],\"scattercarpet\":[{\"marker\":{\"colorbar\":{\"outlinewidth\":0,\"ticks\":\"\"}},\"type\":\"scattercarpet\"}],\"scattergeo\":[{\"marker\":{\"colorbar\":{\"outlinewidth\":0,\"ticks\":\"\"}},\"type\":\"scattergeo\"}],\"scattergl\":[{\"marker\":{\"colorbar\":{\"outlinewidth\":0,\"ticks\":\"\"}},\"type\":\"scattergl\"}],\"scattermapbox\":[{\"marker\":{\"colorbar\":{\"outlinewidth\":0,\"ticks\":\"\"}},\"type\":\"scattermapbox\"}],\"scatterpolar\":[{\"marker\":{\"colorbar\":{\"outlinewidth\":0,\"ticks\":\"\"}},\"type\":\"scatterpolar\"}],\"scatterpolargl\":[{\"marker\":{\"colorbar\":{\"outlinewidth\":0,\"ticks\":\"\"}},\"type\":\"scatterpolargl\"}],\"scatterternary\":[{\"marker\":{\"colorbar\":{\"outlinewidth\":0,\"ticks\":\"\"}},\"type\":\"scatterternary\"}],\"surface\":[{\"colorbar\":{\"outlinewidth\":0,\"ticks\":\"\"},\"colorscale\":[[0.0,\"#0d0887\"],[0.1111111111111111,\"#46039f\"],[0.2222222222222222,\"#7201a8\"],[0.3333333333333333,\"#9c179e\"],[0.4444444444444444,\"#bd3786\"],[0.5555555555555556,\"#d8576b\"],[0.6666666666666666,\"#ed7953\"],[0.7777777777777778,\"#fb9f3a\"],[0.8888888888888888,\"#fdca26\"],[1.0,\"#f0f921\"]],\"type\":\"surface\"}],\"table\":[{\"cells\":{\"fill\":{\"color\":\"#EBF0F8\"},\"line\":{\"color\":\"white\"}},\"header\":{\"fill\":{\"color\":\"#C8D4E3\"},\"line\":{\"color\":\"white\"}},\"type\":\"table\"}]},\"layout\":{\"annotationdefaults\":{\"arrowcolor\":\"#2a3f5f\",\"arrowhead\":0,\"arrowwidth\":1},\"autotypenumbers\":\"strict\",\"coloraxis\":{\"colorbar\":{\"outlinewidth\":0,\"ticks\":\"\"}},\"colorscale\":{\"diverging\":[[0,\"#8e0152\"],[0.1,\"#c51b7d\"],[0.2,\"#de77ae\"],[0.3,\"#f1b6da\"],[0.4,\"#fde0ef\"],[0.5,\"#f7f7f7\"],[0.6,\"#e6f5d0\"],[0.7,\"#b8e186\"],[0.8,\"#7fbc41\"],[0.9,\"#4d9221\"],[1,\"#276419\"]],\"sequential\":[[0.0,\"#0d0887\"],[0.1111111111111111,\"#46039f\"],[0.2222222222222222,\"#7201a8\"],[0.3333333333333333,\"#9c179e\"],[0.4444444444444444,\"#bd3786\"],[0.5555555555555556,\"#d8576b\"],[0.6666666666666666,\"#ed7953\"],[0.7777777777777778,\"#fb9f3a\"],[0.8888888888888888,\"#fdca26\"],[1.0,\"#f0f921\"]],\"sequentialminus\":[[0.0,\"#0d0887\"],[0.1111111111111111,\"#46039f\"],[0.2222222222222222,\"#7201a8\"],[0.3333333333333333,\"#9c179e\"],[0.4444444444444444,\"#bd3786\"],[0.5555555555555556,\"#d8576b\"],[0.6666666666666666,\"#ed7953\"],[0.7777777777777778,\"#fb9f3a\"],[0.8888888888888888,\"#fdca26\"],[1.0,\"#f0f921\"]]},\"colorway\":[\"#636efa\",\"#EF553B\",\"#00cc96\",\"#ab63fa\",\"#FFA15A\",\"#19d3f3\",\"#FF6692\",\"#B6E880\",\"#FF97FF\",\"#FECB52\"],\"font\":{\"color\":\"#2a3f5f\"},\"geo\":{\"bgcolor\":\"white\",\"lakecolor\":\"white\",\"landcolor\":\"#E5ECF6\",\"showlakes\":true,\"showland\":true,\"subunitcolor\":\"white\"},\"hoverlabel\":{\"align\":\"left\"},\"hovermode\":\"closest\",\"mapbox\":{\"style\":\"light\"},\"paper_bgcolor\":\"white\",\"plot_bgcolor\":\"#E5ECF6\",\"polar\":{\"angularaxis\":{\"gridcolor\":\"white\",\"linecolor\":\"white\",\"ticks\":\"\"},\"bgcolor\":\"#E5ECF6\",\"radialaxis\":{\"gridcolor\":\"white\",\"linecolor\":\"white\",\"ticks\":\"\"}},\"scene\":{\"xaxis\":{\"backgroundcolor\":\"#E5ECF6\",\"gridcolor\":\"white\",\"gridwidth\":2,\"linecolor\":\"white\",\"showbackground\":true,\"ticks\":\"\",\"zerolinecolor\":\"white\"},\"yaxis\":{\"backgroundcolor\":\"#E5ECF6\",\"gridcolor\":\"white\",\"gridwidth\":2,\"linecolor\":\"white\",\"showbackground\":true,\"ticks\":\"\",\"zerolinecolor\":\"white\"},\"zaxis\":{\"backgroundcolor\":\"#E5ECF6\",\"gridcolor\":\"white\",\"gridwidth\":2,\"linecolor\":\"white\",\"showbackground\":true,\"ticks\":\"\",\"zerolinecolor\":\"white\"}},\"shapedefaults\":{\"line\":{\"color\":\"#2a3f5f\"}},\"ternary\":{\"aaxis\":{\"gridcolor\":\"white\",\"linecolor\":\"white\",\"ticks\":\"\"},\"baxis\":{\"gridcolor\":\"white\",\"linecolor\":\"white\",\"ticks\":\"\"},\"bgcolor\":\"#E5ECF6\",\"caxis\":{\"gridcolor\":\"white\",\"linecolor\":\"white\",\"ticks\":\"\"}},\"title\":{\"x\":0.05},\"xaxis\":{\"automargin\":true,\"gridcolor\":\"white\",\"linecolor\":\"white\",\"ticks\":\"\",\"title\":{\"standoff\":15},\"zerolinecolor\":\"white\",\"zerolinewidth\":2},\"yaxis\":{\"automargin\":true,\"gridcolor\":\"white\",\"linecolor\":\"white\",\"ticks\":\"\",\"title\":{\"standoff\":15},\"zerolinecolor\":\"white\",\"zerolinewidth\":2}}},\"xaxis\":{\"anchor\":\"y\",\"domain\":[0.0,1.0],\"title\":{\"text\":\"Income\"}},\"yaxis\":{\"anchor\":\"x\",\"domain\":[0.0,1.0],\"title\":{\"text\":\"TotalSpent\"}},\"legend\":{\"tracegroupgap\":0},\"title\":{\"text\":\"Relationship Between Customer's Income and Total Spent\"},\"height\":500},                        {\"responsive\": true}                    ).then(function(){\n",
              "                            \n",
              "var gd = document.getElementById('b29d714d-744a-4d9c-81ba-12b035aa959b');\n",
              "var x = new MutationObserver(function (mutations, observer) {{\n",
              "        var display = window.getComputedStyle(gd).display;\n",
              "        if (!display || display === 'none') {{\n",
              "            console.log([gd, 'removed!']);\n",
              "            Plotly.purge(gd);\n",
              "            observer.disconnect();\n",
              "        }}\n",
              "}});\n",
              "\n",
              "// Listen for the removal of the full notebook cells\n",
              "var notebookContainer = gd.closest('#notebook-container');\n",
              "if (notebookContainer) {{\n",
              "    x.observe(notebookContainer, {childList: true});\n",
              "}}\n",
              "\n",
              "// Listen for the clearing of the current output cell\n",
              "var outputEl = gd.closest('.output');\n",
              "if (outputEl) {{\n",
              "    x.observe(outputEl, {childList: true});\n",
              "}}\n",
              "\n",
              "                        })                };                            </script>        </div>\n",
              "</body>\n",
              "</html>"
            ]
          },
          "metadata": {}
        }
      ]
    },
    {
      "cell_type": "markdown",
      "source": [
        "Based on the scatter plot of relationship between customers income and total spent, it appears the income of a customer determines the total amount that must be spent on the product. As a customer's income increases, so does what they buy."
      ],
      "metadata": {
        "id": "N4vIRz0tAglS"
      }
    },
    {
      "cell_type": "markdown",
      "source": [
        "#Multivariate Analysis"
      ],
      "metadata": {
        "id": "sYICaBlSxSXC"
      }
    },
    {
      "cell_type": "markdown",
      "source": [
        "**Education, Income, and Total Spent**"
      ],
      "metadata": {
        "id": "GorttWrCxXTH"
      }
    },
    {
      "cell_type": "code",
      "source": [
        "fig = px.scatter(data_frame=df_cut,\n",
        "                 x = \"Income\",\n",
        "                 y= \"TotalSpent\",\n",
        "                 title = \"Relationship between Income and Total Spent Based on Education\",\n",
        "                 color = \"Education\",\n",
        "                 height=500)\n",
        "fig.show()"
      ],
      "metadata": {
        "colab": {
          "base_uri": "https://localhost:8080/",
          "height": 517
        },
        "id": "xAE4dYPixU67",
        "outputId": "92681261-f577-412e-8d95-54c8f7137820"
      },
      "execution_count": 44,
      "outputs": [
        {
          "output_type": "display_data",
          "data": {
            "text/html": [
              "<html>\n",
              "<head><meta charset=\"utf-8\" /></head>\n",
              "<body>\n",
              "    <div>            <script src=\"https://cdnjs.cloudflare.com/ajax/libs/mathjax/2.7.5/MathJax.js?config=TeX-AMS-MML_SVG\"></script><script type=\"text/javascript\">if (window.MathJax) {MathJax.Hub.Config({SVG: {font: \"STIX-Web\"}});}</script>                <script type=\"text/javascript\">window.PlotlyConfig = {MathJaxConfig: 'local'};</script>\n",
              "        <script src=\"https://cdn.plot.ly/plotly-2.8.3.min.js\"></script>                <div id=\"20b8d466-07aa-46e8-93bd-1d33edbe7af1\" class=\"plotly-graph-div\" style=\"height:500px; width:100%;\"></div>            <script type=\"text/javascript\">                                    window.PLOTLYENV=window.PLOTLYENV || {};                                    if (document.getElementById(\"20b8d466-07aa-46e8-93bd-1d33edbe7af1\")) {                    Plotly.newPlot(                        \"20b8d466-07aa-46e8-93bd-1d33edbe7af1\",                        [{\"hovertemplate\":\"Education=Graduate<br>Income=%{x}<br>TotalSpent=%{y}<extra></extra>\",\"legendgroup\":\"Graduate\",\"marker\":{\"color\":\"#636efa\",\"symbol\":\"circle\"},\"mode\":\"markers\",\"name\":\"Graduate\",\"showlegend\":true,\"x\":[58138,46344,71613,26646,55635,51381,63033,17323,41850,37760,37040,2447,40689,18589,53359,51381,38360,40548,42429,80011,21994,79941,41728,51381,65486,35790,82582,66373,70287,27938,51381,66653,61823,70666,25721,32474,69096,74854,65031,28332,40246,75825,56046,29760,26304,81361,29440,50388,79593,54178,51381,30096,47916,51813,85693,87195,49096,52413,38557,77298,86037,50785,90765,21918,30992,101970,79607,62998,73448,51381,86111,41883,59809,23957,38547,65747,34176,69372,49967,60199,55375,80317,23228,43482,62551,52332,66951,26091,33456,28718,50447,52074,38285,25271,61286,74068,38872,51148,31353,80067,86718,69142,75922,63693,29604,44794,64497,46097,77972,70951,41443,69508,72460,63887,42011,51369,51537,37070,38590,15033,7500,73455,64961,22804,73687,61074,80134,75027,29938,102692,75702,45989,18701,15287,80124,72940,22070,69267,29315,33378,60714,51369,37760,30631,75278,79946,38361,82497,16626,29672,68627,35246,39747,23976,27038,77457,12571,22574,51381,54198,40321,66503,30833,51381,64795,34421,40464,62187,27255,24072,22010,62204,75693,30675,83003,68655,41411,82623,44300,84835,30372,71113,71952,72099,38643,50737,78618,28442,51479,54803,79530,31615,72025,48178,63810,22585,30279,30822,19986,27421,10245,63381,38823,90300,74293,43824,15345,23442,75276,42373,30507,48006,50437,53858,46923,75072,80134,91065,30096,48686,92910,75433,61314,42387,75236,30015,67272,28691,18100,30279,23295,81246,24027,57959,56796,65991,38988,50300,60597,70165,80124,33183,31880,53790,61456,37406,38415,20518,62503,41124,32233,43057,60093,14045,46310,76005,55563,65275,27203,53653,65665,81217,34935,61250,60152,48920,36443,26095,71367,30630,42691,70503,25545,32880,61839,72679,65316,28567,44931,76982,43638,54058,85620,47850,19514,21474,22419,43462,79908,87771,33039,81741,66565,47691,38200,44989,51287,13260,40689,39453,79800,53863,24221,33178,23910,31089,30081,62807,72906,42429,26150,81168,22574,45837,54162,31632,72298,13624,84196,70971,28769,83917,46102,84574,56181,73691,63381,45906,105471,66886,29103,67445,49431,61278,56253,19986,58330,18690,66731,77353,26751,70337,68118,68743,38946,65777,61209,34824,45938,78468,78901,71427,71022,71952,43185,25252,33249,58398,50272,25851,58710,45160,59111,72190,7500,44794,80395,89891,66373,89694,72025,67432,62882,82224,83844,71163,33697,58330,80952,75507,58512,79146,75127,48726,74985,67430,72063,42720,33622,41452,72258,36283,20587,30467,31590,40780,16813,51267,46524,73926,19329,46984,34838,48192,55267,59666,72504,26872,21359,73170,30772,22507,65685,22063,57091,22419,87771,93404,37859,16529,48789,35441,71391,81702,56628,34026,40049,34176,19419,81205,49980,15072,49166,60474,55357,37758,23228,7500,53172,30545,62450,21675,80812,39922,24762,35797,36627,42243,51195,31814,76630,64090,78331,21846,81320,54137,66825,57100,58917,85072,86429,45684,47889,75114,95529,62820,72354,83033,77583,74293,46107,75127,71796,55239,82025,94384,68274,39771,59754,53700,59041,70647,50183,54753,92955,33471,44010,84219,83715,35704,53103,4861,63693,80763,75759,85683,64449,64587,34824,75437,26091,52845,46086,22434,36130,83844,19514,77568,30168,54165,32300,20180,34961,17345,28647,74538,91700,68695,79593,28071,47703,61180,38998,8028,76081,34728,35196,44529,70596,42557,72228,67605,65196,16860,83528,22304,67023,70713,59925,39722,46610,88347,66294,36715,79456,40479,54233,24163,43776,71367,61825,79803,56775,83829,38508,53187,30023,66480,76773,71819,70566,48526,46734,39552,86358,46931,25930,42693,85606,72903,49678,37155,63285,42162,54450,26576,68142,7500,83145,46049,56715,79410,57304,44375,54450,59594,80685,62710,35322,77142,81657,54386,28510,48070,43140,26954,22327,44393,58401,62307,54809,58113,15287,18351,36317,42213,65748,77044,74918,56721,42160,61559,34377,26228,40211,22518,44421,41986,28427,64722,84906,28691,44213,76624,1730,40521,65106,67433,74716,68118,74190,39356,76653,31454,47139,83829,19656,55956,38808,66303,40800,71847,46149,78687,33986,52531,15759,22804,57811,78569,7500,94384,44267,71626,60894,50200,65169,59868,47009,40321,37235,77382,37774,24711,27244,48752,71434,90842,51948,71853,40049,39660,50127,18929,33249,62061,70515,18227,69139,69109,69627,38136,80695,58554,53034,47025,37971,67267,57338,48904,56243,21355,51381,20895,92344,44964,75507,22682,39996,26759,60544,65685,37716,36864,57045,80134,80589,34412,57537,51315,36026,24639,63810,18690,28164,31907,92533,34853,70844,60544,42523,39922,33402,21645,82657,51876,52852,46053,77343,73892,68695,43300,26290,93790,57957,16531,50725,83844,67419,34380,34704,65148,39898,60474,62807,19107,76998,87679,57867,35765,65492,32952,71706,68487,42014,53977,84219,73538,79529,51766,55759,33039,27242,69930,37697,3502,58597,28087,19740,9255,31928,65819,51983,30983,66033,63943,76081,67445,31859,27215,39922,24645,79865,44322,47958,75315,38998,42014,45203,34935,34633,82460,81361,61482,34968,75794,74268,36108,76445,44512,27116,71855,68655,64509,33955,31353,55434,28359,57100,69139,18793,50664,54414,19444,22775,50002,69755,44078,56386,58684,57136,22448,82014,34213,72066,34916,64892,43602,86610,69016,27573,33228,70440,38232,49413,42231,56534,58350,81217,49090,18222,62335,61064,18358,52117,64813,83512,41154,80398,35196,60230,22108,44392,17688,90273,42586,71107,18690,37244,82427,70044,79146,77437,54984,55761,37292,70321,81795,69901,44989,30372,41120,77981,59481,72117,67131,71853,70596,42664,42586,29760,64590,71232,34600,46904,49094,36075,77298,34026,37697,34074,62535,63404,78416,75702,37070,44689,53977,18701,90369,37758,63207,72071,72282,50387,62568,63967,25293,78394,29236,44911,48186,54809,41580,47743,30093,25008,22280,64260,54006,61825,70886,69109,60208,34738,69932,44503,49638,72905,70300,52413,76532,42081,31158,61671,69719,49160,22148,29819,45688,62820,33235,35701,67384,77870,57107,18929,20180,91249,80982,70617,64849,75903,25410,28320,23763,72570,70792,63211,36065,39898,56939,80872,29478,46998,96843,44359,40887,48877,74485,64474,77226,72643,55686,39062,34600,40794,4428,36781,24570,94642,53201,21994,57113,51373,23477,58116,94472,13672,79205,24206,22979,33279,30368,63684,41638,71964,39146,96876,68281,36790,27943,22263,30261,28587,48195,29672,23272,67225,17649,55914,40059,60905,75330,60689,38680,61416,49767,83273,29009,37150,43020,53154,65308,76467,32871,55801,76320,48794,23478,71128,59462,38361,42554,67445,67046,42192,31761,34350,54591,71866,25293,69520,64713,51381,27803,51381,51651,68487,56796,79823,30828,71322,79244,80144,54252,76068,72967,82332,58275,34587,25818,43586,50116,84906,61286,33590,30992,58692,40590,20587,19346,35788,36997,23539,65333,78499,69209,17148,40590,59686,62994,47320,72071,90000,41967,69263,60934,71965,65210,52914,38946,26067,42523,67716,40851,27469,73803,43322,55593,50501,37085,57731,73807,18929,35893,61014,32144,45146,88325,5305,36807,28427,22775,58025,58554,63777,57967,24434,11012,26816,34421,61223,56981],\"xaxis\":\"x\",\"y\":[1617,27,776,53,590,19,1102,46,96,317,316,1730,444,75,257,637,131,120,67,1395,22,984,55,124,507,72,1617,606,1093,29,46,612,884,1076,34,11,653,1562,863,65,13,2209,692,165,16,778,56,372,1366,194,18,45,606,63,1169,1097,187,910,145,969,730,114,1724,33,43,1135,1923,463,725,725,1385,312,877,68,22,460,89,1381,306,18,162,1231,121,88,421,259,1117,89,36,57,148,119,10,50,608,1581,91,315,31,1600,1270,535,1295,1150,53,65,1804,241,1101,1198,482,1135,1047,1245,189,576,1103,433,22,19,57,2088,1009,26,1627,1102,1690,1390,26,1112,1148,322,44,31,1495,981,67,1635,48,99,957,576,317,70,930,1478,137,1919,68,25,825,62,273,66,107,1157,53,37,1611,235,102,401,28,1052,680,30,630,1283,37,23,33,946,1442,62,1674,1538,139,940,42,1190,44,835,1443,1188,49,99,2153,57,494,693,1348,51,1932,254,1371,81,37,51,22,324,41,1005,114,1738,1127,186,47,27,1040,163,343,41,490,915,369,1073,1378,1474,45,20,1795,1188,1008,684,1068,57,733,34,14,37,20,1379,48,868,1001,971,348,270,893,926,1495,120,15,542,1388,17,44,25,973,506,296,266,735,20,309,1722,43,746,64,1210,945,1157,137,730,943,347,138,42,777,52,358,1727,210,42,1895,1168,260,46,96,1062,201,662,1600,134,69,91,162,240,1772,1957,78,1572,1065,21,17,369,182,49,444,55,1867,473,55,49,67,79,42,819,1151,67,28,1193,37,373,42,95,939,36,1237,1825,191,1587,16,1375,393,1179,1005,486,1724,599,48,1174,365,165,597,22,1064,60,1029,670,11,576,928,2074,257,1146,957,23,636,1004,734,614,1453,1443,637,18,112,596,233,48,1185,21,869,1947,71,65,1380,836,606,1472,1677,1335,1338,902,1574,960,28,1064,1757,1440,1171,564,833,242,1869,1364,758,654,81,16,1525,29,25,24,38,377,50,270,177,1580,60,41,170,1526,405,1027,1478,72,48,726,20,570,769,55,577,162,1957,1616,36,22,680,39,1043,1633,761,76,290,89,70,2009,195,53,368,1180,727,40,40,15,486,69,995,45,1677,156,86,68,16,55,564,83,1003,797,1638,84,928,203,858,409,282,1423,1449,28,67,1253,1990,976,1228,1761,1149,1127,125,833,960,779,1187,2302,305,50,475,694,96,1079,231,728,1778,93,662,1198,926,94,1085,6,1150,1415,2486,1789,805,108,23,1493,89,936,343,58,488,1574,69,2194,279,236,39,137,79,58,94,1461,1968,1091,1366,313,655,704,54,178,1033,36,497,691,968,270,1250,938,1155,38,1650,18,906,1477,766,47,467,2116,967,357,1401,15,981,17,23,777,424,868,937,1862,443,267,61,312,1156,1574,757,135,330,384,1722,78,15,57,1956,2013,315,74,1103,145,684,27,1459,18,1833,515,1020,1370,1026,301,684,499,1004,606,106,990,1097,470,91,504,235,17,24,60,96,160,174,758,31,43,133,363,545,1065,2047,296,140,530,114,25,87,61,189,63,52,805,1631,34,152,899,8,21,973,992,860,928,641,23,2279,48,83,1862,84,999,246,1286,99,1192,362,2130,44,794,17,26,802,1736,57,2302,310,1305,832,401,1189,1194,448,102,61,1121,473,58,101,316,1400,1424,311,1149,32,299,320,85,112,800,1258,28,227,1555,861,103,1918,586,447,415,30,251,237,371,396,68,45,45,1899,41,1440,95,15,59,289,769,188,354,454,1690,1428,209,545,222,61,44,1371,60,78,449,1131,34,294,289,125,156,70,65,2283,310,879,209,1134,1507,1091,180,77,2349,637,44,586,1574,1471,175,40,1115,134,1180,819,46,1910,2524,612,75,1045,55,1443,1366,436,907,1198,1658,1638,275,854,78,106,1662,84,5,733,112,55,22,72,1383,793,167,677,1106,1033,1174,20,102,156,17,792,92,407,841,54,436,147,137,15,974,778,299,221,1682,892,339,1410,32,41,1141,1538,1722,270,31,882,16,311,227,77,561,211,54,15,638,894,41,612,813,1179,55,1511,117,1792,231,902,68,1603,1533,244,71,1572,122,304,37,815,1001,1157,688,67,708,1080,57,279,745,2157,69,1597,497,1067,31,211,11,1991,252,1327,60,55,1456,1504,564,1125,358,184,460,1376,1382,882,369,44,81,664,461,1073,976,1149,968,24,252,165,1338,917,318,253,502,119,969,76,84,255,398,902,1179,1921,433,34,907,44,1588,40,1502,1338,1331,525,953,882,37,1428,99,215,219,174,92,275,69,34,13,1574,581,424,960,1555,656,20,1049,48,39,1515,1596,450,820,382,72,732,801,236,49,39,306,976,70,46,1490,1815,416,85,137,1676,1191,1280,1336,901,38,43,42,1089,1272,1173,74,134,561,1336,20,377,1544,45,161,144,1734,823,1138,1429,982,44,318,434,359,63,193,2211,415,22,263,393,147,443,1691,25,895,25,115,16,52,1464,441,1870,165,1941,1655,66,37,21,22,78,265,25,46,868,45,1260,414,392,1109,639,79,1665,692,1392,44,467,223,158,1211,1575,43,527,932,54,129,1615,1088,137,41,1174,993,100,98,48,519,715,37,1455,602,97,176,450,433,1366,1001,1518,56,350,1216,1367,264,1376,497,2006,615,22,28,132,66,1631,608,8,43,395,258,25,22,44,94,81,798,1334,1782,68,258,274,312,414,1338,1479,54,568,873,1213,731,575,257,56,125,1016,59,17,1528,141,546,500,61,704,849,85,199,1147,54,53,1623,32,16,52,15,470,586,653,468,50,84,22,30,1341,1241],\"yaxis\":\"y\",\"type\":\"scattergl\"},{\"hovertemplate\":\"Education=Postgraduate<br>Income=%{x}<br>TotalSpent=%{y}<extra></extra>\",\"legendgroup\":\"Postgraduate\",\"marker\":{\"color\":\"#EF553B\",\"symbol\":\"circle\"},\"mode\":\"markers\",\"name\":\"Postgraduate\",\"showlegend\":true,\"x\":[58293,62513,33454,30351,5648,59354,82800,76995,33812,58607,65324,84618,10979,38620,46610,68657,49389,67353,23718,48948,20559,51381,7500,7500,72550,79143,82384,55954,75777,67680,88194,66991,51381,60631,75251,26326,23559,38620,36138,51381,51381,42394,23626,78497,50150,47823,34554,65846,89058,68126,57288,43974,36550,30753,56129,32557,19510,71488,54348,51381,77376,61331,41551,62981,33762,35860,36921,92859,65104,68352,35688,49605,59354,46344,61010,30523,70356,74165,53537,80427,83837,38853,78497,51650,16248,66835,30477,32303,45759,66973,36640,69661,46854,102160,40637,18890,48721,44377,46014,52195,83790,44551,45204,77622,30732,79930,34320,81975,62745,22212,23661,79761,60182,31686,67546,65176,31160,26490,30899,63342,40737,69674,44159,37717,43776,38179,38097,31788,61905,66313,77882,69867,63841,65640,44319,50898,35416,32414,55951,35388,42386,57912,58821,46377,80950,64100,42670,70893,28839,47025,64325,14849,54432,29999,33996,66334,35178,83532,55212,59292,33181,69759,60000,68462,65073,46681,62187,37717,52614,35684,29548,38578,46098,66426,33581,35688,36143,43795,83664,62499,51012,70777,68682,14515,31395,55521,27213,65808,30351,23616,66465,75865,19789,49505,37401,18492,82584,93027,10404,84865,67309,50943,51529,32011,7500,56223,20130,42618,55707,36230,70829,89572,42207,66664,50520,66582,75261,49269,56937,41644,55842,62010,38961,37760,83151,78825,65104,28457,78952,58308,55614,59432,78642,67911,48330,64355,50943,39665,89120,44124,81169,80184,73454,77863,50353,49154,47682,57954,47352,57247,22944,25315,42710,84169,24683,27159,39548,60504,81698,54880,15315,71499,62466,48799,52157,29298,38443,38593,64413,36959,61996,47472,54603,45207,47821,27450,26850,61794,39684,92163,69882,59973,17459,42169,26224,61467,49618,21888,26877,45006,48240,35791,30522,54456,36975,72635,34487,69084,65488,62466,32218,63120,76140,62859,77632,46463,55282,78710,98777,50616,26490,73059,46734,14661,45068,29187,54690,59304,59247,52614,81300,36145,65295,41039,66476,86857,77845,69476,50611,42315,47570,61923,26518,90247,41335,35682,66375,35178,55250,76618,87305,74806,18988,75012,56962,35946,53593,45072,70545,64108,34941,48767,38702,17003,63564,83443,51518,63855,62220,40662,38829,35523,78285,31626,46891,62058,78939,6835,40760,74250,51124,71466,17144,42564,43783,62847,82017,45183,70421,60161,61872,82716,49681,56850,52750,91820,65968,25804,76412,78353,80995,55412,56575,25130,49494,45889,82504,61618,55284,65324,82347,30843,46374,38576,85710,44602,38683,49514,57906,43456,19485,70123,42395,61346,42835,86424,17117,51111,86857,82072,46231,68092,51390,48948,55260,37087,45921,78420,52278,35641,73113,84169,42607,74637,46015,39858,34469,24401,74116,68397,79632,64950,32892,67536,60554,64831,56067,51563,57937,67893,27922,52190,44051,42767,46106,16927,54237,52597,41021,40233,34596,40706,15716,59052,80573,82576,56962,46779,33462,65352,82170,79689,35340,24884,42021,78028,95169,56337,36930,65569,36736,49187,34053,38196,59412,70924,28440,64504,33564,56320,32173,68316,31056,37334,46423,37126,33168,33585,77037,70924,28764,69098,25959,27100,53312,62845,42000,35860,65526,64176,32892,87171,26907,50014,41014,75345,84460,71691,85844,39190,38578,57236,80910,27590,54210,76045,50870,15315,65463,81698,54466,98777,16269,33569,36262,47025,31605,52034,63998,67381,49669,36778,85696,10979,56129,21282,33419,21255,57744,57513,54197,23091,40344,48985,20130,74214,66726,47353,33444,90638,54959,62000,31497,45894,78579,67369,43641,63841,46891,70091,78075,59184,51412,66636,50965,84618,40451,33629,68682,77297,33438,75032,61284,54730,38452,38197,37395,55249,59062,66000,27683,20427,69969,77766,55158,62972,35860,90687,73450,53378,45579,85485,64191,57183,23748,37368,49118,37633,39767,57091,46831,83151,43050,42997,48918,60033,34043,23148,81051,65695,64857,45143,74805,59060,27238,46094,81843,46692,72828,45503,6560,71604,88097,35876,43263,62845,26887,50150,85696,76542,62159,33316,52203,59601,75154,41335,50523,35791,50611,56242,57420,51381,46390,54342,51381,51381,26907,53761,38887,41658,29791,63915,63841,51039,44511,36947,47352,67087,36957,69389,43142,34578,65704,54132,34596,43269,38741,27100,31163,31086,20491,36408,78427,78041,70038,69401,40304,32727,38410,64866,46015,28072,49476,41145,23162,94871,64857,59892,41020,57072,19414,75484,70379,79419,64014,49854,60585,42873,53374,53253,31163,54108,49667,63206,57136,46772,78931,46098,20981,37787,87188,37401,82032,74004,57036,53083,69283,46098,23331,23331,67786,71969,59235,74881,51411,42386,30390,37284,57530,76800,37054,47175,70179,49681,63972,55517,75283,82800,90638,27161,38201,81574,60482,78093,45903,35860,40442,31497,45143,52569,48432,17144,36663,53843,90226,70638,54072,51250,60432,65526,12393,52973,51717,66664,54549,47111,41003,36301,73059,42731,52854,46681,59821,30560,35924,64140,75774,39228,58494,56551,25358,35544,36634,62670,50334,50729,33996,41473,63246,36732,69084,77766,37929,80141,72635,20193,49544,22554,23536,78789,61787,18169,24336,42033,86580,41437,73705,38452,55012,38175,58656,54222,77520,55424,92491,82571,38513,16653,74881,46910,75342,42403,45576,58086,66835,80360,63342,31859,51569,39763,38725,62905,13533,21955,36802,47808,25509,51012,85431,28973,39435,65370,42473,60839,48918,82122,28520,36273,75774,59385,7144,63159,46757,79734,21840,58582,32583,44635,33316,52513,54111,80739,22669,54693,80336,62972,57333,32313,84953,27071,68148,65735,86836,4023,57705,83257,72159,82733,74290,58217,21024,70116,69063,11448,32889,30538,82326,26642,60200,23830,33051,69702,70643,30396,50616,62772,30298,44155,86979,67546,88420,90933,113734,59292,45759,73395,60491,31535,92556,80573,52278,36038,34230,31878,70932,77598,22701,55212,62694,61917,67472,21059,29543,34984,54998,54356,34242,73356,34529,83891,51141,72335,61798,76842,56551,70053,71670,85738,54690,32632,38236,31385,25509,58646,72968,39791,91712,96547,56559,32644,67506,28420,46423,68805,65814,37284,43815,77027,71322,32765,49912,7500,68117,45057,81044,36927,70179,51381,51381,70038,77610,42000,27889,51381,51381,87000,34109,53367,49912,48699,81929,53204,67911,14796,78128,58646,48150,44953,43018,45736,66476,27733,69805,72217,37509,25176,53230,82333,65220,72309,65487,62637,29435,29732,41275,63516,42769,49572,30560,32146,41713,34176,58482,60896,74859,31560,91172,65706,79174,81380,48432,44325,53233,76234,84117,65487,89616,82347,8820,48432,41769,38054,80617,82032,40101,75777,7500,33562,57642,51381,44802,64014,69245,52869],\"xaxis\":\"x\",\"y\":[422,716,169,46,49,310,1315,1782,133,972,544,1672,30,318,302,1196,65,913,81,902,53,186,31,122,1319,1693,1957,518,1438,606,1274,1253,109,661,1890,18,79,318,151,603,985,32,43,978,410,72,55,1120,850,1820,608,551,577,81,660,80,30,559,90,404,661,632,279,1482,106,49,38,2077,1053,871,211,127,459,429,1021,13,1706,1293,93,1835,1318,45,978,191,57,1033,66,39,68,1282,65,834,263,1240,38,35,293,264,541,17,1615,285,114,714,185,1753,17,1588,1117,69,23,605,22,17,2126,1531,64,210,33,1101,17,845,275,25,275,90,184,60,231,770,818,925,908,461,37,859,390,52,1374,32,100,916,728,90,1213,546,241,1508,32,20,1307,65,38,160,71,1161,59,1853,1182,507,16,1029,1277,1670,900,425,636,25,990,30,29,73,120,1377,17,211,19,492,1173,222,209,787,1598,96,64,446,70,272,46,79,1485,1242,78,751,48,10,1435,2119,43,1688,1082,46,467,122,36,156,34,192,428,59,431,2059,265,1289,135,1288,1743,890,906,31,518,530,70,54,747,895,1053,205,2092,900,682,663,1816,976,32,1445,46,216,1924,397,2089,1902,1651,1291,442,411,521,493,319,232,76,54,406,1919,41,21,54,526,1008,795,64,795,889,331,265,11,38,177,279,62,1230,75,227,215,47,143,63,611,81,2086,1478,382,69,30,63,594,129,213,268,266,882,35,326,404,33,981,103,1586,963,889,93,1477,1348,1307,2252,235,235,1092,2008,67,210,1095,223,26,20,34,198,1048,574,990,1241,172,664,467,689,2114,1346,1044,493,270,121,126,57,1621,187,57,948,59,903,1511,1152,965,16,1027,411,11,480,284,334,1099,97,63,109,38,1215,1497,449,1006,1226,92,99,66,1427,86,183,450,1507,137,93,1158,43,1230,47,813,629,1612,729,315,767,1071,573,1167,458,63,860,1497,495,55,1808,1576,1482,63,542,50,385,46,1066,1345,764,544,1853,35,446,41,1062,292,341,369,401,393,10,1727,182,989,595,1226,128,55,2114,2018,263,1281,353,902,1139,401,199,1453,1198,178,1001,1919,350,1650,46,95,62,467,2052,1416,1113,966,46,1829,811,1120,725,1250,683,995,41,77,171,131,54,53,361,578,64,149,23,81,92,491,1564,1910,411,23,54,405,1908,1315,45,19,573,528,1901,724,297,859,17,116,103,44,406,1363,63,1314,71,702,22,1211,55,62,92,72,122,122,1123,1363,12,2440,56,37,278,1178,653,49,506,1826,46,1298,22,396,20,2087,523,1192,1958,133,73,121,756,12,367,1323,63,64,562,1104,16,2008,44,63,426,635,125,332,1168,957,326,77,1313,30,660,46,86,61,411,1060,237,48,218,75,34,1711,438,225,18,2525,1232,1020,155,51,1812,1461,139,908,183,1161,988,1072,195,1084,685,1672,49,152,1598,789,90,1215,811,405,72,40,39,130,71,711,351,10,1536,1529,418,587,49,1779,1804,793,183,1383,825,610,76,30,1229,38,485,496,78,2346,76,15,62,198,49,37,1501,656,1540,311,820,274,57,44,1643,397,1678,170,373,1196,844,129,441,1178,30,410,1313,1483,634,131,939,797,1143,187,91,35,493,971,322,317,222,177,21,42,22,325,42,72,20,789,908,417,727,146,319,794,152,797,20,8,817,42,23,19,61,37,38,48,30,22,1930,1319,1244,690,57,529,534,556,46,47,795,13,65,1078,1540,87,217,1034,32,1159,860,1631,444,380,736,269,1064,436,38,747,1396,928,642,1048,943,120,73,106,1923,48,1234,1658,1513,271,904,120,103,269,1156,1086,1128,964,18,100,80,23,92,641,25,240,1034,458,1269,633,1019,1315,2525,52,268,1798,507,1105,66,49,169,155,311,95,424,47,35,562,2352,1334,39,710,401,506,57,1152,122,1289,233,1092,601,78,1095,244,116,425,734,31,34,1750,823,20,396,138,32,67,335,825,694,496,71,76,772,47,1586,1529,265,2091,981,82,404,41,10,1754,1319,21,31,25,746,32,1695,72,660,153,1220,264,1526,877,2034,1686,324,69,964,68,563,42,145,792,1033,2231,1101,48,467,167,45,622,48,55,20,224,101,209,1165,269,102,461,144,1250,62,1382,43,76,823,185,416,1797,1143,914,27,763,9,68,131,1149,388,1633,173,929,1052,587,1662,159,1024,35,1042,395,557,9,486,1365,1401,1323,1217,103,84,1536,928,14,55,367,2257,42,685,43,835,1039,1828,34,149,946,28,46,1702,2126,2069,1685,277,507,68,397,1028,51,1263,1564,1198,47,21,70,909,1735,24,1182,749,91,414,44,63,38,455,775,15,1512,162,816,157,2092,463,1130,138,1012,1766,1371,198,576,88,27,101,140,1958,174,2217,809,484,413,331,13,92,283,747,23,79,1175,1305,46,874,100,930,50,1208,71,1034,721,47,1244,1680,653,26,207,1564,961,22,400,874,40,2053,45,976,51,1264,140,266,1021,133,437,1013,57,1038,1573,123,13,732,1822,1282,1931,1169,185,180,38,61,300,88,54,31,66,174,28,731,1701,1565,94,1092,1199,2043,1893,424,542,40,907,1566,1169,1644,1853,35,424,521,45,1435,1234,415,1438,53,51,679,1679,1049,444,843,172],\"yaxis\":\"y\",\"type\":\"scattergl\"},{\"hovertemplate\":\"Education=Undergraduate<br>Income=%{x}<br>TotalSpent=%{y}<extra></extra>\",\"legendgroup\":\"Undergraduate\",\"marker\":{\"color\":\"#00cc96\",\"symbol\":\"circle\"},\"mode\":\"markers\",\"name\":\"Undergraduate\",\"showlegend\":true,\"x\":[7500,24594,9548,28249,24882,24480,27190,24279,30801,18978,25965,21063,13084,17487,20425,26868,25443,14906,15038,22634,16581,14421,23724,15056,8940,25707,7500,26997,18393,24367,17256,22634,13724,24594,15862,9722,18746,23529,28389,16014,28249,20194,24882,34445,22123,22390,14188,20425,16005,15253,26487,25224,16185,14918],\"xaxis\":\"x\",\"y\":[61,29,29,43,80,102,18,263,45,37,74,59,29,18,57,14,32,66,80,96,24,16,75,88,101,21,119,434,50,24,62,96,58,29,36,103,64,54,28,38,43,47,80,839,102,26,75,57,103,29,69,46,106,43],\"yaxis\":\"y\",\"type\":\"scattergl\"}],                        {\"template\":{\"data\":{\"bar\":[{\"error_x\":{\"color\":\"#2a3f5f\"},\"error_y\":{\"color\":\"#2a3f5f\"},\"marker\":{\"line\":{\"color\":\"#E5ECF6\",\"width\":0.5},\"pattern\":{\"fillmode\":\"overlay\",\"size\":10,\"solidity\":0.2}},\"type\":\"bar\"}],\"barpolar\":[{\"marker\":{\"line\":{\"color\":\"#E5ECF6\",\"width\":0.5},\"pattern\":{\"fillmode\":\"overlay\",\"size\":10,\"solidity\":0.2}},\"type\":\"barpolar\"}],\"carpet\":[{\"aaxis\":{\"endlinecolor\":\"#2a3f5f\",\"gridcolor\":\"white\",\"linecolor\":\"white\",\"minorgridcolor\":\"white\",\"startlinecolor\":\"#2a3f5f\"},\"baxis\":{\"endlinecolor\":\"#2a3f5f\",\"gridcolor\":\"white\",\"linecolor\":\"white\",\"minorgridcolor\":\"white\",\"startlinecolor\":\"#2a3f5f\"},\"type\":\"carpet\"}],\"choropleth\":[{\"colorbar\":{\"outlinewidth\":0,\"ticks\":\"\"},\"type\":\"choropleth\"}],\"contour\":[{\"colorbar\":{\"outlinewidth\":0,\"ticks\":\"\"},\"colorscale\":[[0.0,\"#0d0887\"],[0.1111111111111111,\"#46039f\"],[0.2222222222222222,\"#7201a8\"],[0.3333333333333333,\"#9c179e\"],[0.4444444444444444,\"#bd3786\"],[0.5555555555555556,\"#d8576b\"],[0.6666666666666666,\"#ed7953\"],[0.7777777777777778,\"#fb9f3a\"],[0.8888888888888888,\"#fdca26\"],[1.0,\"#f0f921\"]],\"type\":\"contour\"}],\"contourcarpet\":[{\"colorbar\":{\"outlinewidth\":0,\"ticks\":\"\"},\"type\":\"contourcarpet\"}],\"heatmap\":[{\"colorbar\":{\"outlinewidth\":0,\"ticks\":\"\"},\"colorscale\":[[0.0,\"#0d0887\"],[0.1111111111111111,\"#46039f\"],[0.2222222222222222,\"#7201a8\"],[0.3333333333333333,\"#9c179e\"],[0.4444444444444444,\"#bd3786\"],[0.5555555555555556,\"#d8576b\"],[0.6666666666666666,\"#ed7953\"],[0.7777777777777778,\"#fb9f3a\"],[0.8888888888888888,\"#fdca26\"],[1.0,\"#f0f921\"]],\"type\":\"heatmap\"}],\"heatmapgl\":[{\"colorbar\":{\"outlinewidth\":0,\"ticks\":\"\"},\"colorscale\":[[0.0,\"#0d0887\"],[0.1111111111111111,\"#46039f\"],[0.2222222222222222,\"#7201a8\"],[0.3333333333333333,\"#9c179e\"],[0.4444444444444444,\"#bd3786\"],[0.5555555555555556,\"#d8576b\"],[0.6666666666666666,\"#ed7953\"],[0.7777777777777778,\"#fb9f3a\"],[0.8888888888888888,\"#fdca26\"],[1.0,\"#f0f921\"]],\"type\":\"heatmapgl\"}],\"histogram\":[{\"marker\":{\"pattern\":{\"fillmode\":\"overlay\",\"size\":10,\"solidity\":0.2}},\"type\":\"histogram\"}],\"histogram2d\":[{\"colorbar\":{\"outlinewidth\":0,\"ticks\":\"\"},\"colorscale\":[[0.0,\"#0d0887\"],[0.1111111111111111,\"#46039f\"],[0.2222222222222222,\"#7201a8\"],[0.3333333333333333,\"#9c179e\"],[0.4444444444444444,\"#bd3786\"],[0.5555555555555556,\"#d8576b\"],[0.6666666666666666,\"#ed7953\"],[0.7777777777777778,\"#fb9f3a\"],[0.8888888888888888,\"#fdca26\"],[1.0,\"#f0f921\"]],\"type\":\"histogram2d\"}],\"histogram2dcontour\":[{\"colorbar\":{\"outlinewidth\":0,\"ticks\":\"\"},\"colorscale\":[[0.0,\"#0d0887\"],[0.1111111111111111,\"#46039f\"],[0.2222222222222222,\"#7201a8\"],[0.3333333333333333,\"#9c179e\"],[0.4444444444444444,\"#bd3786\"],[0.5555555555555556,\"#d8576b\"],[0.6666666666666666,\"#ed7953\"],[0.7777777777777778,\"#fb9f3a\"],[0.8888888888888888,\"#fdca26\"],[1.0,\"#f0f921\"]],\"type\":\"histogram2dcontour\"}],\"mesh3d\":[{\"colorbar\":{\"outlinewidth\":0,\"ticks\":\"\"},\"type\":\"mesh3d\"}],\"parcoords\":[{\"line\":{\"colorbar\":{\"outlinewidth\":0,\"ticks\":\"\"}},\"type\":\"parcoords\"}],\"pie\":[{\"automargin\":true,\"type\":\"pie\"}],\"scatter\":[{\"marker\":{\"colorbar\":{\"outlinewidth\":0,\"ticks\":\"\"}},\"type\":\"scatter\"}],\"scatter3d\":[{\"line\":{\"colorbar\":{\"outlinewidth\":0,\"ticks\":\"\"}},\"marker\":{\"colorbar\":{\"outlinewidth\":0,\"ticks\":\"\"}},\"type\":\"scatter3d\"}],\"scattercarpet\":[{\"marker\":{\"colorbar\":{\"outlinewidth\":0,\"ticks\":\"\"}},\"type\":\"scattercarpet\"}],\"scattergeo\":[{\"marker\":{\"colorbar\":{\"outlinewidth\":0,\"ticks\":\"\"}},\"type\":\"scattergeo\"}],\"scattergl\":[{\"marker\":{\"colorbar\":{\"outlinewidth\":0,\"ticks\":\"\"}},\"type\":\"scattergl\"}],\"scattermapbox\":[{\"marker\":{\"colorbar\":{\"outlinewidth\":0,\"ticks\":\"\"}},\"type\":\"scattermapbox\"}],\"scatterpolar\":[{\"marker\":{\"colorbar\":{\"outlinewidth\":0,\"ticks\":\"\"}},\"type\":\"scatterpolar\"}],\"scatterpolargl\":[{\"marker\":{\"colorbar\":{\"outlinewidth\":0,\"ticks\":\"\"}},\"type\":\"scatterpolargl\"}],\"scatterternary\":[{\"marker\":{\"colorbar\":{\"outlinewidth\":0,\"ticks\":\"\"}},\"type\":\"scatterternary\"}],\"surface\":[{\"colorbar\":{\"outlinewidth\":0,\"ticks\":\"\"},\"colorscale\":[[0.0,\"#0d0887\"],[0.1111111111111111,\"#46039f\"],[0.2222222222222222,\"#7201a8\"],[0.3333333333333333,\"#9c179e\"],[0.4444444444444444,\"#bd3786\"],[0.5555555555555556,\"#d8576b\"],[0.6666666666666666,\"#ed7953\"],[0.7777777777777778,\"#fb9f3a\"],[0.8888888888888888,\"#fdca26\"],[1.0,\"#f0f921\"]],\"type\":\"surface\"}],\"table\":[{\"cells\":{\"fill\":{\"color\":\"#EBF0F8\"},\"line\":{\"color\":\"white\"}},\"header\":{\"fill\":{\"color\":\"#C8D4E3\"},\"line\":{\"color\":\"white\"}},\"type\":\"table\"}]},\"layout\":{\"annotationdefaults\":{\"arrowcolor\":\"#2a3f5f\",\"arrowhead\":0,\"arrowwidth\":1},\"autotypenumbers\":\"strict\",\"coloraxis\":{\"colorbar\":{\"outlinewidth\":0,\"ticks\":\"\"}},\"colorscale\":{\"diverging\":[[0,\"#8e0152\"],[0.1,\"#c51b7d\"],[0.2,\"#de77ae\"],[0.3,\"#f1b6da\"],[0.4,\"#fde0ef\"],[0.5,\"#f7f7f7\"],[0.6,\"#e6f5d0\"],[0.7,\"#b8e186\"],[0.8,\"#7fbc41\"],[0.9,\"#4d9221\"],[1,\"#276419\"]],\"sequential\":[[0.0,\"#0d0887\"],[0.1111111111111111,\"#46039f\"],[0.2222222222222222,\"#7201a8\"],[0.3333333333333333,\"#9c179e\"],[0.4444444444444444,\"#bd3786\"],[0.5555555555555556,\"#d8576b\"],[0.6666666666666666,\"#ed7953\"],[0.7777777777777778,\"#fb9f3a\"],[0.8888888888888888,\"#fdca26\"],[1.0,\"#f0f921\"]],\"sequentialminus\":[[0.0,\"#0d0887\"],[0.1111111111111111,\"#46039f\"],[0.2222222222222222,\"#7201a8\"],[0.3333333333333333,\"#9c179e\"],[0.4444444444444444,\"#bd3786\"],[0.5555555555555556,\"#d8576b\"],[0.6666666666666666,\"#ed7953\"],[0.7777777777777778,\"#fb9f3a\"],[0.8888888888888888,\"#fdca26\"],[1.0,\"#f0f921\"]]},\"colorway\":[\"#636efa\",\"#EF553B\",\"#00cc96\",\"#ab63fa\",\"#FFA15A\",\"#19d3f3\",\"#FF6692\",\"#B6E880\",\"#FF97FF\",\"#FECB52\"],\"font\":{\"color\":\"#2a3f5f\"},\"geo\":{\"bgcolor\":\"white\",\"lakecolor\":\"white\",\"landcolor\":\"#E5ECF6\",\"showlakes\":true,\"showland\":true,\"subunitcolor\":\"white\"},\"hoverlabel\":{\"align\":\"left\"},\"hovermode\":\"closest\",\"mapbox\":{\"style\":\"light\"},\"paper_bgcolor\":\"white\",\"plot_bgcolor\":\"#E5ECF6\",\"polar\":{\"angularaxis\":{\"gridcolor\":\"white\",\"linecolor\":\"white\",\"ticks\":\"\"},\"bgcolor\":\"#E5ECF6\",\"radialaxis\":{\"gridcolor\":\"white\",\"linecolor\":\"white\",\"ticks\":\"\"}},\"scene\":{\"xaxis\":{\"backgroundcolor\":\"#E5ECF6\",\"gridcolor\":\"white\",\"gridwidth\":2,\"linecolor\":\"white\",\"showbackground\":true,\"ticks\":\"\",\"zerolinecolor\":\"white\"},\"yaxis\":{\"backgroundcolor\":\"#E5ECF6\",\"gridcolor\":\"white\",\"gridwidth\":2,\"linecolor\":\"white\",\"showbackground\":true,\"ticks\":\"\",\"zerolinecolor\":\"white\"},\"zaxis\":{\"backgroundcolor\":\"#E5ECF6\",\"gridcolor\":\"white\",\"gridwidth\":2,\"linecolor\":\"white\",\"showbackground\":true,\"ticks\":\"\",\"zerolinecolor\":\"white\"}},\"shapedefaults\":{\"line\":{\"color\":\"#2a3f5f\"}},\"ternary\":{\"aaxis\":{\"gridcolor\":\"white\",\"linecolor\":\"white\",\"ticks\":\"\"},\"baxis\":{\"gridcolor\":\"white\",\"linecolor\":\"white\",\"ticks\":\"\"},\"bgcolor\":\"#E5ECF6\",\"caxis\":{\"gridcolor\":\"white\",\"linecolor\":\"white\",\"ticks\":\"\"}},\"title\":{\"x\":0.05},\"xaxis\":{\"automargin\":true,\"gridcolor\":\"white\",\"linecolor\":\"white\",\"ticks\":\"\",\"title\":{\"standoff\":15},\"zerolinecolor\":\"white\",\"zerolinewidth\":2},\"yaxis\":{\"automargin\":true,\"gridcolor\":\"white\",\"linecolor\":\"white\",\"ticks\":\"\",\"title\":{\"standoff\":15},\"zerolinecolor\":\"white\",\"zerolinewidth\":2}}},\"xaxis\":{\"anchor\":\"y\",\"domain\":[0.0,1.0],\"title\":{\"text\":\"Income\"}},\"yaxis\":{\"anchor\":\"x\",\"domain\":[0.0,1.0],\"title\":{\"text\":\"TotalSpent\"}},\"legend\":{\"title\":{\"text\":\"Education\"},\"tracegroupgap\":0},\"title\":{\"text\":\"Relationship between Income and Total Spent Based on Education\"},\"height\":500},                        {\"responsive\": true}                    ).then(function(){\n",
              "                            \n",
              "var gd = document.getElementById('20b8d466-07aa-46e8-93bd-1d33edbe7af1');\n",
              "var x = new MutationObserver(function (mutations, observer) {{\n",
              "        var display = window.getComputedStyle(gd).display;\n",
              "        if (!display || display === 'none') {{\n",
              "            console.log([gd, 'removed!']);\n",
              "            Plotly.purge(gd);\n",
              "            observer.disconnect();\n",
              "        }}\n",
              "}});\n",
              "\n",
              "// Listen for the removal of the full notebook cells\n",
              "var notebookContainer = gd.closest('#notebook-container');\n",
              "if (notebookContainer) {{\n",
              "    x.observe(notebookContainer, {childList: true});\n",
              "}}\n",
              "\n",
              "// Listen for the clearing of the current output cell\n",
              "var outputEl = gd.closest('.output');\n",
              "if (outputEl) {{\n",
              "    x.observe(outputEl, {childList: true});\n",
              "}}\n",
              "\n",
              "                        })                };                            </script>        </div>\n",
              "</body>\n",
              "</html>"
            ]
          },
          "metadata": {}
        }
      ]
    },
    {
      "cell_type": "markdown",
      "source": [
        "Based on the scatter plot of relationship between income and total spent based on educational background, it appears that undergraduate customers have less income so that the total spent. Also, the higher the customer's educational background, the higher the income and total spent."
      ],
      "metadata": {
        "id": "KV-4tEMtCUfX"
      }
    },
    {
      "cell_type": "code",
      "source": [
        "fig = px.scatter(data_frame=df_cut,\n",
        "                 x = \"Income\",\n",
        "                 y= \"TotalSpent\",\n",
        "                 title = \"Relationship between Income and Total Spent Based on Total Children\",\n",
        "                 color = \"TotalChildren\",\n",
        "                 height=500)\n",
        "fig.show()"
      ],
      "metadata": {
        "colab": {
          "base_uri": "https://localhost:8080/",
          "height": 517
        },
        "id": "jpJNr9mAzr9a",
        "outputId": "9be1ee0f-228d-4510-d495-049cb5ddda82"
      },
      "execution_count": 45,
      "outputs": [
        {
          "output_type": "display_data",
          "data": {
            "text/html": [
              "<html>\n",
              "<head><meta charset=\"utf-8\" /></head>\n",
              "<body>\n",
              "    <div>            <script src=\"https://cdnjs.cloudflare.com/ajax/libs/mathjax/2.7.5/MathJax.js?config=TeX-AMS-MML_SVG\"></script><script type=\"text/javascript\">if (window.MathJax) {MathJax.Hub.Config({SVG: {font: \"STIX-Web\"}});}</script>                <script type=\"text/javascript\">window.PlotlyConfig = {MathJaxConfig: 'local'};</script>\n",
              "        <script src=\"https://cdn.plot.ly/plotly-2.8.3.min.js\"></script>                <div id=\"6032c7c9-eac0-4cf5-9b94-597e6c99847b\" class=\"plotly-graph-div\" style=\"height:500px; width:100%;\"></div>            <script type=\"text/javascript\">                                    window.PLOTLYENV=window.PLOTLYENV || {};                                    if (document.getElementById(\"6032c7c9-eac0-4cf5-9b94-597e6c99847b\")) {                    Plotly.newPlot(                        \"6032c7c9-eac0-4cf5-9b94-597e6c99847b\",                        [{\"hovertemplate\":\"Income=%{x}<br>TotalSpent=%{y}<br>TotalChildren=%{marker.color}<extra></extra>\",\"legendgroup\":\"\",\"marker\":{\"color\":[0,2,0,1,1,1,1,1,1,2,1,0,0,2,0,0,2,0,1,1,0,1,1,1,1,0,2,1,1,0,0,0,1,2,0,2,1,1,1,0,1,1,1,0,1,0,0,1,3,2,1,0,1,0,2,0,0,1,1,1,0,2,1,1,0,1,2,1,1,3,0,1,1,2,0,1,0,0,0,0,1,1,1,0,0,2,2,1,0,1,3,2,0,1,1,1,1,2,0,0,1,1,1,0,0,1,2,2,1,0,1,0,1,0,1,2,0,1,2,1,1,1,2,1,0,0,0,2,1,2,1,2,0,1,2,0,1,3,2,2,0,1,0,1,1,2,1,1,3,0,2,1,1,1,1,0,1,3,1,0,3,0,1,0,3,0,0,0,2,2,1,2,2,1,1,0,2,3,0,1,1,0,1,0,1,1,1,0,2,1,0,1,1,2,2,0,0,0,2,1,0,1,0,2,0,1,2,1,1,1,0,2,2,0,1,3,0,1,1,1,0,2,1,1,1,1,1,0,1,2,1,1,0,1,1,1,1,1,1,0,1,1,0,1,2,1,1,0,1,1,1,0,0,2,1,1,1,2,3,1,2,1,1,2,2,0,2,0,1,0,1,1,2,2,1,0,0,0,1,1,1,0,1,2,1,0,2,0,0,0,1,0,2,2,1,1,1,0,1,2,1,1,1,1,0,0,0,1,0,1,3,0,0,2,2,2,1,2,3,1,1,2,1,1,0,1,1,3,1,1,0,1,1,1,2,0,1,0,0,0,0,1,1,1,0,2,0,2,1,1,1,0,0,1,2,1,0,0,2,0,1,2,1,2,1,0,1,0,1,1,2,1,1,2,2,0,1,1,1,2,1,0,3,1,1,1,1,1,2,0,1,0,0,1,0,2,1,1,1,2,0,2,0,3,2,1,2,1,2,1,1,1,1,1,0,1,0,0,2,1,1,1,0,0,3,0,1,1,1,0,1,2,1,1,1,1,1,1,1,1,1,0,1,0,0,1,0,1,1,1,1,1,2,1,3,0,1,1,0,1,0,1,0,1,0,0,1,2,1,1,1,1,2,1,1,2,1,1,1,1,1,1,1,0,0,1,1,1,0,1,1,0,1,0,1,1,1,1,0,2,1,0,1,1,0,1,0,0,1,1,1,2,0,1,0,2,1,0,0,2,0,0,0,1,1,0,0,0,2,1,1,2,2,1,1,1,0,1,1,1,1,1,0,1,1,0,1,2,2,2,1,1,0,0,2,1,0,0,1,1,0,1,1,1,1,1,2,1,2,1,2,1,1,1,1,2,2,2,2,2,1,2,0,1,2,0,1,1,0,1,0,0,1,0,1,1,2,1,1,1,1,0,2,2,1,1,3,1,0,0,0,1,3,0,2,3,2,1,1,0,0,1,0,1,1,1,2,1,1,0,1,0,0,3,0,1,1,1,1,0,1,1,0,2,0,1,1,1,0,1,1,1,1,1,0,1,3,1,1,1,0,0,0,1,1,1,2,1,2,1,1,1,2,1,0,1,0,1,0,0,1,0,1,0,0,0,1,0,1,0,2,2,0,2,0,0,1,2,1,0,1,1,1,1,1,1,1,1,1,0,1,0,0,1,1,2,1,0,1,0,1,1,0,0,3,0,2,2,2,3,2,0,1,1,1,1,1,2,3,1,0,0,1,0,1,0,0,1,1,0,0,0,1,1,1,1,1,2,0,1,0,1,0,0,1,1,1,0,2,2,1,2,1,0,2,1,0,2,1,1,1,1,2,1,1,1,0,0,0,2,1,0,1,1,0,1,1,2,2,0,0,2,1,1,2,1,0,1,0,1,0,1,2,0,1,1,0,1,0,0,1,1,3,3,1,1,2,0,2,1,2,1,1,0,1,1,2,1,1,1,0,0,0,1,1,2,1,1,0,2,1,1,1,2,2,0,1,2,0,1,1,1,1,2,1,1,0,1,1,2,1,0,2,1,0,1,1,1,2,2,0,0,3,2,2,0,1,2,0,1,0,1,1,1,1,1,0,1,0,0,3,0,0,1,1,0,0,0,1,1,0,0,0,0,1,0,2,0,1,2,1,0,0,0,0,1,0,1,1,1,0,1,0,1,1,1,2,1,0,0,0,0,1,2,1,1,1,2,2,2,2,2,1,1,2,1,1,1,1,1,2,1,0,1,1,1,0,3,1,1,0,0,0,3,2,1,2,0,1,1,0,1,0,0,0,2,0,1,1,1,2,0,0,2,1,1,1,0,2,1,1,1,1,0,2,2,1,1,1,1,2,0,0,0,1,0,1,1,3,1,1,1,1,1,1,1,0,0,0,1,0,0,2,2,1,1,1,2,0,0,1,1,1,1,1,1,0,2,0,2,1,0,1,0,0,0,2,2,0,2,1,2,0,1,0,0,1,1,1,1,0,0,0,2,1,1,0,1,0,1,0,1,2,0,1,0,0,1,0,2,2,1,1,0,1,1,0,1,1,1,1,0,1,0,1,2,0,0,2,0,1,1,1,0,0,1,1,1,2,1,1,2,2,3,0,0,1,2,1,1,0,1,2,0,0,1,1,1,1,1,0,1,1,2,1,1,0,1,1,0,1,2,2,0,0,1,1,2,1,0,1,1,1,3,0,0,0,0,0,2,1,1,2,1,2,0,1,1,1,2,1,1,2,1,1,2,0,1,1,1,2,1,1,1,0,1,2,1,1,1,0,1,0,0,2,1,1,1,1,0,2,2,1,2,0,1,1,1,0,2,2,1,0,1,1,2,2,1,1,1,1,1,1,0,1,2,1,3,1,0,1,0,1,2,1,1,0,2,1,1,1,2,1,1,2,0,2,0,0,2,2,0,2,1,1,0,0,1,1,2,1,1,1,3,0,1,0,0,2,0,0,1,1,2,0,0,0,1,1,2,2,1,1,1,0,2,0,0,2,0,1,2,0,0,1,1,0,1,1,1,2,1,2,2,1,0,1,1,2,1,1,0,1,0,0,1,2,1,0,1,1,0,0,1,1,1,1,2,0,1,1,1,0,1,0,0,0,1,1,0,1,1,0,0,2,2,1,2,0,1,1,1,1,1,1,1,2,3,1,1,1,3,1,1,1,1,2,2,2,1,0,1,2,2,0,2,1,1,2,1,2,2,1,1,2,2,1,1,1,1,2,1,1,1,2,1,1,2,0,1,1,0,0,3,2,3,0,1,1,0,1,1,1,2,0,1,1,0,2,2,2,2,0,0,1,2,2,1,0,0,0,0,1,0,1,1,0,0,1,0,0,1,2,0,0,1,1,2,1,1,1,1,0,2,1,2,1,1,2,1,1,0,1,0,1,1,1,1,1,1,1,0,3,1,1,2,2,0,1,1,0,1,1,1,0,2,1,1,2,0,0,2,1,0,1,0,2,1,0,0,1,1,1,1,1,0,0,1,1,1,2,0,2,0,1,1,2,1,2,1,1,1,0,1,1,1,2,0,3,1,1,0,0,1,2,1,0,1,0,1,2,2,1,3,1,1,2,1,1,1,1,1,1,2,3,0,2,0,1,1,1,2,0,0,1,3,0,0,1,0,2,2,0,1,0,1,0,1,1,1,1,2,1,1,1,1,0,0,2,2,2,1,1,1,1,0,0,0,1,2,1,1,1,1,1,1,1,0,2,2,1,1,0,1,1,1,1,2,1,2,1,1,0,2,1,2,2,2,1,1,0,1,0,0,2,1,0,2,1,1,1,1,1,0,2,2,1,2,0,1,2,2,1,1,0,0,0,0,1,0,1,1,1,1,0,2,2,1,1,2,0,1,1,0,1,0,1,1,0,1,2,0,2,2,1,2,1,1,1,1,1,1,1,1,0,1,1,0,1,1,1,2,2,1,1,0,0,0,1,1,2,1,2,1,2,0,2,0,1,1,2,0,1,1,1,1,0,0,1,0,0,0,1,0,1,1,1,1,2,2,2,1,2,1,1,1,1,1,1,1,1,0,0,1,1,0,0,0,1,2,1,0,1,0,1,2,0,1,2,2,1,1,2,1,2,2,0,1,2,2,1,1,2,1,1,1,2,2,2,1,2,2,0,0,2,1,0,0,1,1,1,0,2,2,1,2,2,1,0,1,1,0,0,1,1,1,1,1,2,2,0,1,1,1,1,0,1,0,2,0,2,0,1,1,0,1,0,0,0,1,3,0,0,1,1,0,1,1,0,2,2,1,1,0,1,1,2,1,1,0,0,0,1,1,0,1,1,1,0,1,2,0,2,1,0,0,1,1,0,1,1,0,0,1,2,0,0,1,1,0,1,1,0,1,0,1,0,1,1,1,0,1,0,2,1,1,0,0,2,1,1,0,0,2,2,1,1,2,1,2,1,1,1,1,0,1,1,0,1,0,0,1,2,1,0,1,0,0,0,0,1,1,0,2,1,0,2,2,1,0,1,1,0,0,1,1,2,1,2,1,0,2,1,1,1,1,0,1,2,1,2,0,1,1,0,1,0,1,2,0,0,1,1,1,1,1,1,0,2,1,1,1,1,1,0,1,0,0,0,2,0,2,2,3,1,1,2,1,1,1,2,0,1,1,1,1,1,1,1,1,2,1,1,0,0,3,1,1,1,1,1,0,1,0,2,2,1,2,2,0,1,1,1,2,1,1,0,2,1,1,0,1,1,1,1,1,1,0,0,1,1,0,2,1,1,1,1,0,0,1,0,1,1,1,2,0,1,0,1,2,0,2,1,1,2,1,1,1,0,1,1,1,1,0,2,0,2,1,1,1,1,1,0,1,1,2,1,1,2,0,1,0,0,3,1,0,1,0,1,2,1,1,2,1,2,2,0,1,0,1,3,2,1,2,0,1,2,1,1,2,1,1,1,1,1,1,0,1,1,1,0,0,2,1,0,1,1,1,0,0,1,1,1,1,1,0,1,1,1,1,0,0,1,0,2,0,0,1,2,0,1,2,2,1,1,1,1,0,2,1,2,1,2,1,0,2,0,1,2,1,0,1,1,1,0,1,3,1,2,2,1,0,2,1,0,0,1,1,3,0,1,2],\"coloraxis\":\"coloraxis\",\"symbol\":\"circle\"},\"mode\":\"markers\",\"name\":\"\",\"showlegend\":false,\"x\":[58138,46344,71613,26646,58293,62513,55635,33454,30351,5648,51381,7500,63033,59354,17323,82800,41850,37760,76995,33812,37040,2447,58607,65324,40689,18589,53359,51381,38360,84618,10979,38620,40548,46610,68657,49389,67353,23718,42429,48948,80011,20559,21994,51381,7500,79941,7500,41728,51381,72550,65486,79143,35790,82582,66373,82384,70287,27938,51381,55954,75777,66653,61823,67680,70666,25721,32474,88194,69096,74854,66991,51381,65031,60631,28332,40246,75251,75825,26326,56046,29760,26304,23559,38620,81361,29440,36138,50388,79593,54178,51381,51381,51381,42394,23626,30096,47916,51813,78497,50150,47823,34554,85693,65846,87195,24594,49096,52413,38557,89058,77298,68126,57288,86037,43974,50785,90765,36550,30753,21918,56129,32557,19510,30992,101970,71488,79607,54348,51381,77376,62998,61331,73448,51381,41551,62981,9548,33762,35860,36921,92859,65104,86111,68352,41883,59809,23957,38547,35688,49605,59354,65747,46344,34176,61010,69372,49967,60199,55375,80317,30523,70356,23228,74165,43482,62551,52332,66951,26091,33456,28718,50447,53537,52074,80427,83837,38853,38285,78497,51650,16248,66835,30477,28249,25271,32303,61286,74068,45759,24882,66973,36640,38872,51148,31353,69661,80067,86718,46854,69142,75922,63693,102160,40637,18890,29604,48721,44794,64497,46097,77972,44377,46014,70951,41443,52195,83790,44551,69508,45204,72460,77622,30732,63887,42011,51369,51537,79930,34320,37070,81975,38590,15033,62745,22212,23661,79761,7500,60182,73455,64961,22804,73687,61074,31686,80134,75027,67546,65176,31160,29938,102692,26490,75702,30899,63342,45989,18701,40737,15287,69674,44159,37717,43776,38179,80124,38097,72940,22070,69267,31788,61905,29315,33378,66313,60714,77882,69867,63841,24480,51369,37760,65640,44319,30631,75278,50898,79946,35416,32414,38361,82497,16626,29672,55951,35388,42386,68627,57912,35246,58821,46377,39747,23976,80950,27038,77457,64100,42670,12571,22574,51381,70893,54198,28839,40321,66503,30833,51381,64795,34421,47025,64325,40464,62187,14849,27255,54432,29999,24072,33996,66334,35178,22010,62204,75693,30675,83003,83532,68655,41411,55212,59292,27190,82623,44300,84835,30372,33181,71113,71952,69759,72099,60000,38643,50737,68462,65073,46681,78618,62187,28442,37717,51479,54803,79530,31615,72025,52614,35684,48178,29548,63810,38578,46098,22585,30279,66426,30822,33581,19986,27421,35688,36143,10245,43795,63381,38823,83664,90300,62499,74293,51012,70777,68682,43824,15345,23442,14515,31395,75276,42373,30507,55521,48006,27213,65808,30351,50437,23616,53858,66465,46923,75072,75865,19789,80134,91065,49505,37401,30096,18492,82584,93027,48686,92910,75433,10404,61314,84865,42387,67309,75236,30015,50943,67272,51529,32011,7500,28691,56223,18100,30279,20130,23295,42618,81246,24027,55707,57959,56796,36230,70829,65991,38988,89572,42207,50300,66664,60597,70165,50520,80124,33183,66582,75261,31880,53790,49269,61456,37406,56937,38415,20518,62503,41644,55842,62010,41124,38961,37760,32233,43057,83151,78825,65104,60093,14045,28457,78952,46310,76005,58308,55614,59432,55563,78642,67911,65275,27203,48330,24279,64355,50943,53653,65665,81217,34935,61250,39665,60152,48920,89120,44124,81169,36443,26095,71367,80184,30630,73454,42691,70503,25545,32880,77863,50353,61839,49154,47682,72679,57954,65316,28567,47352,44931,76982,57247,22944,25315,43638,42710,84169,54058,24683,85620,47850,19514,27159,39548,21474,60504,22419,81698,43462,54880,79908,15315,87771,33039,81741,71499,62466,48799,52157,66565,29298,47691,38200,44989,38443,38593,64413,36959,61996,51287,13260,47472,54603,45207,40689,47821,27450,39453,26850,79800,61794,53863,24221,39684,92163,69882,33178,59973,17459,23910,42169,26224,31089,30081,62807,72906,61467,49618,21888,42429,26150,30801,81168,26877,45006,18978,22574,48240,45837,35791,54162,30522,54456,31632,72298,36975,72635,13624,84196,70971,34487,28769,69084,65488,62466,32218,83917,46102,84574,56181,63120,73691,63381,76140,62859,45906,77632,46463,105471,55282,78710,66886,98777,29103,67445,50616,49431,61278,26490,73059,46734,56253,19986,58330,25965,14661,18690,45068,21063,29187,54690,59304,59247,66731,77353,52614,26751,81300,70337,36145,65295,68118,68743,41039,38946,65777,66476,86857,77845,69476,50611,61209,42315,13084,47570,61923,34824,26518,45938,78468,78901,71427,71022,90247,41335,71952,35682,43185,66375,35178,25252,55250,33249,58398,50272,76618,87305,25851,58710,45160,74806,59111,18988,72190,7500,44794,80395,75012,56962,89891,35946,53593,66373,45072,89694,72025,67432,70545,17487,62882,64108,34941,48767,38702,82224,83844,17003,71163,33697,63564,83443,51518,58330,80952,75507,63855,62220,58512,40662,38829,35523,79146,78285,31626,75127,48726,74985,67430,46891,62058,72063,78939,42720,33622,6835,41452,40760,74250,51124,72258,71466,36283,20587,30467,31590,20425,17144,42564,43783,40780,62847,82017,16813,51267,46524,45183,70421,60161,73926,19329,61872,46984,34838,82716,48192,49681,56850,55267,59666,72504,26872,21359,73170,52750,91820,65968,30772,22507,65685,25804,76412,22063,57091,22419,87771,78353,93404,37859,80995,16529,55412,48789,56575,25130,35441,71391,49494,81702,45889,56628,34026,40049,34176,19419,82504,81205,61618,55284,49980,15072,49166,65324,82347,30843,46374,60474,38576,55357,37758,85710,23228,44602,7500,38683,49514,57906,43456,19485,53172,30545,70123,62450,21675,42395,61346,80812,42835,39922,86424,17117,24762,35797,36627,51111,86857,82072,46231,42243,51195,68092,31814,51390,76630,26868,48948,55260,64090,78331,37087,21846,81320,54137,66825,57100,58917,85072,86429,45684,47889,45921,78420,75114,52278,35641,95529,62820,73113,84169,42607,74637,46015,72354,39858,34469,83033,24401,77583,74116,74293,68397,79632,46107,64950,25443,75127,32892,71796,67536,55239,60554,64831,56067,82025,94384,14906,51563,57937,68274,39771,67893,27922,52190,44051,42767,46106,16927,59754,53700,59041,54237,70647,52597,41021,40233,50183,54753,92955,33471,34596,44010,84219,40706,15716,59052,80573,83715,82576,56962,35704,53103,46779,4861,33462,63693,80763,65352,82170,75759,79689,35340,85683,24884,42021,64449,64587,34824,75437,26091,52845,46086,78028,95169,56337,22434,36930,36130,65569,83844,19514,36736,77568,49187,30168,34053,38196,59412,70924,54165,32300,20180,34961,28440,64504,33564,17345,56320,28647,15038,32173,68316,74538,91700,68695,31056,79593,28071,37334,46423,37126,47703,61180,38998,8028,76081,34728,33168,33585,77037,35196,44529,70924,28764,69098,25959,27100,70596,42557,53312,72228,67605,62845,65196,42000,35860,65526,16860,83528,64176,22304,67023,32892,70713,59925,39722,46610,88347,87171,26907,50014,41014,66294,36715,79456,40479,75345,54233,24163,84460,43776,71691,85844,39190,71367,38578,57236,61825,79803,80910,27590,56775,83829,54210,38508,53187,30023,76045,50870,15315,65463,66480,76773,81698,54466,98777,16269,71819,33569,36262,22634,47025,70566,31605,52034,48526,46734,39552,86358,46931,16581,63998,67381,25930,42693,85606,72903,49669,36778,85696,10979,49678,56129,37155,21282,33419,63285,21255,42162,54450,57744,26576,57513,68142,7500,83145,54197,23091,46049,56715,79410,57304,44375,54450,59594,80685,40344,62710,48985,35322,77142,81657,14421,20130,74214,66726,23724,47353,33444,54386,28510,90638,48070,43140,54959,15056,26954,22327,44393,62000,31497,45894,78579,67369,58401,62307,43641,63841,46891,70091,78075,59184,54809,58113,51412,15287,66636,50965,84618,18351,40451,36317,42213,65748,77044,74918,56721,42160,61559,33629,68682,34377,8940,26228,77297,40211,33438,75032,61284,22518,54730,38452,44421,38197,41986,28427,37395,64722,55249,84906,28691,44213,25707,59062,76624,66000,27683,1730,7500,40521,20427,65106,69969,67433,77766,74716,68118,55158,62972,74190,39356,76653,35860,90687,73450,31454,47139,83829,53378,19656,45579,85485,55956,64191,38808,57183,23748,66303,37368,40800,71847,46149,78687,49118,37633,39767,26997,33986,57091,46831,83151,52531,15759,22804,43050,42997,48918,60033,34043,57811,78569,7500,94384,23148,44267,71626,60894,50200,81051,65169,59868,65695,64857,45143,74805,59060,27238,47009,46094,40321,37235,81843,46692,77382,37774,18393,72828,24711,45503,6560,71604,27244,48752,71434,90842,88097,51948,71853,35876,40049,39660,50127,43263,62845,18929,24367,33249,26887,50150,62061,85696,76542,70515,18227,69139,69109,69627,38136,62159,80695,33316,58554,17256,53034,52203,59601,75154,47025,37971,41335,67267,57338,50523,35791,50611,56242,48904,56243,21355,57420,51381,46390,54342,51381,51381,20895,92344,51381,26907,44964,75507,53761,22682,38887,41658,29791,63915,39996,26759,63841,51039,60544,65685,37716,36864,44511,36947,47352,67087,57045,36957,69389,80134,43142,80589,34412,57537,22634,51315,36026,24639,34578,65704,63810,54132,18690,28164,34596,43269,38741,31907,27100,31163,92533,34853,70844,31086,60544,20491,42523,39922,33402,36408,21645,78427,82657,51876,78041,52852,70038,69401,46053,77343,73892,40304,32727,68695,43300,26290,93790,38410,64866,57957,46015,16531,28072,49476,50725,83844,41145,67419,23162,34380,34704,94871,65148,39898,64857,59892,41020,57072,60474,62807,19414,19107,75484,70379,79419,64014,76998,49854,60585,42873,87679,57867,35765,65492,32952,53374,71706,68487,53253,31163,42014,54108,49667,63206,57136,46772,78931,53977,84219,46098,73538,79529,20981,51766,55759,33039,37787,27242,87188,69930,37697,37401,3502,58597,82032,28087,74004,19740,57036,53083,69283,46098,23331,23331,9255,67786,71969,59235,31928,74881,65819,51411,51983,42386,30390,30983,66033,37284,57530,76800,63943,76081,67445,37054,47175,31859,27215,70179,39922,49681,24645,79865,44322,47958,63972,75315,55517,75283,82800,38998,90638,27161,42014,38201,45203,81574,34935,60482,34633,78093,82460,45903,81361,35860,40442,61482,34968,75794,31497,74268,13724,45143,52569,48432,17144,36108,76445,36663,53843,90226,70638,44512,27116,54072,71855,51250,60432,65526,68655,12393,64509,33955,31353,55434,28359,57100,69139,52973,51717,18793,66664,50664,54414,54549,47111,41003,19444,36301,73059,42731,52854,22775,46681,59821,50002,69755,44078,30560,35924,64140,56386,24594,75774,39228,58494,58684,57136,56551,22448,82014,34213,25358,35544,36634,62670,50334,72066,50729,34916,64892,43602,33996,41473,63246,36732,69084,77766,37929,86610,80141,72635,69016,20193,27573,15862,49544,33228,70440,38232,22554,23536,49413,42231,78789,56534,58350,81217,49090,61787,18169,24336,18222,62335,42033,86580,41437,73705,61064,38452,18358,55012,9722,38175,58656,52117,64813,54222,83512,77520,41154,80398,18746,35196,60230,22108,44392,55424,17688,92491,90273,82571,38513,16653,42586,23529,74881,71107,46910,18690,37244,82427,75342,70044,79146,77437,54984,42403,55761,37292,45576,70321,58086,81795,28389,66835,69901,80360,63342,44989,31859,51569,30372,16014,41120,39763,38725,77981,62905,13533,59481,72117,21955,67131,36802,71853,28249,47808,25509,51012,70596,85431,42664,42586,29760,28973,39435,65370,20194,42473,64590,71232,34600,46904,49094,36075,60839,77298,34026,48918,82122,37697,34074,28520,62535,36273,63404,75774,78416,75702,59385,37070,44689,53977,7144,18701,90369,63159,37758,46757,79734,63207,72071,21840,58582,72282,50387,32583,62568,44635,33316,63967,52513,25293,54111,78394,80739,22669,29236,44911,54693,48186,54809,41580,80336,47743,62972,57333,32313,84953,27071,68148,65735,86836,4023,30093,57705,25008,83257,22280,72159,64260,82733,74290,58217,21024,70116,54006,69063,11448,61825,70886,69109,60208,32889,34738,30538,82326,26642,69932,44503,60200,49638,23830,33051,72905,69702,70300,70643,30396,50616,62772,30298,52413,44155,86979,76532,42081,67546,88420,31158,61671,69719,49160,24882,90933,113734,59292,45759,22148,73395,29819,45688,62820,60491,33235,35701,31535,92556,67384,80573,77870,52278,57107,18929,36038,20180,34230,31878,70932,91249,77598,80982,22701,55212,70617,64849,62694,61917,67472,21059,29543,75903,34984,54998,54356,34242,25410,73356,28320,23763,72570,34529,70792,63211,83891,36065,39898,51141,56939,80872,72335,61798,76842,29478,46998,96843,56551,70053,71670,44359,40887,48877,74485,64474,77226,72643,85738,55686,39062,34600,40794,54690,4428,32632,38236,36781,31385,24570,25509,94642,58646,53201,21994,57113,51373,23477,58116,72968,39791,91712,94472,13672,96547,79205,56559,32644,67506,24206,28420,22979,33279,46423,30368,63684,41638,68805,65814,71964,39146,96876,34445,68281,37284,36790,27943,22263,30261,28587,43815,48195,77027,71322,32765,29672,23272,49912,7500,68117,67225,17649,55914,40059,60905,75330,60689,38680,61416,49767,83273,29009,45057,37150,43020,53154,65308,76467,81044,32871,55801,76320,36927,48794,23478,71128,70179,59462,51381,38361,51381,70038,42554,67445,67046,42192,77610,31761,34350,54591,71866,25293,42000,69520,64713,27889,22123,51381,51381,27803,51381,51651,68487,51381,56796,87000,79823,30828,34109,53367,22390,71322,79244,49912,48699,80144,54252,81929,76068,53204,67911,14796,78128,14188,20425,58646,72967,48150,82332,58275,44953,34587,43018,45736,66476,27733,69805,72217,25818,37509,25176,43586,53230,50116,84906,61286,82333,65220,33590,30992,72309,16005,65487,58692,40590,20587,62637,29435,19346,35788,36997,23539,65333,78499,29732,41275,63516,42769,49572,69209,17148,40590,30560,32146,41713,34176,58482,59686,60896,62994,47320,74859,15253,31560,72071,91172,90000,41967,69263,65706,60934,71965,65210,79174,81380,48432,52914,38946,26067,44325,42523,26487,53233,67716,76234,84117,65487,25224,89616,40851,27469,82347,73803,8820,43322,55593,50501,37085,16185,57731,48432,73807,18929,35893,61014,32144,14918,45146,41769,88325,38054,80617,5305,36807,28427,82032,22775,40101,58025,75777,7500,33562,57642,58554,63777,57967,51381,24434,11012,44802,26816,34421,61223,64014,56981,69245,52869],\"xaxis\":\"x\",\"y\":[1617,27,776,53,422,716,590,169,46,49,19,61,1102,310,46,1315,96,317,1782,133,316,1730,972,544,444,75,257,637,131,1672,30,318,120,302,1196,65,913,81,67,902,1395,53,22,186,31,984,122,55,124,1319,507,1693,72,1617,606,1957,1093,29,46,518,1438,612,884,606,1076,34,11,1274,653,1562,1253,109,863,661,65,13,1890,2209,18,692,165,16,79,318,778,56,151,372,1366,194,603,18,985,32,43,45,606,63,978,410,72,55,1169,1120,1097,29,187,910,145,850,969,1820,608,730,551,114,1724,577,81,33,660,80,30,43,1135,559,1923,90,404,661,463,632,725,725,279,1482,29,106,49,38,2077,1053,1385,871,312,877,68,22,211,127,459,460,429,89,1021,1381,306,18,162,1231,13,1706,121,1293,88,421,259,1117,89,36,57,148,93,119,1835,1318,45,10,978,191,57,1033,66,43,50,39,608,1581,68,80,1282,65,91,315,31,834,1600,1270,263,535,1295,1150,1240,38,35,53,293,65,1804,241,1101,264,541,1198,482,17,1615,285,1135,114,1047,714,185,1245,189,576,1103,1753,17,433,1588,22,19,1117,69,23,605,57,22,2088,1009,26,1627,1102,17,1690,1390,2126,1531,64,26,1112,210,1148,33,1101,322,44,17,31,845,275,25,275,90,1495,184,981,67,1635,60,231,48,99,770,957,818,925,908,102,576,317,461,37,70,930,859,1478,390,52,137,1919,68,25,1374,32,100,825,916,62,728,90,273,66,1213,107,1157,546,241,53,37,1611,1508,235,32,102,401,28,1052,680,30,20,1307,630,1283,65,37,38,160,23,71,1161,59,33,946,1442,62,1674,1853,1538,139,1182,507,18,940,42,1190,44,16,835,1443,1029,1188,1277,49,99,1670,900,425,2153,636,57,25,494,693,1348,51,1932,990,30,254,29,1371,73,120,81,37,1377,51,17,22,324,211,19,41,492,1005,114,1173,1738,222,1127,209,787,1598,186,47,27,96,64,1040,163,343,446,41,70,272,46,490,79,915,1485,369,1073,1242,78,1378,1474,751,48,45,10,1435,2119,20,1795,1188,43,1008,1688,684,1082,1068,57,46,733,467,122,36,34,156,14,37,34,20,192,1379,48,428,868,1001,59,431,971,348,2059,265,270,1289,893,926,135,1495,120,1288,1743,15,542,890,1388,17,906,44,25,973,31,518,530,506,70,54,296,266,747,895,1053,735,20,205,2092,309,1722,900,682,663,43,1816,976,746,64,32,263,1445,46,1210,945,1157,137,730,216,943,347,1924,397,2089,138,42,777,1902,52,1651,358,1727,210,42,1291,442,1895,411,521,1168,493,260,46,319,96,1062,232,76,54,201,406,1919,662,41,1600,134,69,21,54,91,526,162,1008,240,795,1772,64,1957,78,1572,795,889,331,265,1065,11,21,17,369,38,177,279,62,1230,182,49,75,227,215,444,47,143,55,63,1867,611,473,55,81,2086,1478,49,382,69,67,30,63,79,42,819,1151,594,129,213,67,28,45,1193,268,266,37,37,882,373,35,42,326,404,95,939,33,981,36,1237,1825,103,191,1586,963,889,93,1587,16,1375,393,1477,1179,1005,1348,1307,486,2252,235,1724,235,1092,599,2008,48,1174,67,365,165,210,1095,223,597,22,1064,74,26,60,20,59,34,198,1048,574,1029,670,990,11,1241,576,172,664,928,2074,467,257,1146,689,2114,1346,1044,493,957,270,29,121,126,23,57,636,1004,734,614,1453,1621,187,1443,57,637,948,59,18,903,112,596,233,1511,1152,48,1185,21,965,869,16,1947,71,65,1380,1027,411,836,11,480,606,284,1472,1677,1335,334,18,1338,1099,97,63,109,902,1574,38,960,28,1215,1497,449,1064,1757,1440,1006,1226,1171,92,99,66,564,1427,86,833,242,1869,1364,183,450,758,1507,654,81,137,16,93,1158,43,1525,1230,29,25,24,38,57,47,813,629,377,1612,729,50,270,177,315,767,1071,1580,60,573,41,170,1167,1526,458,63,405,1027,1478,72,48,726,860,1497,495,20,570,769,55,1808,55,577,162,1957,1576,1616,36,1482,22,63,680,542,50,39,1043,385,1633,46,761,76,290,89,70,1066,2009,1345,764,195,53,368,544,1853,35,446,1180,41,727,40,1062,40,292,15,341,369,401,393,10,486,69,1727,995,45,182,989,1677,595,156,1226,128,86,68,16,55,2114,2018,263,55,564,1281,83,353,1003,14,902,1139,797,1638,401,84,928,203,858,409,282,1423,1449,28,67,199,1453,1253,1198,178,1990,976,1001,1919,350,1650,46,1228,95,62,1761,467,1149,2052,1127,1416,1113,125,966,32,833,46,960,1829,779,811,1120,725,1187,2302,66,1250,683,305,50,995,41,77,171,131,54,53,475,694,96,361,1079,578,64,149,231,728,1778,93,23,662,1198,81,92,491,1564,926,1910,411,94,1085,23,6,54,1150,1415,405,1908,2486,1315,45,1789,19,573,805,108,23,1493,89,936,343,528,1901,724,58,297,488,859,1574,69,17,2194,116,279,103,44,406,1363,236,39,137,79,63,1314,71,58,702,94,80,22,1211,1461,1968,1091,55,1366,313,62,92,72,655,704,54,178,1033,36,122,122,1123,497,691,1363,12,2440,56,37,968,270,278,1250,938,1178,1155,653,49,506,38,1650,1826,18,906,46,1477,766,47,467,2116,1298,22,396,20,967,357,1401,15,2087,981,17,523,23,1192,1958,133,777,73,121,424,868,756,12,937,1862,367,443,267,61,1323,63,64,562,312,1156,1104,16,2008,44,1574,63,426,96,635,757,125,332,135,330,384,1722,78,24,1168,957,15,57,1956,2013,326,77,1313,30,315,660,74,46,86,1103,61,145,684,411,27,1060,1459,18,1833,237,48,515,1020,1370,1026,301,684,499,1004,218,606,75,106,990,1097,16,34,1711,438,75,225,18,470,91,2525,504,235,1232,88,17,24,60,1020,155,51,1812,1461,96,160,139,908,183,1161,988,1072,174,758,195,31,1084,685,1672,43,49,133,363,545,1065,2047,296,140,530,152,1598,114,101,25,789,87,90,1215,811,61,405,72,189,40,63,52,39,805,130,1631,34,152,21,71,899,711,351,8,119,21,10,973,1536,992,1529,860,928,418,587,641,23,2279,49,1779,1804,48,83,1862,793,84,183,1383,999,825,246,610,76,1286,30,99,1192,362,2130,1229,38,485,434,44,496,78,2346,794,17,26,76,15,62,198,49,802,1736,57,2302,37,310,1305,832,401,1501,1189,1194,656,1540,311,820,274,57,448,44,102,61,1643,397,1121,473,50,1678,58,170,373,1196,101,316,1400,1424,844,311,1149,129,32,299,320,441,1178,85,24,112,30,410,800,1313,1483,1258,28,227,1555,861,103,634,1918,131,586,62,447,939,797,1143,415,30,187,251,237,91,35,493,971,371,396,68,322,317,222,177,45,21,45,1899,42,22,41,1440,325,95,42,72,20,789,15,59,908,417,289,769,188,354,727,146,319,794,454,152,797,1690,20,1428,209,545,96,222,61,44,8,817,1371,42,60,78,23,19,61,449,37,38,1131,34,294,48,289,30,125,156,70,22,65,1930,2283,310,1319,879,1244,690,209,1134,1507,57,529,1091,180,77,2349,534,556,637,46,44,47,795,586,1574,13,1471,65,175,40,1078,1115,134,1540,87,217,1034,1180,819,32,46,1159,860,1631,444,1910,380,736,269,2524,612,75,1045,55,1064,1443,1366,436,38,436,747,1396,928,642,1048,943,907,1198,120,1658,1638,73,275,854,78,106,106,1923,1662,84,48,5,733,1234,112,1658,55,1513,271,904,120,103,269,22,1156,1086,1128,72,964,1383,18,793,100,80,167,677,23,92,641,1106,1033,1174,25,240,20,102,1034,156,458,17,792,92,407,1269,841,633,1019,1315,54,2525,52,436,268,147,1798,137,507,15,1105,974,66,778,49,169,299,221,1682,155,892,58,311,95,424,47,339,1410,35,562,2352,1334,32,41,39,1141,710,401,506,1538,57,1722,270,31,882,16,311,227,1152,122,77,1289,561,211,233,1092,601,54,78,1095,244,116,15,425,734,638,894,41,31,34,1750,612,29,823,20,396,813,1179,138,55,1511,117,32,67,335,825,694,1792,496,231,902,68,71,76,772,47,1586,1529,265,1603,2091,981,1533,82,244,36,404,71,1572,122,41,10,304,37,1754,815,1001,1157,688,1319,21,31,67,708,25,746,32,1695,1080,72,57,660,103,153,1220,279,745,264,2157,1526,69,1597,64,497,1067,31,211,877,11,2034,1991,1686,324,69,252,54,964,1327,68,60,55,1456,563,1504,564,1125,358,42,184,460,145,1376,792,1382,28,1033,882,2231,1101,369,48,467,44,38,81,167,45,664,622,48,461,1073,55,976,20,1149,43,224,101,209,968,1165,24,252,165,269,102,461,47,144,1338,917,318,253,502,119,1250,969,76,62,1382,84,255,43,398,76,902,823,1179,1921,185,433,34,907,416,44,1588,1797,40,1143,914,1502,1338,27,763,1331,525,9,953,68,131,882,1149,37,388,1428,1633,173,99,215,929,219,174,92,1052,275,587,1662,159,1024,35,1042,395,557,9,69,486,34,1365,13,1401,1574,1323,1217,103,84,1536,581,928,14,424,960,1555,656,55,20,367,2257,42,1049,48,685,39,43,835,1515,1039,1596,1828,34,149,946,28,450,46,1702,820,382,2126,2069,72,732,801,236,80,1685,277,507,68,49,397,39,306,976,1028,70,46,51,1263,1490,1564,1815,1198,416,85,47,137,21,70,909,1676,1735,1191,24,1182,1280,1336,749,91,414,44,63,901,38,455,775,15,38,1512,43,42,1089,162,1272,1173,816,74,134,157,561,1336,2092,463,1130,20,377,1544,138,1012,1766,45,161,144,1734,823,1138,1429,1371,982,44,318,434,198,359,576,88,63,27,193,101,2211,140,415,22,263,393,147,443,1958,174,2217,1691,25,809,895,484,413,331,25,13,115,16,92,52,1464,441,283,747,1870,165,1941,839,1655,23,66,37,21,22,78,79,265,1175,1305,46,25,46,874,100,930,868,45,1260,414,392,1109,639,79,1665,692,1392,44,50,467,223,158,1211,1575,1208,43,527,932,71,54,129,1615,1034,1088,721,137,47,1244,41,1174,993,100,1680,98,48,519,715,37,653,1455,602,26,102,97,207,176,450,433,1366,1564,1001,961,1518,56,22,400,26,350,1216,874,40,1367,264,2053,1376,45,976,51,1264,75,57,140,497,266,2006,615,1021,22,133,437,1013,57,1038,1573,28,123,13,132,732,66,1631,608,1822,1282,8,43,1931,103,1169,395,258,25,185,180,22,44,94,81,798,1334,38,61,300,88,54,1782,68,258,31,66,174,28,731,274,1701,312,414,1565,29,94,1338,1092,1479,54,568,1199,873,1213,731,2043,1893,424,575,257,56,542,125,69,40,1016,907,1566,1169,46,1644,59,17,1853,1528,35,141,546,500,61,106,704,424,849,85,199,1147,54,43,53,521,1623,45,1435,32,16,52,1234,15,415,470,1438,53,51,679,586,653,468,1679,50,84,1049,22,30,1341,444,1241,843,172],\"yaxis\":\"y\",\"type\":\"scattergl\"}],                        {\"template\":{\"data\":{\"bar\":[{\"error_x\":{\"color\":\"#2a3f5f\"},\"error_y\":{\"color\":\"#2a3f5f\"},\"marker\":{\"line\":{\"color\":\"#E5ECF6\",\"width\":0.5},\"pattern\":{\"fillmode\":\"overlay\",\"size\":10,\"solidity\":0.2}},\"type\":\"bar\"}],\"barpolar\":[{\"marker\":{\"line\":{\"color\":\"#E5ECF6\",\"width\":0.5},\"pattern\":{\"fillmode\":\"overlay\",\"size\":10,\"solidity\":0.2}},\"type\":\"barpolar\"}],\"carpet\":[{\"aaxis\":{\"endlinecolor\":\"#2a3f5f\",\"gridcolor\":\"white\",\"linecolor\":\"white\",\"minorgridcolor\":\"white\",\"startlinecolor\":\"#2a3f5f\"},\"baxis\":{\"endlinecolor\":\"#2a3f5f\",\"gridcolor\":\"white\",\"linecolor\":\"white\",\"minorgridcolor\":\"white\",\"startlinecolor\":\"#2a3f5f\"},\"type\":\"carpet\"}],\"choropleth\":[{\"colorbar\":{\"outlinewidth\":0,\"ticks\":\"\"},\"type\":\"choropleth\"}],\"contour\":[{\"colorbar\":{\"outlinewidth\":0,\"ticks\":\"\"},\"colorscale\":[[0.0,\"#0d0887\"],[0.1111111111111111,\"#46039f\"],[0.2222222222222222,\"#7201a8\"],[0.3333333333333333,\"#9c179e\"],[0.4444444444444444,\"#bd3786\"],[0.5555555555555556,\"#d8576b\"],[0.6666666666666666,\"#ed7953\"],[0.7777777777777778,\"#fb9f3a\"],[0.8888888888888888,\"#fdca26\"],[1.0,\"#f0f921\"]],\"type\":\"contour\"}],\"contourcarpet\":[{\"colorbar\":{\"outlinewidth\":0,\"ticks\":\"\"},\"type\":\"contourcarpet\"}],\"heatmap\":[{\"colorbar\":{\"outlinewidth\":0,\"ticks\":\"\"},\"colorscale\":[[0.0,\"#0d0887\"],[0.1111111111111111,\"#46039f\"],[0.2222222222222222,\"#7201a8\"],[0.3333333333333333,\"#9c179e\"],[0.4444444444444444,\"#bd3786\"],[0.5555555555555556,\"#d8576b\"],[0.6666666666666666,\"#ed7953\"],[0.7777777777777778,\"#fb9f3a\"],[0.8888888888888888,\"#fdca26\"],[1.0,\"#f0f921\"]],\"type\":\"heatmap\"}],\"heatmapgl\":[{\"colorbar\":{\"outlinewidth\":0,\"ticks\":\"\"},\"colorscale\":[[0.0,\"#0d0887\"],[0.1111111111111111,\"#46039f\"],[0.2222222222222222,\"#7201a8\"],[0.3333333333333333,\"#9c179e\"],[0.4444444444444444,\"#bd3786\"],[0.5555555555555556,\"#d8576b\"],[0.6666666666666666,\"#ed7953\"],[0.7777777777777778,\"#fb9f3a\"],[0.8888888888888888,\"#fdca26\"],[1.0,\"#f0f921\"]],\"type\":\"heatmapgl\"}],\"histogram\":[{\"marker\":{\"pattern\":{\"fillmode\":\"overlay\",\"size\":10,\"solidity\":0.2}},\"type\":\"histogram\"}],\"histogram2d\":[{\"colorbar\":{\"outlinewidth\":0,\"ticks\":\"\"},\"colorscale\":[[0.0,\"#0d0887\"],[0.1111111111111111,\"#46039f\"],[0.2222222222222222,\"#7201a8\"],[0.3333333333333333,\"#9c179e\"],[0.4444444444444444,\"#bd3786\"],[0.5555555555555556,\"#d8576b\"],[0.6666666666666666,\"#ed7953\"],[0.7777777777777778,\"#fb9f3a\"],[0.8888888888888888,\"#fdca26\"],[1.0,\"#f0f921\"]],\"type\":\"histogram2d\"}],\"histogram2dcontour\":[{\"colorbar\":{\"outlinewidth\":0,\"ticks\":\"\"},\"colorscale\":[[0.0,\"#0d0887\"],[0.1111111111111111,\"#46039f\"],[0.2222222222222222,\"#7201a8\"],[0.3333333333333333,\"#9c179e\"],[0.4444444444444444,\"#bd3786\"],[0.5555555555555556,\"#d8576b\"],[0.6666666666666666,\"#ed7953\"],[0.7777777777777778,\"#fb9f3a\"],[0.8888888888888888,\"#fdca26\"],[1.0,\"#f0f921\"]],\"type\":\"histogram2dcontour\"}],\"mesh3d\":[{\"colorbar\":{\"outlinewidth\":0,\"ticks\":\"\"},\"type\":\"mesh3d\"}],\"parcoords\":[{\"line\":{\"colorbar\":{\"outlinewidth\":0,\"ticks\":\"\"}},\"type\":\"parcoords\"}],\"pie\":[{\"automargin\":true,\"type\":\"pie\"}],\"scatter\":[{\"marker\":{\"colorbar\":{\"outlinewidth\":0,\"ticks\":\"\"}},\"type\":\"scatter\"}],\"scatter3d\":[{\"line\":{\"colorbar\":{\"outlinewidth\":0,\"ticks\":\"\"}},\"marker\":{\"colorbar\":{\"outlinewidth\":0,\"ticks\":\"\"}},\"type\":\"scatter3d\"}],\"scattercarpet\":[{\"marker\":{\"colorbar\":{\"outlinewidth\":0,\"ticks\":\"\"}},\"type\":\"scattercarpet\"}],\"scattergeo\":[{\"marker\":{\"colorbar\":{\"outlinewidth\":0,\"ticks\":\"\"}},\"type\":\"scattergeo\"}],\"scattergl\":[{\"marker\":{\"colorbar\":{\"outlinewidth\":0,\"ticks\":\"\"}},\"type\":\"scattergl\"}],\"scattermapbox\":[{\"marker\":{\"colorbar\":{\"outlinewidth\":0,\"ticks\":\"\"}},\"type\":\"scattermapbox\"}],\"scatterpolar\":[{\"marker\":{\"colorbar\":{\"outlinewidth\":0,\"ticks\":\"\"}},\"type\":\"scatterpolar\"}],\"scatterpolargl\":[{\"marker\":{\"colorbar\":{\"outlinewidth\":0,\"ticks\":\"\"}},\"type\":\"scatterpolargl\"}],\"scatterternary\":[{\"marker\":{\"colorbar\":{\"outlinewidth\":0,\"ticks\":\"\"}},\"type\":\"scatterternary\"}],\"surface\":[{\"colorbar\":{\"outlinewidth\":0,\"ticks\":\"\"},\"colorscale\":[[0.0,\"#0d0887\"],[0.1111111111111111,\"#46039f\"],[0.2222222222222222,\"#7201a8\"],[0.3333333333333333,\"#9c179e\"],[0.4444444444444444,\"#bd3786\"],[0.5555555555555556,\"#d8576b\"],[0.6666666666666666,\"#ed7953\"],[0.7777777777777778,\"#fb9f3a\"],[0.8888888888888888,\"#fdca26\"],[1.0,\"#f0f921\"]],\"type\":\"surface\"}],\"table\":[{\"cells\":{\"fill\":{\"color\":\"#EBF0F8\"},\"line\":{\"color\":\"white\"}},\"header\":{\"fill\":{\"color\":\"#C8D4E3\"},\"line\":{\"color\":\"white\"}},\"type\":\"table\"}]},\"layout\":{\"annotationdefaults\":{\"arrowcolor\":\"#2a3f5f\",\"arrowhead\":0,\"arrowwidth\":1},\"autotypenumbers\":\"strict\",\"coloraxis\":{\"colorbar\":{\"outlinewidth\":0,\"ticks\":\"\"}},\"colorscale\":{\"diverging\":[[0,\"#8e0152\"],[0.1,\"#c51b7d\"],[0.2,\"#de77ae\"],[0.3,\"#f1b6da\"],[0.4,\"#fde0ef\"],[0.5,\"#f7f7f7\"],[0.6,\"#e6f5d0\"],[0.7,\"#b8e186\"],[0.8,\"#7fbc41\"],[0.9,\"#4d9221\"],[1,\"#276419\"]],\"sequential\":[[0.0,\"#0d0887\"],[0.1111111111111111,\"#46039f\"],[0.2222222222222222,\"#7201a8\"],[0.3333333333333333,\"#9c179e\"],[0.4444444444444444,\"#bd3786\"],[0.5555555555555556,\"#d8576b\"],[0.6666666666666666,\"#ed7953\"],[0.7777777777777778,\"#fb9f3a\"],[0.8888888888888888,\"#fdca26\"],[1.0,\"#f0f921\"]],\"sequentialminus\":[[0.0,\"#0d0887\"],[0.1111111111111111,\"#46039f\"],[0.2222222222222222,\"#7201a8\"],[0.3333333333333333,\"#9c179e\"],[0.4444444444444444,\"#bd3786\"],[0.5555555555555556,\"#d8576b\"],[0.6666666666666666,\"#ed7953\"],[0.7777777777777778,\"#fb9f3a\"],[0.8888888888888888,\"#fdca26\"],[1.0,\"#f0f921\"]]},\"colorway\":[\"#636efa\",\"#EF553B\",\"#00cc96\",\"#ab63fa\",\"#FFA15A\",\"#19d3f3\",\"#FF6692\",\"#B6E880\",\"#FF97FF\",\"#FECB52\"],\"font\":{\"color\":\"#2a3f5f\"},\"geo\":{\"bgcolor\":\"white\",\"lakecolor\":\"white\",\"landcolor\":\"#E5ECF6\",\"showlakes\":true,\"showland\":true,\"subunitcolor\":\"white\"},\"hoverlabel\":{\"align\":\"left\"},\"hovermode\":\"closest\",\"mapbox\":{\"style\":\"light\"},\"paper_bgcolor\":\"white\",\"plot_bgcolor\":\"#E5ECF6\",\"polar\":{\"angularaxis\":{\"gridcolor\":\"white\",\"linecolor\":\"white\",\"ticks\":\"\"},\"bgcolor\":\"#E5ECF6\",\"radialaxis\":{\"gridcolor\":\"white\",\"linecolor\":\"white\",\"ticks\":\"\"}},\"scene\":{\"xaxis\":{\"backgroundcolor\":\"#E5ECF6\",\"gridcolor\":\"white\",\"gridwidth\":2,\"linecolor\":\"white\",\"showbackground\":true,\"ticks\":\"\",\"zerolinecolor\":\"white\"},\"yaxis\":{\"backgroundcolor\":\"#E5ECF6\",\"gridcolor\":\"white\",\"gridwidth\":2,\"linecolor\":\"white\",\"showbackground\":true,\"ticks\":\"\",\"zerolinecolor\":\"white\"},\"zaxis\":{\"backgroundcolor\":\"#E5ECF6\",\"gridcolor\":\"white\",\"gridwidth\":2,\"linecolor\":\"white\",\"showbackground\":true,\"ticks\":\"\",\"zerolinecolor\":\"white\"}},\"shapedefaults\":{\"line\":{\"color\":\"#2a3f5f\"}},\"ternary\":{\"aaxis\":{\"gridcolor\":\"white\",\"linecolor\":\"white\",\"ticks\":\"\"},\"baxis\":{\"gridcolor\":\"white\",\"linecolor\":\"white\",\"ticks\":\"\"},\"bgcolor\":\"#E5ECF6\",\"caxis\":{\"gridcolor\":\"white\",\"linecolor\":\"white\",\"ticks\":\"\"}},\"title\":{\"x\":0.05},\"xaxis\":{\"automargin\":true,\"gridcolor\":\"white\",\"linecolor\":\"white\",\"ticks\":\"\",\"title\":{\"standoff\":15},\"zerolinecolor\":\"white\",\"zerolinewidth\":2},\"yaxis\":{\"automargin\":true,\"gridcolor\":\"white\",\"linecolor\":\"white\",\"ticks\":\"\",\"title\":{\"standoff\":15},\"zerolinecolor\":\"white\",\"zerolinewidth\":2}}},\"xaxis\":{\"anchor\":\"y\",\"domain\":[0.0,1.0],\"title\":{\"text\":\"Income\"}},\"yaxis\":{\"anchor\":\"x\",\"domain\":[0.0,1.0],\"title\":{\"text\":\"TotalSpent\"}},\"coloraxis\":{\"colorbar\":{\"title\":{\"text\":\"TotalChildren\"}},\"colorscale\":[[0.0,\"#0d0887\"],[0.1111111111111111,\"#46039f\"],[0.2222222222222222,\"#7201a8\"],[0.3333333333333333,\"#9c179e\"],[0.4444444444444444,\"#bd3786\"],[0.5555555555555556,\"#d8576b\"],[0.6666666666666666,\"#ed7953\"],[0.7777777777777778,\"#fb9f3a\"],[0.8888888888888888,\"#fdca26\"],[1.0,\"#f0f921\"]]},\"legend\":{\"tracegroupgap\":0},\"title\":{\"text\":\"Relationship between Income and Total Spent Based on Total Children\"},\"height\":500},                        {\"responsive\": true}                    ).then(function(){\n",
              "                            \n",
              "var gd = document.getElementById('6032c7c9-eac0-4cf5-9b94-597e6c99847b');\n",
              "var x = new MutationObserver(function (mutations, observer) {{\n",
              "        var display = window.getComputedStyle(gd).display;\n",
              "        if (!display || display === 'none') {{\n",
              "            console.log([gd, 'removed!']);\n",
              "            Plotly.purge(gd);\n",
              "            observer.disconnect();\n",
              "        }}\n",
              "}});\n",
              "\n",
              "// Listen for the removal of the full notebook cells\n",
              "var notebookContainer = gd.closest('#notebook-container');\n",
              "if (notebookContainer) {{\n",
              "    x.observe(notebookContainer, {childList: true});\n",
              "}}\n",
              "\n",
              "// Listen for the clearing of the current output cell\n",
              "var outputEl = gd.closest('.output');\n",
              "if (outputEl) {{\n",
              "    x.observe(outputEl, {childList: true});\n",
              "}}\n",
              "\n",
              "                        })                };                            </script>        </div>\n",
              "</body>\n",
              "</html>"
            ]
          },
          "metadata": {}
        }
      ]
    },
    {
      "cell_type": "markdown",
      "source": [
        "Based on the scatter plot of relationship between income and total spent based on total children, It appears that customers who do not have children have higher income and higher total spent than customers who have children. There also appears to be an inverse comparison between the number of children and income and total spent. The more children a customer has, the less income and total spent."
      ],
      "metadata": {
        "id": "EvaG14WVFNbI"
      }
    },
    {
      "cell_type": "markdown",
      "source": [
        "#Conclusion EDA"
      ],
      "metadata": {
        "id": "bdBgqcodYQsv"
      }
    },
    {
      "cell_type": "markdown",
      "source": [
        "Based on exploratory data analysis, we can conclude several conclusions\n",
        "- Customer income is the main indicator that determines the customer's total spending on a product.\n",
        "- The products that customers buy the most are wines and the least are fruits.\n",
        "- Customers prefer to buy products directly to the store, this may be because if we shop directly we can see firsthand the quality of the products we buy.\n",
        "- In terms of educational background, customers with graduate education and above tend to spend 7 times higher than those customers with undergraduate education level. The reason is because graduate customers and postgraduate customers earns above 2 times than undergraduate customers.\n",
        "- In term of total children the customers has, customers who do not have children have higher income and higher total spent than customers who have children. There also appears to be an inverse comparison between the number of children and income and total spent. The more children a customer has, the less income and total spent."
      ],
      "metadata": {
        "id": "NDbbMpeDYPQg"
      }
    },
    {
      "cell_type": "markdown",
      "source": [
        "#Customers Segmentation"
      ],
      "metadata": {
        "id": "5qD8-JWJfFCA"
      }
    },
    {
      "cell_type": "markdown",
      "source": [
        "K-Means clustering is an efficient machine learning algorithm to solve data clustering problems. It’s an unsupervised algorithm that’s quite suitable for solving customer segmentation problems.\n",
        "\n",
        "Unlike supervised learning algorithms, K-means clustering is an unsupervised machine learning algorithm. This algorithm is used when we have unlabelled data. Unlabelled data means input data without categories or groups provided. Our customer segmentation data is like this for this problem. \n",
        "\n",
        "The algorithm discovers groups (cluster) in the data, where the number of clusters is represented by the K value. The algorithm acts iteratively to assign each input data to one of K clusters, as per the features provided. All of this makes k-means quite suitable for the customer segmentation problem."
      ],
      "metadata": {
        "id": "7Ez1JT_wd3tP"
      }
    },
    {
      "cell_type": "markdown",
      "source": [
        "**K-means Model With 2 Variables**"
      ],
      "metadata": {
        "id": "xBtDKQ3ySkwK"
      }
    },
    {
      "cell_type": "markdown",
      "source": [
        "The k-means model that will be created uses 2 variables, that is variable Income and variable Total Spent."
      ],
      "metadata": {
        "id": "xqh7DhXIchFv"
      }
    },
    {
      "cell_type": "code",
      "source": [
        "data1 = df[[\"Income\", \"TotalSpent\"]]"
      ],
      "metadata": {
        "id": "CzU3-4941lgd"
      },
      "execution_count": 46,
      "outputs": []
    },
    {
      "cell_type": "code",
      "source": [
        "df_log = np.log(data1)"
      ],
      "metadata": {
        "id": "bz7HsTlA1tpF"
      },
      "execution_count": 47,
      "outputs": []
    },
    {
      "cell_type": "code",
      "source": [
        "from sklearn.preprocessing import StandardScaler\n",
        "from sklearn.cluster import KMeans\n",
        "\n",
        "std_scaler = StandardScaler()\n",
        "df_scaled = std_scaler.fit_transform(df_log)"
      ],
      "metadata": {
        "id": "rcbvPy3i1xJ3"
      },
      "execution_count": 48,
      "outputs": []
    },
    {
      "cell_type": "code",
      "source": [
        "errors = []\n",
        "for k in range(1, 11):\n",
        "    model = KMeans(n_clusters=k, random_state=42)\n",
        "    model.fit(df_scaled)\n",
        "    errors.append(model.inertia_)"
      ],
      "metadata": {
        "id": "KHvIHDdS1vAW"
      },
      "execution_count": 49,
      "outputs": []
    },
    {
      "cell_type": "markdown",
      "source": [
        "**The Elbow Method**"
      ],
      "metadata": {
        "id": "wVZLXBSfghMO"
      }
    },
    {
      "cell_type": "markdown",
      "source": [
        "The elbow method finds the value of the optimal number of clusters using the total within-cluster sum of square values. This represents how spread-apart the generated clusters are from one another. In this case, the K-means algorithm is evaluated for several values of k, and the within-cluster sum of square values is calculated for each value of k. After this, we plot the K versus the sum of square values. After analyzing this graph, the number of clusters is selected, so that adding a new cluster doesn’t change the values of the sum of square values significantly."
      ],
      "metadata": {
        "id": "rbpI5D8JgY5p"
      }
    },
    {
      "cell_type": "code",
      "source": [
        "plt.title('K-means Clustering')\n",
        "plt.xlabel('Numer of Clusters'); plt.ylabel('SSE')\n",
        "sns.pointplot(x=list(range(1, 11)), y=errors)\n",
        "plt.savefig(\"Elbow.png\")"
      ],
      "metadata": {
        "colab": {
          "base_uri": "https://localhost:8080/",
          "height": 295
        },
        "id": "EEYQOCFV15p_",
        "outputId": "2df0bbf8-6d30-4ee5-d1cc-83dbc732c0fe"
      },
      "execution_count": 50,
      "outputs": [
        {
          "output_type": "display_data",
          "data": {
            "text/plain": [
              "<Figure size 432x288 with 1 Axes>"
            ],
            "image/png": "[encoded data removed]"
          },
          "metadata": {
            "needs_background": "light"
          }
        }
      ]
    },
    {
      "cell_type": "code",
      "source": [
        "from kneed import KneeLocator\n",
        "kl = KneeLocator(x = range(1, 11),\n",
        "                 y = errors,\n",
        "                 curve=\"convex\",\n",
        "                 direction=\"decreasing\")\n",
        "print('The optimum number of clusters is: ' + str(kl.elbow))"
      ],
      "metadata": {
        "colab": {
          "base_uri": "https://localhost:8080/"
        },
        "id": "_twmjvmo1_OS",
        "outputId": "1e653772-4be3-4199-af6a-9c0c7104efa3"
      },
      "execution_count": 51,
      "outputs": [
        {
          "output_type": "stream",
          "name": "stdout",
          "text": [
            "The optimum number of clusters is: 3\n"
          ]
        }
      ]
    },
    {
      "cell_type": "markdown",
      "source": [
        "Based on that algorithm, we obtain that the optimal number of clusters is 3"
      ],
      "metadata": {
        "id": "sgGZVadi2WBU"
      }
    },
    {
      "cell_type": "code",
      "source": [
        "model = KMeans(n_clusters=3, random_state=42)\n",
        "model.fit(df_scaled)"
      ],
      "metadata": {
        "colab": {
          "base_uri": "https://localhost:8080/"
        },
        "id": "tTPLADOM2e74",
        "outputId": "a1b7e0f5-64c9-48b2-9079-62a24b558fed"
      },
      "execution_count": 52,
      "outputs": [
        {
          "output_type": "execute_result",
          "data": {
            "text/plain": [
              "KMeans(n_clusters=3, random_state=42)"
            ]
          },
          "metadata": {},
          "execution_count": 52
        }
      ]
    },
    {
      "cell_type": "code",
      "source": [
        "data1 = data1.assign(ClusterLabel= model.labels_)"
      ],
      "metadata": {
        "id": "0s9zSsg32mKC"
      },
      "execution_count": 53,
      "outputs": []
    },
    {
      "cell_type": "code",
      "source": [
        "data1.groupby(\"ClusterLabel\")[[\"Income\", \"TotalSpent\"]].median()"
      ],
      "metadata": {
        "colab": {
          "base_uri": "https://localhost:8080/",
          "height": 175
        },
        "id": "mGK3ERxK2pIv",
        "outputId": "31b93a2a-d527-441f-9842-9cc4f3155f54"
      },
      "execution_count": 54,
      "outputs": [
        {
          "output_type": "execute_result",
          "data": {
            "text/plain": [
              "               Income  TotalSpent\n",
              "ClusterLabel                     \n",
              "0             25261.5        43.0\n",
              "1             69084.0      1069.5\n",
              "2             42641.0       145.0"
            ],
            "text/html": [
              "\n",
              "  <div id=\"df-cb6ba6bc-ea81-445f-92e1-fdb694656a6b\">\n",
              "    <div class=\"colab-df-container\">\n",
              "      <div>\n",
              "<style scoped>\n",
              "    .dataframe tbody tr th:only-of-type {\n",
              "        vertical-align: middle;\n",
              "    }\n",
              "\n",
              "    .dataframe tbody tr th {\n",
              "        vertical-align: top;\n",
              "    }\n",
              "\n",
              "    .dataframe thead th {\n",
              "        text-align: right;\n",
              "    }\n",
              "</style>\n",
              "<table border=\"1\" class=\"dataframe\">\n",
              "  <thead>\n",
              "    <tr style=\"text-align: right;\">\n",
              "      <th></th>\n",
              "      <th>Income</th>\n",
              "      <th>TotalSpent</th>\n",
              "    </tr>\n",
              "    <tr>\n",
              "      <th>ClusterLabel</th>\n",
              "      <th></th>\n",
              "      <th></th>\n",
              "    </tr>\n",
              "  </thead>\n",
              "  <tbody>\n",
              "    <tr>\n",
              "      <th>0</th>\n",
              "      <td>25261.5</td>\n",
              "      <td>43.0</td>\n",
              "    </tr>\n",
              "    <tr>\n",
              "      <th>1</th>\n",
              "      <td>69084.0</td>\n",
              "      <td>1069.5</td>\n",
              "    </tr>\n",
              "    <tr>\n",
              "      <th>2</th>\n",
              "      <td>42641.0</td>\n",
              "      <td>145.0</td>\n",
              "    </tr>\n",
              "  </tbody>\n",
              "</table>\n",
              "</div>\n",
              "      <button class=\"colab-df-convert\" onclick=\"convertToInteractive('df-cb6ba6bc-ea81-445f-92e1-fdb694656a6b')\"\n",
              "              title=\"Convert this dataframe to an interactive table.\"\n",
              "              style=\"display:none;\">\n",
              "        \n",
              "  <svg xmlns=\"http://www.w3.org/2000/svg\" height=\"24px\"viewBox=\"0 0 24 24\"\n",
              "       width=\"24px\">\n",
              "    <path d=\"M0 0h24v24H0V0z\" fill=\"none\"/>\n",
              "    <path d=\"M18.56 5.44l.94 2.06.94-2.06 2.06-.94-2.06-.94-.94-2.06-.94 2.06-2.06.94zm-11 1L8.5 8.5l.94-2.06 2.06-.94-2.06-.94L8.5 2.5l-.94 2.06-2.06.94zm10 10l.94 2.06.94-2.06 2.06-.94-2.06-.94-.94-2.06-.94 2.06-2.06.94z\"/><path d=\"M17.41 7.96l-1.37-1.37c-.4-.4-.92-.59-1.43-.59-.52 0-1.04.2-1.43.59L10.3 9.45l-7.72 7.72c-.78.78-.78 2.05 0 2.83L4 21.41c.39.39.9.59 1.41.59.51 0 1.02-.2 1.41-.59l7.78-7.78 2.81-2.81c.8-.78.8-2.07 0-2.86zM5.41 20L4 18.59l7.72-7.72 1.47 1.35L5.41 20z\"/>\n",
              "  </svg>\n",
              "      </button>\n",
              "      \n",
              "  <style>\n",
              "    .colab-df-container {\n",
              "      display:flex;\n",
              "      flex-wrap:wrap;\n",
              "      gap: 12px;\n",
              "    }\n",
              "\n",
              "    .colab-df-convert {\n",
              "      background-color: #E8F0FE;\n",
              "      border: none;\n",
              "      border-radius: 50%;\n",
              "      cursor: pointer;\n",
              "      display: none;\n",
              "      fill: #1967D2;\n",
              "      height: 32px;\n",
              "      padding: 0 0 0 0;\n",
              "      width: 32px;\n",
              "    }\n",
              "\n",
              "    .colab-df-convert:hover {\n",
              "      background-color: #E2EBFA;\n",
              "      box-shadow: 0px 1px 2px rgba(60, 64, 67, 0.3), 0px 1px 3px 1px rgba(60, 64, 67, 0.15);\n",
              "      fill: #174EA6;\n",
              "    }\n",
              "\n",
              "    [theme=dark] .colab-df-convert {\n",
              "      background-color: #3B4455;\n",
              "      fill: #D2E3FC;\n",
              "    }\n",
              "\n",
              "    [theme=dark] .colab-df-convert:hover {\n",
              "      background-color: #434B5C;\n",
              "      box-shadow: 0px 1px 3px 1px rgba(0, 0, 0, 0.15);\n",
              "      filter: drop-shadow(0px 1px 2px rgba(0, 0, 0, 0.3));\n",
              "      fill: #FFFFFF;\n",
              "    }\n",
              "  </style>\n",
              "\n",
              "      <script>\n",
              "        const buttonEl =\n",
              "          document.querySelector('#df-cb6ba6bc-ea81-445f-92e1-fdb694656a6b button.colab-df-convert');\n",
              "        buttonEl.style.display =\n",
              "          google.colab.kernel.accessAllowed ? 'block' : 'none';\n",
              "\n",
              "        async function convertToInteractive(key) {\n",
              "          const element = document.querySelector('#df-cb6ba6bc-ea81-445f-92e1-fdb694656a6b');\n",
              "          const dataTable =\n",
              "            await google.colab.kernel.invokeFunction('convertToInteractive',\n",
              "                                                     [key], {});\n",
              "          if (!dataTable) return;\n",
              "\n",
              "          const docLinkHtml = 'Like what you see? Visit the ' +\n",
              "            '<a target=\"_blank\" href=https://colab.research.google.com/notebooks/data_table.ipynb>data table notebook</a>'\n",
              "            + ' to learn more about interactive tables.';\n",
              "          element.innerHTML = '';\n",
              "          dataTable['output_type'] = 'display_data';\n",
              "          await google.colab.output.renderOutput(dataTable, element);\n",
              "          const docLink = document.createElement('div');\n",
              "          docLink.innerHTML = docLinkHtml;\n",
              "          element.appendChild(docLink);\n",
              "        }\n",
              "      </script>\n",
              "    </div>\n",
              "  </div>\n",
              "  "
            ]
          },
          "metadata": {},
          "execution_count": 54
        }
      ]
    },
    {
      "cell_type": "code",
      "source": [
        "fig = px.scatter(data_frame=data1,\n",
        "                 x = \"Income\",\n",
        "                 y= \"TotalSpent\",\n",
        "                 title = \"Relationship between Income VS Total Spent\",\n",
        "                 color = \"ClusterLabel\",\n",
        "                 height=500)\n",
        "\n",
        "fig.show()"
      ],
      "metadata": {
        "colab": {
          "base_uri": "https://localhost:8080/",
          "height": 517
        },
        "id": "Exa_LxTs2w6q",
        "outputId": "0b9e9227-a494-4bf5-ab5b-5bad3a3765a7"
      },
      "execution_count": 55,
      "outputs": [
        {
          "output_type": "display_data",
          "data": {
            "text/html": [
              "<html>\n",
              "<head><meta charset=\"utf-8\" /></head>\n",
              "<body>\n",
              "    <div>            <script src=\"https://cdnjs.cloudflare.com/ajax/libs/mathjax/2.7.5/MathJax.js?config=TeX-AMS-MML_SVG\"></script><script type=\"text/javascript\">if (window.MathJax) {MathJax.Hub.Config({SVG: {font: \"STIX-Web\"}});}</script>                <script type=\"text/javascript\">window.PlotlyConfig = {MathJaxConfig: 'local'};</script>\n",
              "        <script src=\"https://cdn.plot.ly/plotly-2.8.3.min.js\"></script>                <div id=\"8ebcca57-5da2-46af-bf17-7e24f969fdba\" class=\"plotly-graph-div\" style=\"height:500px; width:100%;\"></div>            <script type=\"text/javascript\">                                    window.PLOTLYENV=window.PLOTLYENV || {};                                    if (document.getElementById(\"8ebcca57-5da2-46af-bf17-7e24f969fdba\")) {                    Plotly.newPlot(                        \"8ebcca57-5da2-46af-bf17-7e24f969fdba\",                        [{\"hovertemplate\":\"Income=%{x}<br>TotalSpent=%{y}<br>ClusterLabel=%{marker.color}<extra></extra>\",\"legendgroup\":\"\",\"marker\":{\"color\":[1,2,1,0,1,1,1,2,0,0,2,0,1,1,0,1,2,2,1,2,2,0,1,1,2,0,2,1,2,1,0,2,2,2,1,2,1,0,2,1,1,0,0,2,0,1,0,2,2,1,1,1,2,1,1,1,1,0,2,1,1,1,1,1,1,0,0,1,1,1,1,2,1,1,0,0,1,1,0,1,2,0,0,2,1,0,2,2,1,2,1,2,1,2,0,0,1,2,1,2,2,2,1,1,1,0,2,1,2,1,1,1,1,1,2,2,1,2,2,0,1,2,0,0,1,1,1,2,2,1,1,1,1,1,2,1,0,2,2,2,1,1,1,1,2,1,0,0,2,2,1,1,2,2,1,1,2,2,2,1,0,1,0,1,1,2,1,2,1,0,0,0,2,2,2,1,1,2,0,1,2,0,1,0,0,0,0,1,1,2,0,1,2,2,2,0,1,1,1,2,1,1,1,1,2,0,0,2,2,1,2,1,2,1,1,2,2,1,2,1,2,1,1,2,1,2,1,1,1,0,2,1,0,0,1,0,0,1,0,2,1,1,0,1,1,0,1,1,1,1,0,0,1,2,1,0,1,2,0,0,0,1,2,0,2,2,1,2,1,0,1,0,2,0,2,1,1,1,1,1,0,1,2,1,2,0,1,1,1,2,0,2,1,0,0,1,0,2,1,1,2,1,2,2,0,1,0,1,1,2,0,0,1,1,2,0,2,1,0,1,1,0,2,1,2,1,0,0,2,2,0,2,1,2,0,1,1,0,1,1,1,2,1,1,0,1,2,1,0,0,1,1,1,1,1,2,2,1,1,2,1,1,0,0,1,1,1,0,1,1,0,2,0,1,2,2,0,0,1,0,0,0,2,2,0,0,2,1,2,1,1,2,1,2,1,1,2,0,0,0,0,1,2,2,1,2,0,1,0,1,0,1,1,2,1,1,0,1,1,1,2,0,0,1,1,2,1,1,0,1,1,1,1,1,0,2,1,1,2,0,0,2,0,0,0,0,2,1,0,1,1,1,2,1,1,2,1,2,2,1,1,1,2,1,2,1,1,0,1,1,1,0,1,2,0,1,2,1,1,2,2,2,2,2,1,1,1,1,0,2,1,2,1,1,1,1,2,1,1,1,0,2,2,1,2,1,1,1,2,1,2,1,2,1,2,1,2,0,1,1,0,1,2,1,2,0,1,1,1,2,1,1,1,1,0,2,2,1,2,0,0,2,2,1,1,0,1,2,0,0,2,0,1,0,1,2,1,1,0,1,2,1,1,1,2,2,1,0,2,0,2,2,2,1,2,1,2,0,2,2,2,2,2,2,2,0,1,1,1,0,2,1,1,0,1,0,0,2,0,2,0,1,1,1,2,0,2,0,0,1,2,2,0,0,1,2,0,1,2,2,1,2,1,0,1,0,1,1,2,2,1,1,1,2,1,2,1,1,1,1,1,1,1,2,1,2,1,2,1,1,1,0,1,2,2,2,2,2,1,2,1,0,1,0,0,0,2,0,0,2,1,1,1,1,1,0,1,1,2,1,1,1,2,2,1,1,1,1,1,1,1,1,2,0,2,2,0,0,1,1,1,1,1,1,2,1,2,1,1,2,0,1,2,1,2,1,1,0,1,2,1,1,0,1,0,2,1,1,1,1,0,1,1,2,1,1,1,1,0,1,1,2,2,2,1,1,0,1,0,1,1,1,1,1,1,1,1,1,2,2,2,1,1,2,1,2,1,1,2,1,1,1,1,2,0,0,2,1,2,1,1,0,0,0,0,0,0,1,1,2,1,1,0,2,2,2,1,1,1,0,1,2,2,1,1,1,2,1,1,1,0,0,1,1,1,1,0,2,1,0,1,0,1,0,1,1,1,2,1,0,2,1,1,0,0,1,2,1,2,1,2,2,2,0,1,1,1,1,2,0,2,1,1,0,2,1,2,1,2,1,0,2,0,2,2,1,2,0,1,0,1,1,0,2,1,1,2,2,1,0,0,2,0,2,1,1,2,2,1,1,2,2,1,0,1,1,1,1,2,0,1,2,1,1,2,1,1,2,2,2,1,1,1,2,1,1,1,1,2,1,2,1,2,2,1,2,1,1,1,1,1,2,1,0,1,0,1,1,1,1,1,1,1,1,0,1,1,1,2,1,0,2,2,2,2,0,1,1,2,2,1,1,2,2,2,1,1,2,0,1,1,2,0,1,1,1,1,1,2,1,2,0,0,1,1,1,1,1,1,2,1,0,2,1,2,0,1,0,1,2,1,1,1,0,2,2,1,1,0,0,1,2,2,2,2,1,1,2,0,0,2,0,1,2,0,1,0,0,0,1,1,1,1,0,1,2,2,2,2,1,1,2,0,1,0,2,2,1,2,1,1,0,1,0,0,1,2,2,1,1,1,1,1,2,1,0,1,1,0,1,0,1,1,2,2,1,1,0,2,0,1,2,1,0,1,1,0,1,2,1,1,2,1,2,2,1,1,1,0,1,1,2,2,2,0,1,2,0,1,1,1,1,2,1,0,1,2,2,0,1,1,2,2,2,2,2,1,2,0,1,1,0,2,1,1,2,2,1,0,2,1,2,0,2,1,0,2,1,1,0,1,1,0,1,2,0,2,1,1,1,2,1,1,1,2,1,2,2,1,1,0,0,1,1,0,2,0,1,0,1,1,2,1,0,0,0,2,1,2,2,1,1,2,2,2,1,2,1,1,1,2,1,2,0,1,1,1,0,2,2,2,1,1,1,2,2,1,2,1,2,0,0,1,2,2,1,1,0,1,2,2,2,2,0,2,1,2,1,0,2,0,2,1,1,2,0,0,0,0,1,1,1,1,1,1,1,1,1,0,1,2,1,1,0,2,1,1,0,2,1,1,1,2,1,0,1,0,2,1,2,1,1,2,2,2,0,1,2,1,1,0,0,2,0,2,2,0,1,1,0,1,1,0,2,1,1,2,1,1,1,1,1,2,1,2,0,2,2,2,2,1,2,1,2,0,1,0,2,0,1,0,2,1,1,1,2,1,2,2,2,2,2,1,0,0,2,0,2,1,1,1,1,0,1,1,1,2,1,1,2,1,0,1,1,1,1,2,0,2,1,2,2,0,1,1,2,1,0,2,2,2,2,2,2,0,1,2,0,2,1,2,0,2,2,0,1,0,0,1,2,2,1,2,2,1,2,2,1,1,2,1,1,2,1,2,1,0,2,2,0,0,1,1,2,0,0,0,2,2,2,0,0,1,0,1,0,2,0,2,2,2,0,0,1,1,2,1,1,1,1,2,1,1,2,2,1,2,0,1,2,1,1,2,0,0,1,1,1,0,1,0,2,0,1,1,2,1,2,2,1,1,1,0,0,1,1,1,1,1,2,1,2,1,1,2,1,0,1,1,1,1,0,2,1,1,1,1,1,1,1,1,2,1,1,0,2,1,2,2,0,1,1,2,2,0,1,1,0,1,0,1,2,1,2,0,0,0,1,1,1,2,1,1,2,1,2,0,2,1,0,2,1,1,1,1,0,2,0,0,1,2,1,0,1,2,2,1,1,1,1,1,2,1,0,2,2,2,1,2,1,0,1,1,2,1,2,2,1,2,1,2,1,0,2,2,2,0,2,1,0,1,1,1,2,0,2,1,1,1,1,1,0,1,2,0,1,0,2,1,1,2,0,1,1,2,2,1,2,0,2,1,2,2,0,2,1,1,1,2,0,0,1,1,0,1,0,1,1,1,2,0,1,2,1,0,2,2,1,1,1,1,2,1,2,2,2,1,2,1,1,2,1,1,1,1,0,2,0,2,2,1,2,0,0,2,2,1,1,1,1,1,1,0,0,0,1,2,1,2,1,1,2,0,1,0,2,1,2,1,2,1,1,2,1,0,2,1,0,2,1,0,1,1,1,2,0,2,0,1,1,2,0,2,1,1,1,1,1,2,2,2,2,2,1,1,1,0,1,1,1,1,2,0,1,0,0,2,2,2,1,1,0,1,1,0,1,0,1,0,2,0,2,1,1,2,2,2,2,2,1,0,2,1,1,2,2,1,2,1,1,2,2,1,2,2,0,1,2,1,1,1,1,2,2,2,1,0,0,1,1,2,1,1,1,1,0,1,1,1,0,1,2,2,1,1,0,1,1,1,0,0,2,1,2,2,2,1,2,1,1,2,1,0,1,1,1,0,0,1,0,1,0,1,1,1,1,2,0,1,1,1,0,1,1,1,1,0,0,2,1,0,1,2,1,2,0,2,1,1,1,1,0,2,1,0,1,2,1,1,2,1,1,0,1,1,2,0,1,1,1,2,0,1,0,2,1,1,2,2,0,1,1,1,1,1,1,0,2,0,0,2,1,1,1,1,0,1,1,1,1,2,1,0,0,1,0,1,1,0,0,1,0,0,1,2,1,1,1,2,2,2,1,1,1,1,1,0,2,1,2,1,1,2,2,2,1,1,1,1,1,1,2,2,2,2,0,2,2,2,0,0,0,1,2,1,0,2,2,0,1,1,2,1,1,0,1,1,1,2,1,0,0,0,0,2,0,1,2,1,1,1,2,1,2,1,0,2,0,0,0,0,2,2,1,1,0,0,0,1,0,1,1,0,1,2,1,1,1,2,1,1,1,0,2,2,2,2,1,1,1,0,1,1,2,2,0,1,1,1,1,2,2,1,2,1,1,2,1,2,0,1,1,0,1,1,1,0,0,2,2,2,1,1,1,1,1,1,1,0,0,1,0,1,1,1,2,1,2,1,1,2,1,0,1,0,0,2,1,2,1,1,1,0,2,2,1,0,1,1,0,2,0,2,1,2,1,1,1,1,0,0,1,2,0,1,1,2,0,2,2,0,2,2,0,1,1,0,2,1,2,2,1,0,2,0,2,2,0,1,2,1,1,2,1,0,2,1,1,1,2,1,1,1,1,1,1,1,2,1,2,0,2,2,0,2,1,1,1,1,0,1,2,0,1,1,0,2,1,1,2,0,1,2,1,0,2,1,0,0,2,2,1,2,1,0,0,0,1,0,2,1,1,0,0,1,1,1,1,1,0,0,1,0,1,0,1,1,1,1,2],\"coloraxis\":\"coloraxis\",\"symbol\":\"circle\"},\"mode\":\"markers\",\"name\":\"\",\"showlegend\":false,\"x\":[58138,46344,71613,26646,58293,62513,55635,33454,30351,5648,51381,7500,63033,59354,17323,82800,41850,37760,76995,33812,37040,2447,58607,65324,40689,18589,53359,51381,38360,84618,10979,38620,40548,46610,68657,49389,67353,23718,42429,48948,80011,20559,21994,51381,7500,79941,7500,41728,51381,72550,65486,79143,35790,82582,66373,82384,70287,27938,51381,55954,75777,66653,61823,67680,70666,25721,32474,88194,69096,74854,66991,51381,65031,60631,28332,40246,75251,75825,26326,56046,29760,26304,23559,38620,81361,29440,36138,50388,79593,54178,51381,51381,51381,42394,23626,30096,47916,51813,78497,50150,47823,34554,85693,65846,87195,24594,49096,52413,38557,89058,77298,68126,57288,86037,43974,50785,90765,36550,30753,21918,56129,32557,19510,30992,101970,71488,79607,54348,51381,77376,62998,61331,73448,51381,41551,62981,9548,33762,35860,36921,92859,65104,86111,68352,41883,59809,23957,38547,35688,49605,59354,65747,46344,34176,61010,69372,49967,60199,55375,80317,30523,70356,23228,74165,157243,43482,62551,52332,66951,26091,33456,28718,50447,53537,52074,80427,83837,38853,38285,78497,51650,16248,66835,30477,28249,25271,32303,61286,74068,45759,24882,66973,36640,38872,51148,31353,69661,80067,86718,46854,69142,75922,63693,102160,40637,18890,29604,48721,44794,64497,46097,77972,44377,46014,70951,41443,52195,83790,44551,69508,45204,72460,77622,30732,63887,42011,51369,51537,79930,34320,37070,81975,38590,15033,62745,22212,23661,79761,7500,60182,73455,64961,22804,73687,61074,31686,80134,75027,67546,65176,31160,29938,102692,26490,75702,30899,63342,45989,18701,40737,15287,69674,44159,37717,43776,38179,80124,38097,72940,22070,69267,31788,61905,29315,33378,66313,60714,77882,69867,63841,24480,51369,37760,65640,44319,30631,75278,50898,79946,35416,32414,38361,82497,16626,29672,55951,35388,42386,68627,57912,35246,58821,46377,39747,23976,80950,27038,77457,64100,42670,12571,22574,51381,70893,54198,28839,40321,66503,30833,51381,64795,34421,47025,64325,40464,62187,14849,27255,54432,29999,24072,33996,66334,35178,22010,62204,75693,30675,83003,83532,68655,41411,55212,59292,27190,82623,44300,84835,30372,33181,71113,71952,69759,72099,60000,38643,50737,68462,65073,46681,78618,62187,28442,37717,51479,54803,79530,31615,72025,52614,35684,48178,29548,63810,38578,46098,22585,30279,66426,30822,33581,19986,27421,35688,36143,10245,43795,63381,38823,83664,90300,62499,74293,51012,70777,68682,43824,15345,23442,14515,31395,75276,42373,30507,55521,48006,27213,65808,30351,50437,23616,53858,66465,46923,75072,75865,19789,80134,91065,49505,37401,30096,18492,82584,93027,48686,92910,75433,10404,61314,84865,42387,67309,75236,30015,50943,67272,51529,32011,7500,28691,56223,18100,30279,20130,23295,42618,81246,24027,55707,57959,56796,36230,70829,65991,38988,89572,42207,50300,66664,60597,70165,50520,80124,33183,66582,75261,31880,53790,49269,61456,37406,56937,38415,20518,62503,41644,55842,62010,41124,38961,37760,32233,43057,83151,78825,65104,60093,14045,28457,78952,46310,76005,58308,55614,59432,55563,78642,67911,65275,27203,48330,24279,64355,50943,53653,65665,81217,34935,61250,39665,60152,48920,89120,44124,81169,36443,26095,71367,80184,30630,73454,42691,70503,25545,32880,77863,50353,61839,49154,47682,72679,57954,65316,28567,47352,44931,76982,57247,22944,25315,43638,42710,84169,54058,24683,85620,47850,19514,27159,39548,21474,60504,22419,81698,43462,54880,79908,15315,87771,33039,81741,71499,62466,48799,52157,66565,29298,47691,38200,44989,38443,38593,64413,36959,61996,51287,13260,47472,54603,45207,40689,47821,27450,39453,26850,79800,61794,53863,24221,39684,92163,69882,33178,59973,17459,23910,42169,26224,31089,30081,62807,72906,61467,49618,21888,42429,26150,30801,81168,26877,45006,18978,22574,48240,45837,35791,162397,54162,30522,54456,31632,72298,36975,72635,13624,84196,70971,34487,28769,69084,65488,62466,32218,83917,46102,84574,56181,63120,73691,63381,76140,62859,45906,77632,46463,105471,55282,78710,66886,98777,29103,67445,50616,49431,153924,61278,26490,73059,46734,56253,19986,58330,25965,14661,18690,45068,21063,29187,54690,59304,59247,66731,77353,52614,26751,81300,70337,36145,65295,68118,68743,41039,38946,65777,66476,86857,160803,77845,69476,50611,61209,42315,13084,47570,61923,34824,26518,45938,78468,78901,71427,71022,90247,41335,71952,35682,43185,66375,35178,25252,55250,33249,58398,50272,76618,87305,25851,58710,45160,74806,59111,18988,72190,7500,44794,80395,75012,56962,89891,35946,53593,66373,45072,89694,72025,67432,70545,17487,62882,64108,34941,48767,38702,82224,83844,17003,71163,33697,63564,83443,51518,58330,80952,75507,63855,62220,58512,40662,38829,35523,79146,78285,31626,75127,48726,74985,67430,46891,62058,72063,78939,42720,33622,6835,41452,40760,74250,51124,72258,71466,36283,20587,30467,31590,20425,17144,42564,43783,40780,62847,82017,16813,51267,46524,45183,70421,60161,73926,19329,61872,46984,34838,82716,48192,49681,56850,55267,59666,72504,26872,21359,73170,52750,91820,65968,30772,22507,65685,25804,76412,22063,57091,22419,87771,78353,93404,37859,80995,16529,55412,48789,56575,25130,35441,71391,49494,81702,45889,56628,34026,40049,34176,19419,82504,81205,61618,55284,49980,15072,49166,65324,82347,30843,46374,60474,38576,55357,37758,85710,23228,44602,7500,38683,49514,57906,43456,19485,53172,30545,70123,62450,21675,42395,61346,80812,42835,39922,86424,17117,24762,35797,36627,51111,86857,82072,46231,42243,51195,68092,31814,51390,76630,26868,48948,55260,64090,78331,37087,21846,81320,54137,66825,57100,58917,85072,86429,45684,47889,45921,78420,75114,52278,35641,95529,62820,73113,84169,42607,74637,46015,72354,39858,34469,83033,24401,77583,74116,74293,68397,79632,46107,64950,25443,75127,32892,71796,67536,55239,60554,64831,56067,82025,94384,14906,51563,57937,68274,39771,67893,27922,52190,44051,42767,46106,16927,59754,53700,59041,54237,70647,52597,41021,40233,50183,54753,92955,33471,34596,44010,84219,40706,15716,59052,80573,83715,82576,56962,35704,53103,46779,4861,33462,63693,80763,65352,82170,75759,79689,35340,85683,24884,42021,64449,64587,34824,75437,26091,52845,46086,78028,95169,56337,22434,36930,36130,65569,83844,19514,36736,77568,49187,30168,34053,38196,59412,70924,54165,32300,20180,34961,28440,64504,33564,17345,56320,28647,15038,32173,68316,74538,91700,68695,31056,79593,28071,37334,46423,37126,47703,61180,38998,8028,76081,34728,33168,33585,77037,35196,44529,70924,28764,69098,25959,27100,70596,42557,53312,72228,67605,62845,65196,42000,35860,65526,16860,83528,64176,22304,67023,32892,70713,59925,39722,46610,88347,87171,26907,50014,41014,66294,36715,79456,40479,75345,54233,24163,84460,43776,71691,85844,39190,71367,38578,57236,61825,79803,80910,27590,56775,83829,54210,38508,53187,30023,76045,50870,15315,65463,66480,76773,81698,54466,98777,16269,71819,33569,36262,22634,47025,70566,31605,52034,48526,46734,39552,86358,46931,16581,63998,67381,25930,42693,85606,72903,49669,36778,85696,10979,49678,56129,37155,21282,33419,63285,21255,42162,54450,57744,26576,57513,68142,7500,83145,54197,23091,46049,56715,79410,57304,44375,54450,59594,80685,40344,62710,48985,35322,77142,81657,14421,20130,74214,66726,23724,47353,33444,54386,28510,90638,48070,43140,54959,15056,26954,22327,44393,62000,31497,45894,78579,67369,58401,62307,43641,63841,46891,70091,78075,59184,54809,58113,51412,15287,66636,50965,84618,18351,40451,36317,42213,65748,77044,74918,56721,42160,61559,33629,68682,34377,8940,26228,77297,40211,33438,75032,61284,22518,54730,38452,44421,38197,41986,28427,37395,64722,55249,84906,28691,44213,25707,59062,76624,66000,27683,1730,7500,40521,20427,65106,69969,67433,77766,74716,68118,55158,62972,74190,39356,76653,35860,90687,73450,31454,47139,83829,53378,19656,45579,85485,55956,64191,38808,57183,23748,66303,37368,40800,71847,46149,78687,49118,37633,39767,26997,33986,57091,46831,83151,52531,15759,22804,43050,42997,48918,60033,34043,57811,78569,7500,157733,94384,23148,44267,71626,60894,50200,81051,65169,59868,65695,64857,45143,74805,59060,27238,47009,46094,40321,37235,81843,46692,77382,37774,18393,72828,24711,45503,6560,71604,27244,48752,71434,90842,88097,51948,71853,35876,40049,39660,50127,43263,62845,18929,24367,33249,26887,50150,62061,85696,76542,70515,18227,69139,69109,69627,38136,62159,80695,33316,58554,17256,53034,52203,59601,75154,47025,37971,41335,67267,57338,50523,35791,50611,56242,48904,56243,21355,57420,51381,46390,54342,51381,51381,20895,92344,51381,26907,44964,75507,53761,22682,38887,41658,29791,63915,39996,26759,63841,51039,60544,65685,37716,36864,44511,36947,47352,67087,57045,36957,69389,80134,43142,80589,34412,57537,22634,51315,36026,24639,34578,65704,63810,54132,18690,28164,34596,43269,38741,31907,27100,31163,92533,34853,70844,31086,60544,20491,42523,39922,33402,36408,21645,78427,82657,51876,78041,52852,70038,69401,46053,77343,73892,40304,32727,68695,43300,26290,93790,38410,64866,57957,46015,16531,28072,49476,50725,83844,41145,67419,23162,34380,34704,94871,65148,39898,64857,59892,41020,57072,60474,62807,19414,19107,75484,70379,79419,64014,76998,49854,60585,42873,87679,57867,35765,65492,32952,53374,71706,68487,53253,31163,42014,54108,49667,63206,57136,46772,78931,53977,84219,46098,73538,79529,20981,51766,55759,33039,37787,27242,87188,69930,37697,37401,3502,58597,82032,28087,74004,19740,57036,53083,69283,46098,23331,23331,9255,67786,71969,59235,31928,74881,65819,51411,51983,42386,30390,30983,66033,37284,57530,76800,63943,76081,67445,37054,47175,31859,27215,70179,39922,49681,24645,79865,44322,47958,63972,75315,55517,75283,82800,38998,90638,27161,42014,38201,45203,81574,34935,60482,34633,78093,82460,45903,81361,35860,40442,61482,34968,75794,31497,74268,13724,45143,52569,48432,17144,36108,76445,36663,53843,90226,70638,44512,27116,54072,71855,51250,60432,65526,68655,12393,64509,33955,31353,55434,28359,57100,69139,52973,51717,18793,66664,50664,54414,54549,47111,41003,19444,36301,73059,42731,52854,22775,46681,59821,50002,69755,44078,30560,35924,64140,56386,24594,75774,39228,58494,58684,57136,56551,22448,82014,34213,157146,25358,35544,36634,62670,50334,72066,50729,34916,64892,43602,33996,41473,63246,36732,69084,77766,37929,86610,80141,72635,69016,20193,27573,15862,49544,33228,70440,38232,22554,23536,49413,42231,78789,56534,58350,81217,49090,61787,18169,24336,18222,62335,42033,86580,41437,73705,61064,38452,18358,55012,9722,38175,58656,52117,64813,54222,83512,77520,41154,80398,18746,35196,60230,22108,44392,55424,17688,92491,90273,82571,38513,16653,42586,23529,74881,71107,46910,18690,37244,82427,75342,70044,79146,77437,54984,42403,55761,37292,45576,70321,58086,81795,28389,66835,69901,80360,63342,44989,31859,51569,30372,16014,41120,39763,38725,77981,62905,13533,59481,72117,21955,67131,36802,71853,28249,47808,25509,51012,70596,85431,42664,42586,29760,28973,39435,65370,20194,42473,64590,71232,34600,46904,49094,36075,60839,77298,34026,48918,82122,37697,34074,28520,62535,36273,63404,75774,78416,75702,59385,37070,44689,53977,7144,18701,90369,63159,37758,46757,79734,63207,72071,21840,58582,72282,50387,32583,62568,44635,33316,63967,52513,25293,54111,78394,80739,22669,29236,44911,54693,48186,54809,41580,80336,47743,62972,57333,32313,84953,27071,68148,65735,86836,4023,30093,57705,25008,83257,22280,72159,64260,82733,74290,58217,21024,70116,54006,69063,11448,61825,70886,69109,60208,32889,34738,30538,82326,26642,69932,44503,60200,49638,23830,33051,72905,69702,70300,70643,30396,50616,62772,30298,52413,44155,86979,76532,42081,67546,88420,31158,61671,69719,49160,24882,90933,113734,59292,45759,22148,73395,29819,45688,62820,60491,33235,35701,31535,92556,67384,80573,77870,52278,57107,18929,36038,20180,34230,31878,70932,91249,77598,80982,22701,55212,70617,64849,62694,61917,67472,21059,29543,75903,34984,54998,54356,34242,25410,73356,28320,23763,72570,34529,70792,63211,83891,36065,39898,51141,56939,80872,72335,61798,76842,29478,46998,96843,56551,70053,71670,44359,40887,48877,74485,64474,77226,72643,85738,55686,39062,34600,40794,54690,4428,32632,38236,36781,31385,24570,25509,94642,58646,53201,21994,57113,51373,23477,58116,72968,39791,91712,94472,13672,96547,79205,56559,32644,67506,24206,28420,22979,33279,46423,30368,63684,41638,68805,65814,71964,39146,96876,34445,68281,37284,36790,27943,22263,30261,28587,43815,48195,77027,71322,32765,29672,23272,49912,7500,68117,67225,17649,55914,40059,60905,75330,60689,38680,61416,49767,83273,29009,45057,37150,43020,53154,65308,76467,81044,32871,55801,76320,36927,48794,23478,71128,70179,59462,51381,38361,51381,70038,42554,67445,67046,42192,77610,31761,34350,54591,71866,25293,42000,69520,64713,27889,22123,51381,51381,27803,51381,51651,68487,51381,56796,87000,79823,30828,34109,53367,22390,71322,79244,49912,48699,80144,54252,81929,76068,53204,67911,14796,78128,14188,20425,58646,72967,48150,82332,58275,44953,34587,43018,45736,66476,27733,69805,72217,25818,37509,25176,43586,53230,50116,84906,61286,82333,65220,33590,30992,72309,156924,16005,65487,58692,40590,20587,62637,29435,19346,35788,36997,23539,65333,78499,29732,41275,63516,42769,49572,69209,17148,40590,30560,32146,41713,34176,58482,59686,60896,62994,47320,74859,15253,31560,72071,91172,90000,41967,69263,65706,60934,71965,65210,79174,81380,48432,52914,38946,26067,44325,42523,26487,53233,67716,76234,84117,65487,25224,89616,40851,27469,82347,73803,8820,43322,55593,50501,37085,16185,57731,48432,73807,18929,35893,61014,32144,14918,45146,41769,88325,38054,80617,5305,36807,28427,82032,22775,40101,58025,75777,7500,33562,57642,58554,63777,57967,51381,24434,11012,44802,26816,666666,34421,61223,64014,56981,69245,52869],\"xaxis\":\"x\",\"y\":[1617,27,776,53,422,716,590,169,46,49,19,61,1102,310,46,1315,96,317,1782,133,316,1730,972,544,444,75,257,637,131,1672,30,318,120,302,1196,65,913,81,67,902,1395,53,22,186,31,984,122,55,124,1319,507,1693,72,1617,606,1957,1093,29,46,518,1438,612,884,606,1076,34,11,1274,653,1562,1253,109,863,661,65,13,1890,2209,18,692,165,16,79,318,778,56,151,372,1366,194,603,18,985,32,43,45,606,63,978,410,72,55,1169,1120,1097,29,187,910,145,850,969,1820,608,730,551,114,1724,577,81,33,660,80,30,43,1135,559,1923,90,404,661,463,632,725,725,279,1482,29,106,49,38,2077,1053,1385,871,312,877,68,22,211,127,459,460,429,89,1021,1381,306,18,162,1231,13,1706,121,1293,1608,88,421,259,1117,89,36,57,148,93,119,1835,1318,45,10,978,191,57,1033,66,43,50,39,608,1581,68,80,1282,65,91,315,31,834,1600,1270,263,535,1295,1150,1240,38,35,53,293,65,1804,241,1101,264,541,1198,482,17,1615,285,1135,114,1047,714,185,1245,189,576,1103,1753,17,433,1588,22,19,1117,69,23,605,57,22,2088,1009,26,1627,1102,17,1690,1390,2126,1531,64,26,1112,210,1148,33,1101,322,44,17,31,845,275,25,275,90,1495,184,981,67,1635,60,231,48,99,770,957,818,925,908,102,576,317,461,37,70,930,859,1478,390,52,137,1919,68,25,1374,32,100,825,916,62,728,90,273,66,1213,107,1157,546,241,53,37,1611,1508,235,32,102,401,28,1052,680,30,20,1307,630,1283,65,37,38,160,23,71,1161,59,33,946,1442,62,1674,1853,1538,139,1182,507,18,940,42,1190,44,16,835,1443,1029,1188,1277,49,99,1670,900,425,2153,636,57,25,494,693,1348,51,1932,990,30,254,29,1371,73,120,81,37,1377,51,17,22,324,211,19,41,492,1005,114,1173,1738,222,1127,209,787,1598,186,47,27,96,64,1040,163,343,446,41,70,272,46,490,79,915,1485,369,1073,1242,78,1378,1474,751,48,45,10,1435,2119,20,1795,1188,43,1008,1688,684,1082,1068,57,46,733,467,122,36,34,156,14,37,34,20,192,1379,48,428,868,1001,59,431,971,348,2059,265,270,1289,893,926,135,1495,120,1288,1743,15,542,890,1388,17,906,44,25,973,31,518,530,506,70,54,296,266,747,895,1053,735,20,205,2092,309,1722,900,682,663,43,1816,976,746,64,32,263,1445,46,1210,945,1157,137,730,216,943,347,1924,397,2089,138,42,777,1902,52,1651,358,1727,210,42,1291,442,1895,411,521,1168,493,260,46,319,96,1062,232,76,54,201,406,1919,662,41,1600,134,69,21,54,91,526,162,1008,240,795,1772,64,1957,78,1572,795,889,331,265,1065,11,21,17,369,38,177,279,62,1230,182,49,75,227,215,444,47,143,55,63,1867,611,473,55,81,2086,1478,49,382,69,67,30,63,79,42,819,1151,594,129,213,67,28,45,1193,268,266,37,37,882,373,35,107,42,326,404,95,939,33,981,36,1237,1825,103,191,1586,963,889,93,1587,16,1375,393,1477,1179,1005,1348,1307,486,2252,235,1724,235,1092,599,2008,48,1174,67,365,6,165,210,1095,223,597,22,1064,74,26,60,20,59,34,198,1048,574,1029,670,990,11,1241,576,172,664,928,2074,467,257,1146,689,2114,1717,1346,1044,493,957,270,29,121,126,23,57,636,1004,734,614,1453,1621,187,1443,57,637,948,59,18,903,112,596,233,1511,1152,48,1185,21,965,869,16,1947,71,65,1380,1027,411,836,11,480,606,284,1472,1677,1335,334,18,1338,1099,97,63,109,902,1574,38,960,28,1215,1497,449,1064,1757,1440,1006,1226,1171,92,99,66,564,1427,86,833,242,1869,1364,183,450,758,1507,654,81,137,16,93,1158,43,1525,1230,29,25,24,38,57,47,813,629,377,1612,729,50,270,177,315,767,1071,1580,60,573,41,170,1167,1526,458,63,405,1027,1478,72,48,726,860,1497,495,20,570,769,55,1808,55,577,162,1957,1576,1616,36,1482,22,63,680,542,50,39,1043,385,1633,46,761,76,290,89,70,1066,2009,1345,764,195,53,368,544,1853,35,446,1180,41,727,40,1062,40,292,15,341,369,401,393,10,486,69,1727,995,45,182,989,1677,595,156,1226,128,86,68,16,55,2114,2018,263,55,564,1281,83,353,1003,14,902,1139,797,1638,401,84,928,203,858,409,282,1423,1449,28,67,199,1453,1253,1198,178,1990,976,1001,1919,350,1650,46,1228,95,62,1761,467,1149,2052,1127,1416,1113,125,966,32,833,46,960,1829,779,811,1120,725,1187,2302,66,1250,683,305,50,995,41,77,171,131,54,53,475,694,96,361,1079,578,64,149,231,728,1778,93,23,662,1198,81,92,491,1564,926,1910,411,94,1085,23,6,54,1150,1415,405,1908,2486,1315,45,1789,19,573,805,108,23,1493,89,936,343,528,1901,724,58,297,488,859,1574,69,17,2194,116,279,103,44,406,1363,236,39,137,79,63,1314,71,58,702,94,80,22,1211,1461,1968,1091,55,1366,313,62,92,72,655,704,54,178,1033,36,122,122,1123,497,691,1363,12,2440,56,37,968,270,278,1250,938,1178,1155,653,49,506,38,1650,1826,18,906,46,1477,766,47,467,2116,1298,22,396,20,967,357,1401,15,2087,981,17,523,23,1192,1958,133,777,73,121,424,868,756,12,937,1862,367,443,267,61,1323,63,64,562,312,1156,1104,16,2008,44,1574,63,426,96,635,757,125,332,135,330,384,1722,78,24,1168,957,15,57,1956,2013,326,77,1313,30,315,660,74,46,86,1103,61,145,684,411,27,1060,1459,18,1833,237,48,515,1020,1370,1026,301,684,499,1004,218,606,75,106,990,1097,16,34,1711,438,75,225,18,470,91,2525,504,235,1232,88,17,24,60,1020,155,51,1812,1461,96,160,139,908,183,1161,988,1072,174,758,195,31,1084,685,1672,43,49,133,363,545,1065,2047,296,140,530,152,1598,114,101,25,789,87,90,1215,811,61,405,72,189,40,63,52,39,805,130,1631,34,152,21,71,899,711,351,8,119,21,10,973,1536,992,1529,860,928,418,587,641,23,2279,49,1779,1804,48,83,1862,793,84,183,1383,999,825,246,610,76,1286,30,99,1192,362,2130,1229,38,485,434,44,496,78,2346,794,17,26,76,15,62,198,49,802,1736,57,59,2302,37,310,1305,832,401,1501,1189,1194,656,1540,311,820,274,57,448,44,102,61,1643,397,1121,473,50,1678,58,170,373,1196,101,316,1400,1424,844,311,1149,129,32,299,320,441,1178,85,24,112,30,410,800,1313,1483,1258,28,227,1555,861,103,634,1918,131,586,62,447,939,797,1143,415,30,187,251,237,91,35,493,971,371,396,68,322,317,222,177,45,21,45,1899,42,22,41,1440,325,95,42,72,20,789,15,59,908,417,289,769,188,354,727,146,319,794,454,152,797,1690,20,1428,209,545,96,222,61,44,8,817,1371,42,60,78,23,19,61,449,37,38,1131,34,294,48,289,30,125,156,70,22,65,1930,2283,310,1319,879,1244,690,209,1134,1507,57,529,1091,180,77,2349,534,556,637,46,44,47,795,586,1574,13,1471,65,175,40,1078,1115,134,1540,87,217,1034,1180,819,32,46,1159,860,1631,444,1910,380,736,269,2524,612,75,1045,55,1064,1443,1366,436,38,436,747,1396,928,642,1048,943,907,1198,120,1658,1638,73,275,854,78,106,106,1923,1662,84,48,5,733,1234,112,1658,55,1513,271,904,120,103,269,22,1156,1086,1128,72,964,1383,18,793,100,80,167,677,23,92,641,1106,1033,1174,25,240,20,102,1034,156,458,17,792,92,407,1269,841,633,1019,1315,54,2525,52,436,268,147,1798,137,507,15,1105,974,66,778,49,169,299,221,1682,155,892,58,311,95,424,47,339,1410,35,562,2352,1334,32,41,39,1141,710,401,506,1538,57,1722,270,31,882,16,311,227,1152,122,77,1289,561,211,233,1092,601,54,78,1095,244,116,15,425,734,638,894,41,31,34,1750,612,29,823,20,396,813,1179,138,55,1511,117,1730,32,67,335,825,694,1792,496,231,902,68,71,76,772,47,1586,1529,265,1603,2091,981,1533,82,244,36,404,71,1572,122,41,10,304,37,1754,815,1001,1157,688,1319,21,31,67,708,25,746,32,1695,1080,72,57,660,103,153,1220,279,745,264,2157,1526,69,1597,64,497,1067,31,211,877,11,2034,1991,1686,324,69,252,54,964,1327,68,60,55,1456,563,1504,564,1125,358,42,184,460,145,1376,792,1382,28,1033,882,2231,1101,369,48,467,44,38,81,167,45,664,622,48,461,1073,55,976,20,1149,43,224,101,209,968,1165,24,252,165,269,102,461,47,144,1338,917,318,253,502,119,1250,969,76,62,1382,84,255,43,398,76,902,823,1179,1921,185,433,34,907,416,44,1588,1797,40,1143,914,1502,1338,27,763,1331,525,9,953,68,131,882,1149,37,388,1428,1633,173,99,215,929,219,174,92,1052,275,587,1662,159,1024,35,1042,395,557,9,69,486,34,1365,13,1401,1574,1323,1217,103,84,1536,581,928,14,424,960,1555,656,55,20,367,2257,42,1049,48,685,39,43,835,1515,1039,1596,1828,34,149,946,28,450,46,1702,820,382,2126,2069,72,732,801,236,80,1685,277,507,68,49,397,39,306,976,1028,70,46,51,1263,1490,1564,1815,1198,416,85,47,137,21,70,909,1676,1735,1191,24,1182,1280,1336,749,91,414,44,63,901,38,455,775,15,38,1512,43,42,1089,162,1272,1173,816,74,134,157,561,1336,2092,463,1130,20,377,1544,138,1012,1766,45,161,144,1734,823,1138,1429,1371,982,44,318,434,198,359,576,88,63,27,193,101,2211,140,415,22,263,393,147,443,1958,174,2217,1691,25,809,895,484,413,331,25,13,115,16,92,52,1464,441,283,747,1870,165,1941,839,1655,23,66,37,21,22,78,79,265,1175,1305,46,25,46,874,100,930,868,45,1260,414,392,1109,639,79,1665,692,1392,44,50,467,223,158,1211,1575,1208,43,527,932,71,54,129,1615,1034,1088,721,137,47,1244,41,1174,993,100,1680,98,48,519,715,37,653,1455,602,26,102,97,207,176,450,433,1366,1564,1001,961,1518,56,22,400,26,350,1216,874,40,1367,264,2053,1376,45,976,51,1264,75,57,140,497,266,2006,615,1021,22,133,437,1013,57,1038,1573,28,123,13,132,732,66,1631,608,1822,1282,8,43,1931,8,103,1169,395,258,25,185,180,22,44,94,81,798,1334,38,61,300,88,54,1782,68,258,31,66,174,28,731,274,1701,312,414,1565,29,94,1338,1092,1479,54,568,1199,873,1213,731,2043,1893,424,575,257,56,542,125,69,40,1016,907,1566,1169,46,1644,59,17,1853,1528,35,141,546,500,61,106,704,424,849,85,199,1147,54,43,53,521,1623,45,1435,32,16,52,1234,15,415,470,1438,53,51,679,586,653,468,1679,50,84,1049,22,62,30,1341,444,1241,843,172],\"yaxis\":\"y\",\"type\":\"scattergl\"}],                        {\"template\":{\"data\":{\"bar\":[{\"error_x\":{\"color\":\"#2a3f5f\"},\"error_y\":{\"color\":\"#2a3f5f\"},\"marker\":{\"line\":{\"color\":\"#E5ECF6\",\"width\":0.5},\"pattern\":{\"fillmode\":\"overlay\",\"size\":10,\"solidity\":0.2}},\"type\":\"bar\"}],\"barpolar\":[{\"marker\":{\"line\":{\"color\":\"#E5ECF6\",\"width\":0.5},\"pattern\":{\"fillmode\":\"overlay\",\"size\":10,\"solidity\":0.2}},\"type\":\"barpolar\"}],\"carpet\":[{\"aaxis\":{\"endlinecolor\":\"#2a3f5f\",\"gridcolor\":\"white\",\"linecolor\":\"white\",\"minorgridcolor\":\"white\",\"startlinecolor\":\"#2a3f5f\"},\"baxis\":{\"endlinecolor\":\"#2a3f5f\",\"gridcolor\":\"white\",\"linecolor\":\"white\",\"minorgridcolor\":\"white\",\"startlinecolor\":\"#2a3f5f\"},\"type\":\"carpet\"}],\"choropleth\":[{\"colorbar\":{\"outlinewidth\":0,\"ticks\":\"\"},\"type\":\"choropleth\"}],\"contour\":[{\"colorbar\":{\"outlinewidth\":0,\"ticks\":\"\"},\"colorscale\":[[0.0,\"#0d0887\"],[0.1111111111111111,\"#46039f\"],[0.2222222222222222,\"#7201a8\"],[0.3333333333333333,\"#9c179e\"],[0.4444444444444444,\"#bd3786\"],[0.5555555555555556,\"#d8576b\"],[0.6666666666666666,\"#ed7953\"],[0.7777777777777778,\"#fb9f3a\"],[0.8888888888888888,\"#fdca26\"],[1.0,\"#f0f921\"]],\"type\":\"contour\"}],\"contourcarpet\":[{\"colorbar\":{\"outlinewidth\":0,\"ticks\":\"\"},\"type\":\"contourcarpet\"}],\"heatmap\":[{\"colorbar\":{\"outlinewidth\":0,\"ticks\":\"\"},\"colorscale\":[[0.0,\"#0d0887\"],[0.1111111111111111,\"#46039f\"],[0.2222222222222222,\"#7201a8\"],[0.3333333333333333,\"#9c179e\"],[0.4444444444444444,\"#bd3786\"],[0.5555555555555556,\"#d8576b\"],[0.6666666666666666,\"#ed7953\"],[0.7777777777777778,\"#fb9f3a\"],[0.8888888888888888,\"#fdca26\"],[1.0,\"#f0f921\"]],\"type\":\"heatmap\"}],\"heatmapgl\":[{\"colorbar\":{\"outlinewidth\":0,\"ticks\":\"\"},\"colorscale\":[[0.0,\"#0d0887\"],[0.1111111111111111,\"#46039f\"],[0.2222222222222222,\"#7201a8\"],[0.3333333333333333,\"#9c179e\"],[0.4444444444444444,\"#bd3786\"],[0.5555555555555556,\"#d8576b\"],[0.6666666666666666,\"#ed7953\"],[0.7777777777777778,\"#fb9f3a\"],[0.8888888888888888,\"#fdca26\"],[1.0,\"#f0f921\"]],\"type\":\"heatmapgl\"}],\"histogram\":[{\"marker\":{\"pattern\":{\"fillmode\":\"overlay\",\"size\":10,\"solidity\":0.2}},\"type\":\"histogram\"}],\"histogram2d\":[{\"colorbar\":{\"outlinewidth\":0,\"ticks\":\"\"},\"colorscale\":[[0.0,\"#0d0887\"],[0.1111111111111111,\"#46039f\"],[0.2222222222222222,\"#7201a8\"],[0.3333333333333333,\"#9c179e\"],[0.4444444444444444,\"#bd3786\"],[0.5555555555555556,\"#d8576b\"],[0.6666666666666666,\"#ed7953\"],[0.7777777777777778,\"#fb9f3a\"],[0.8888888888888888,\"#fdca26\"],[1.0,\"#f0f921\"]],\"type\":\"histogram2d\"}],\"histogram2dcontour\":[{\"colorbar\":{\"outlinewidth\":0,\"ticks\":\"\"},\"colorscale\":[[0.0,\"#0d0887\"],[0.1111111111111111,\"#46039f\"],[0.2222222222222222,\"#7201a8\"],[0.3333333333333333,\"#9c179e\"],[0.4444444444444444,\"#bd3786\"],[0.5555555555555556,\"#d8576b\"],[0.6666666666666666,\"#ed7953\"],[0.7777777777777778,\"#fb9f3a\"],[0.8888888888888888,\"#fdca26\"],[1.0,\"#f0f921\"]],\"type\":\"histogram2dcontour\"}],\"mesh3d\":[{\"colorbar\":{\"outlinewidth\":0,\"ticks\":\"\"},\"type\":\"mesh3d\"}],\"parcoords\":[{\"line\":{\"colorbar\":{\"outlinewidth\":0,\"ticks\":\"\"}},\"type\":\"parcoords\"}],\"pie\":[{\"automargin\":true,\"type\":\"pie\"}],\"scatter\":[{\"marker\":{\"colorbar\":{\"outlinewidth\":0,\"ticks\":\"\"}},\"type\":\"scatter\"}],\"scatter3d\":[{\"line\":{\"colorbar\":{\"outlinewidth\":0,\"ticks\":\"\"}},\"marker\":{\"colorbar\":{\"outlinewidth\":0,\"ticks\":\"\"}},\"type\":\"scatter3d\"}],\"scattercarpet\":[{\"marker\":{\"colorbar\":{\"outlinewidth\":0,\"ticks\":\"\"}},\"type\":\"scattercarpet\"}],\"scattergeo\":[{\"marker\":{\"colorbar\":{\"outlinewidth\":0,\"ticks\":\"\"}},\"type\":\"scattergeo\"}],\"scattergl\":[{\"marker\":{\"colorbar\":{\"outlinewidth\":0,\"ticks\":\"\"}},\"type\":\"scattergl\"}],\"scattermapbox\":[{\"marker\":{\"colorbar\":{\"outlinewidth\":0,\"ticks\":\"\"}},\"type\":\"scattermapbox\"}],\"scatterpolar\":[{\"marker\":{\"colorbar\":{\"outlinewidth\":0,\"ticks\":\"\"}},\"type\":\"scatterpolar\"}],\"scatterpolargl\":[{\"marker\":{\"colorbar\":{\"outlinewidth\":0,\"ticks\":\"\"}},\"type\":\"scatterpolargl\"}],\"scatterternary\":[{\"marker\":{\"colorbar\":{\"outlinewidth\":0,\"ticks\":\"\"}},\"type\":\"scatterternary\"}],\"surface\":[{\"colorbar\":{\"outlinewidth\":0,\"ticks\":\"\"},\"colorscale\":[[0.0,\"#0d0887\"],[0.1111111111111111,\"#46039f\"],[0.2222222222222222,\"#7201a8\"],[0.3333333333333333,\"#9c179e\"],[0.4444444444444444,\"#bd3786\"],[0.5555555555555556,\"#d8576b\"],[0.6666666666666666,\"#ed7953\"],[0.7777777777777778,\"#fb9f3a\"],[0.8888888888888888,\"#fdca26\"],[1.0,\"#f0f921\"]],\"type\":\"surface\"}],\"table\":[{\"cells\":{\"fill\":{\"color\":\"#EBF0F8\"},\"line\":{\"color\":\"white\"}},\"header\":{\"fill\":{\"color\":\"#C8D4E3\"},\"line\":{\"color\":\"white\"}},\"type\":\"table\"}]},\"layout\":{\"annotationdefaults\":{\"arrowcolor\":\"#2a3f5f\",\"arrowhead\":0,\"arrowwidth\":1},\"autotypenumbers\":\"strict\",\"coloraxis\":{\"colorbar\":{\"outlinewidth\":0,\"ticks\":\"\"}},\"colorscale\":{\"diverging\":[[0,\"#8e0152\"],[0.1,\"#c51b7d\"],[0.2,\"#de77ae\"],[0.3,\"#f1b6da\"],[0.4,\"#fde0ef\"],[0.5,\"#f7f7f7\"],[0.6,\"#e6f5d0\"],[0.7,\"#b8e186\"],[0.8,\"#7fbc41\"],[0.9,\"#4d9221\"],[1,\"#276419\"]],\"sequential\":[[0.0,\"#0d0887\"],[0.1111111111111111,\"#46039f\"],[0.2222222222222222,\"#7201a8\"],[0.3333333333333333,\"#9c179e\"],[0.4444444444444444,\"#bd3786\"],[0.5555555555555556,\"#d8576b\"],[0.6666666666666666,\"#ed7953\"],[0.7777777777777778,\"#fb9f3a\"],[0.8888888888888888,\"#fdca26\"],[1.0,\"#f0f921\"]],\"sequentialminus\":[[0.0,\"#0d0887\"],[0.1111111111111111,\"#46039f\"],[0.2222222222222222,\"#7201a8\"],[0.3333333333333333,\"#9c179e\"],[0.4444444444444444,\"#bd3786\"],[0.5555555555555556,\"#d8576b\"],[0.6666666666666666,\"#ed7953\"],[0.7777777777777778,\"#fb9f3a\"],[0.8888888888888888,\"#fdca26\"],[1.0,\"#f0f921\"]]},\"colorway\":[\"#636efa\",\"#EF553B\",\"#00cc96\",\"#ab63fa\",\"#FFA15A\",\"#19d3f3\",\"#FF6692\",\"#B6E880\",\"#FF97FF\",\"#FECB52\"],\"font\":{\"color\":\"#2a3f5f\"},\"geo\":{\"bgcolor\":\"white\",\"lakecolor\":\"white\",\"landcolor\":\"#E5ECF6\",\"showlakes\":true,\"showland\":true,\"subunitcolor\":\"white\"},\"hoverlabel\":{\"align\":\"left\"},\"hovermode\":\"closest\",\"mapbox\":{\"style\":\"light\"},\"paper_bgcolor\":\"white\",\"plot_bgcolor\":\"#E5ECF6\",\"polar\":{\"angularaxis\":{\"gridcolor\":\"white\",\"linecolor\":\"white\",\"ticks\":\"\"},\"bgcolor\":\"#E5ECF6\",\"radialaxis\":{\"gridcolor\":\"white\",\"linecolor\":\"white\",\"ticks\":\"\"}},\"scene\":{\"xaxis\":{\"backgroundcolor\":\"#E5ECF6\",\"gridcolor\":\"white\",\"gridwidth\":2,\"linecolor\":\"white\",\"showbackground\":true,\"ticks\":\"\",\"zerolinecolor\":\"white\"},\"yaxis\":{\"backgroundcolor\":\"#E5ECF6\",\"gridcolor\":\"white\",\"gridwidth\":2,\"linecolor\":\"white\",\"showbackground\":true,\"ticks\":\"\",\"zerolinecolor\":\"white\"},\"zaxis\":{\"backgroundcolor\":\"#E5ECF6\",\"gridcolor\":\"white\",\"gridwidth\":2,\"linecolor\":\"white\",\"showbackground\":true,\"ticks\":\"\",\"zerolinecolor\":\"white\"}},\"shapedefaults\":{\"line\":{\"color\":\"#2a3f5f\"}},\"ternary\":{\"aaxis\":{\"gridcolor\":\"white\",\"linecolor\":\"white\",\"ticks\":\"\"},\"baxis\":{\"gridcolor\":\"white\",\"linecolor\":\"white\",\"ticks\":\"\"},\"bgcolor\":\"#E5ECF6\",\"caxis\":{\"gridcolor\":\"white\",\"linecolor\":\"white\",\"ticks\":\"\"}},\"title\":{\"x\":0.05},\"xaxis\":{\"automargin\":true,\"gridcolor\":\"white\",\"linecolor\":\"white\",\"ticks\":\"\",\"title\":{\"standoff\":15},\"zerolinecolor\":\"white\",\"zerolinewidth\":2},\"yaxis\":{\"automargin\":true,\"gridcolor\":\"white\",\"linecolor\":\"white\",\"ticks\":\"\",\"title\":{\"standoff\":15},\"zerolinecolor\":\"white\",\"zerolinewidth\":2}}},\"xaxis\":{\"anchor\":\"y\",\"domain\":[0.0,1.0],\"title\":{\"text\":\"Income\"}},\"yaxis\":{\"anchor\":\"x\",\"domain\":[0.0,1.0],\"title\":{\"text\":\"TotalSpent\"}},\"coloraxis\":{\"colorbar\":{\"title\":{\"text\":\"ClusterLabel\"}},\"colorscale\":[[0.0,\"#0d0887\"],[0.1111111111111111,\"#46039f\"],[0.2222222222222222,\"#7201a8\"],[0.3333333333333333,\"#9c179e\"],[0.4444444444444444,\"#bd3786\"],[0.5555555555555556,\"#d8576b\"],[0.6666666666666666,\"#ed7953\"],[0.7777777777777778,\"#fb9f3a\"],[0.8888888888888888,\"#fdca26\"],[1.0,\"#f0f921\"]]},\"legend\":{\"tracegroupgap\":0},\"title\":{\"text\":\"Relationship between Income VS Total Spent\"},\"height\":500},                        {\"responsive\": true}                    ).then(function(){\n",
              "                            \n",
              "var gd = document.getElementById('8ebcca57-5da2-46af-bf17-7e24f969fdba');\n",
              "var x = new MutationObserver(function (mutations, observer) {{\n",
              "        var display = window.getComputedStyle(gd).display;\n",
              "        if (!display || display === 'none') {{\n",
              "            console.log([gd, 'removed!']);\n",
              "            Plotly.purge(gd);\n",
              "            observer.disconnect();\n",
              "        }}\n",
              "}});\n",
              "\n",
              "// Listen for the removal of the full notebook cells\n",
              "var notebookContainer = gd.closest('#notebook-container');\n",
              "if (notebookContainer) {{\n",
              "    x.observe(notebookContainer, {childList: true});\n",
              "}}\n",
              "\n",
              "// Listen for the clearing of the current output cell\n",
              "var outputEl = gd.closest('.output');\n",
              "if (outputEl) {{\n",
              "    x.observe(outputEl, {childList: true});\n",
              "}}\n",
              "\n",
              "                        })                };                            </script>        </div>\n",
              "</body>\n",
              "</html>"
            ]
          },
          "metadata": {}
        }
      ]
    },
    {
      "cell_type": "markdown",
      "source": [
        "Based on the scatter plot we can conclude that there are 3 customers segmentation,\n",
        "\n",
        "\n",
        "* The first segment is customers with low income and low spending.\n",
        "* The second segment is customers with high income and high spending\n",
        "* The third segment is customers with moderate income and moderate spending.\n",
        "\n"
      ],
      "metadata": {
        "id": "LNJVydgg3CFv"
      }
    },
    {
      "cell_type": "markdown",
      "source": [
        "**K-means Model With 3 Variables**"
      ],
      "metadata": {
        "id": "JTLi5vjiR_Df"
      }
    },
    {
      "cell_type": "markdown",
      "source": [
        "The k-means model that will be created uses 3 variables, that is variable Income, variable Total Spent, and variable Age."
      ],
      "metadata": {
        "id": "IrdxbANOdFs0"
      }
    },
    {
      "cell_type": "code",
      "source": [
        "data2 = df[[\"Age\", \"Income\", \"TotalSpent\"]]"
      ],
      "metadata": {
        "id": "8M_Sd1cJ3LNm"
      },
      "execution_count": 56,
      "outputs": []
    },
    {
      "cell_type": "code",
      "source": [
        "df_log = np.log(data2)\n",
        "std_scaler = StandardScaler()\n",
        "df_scaled = std_scaler.fit_transform(df_log)"
      ],
      "metadata": {
        "id": "KjtNzYiV4nSw"
      },
      "execution_count": 57,
      "outputs": []
    },
    {
      "cell_type": "code",
      "source": [
        "sse = {}\n",
        "for k in range(1, 11):\n",
        "    model = KMeans(n_clusters=k, random_state=42)\n",
        "    model.fit(df_scaled)\n",
        "    sse[k] = model.inertia_"
      ],
      "metadata": {
        "id": "ZksHsYHZ4vr_"
      },
      "execution_count": 58,
      "outputs": []
    },
    {
      "cell_type": "code",
      "source": [
        "plt.title('K-means Clustering')\n",
        "plt.xlabel('Number of Clusters'); plt.ylabel('SSE')\n",
        "sns.pointplot(x=list(sse.keys()), y=list(sse.values()))\n",
        "plt.show()\n",
        "plt.savefig(\"Elbow 3 Variable.png\")"
      ],
      "metadata": {
        "colab": {
          "base_uri": "https://localhost:8080/",
          "height": 312
        },
        "id": "Sps9MHoE4zk6",
        "outputId": "f51f5e33-2389-447a-afa3-718d05a36a9c"
      },
      "execution_count": 67,
      "outputs": [
        {
          "output_type": "display_data",
          "data": {
            "text/plain": [
              "<Figure size 432x288 with 1 Axes>"
            ],
            "image/png": "[encoded data removed]"
          },
          "metadata": {
            "needs_background": "light"
          }
        },
        {
          "output_type": "display_data",
          "data": {
            "text/plain": [
              "<Figure size 432x288 with 0 Axes>"
            ]
          },
          "metadata": {}
        }
      ]
    },
    {
      "cell_type": "code",
      "source": [
        "model = KMeans(n_clusters=3, random_state=42)\n",
        "model.fit(df_scaled)\n",
        "\n",
        "\n",
        "data2 = data2.assign(ClusterLabel= model.labels_)"
      ],
      "metadata": {
        "id": "0_Wg5R8M43Ib"
      },
      "execution_count": 60,
      "outputs": []
    },
    {
      "cell_type": "code",
      "source": [
        "result = data2.groupby(\"ClusterLabel\").agg({\"Age\":\"mean\", \"Income\":\"median\", \"TotalSpent\":\"median\"}).round()\n",
        "result"
      ],
      "metadata": {
        "colab": {
          "base_uri": "https://localhost:8080/",
          "height": 175
        },
        "id": "YfXQDCRA473d",
        "outputId": "9ac6d7f4-a200-4028-8aa7-c6e8ce23dc30"
      },
      "execution_count": 61,
      "outputs": [
        {
          "output_type": "execute_result",
          "data": {
            "text/plain": [
              "               Age   Income  TotalSpent\n",
              "ClusterLabel                           \n",
              "0             50.0  31801.0        54.0\n",
              "1             45.0  67402.0      1001.0\n",
              "2             66.0  62814.0       822.0"
            ],
            "text/html": [
              "\n",
              "  <div id=\"df-a3de0d7b-a48b-41df-8470-4ace300e4556\">\n",
              "    <div class=\"colab-df-container\">\n",
              "      <div>\n",
              "<style scoped>\n",
              "    .dataframe tbody tr th:only-of-type {\n",
              "        vertical-align: middle;\n",
              "    }\n",
              "\n",
              "    .dataframe tbody tr th {\n",
              "        vertical-align: top;\n",
              "    }\n",
              "\n",
              "    .dataframe thead th {\n",
              "        text-align: right;\n",
              "    }\n",
              "</style>\n",
              "<table border=\"1\" class=\"dataframe\">\n",
              "  <thead>\n",
              "    <tr style=\"text-align: right;\">\n",
              "      <th></th>\n",
              "      <th>Age</th>\n",
              "      <th>Income</th>\n",
              "      <th>TotalSpent</th>\n",
              "    </tr>\n",
              "    <tr>\n",
              "      <th>ClusterLabel</th>\n",
              "      <th></th>\n",
              "      <th></th>\n",
              "      <th></th>\n",
              "    </tr>\n",
              "  </thead>\n",
              "  <tbody>\n",
              "    <tr>\n",
              "      <th>0</th>\n",
              "      <td>50.0</td>\n",
              "      <td>31801.0</td>\n",
              "      <td>54.0</td>\n",
              "    </tr>\n",
              "    <tr>\n",
              "      <th>1</th>\n",
              "      <td>45.0</td>\n",
              "      <td>67402.0</td>\n",
              "      <td>1001.0</td>\n",
              "    </tr>\n",
              "    <tr>\n",
              "      <th>2</th>\n",
              "      <td>66.0</td>\n",
              "      <td>62814.0</td>\n",
              "      <td>822.0</td>\n",
              "    </tr>\n",
              "  </tbody>\n",
              "</table>\n",
              "</div>\n",
              "      <button class=\"colab-df-convert\" onclick=\"convertToInteractive('df-a3de0d7b-a48b-41df-8470-4ace300e4556')\"\n",
              "              title=\"Convert this dataframe to an interactive table.\"\n",
              "              style=\"display:none;\">\n",
              "        \n",
              "  <svg xmlns=\"http://www.w3.org/2000/svg\" height=\"24px\"viewBox=\"0 0 24 24\"\n",
              "       width=\"24px\">\n",
              "    <path d=\"M0 0h24v24H0V0z\" fill=\"none\"/>\n",
              "    <path d=\"M18.56 5.44l.94 2.06.94-2.06 2.06-.94-2.06-.94-.94-2.06-.94 2.06-2.06.94zm-11 1L8.5 8.5l.94-2.06 2.06-.94-2.06-.94L8.5 2.5l-.94 2.06-2.06.94zm10 10l.94 2.06.94-2.06 2.06-.94-2.06-.94-.94-2.06-.94 2.06-2.06.94z\"/><path d=\"M17.41 7.96l-1.37-1.37c-.4-.4-.92-.59-1.43-.59-.52 0-1.04.2-1.43.59L10.3 9.45l-7.72 7.72c-.78.78-.78 2.05 0 2.83L4 21.41c.39.39.9.59 1.41.59.51 0 1.02-.2 1.41-.59l7.78-7.78 2.81-2.81c.8-.78.8-2.07 0-2.86zM5.41 20L4 18.59l7.72-7.72 1.47 1.35L5.41 20z\"/>\n",
              "  </svg>\n",
              "      </button>\n",
              "      \n",
              "  <style>\n",
              "    .colab-df-container {\n",
              "      display:flex;\n",
              "      flex-wrap:wrap;\n",
              "      gap: 12px;\n",
              "    }\n",
              "\n",
              "    .colab-df-convert {\n",
              "      background-color: #E8F0FE;\n",
              "      border: none;\n",
              "      border-radius: 50%;\n",
              "      cursor: pointer;\n",
              "      display: none;\n",
              "      fill: #1967D2;\n",
              "      height: 32px;\n",
              "      padding: 0 0 0 0;\n",
              "      width: 32px;\n",
              "    }\n",
              "\n",
              "    .colab-df-convert:hover {\n",
              "      background-color: #E2EBFA;\n",
              "      box-shadow: 0px 1px 2px rgba(60, 64, 67, 0.3), 0px 1px 3px 1px rgba(60, 64, 67, 0.15);\n",
              "      fill: #174EA6;\n",
              "    }\n",
              "\n",
              "    [theme=dark] .colab-df-convert {\n",
              "      background-color: #3B4455;\n",
              "      fill: #D2E3FC;\n",
              "    }\n",
              "\n",
              "    [theme=dark] .colab-df-convert:hover {\n",
              "      background-color: #434B5C;\n",
              "      box-shadow: 0px 1px 3px 1px rgba(0, 0, 0, 0.15);\n",
              "      filter: drop-shadow(0px 1px 2px rgba(0, 0, 0, 0.3));\n",
              "      fill: #FFFFFF;\n",
              "    }\n",
              "  </style>\n",
              "\n",
              "      <script>\n",
              "        const buttonEl =\n",
              "          document.querySelector('#df-a3de0d7b-a48b-41df-8470-4ace300e4556 button.colab-df-convert');\n",
              "        buttonEl.style.display =\n",
              "          google.colab.kernel.accessAllowed ? 'block' : 'none';\n",
              "\n",
              "        async function convertToInteractive(key) {\n",
              "          const element = document.querySelector('#df-a3de0d7b-a48b-41df-8470-4ace300e4556');\n",
              "          const dataTable =\n",
              "            await google.colab.kernel.invokeFunction('convertToInteractive',\n",
              "                                                     [key], {});\n",
              "          if (!dataTable) return;\n",
              "\n",
              "          const docLinkHtml = 'Like what you see? Visit the ' +\n",
              "            '<a target=\"_blank\" href=https://colab.research.google.com/notebooks/data_table.ipynb>data table notebook</a>'\n",
              "            + ' to learn more about interactive tables.';\n",
              "          element.innerHTML = '';\n",
              "          dataTable['output_type'] = 'display_data';\n",
              "          await google.colab.output.renderOutput(dataTable, element);\n",
              "          const docLink = document.createElement('div');\n",
              "          docLink.innerHTML = docLinkHtml;\n",
              "          element.appendChild(docLink);\n",
              "        }\n",
              "      </script>\n",
              "    </div>\n",
              "  </div>\n",
              "  "
            ]
          },
          "metadata": {},
          "execution_count": 61
        }
      ]
    },
    {
      "cell_type": "code",
      "source": [
        "fig = px.scatter_3d(data_frame=data2, \n",
        "                    x=\"Income\",\n",
        "                    y=\"TotalSpent\", \n",
        "                    z=\"Age\", \n",
        "                    color=\"ClusterLabel\", \n",
        "                    height=550,\n",
        "                    title = \"Relationship Between Customer's Age, Income, and Total Spent\")\n",
        "fig.show()"
      ],
      "metadata": {
        "colab": {
          "base_uri": "https://localhost:8080/",
          "height": 567
        },
        "id": "lFh6AfgF5EMD",
        "outputId": "c62ddd71-49fc-461f-eb14-b4962d421041"
      },
      "execution_count": 62,
      "outputs": [
        {
          "output_type": "display_data",
          "data": {
            "text/html": [
              "<html>\n",
              "<head><meta charset=\"utf-8\" /></head>\n",
              "<body>\n",
              "    <div>            <script src=\"https://cdnjs.cloudflare.com/ajax/libs/mathjax/2.7.5/MathJax.js?config=TeX-AMS-MML_SVG\"></script><script type=\"text/javascript\">if (window.MathJax) {MathJax.Hub.Config({SVG: {font: \"STIX-Web\"}});}</script>                <script type=\"text/javascript\">window.PlotlyConfig = {MathJaxConfig: 'local'};</script>\n",
              "        <script src=\"https://cdn.plot.ly/plotly-2.8.3.min.js\"></script>                <div id=\"ccf350e8-7d9a-459c-9475-1ca1a5d27ea8\" class=\"plotly-graph-div\" style=\"height:550px; width:100%;\"></div>            <script type=\"text/javascript\">                                    window.PLOTLYENV=window.PLOTLYENV || {};                                    if (document.getElementById(\"ccf350e8-7d9a-459c-9475-1ca1a5d27ea8\")) {                    Plotly.newPlot(                        \"ccf350e8-7d9a-459c-9475-1ca1a5d27ea8\",                        [{\"hovertemplate\":\"Income=%{x}<br>TotalSpent=%{y}<br>Age=%{z}<br>ClusterLabel=%{marker.color}<extra></extra>\",\"legendgroup\":\"\",\"marker\":{\"color\":[2,0,2,0,1,2,1,0,0,0,0,0,2,2,0,2,0,2,2,0,1,0,2,2,2,0,1,1,0,2,0,2,0,2,2,2,1,0,0,2,1,0,0,2,0,1,0,0,2,2,2,2,0,1,1,2,2,0,0,2,1,1,2,2,2,0,0,1,2,1,2,0,2,1,0,0,1,1,0,2,0,0,0,2,1,0,0,2,1,2,2,0,1,0,0,0,2,0,2,1,0,0,1,2,2,0,2,2,0,2,1,1,2,1,1,2,1,1,0,0,2,0,0,0,1,2,1,2,2,2,2,2,1,2,2,2,0,0,0,0,1,1,2,1,1,1,0,0,0,2,2,2,1,0,2,2,2,0,1,2,0,2,0,1,1,0,2,2,1,0,0,0,0,2,2,1,2,0,0,2,1,0,2,0,0,0,0,2,1,0,0,1,2,0,1,0,1,2,2,1,2,2,1,1,0,0,0,2,0,2,2,2,2,1,1,1,0,2,2,1,0,1,1,0,2,0,1,2,1,0,2,2,0,0,2,0,0,2,0,2,1,2,0,1,2,0,1,2,1,1,0,0,1,0,2,0,2,2,0,0,0,2,2,0,2,0,2,0,1,0,2,0,1,0,0,2,2,1,1,2,0,1,2,1,0,0,2,2,2,2,0,0,1,0,0,2,0,0,1,2,0,2,0,1,0,2,0,2,2,1,0,0,1,1,2,0,0,1,0,1,1,0,0,2,2,2,0,0,2,0,0,0,2,0,0,2,2,0,2,2,1,0,1,2,0,2,0,1,0,0,2,1,2,1,1,0,2,1,2,2,2,2,0,0,2,2,2,0,2,1,0,1,0,2,0,0,0,0,2,0,0,0,2,0,0,0,2,2,2,2,1,1,1,2,2,1,0,0,0,0,0,2,0,2,2,0,0,1,0,2,0,1,2,1,2,2,0,1,1,1,0,0,0,1,2,0,1,1,0,2,2,1,2,2,0,0,2,2,0,0,0,2,0,0,0,0,0,2,0,2,2,1,0,1,1,1,2,1,2,1,2,2,2,2,0,1,2,0,2,1,1,0,1,0,0,2,0,1,1,1,0,0,0,1,2,2,1,1,0,2,2,1,2,2,2,2,0,1,2,2,0,0,0,1,0,2,1,1,0,2,0,1,2,2,2,1,0,0,2,2,0,1,1,2,0,0,2,1,2,2,1,1,1,2,0,2,0,2,2,0,0,0,1,1,1,0,2,0,0,0,0,0,1,0,2,2,1,1,0,2,0,1,1,1,2,2,2,0,0,0,1,0,0,1,0,1,2,0,0,2,1,2,0,0,0,0,2,2,2,0,0,1,2,0,1,0,0,0,0,0,0,2,2,2,2,0,0,0,0,2,0,2,0,0,2,1,0,1,0,2,2,0,2,0,2,0,1,2,0,0,1,2,1,0,1,0,2,2,2,1,2,2,2,2,2,1,1,2,1,2,2,0,1,2,2,0,2,0,2,2,2,0,1,0,0,0,0,0,0,1,2,2,1,1,1,0,2,1,0,1,2,2,1,2,2,1,1,1,1,1,2,1,2,0,2,2,0,0,2,2,1,1,1,1,0,1,0,2,2,0,0,2,0,2,1,1,2,0,1,0,2,2,0,2,0,0,2,1,2,1,0,2,1,2,1,2,1,2,0,1,2,0,2,0,2,2,0,1,0,2,1,2,1,1,1,1,1,2,0,0,0,2,1,0,2,2,1,1,2,2,1,2,2,0,0,0,0,2,0,1,1,0,0,0,0,0,0,2,1,1,2,2,0,1,2,2,2,2,1,0,1,0,2,2,2,1,0,2,1,1,0,0,1,2,1,1,0,2,1,0,1,0,2,0,2,2,2,0,2,0,0,1,2,0,0,2,1,1,0,1,0,1,0,0,2,1,1,2,2,0,1,2,2,0,1,1,0,1,0,1,0,2,0,1,1,1,2,0,1,0,1,2,0,0,1,2,1,0,2,0,0,0,0,0,1,1,2,0,2,1,0,2,1,0,2,1,2,2,1,0,2,2,2,1,2,1,2,0,0,1,2,1,2,0,1,2,2,1,2,2,0,1,0,0,1,0,1,1,1,1,1,1,2,0,2,0,1,1,1,1,2,2,1,2,0,1,1,1,0,1,0,0,0,0,0,0,2,2,0,2,2,2,0,0,1,2,1,0,0,1,1,0,0,2,1,2,2,2,0,2,0,0,0,1,2,1,1,1,1,0,2,0,1,1,2,0,1,0,1,2,2,1,1,0,2,2,2,2,0,0,1,0,0,0,0,2,2,2,0,0,0,0,2,0,0,2,0,0,0,2,1,1,1,0,1,0,0,0,0,2,2,0,0,2,0,0,0,2,1,2,2,0,2,0,0,1,1,2,2,1,2,2,1,0,2,0,1,2,0,1,0,2,2,0,2,2,1,0,2,0,2,0,2,0,1,1,0,2,0,2,1,0,2,0,2,1,2,1,0,1,1,1,1,2,0,2,2,0,1,2,2,1,0,2,0,1,0,1,0,1,2,0,1,0,2,2,2,0,0,2,2,0,0,1,1,1,0,2,0,2,2,0,0,0,2,0,0,2,2,0,2,2,0,1,2,0,1,1,2,2,2,2,2,1,0,1,0,0,2,1,0,0,1,2,0,2,0,1,0,1,2,2,2,0,0,0,0,2,0,0,1,1,2,2,0,2,2,1,1,2,1,2,2,0,2,2,2,0,0,0,2,2,1,1,1,0,2,0,1,0,0,0,2,0,0,2,2,0,1,0,0,0,0,0,0,1,2,1,0,2,0,0,2,2,0,0,0,0,0,1,2,2,2,1,2,1,2,1,0,1,0,1,1,0,2,1,2,0,2,2,2,2,0,2,0,1,0,0,1,1,1,1,0,2,2,0,1,0,1,1,0,0,0,0,0,2,0,2,2,0,1,2,0,2,1,2,1,2,1,1,2,2,2,2,1,0,2,0,0,0,2,2,2,1,0,2,0,0,0,2,0,2,2,2,1,1,1,0,0,1,2,1,2,0,0,0,0,1,1,2,2,1,0,2,1,2,0,2,2,0,2,0,1,2,1,2,1,0,0,2,1,2,0,2,1,2,1,0,1,2,2,2,0,0,0,2,0,0,0,1,1,0,0,0,0,2,0,0,2,2,2,1,2,2,1,0,2,2,2,2,1,1,0,2,0,1,0,2,0,0,0,1,2,0,0,0,0,0,0,0,0,0,1,0,2,0,2,0,0,0,0,0,0,2,2,2,1,2,1,1,0,2,2,0,2,1,0,0,1,1,2,2,0,0,0,2,2,2,0,1,0,0,0,1,2,2,2,0,1,2,1,2,0,0,1,1,1,2,2,1,1,2,1,1,0,2,0,1,2,1,1,0,1,1,2,1,1,1,1,2,1,0,2,1,0,1,2,0,0,0,1,1,0,0,0,1,2,0,1,0,1,2,1,0,0,0,0,2,1,2,0,2,1,0,2,0,0,0,2,0,2,2,2,2,1,0,2,0,0,1,0,1,0,2,0,2,2,2,2,2,2,0,1,0,1,2,0,2,0,1,0,2,2,0,1,0,2,2,0,1,0,2,0,2,0,1,0,1,1,0,2,2,2,0,0,0,1,1,1,2,1,0,1,0,0,1,0,1,2,2,2,0,1,2,2,2,1,2,0,0,2,2,2,0,2,2,2,2,0,0,0,2,1,0,1,0,1,1,2,2,0,2,0,1,0,0,2,2,1,1,2,0,1,0,0,0,2,0,1,2,1,2,1,2,1,0,0,0,1,0,1,0,0,0,2,0,1,2,1,1,2,1,0,0,0,2,0,1,0,2,1,0,0,1,0,0,2,2,1,1,1,2,0,2,0,1,2,0,0,1,0,1,1,2,1,0,2,0,2,2,0,0,0,2,2,2,2,2,2,0,2,1,2,2,2,2,0,2,1,2,2,1,0,2,0,0,0,0,0,1,2,0,1,1,0,2,0,1,0,1,0,2,1,2,0,2,0,0,0,1,0,0,2,2,0,2,1,0,1,1,0,0,2,0,2,0,2,0,2,1,1,1,2,2,0,2,0,0,2,1,0,2,1,1,2,0,1,2,2,0,2,0,0,2,1,0,2,1,2,0,0,2,2,1,1,0,1,2,2,2,0,2,0,2,2,1,0,0,2,0,1,0,1,2,1,1,2,0,1,1,2,0,1,1,1,1,0,0,0,1,0,2,0,2,0,0,2,2,2,1,1,0,2,1,0,1,0,1,1,1,1,1,0,2,1,2,0,2,2,2,0,0,1,0,2,2,1,0,0,0,2,1,1,2,2,2,0,0,0,0,0,1,2,2,2,0,1,1,2,2,0,2,0,0,2,0,2,2,0,0,1,0,0,1,0,2,1,1,0,2,2,1,2,1,2,2,0,2,1,2,2,2,0,2,2,2,1,2,2,1,2,0,0,1,1,0,2,0,0,0,0,0,2,2,1,0,1,1,0,2,2,0,2,2,0,1,1,1,0,1,0,0,0,0,0,0,1,2,2,2,2,0,1,1,2,0,0,0,0,0,0,0,2,2,2,0,0,0,2,0,2,2,0,1,1,2,1,2,0,1,1,1,0,0,1,0,2,1,1,2,0,1,2,0,2,0,1,1,2,2,0,0,1,0,1,2,2,2,0,0,2,2,0,1,1,1,0,0,0,2,0,2,2,1,2,1,1,2,0,0,1,0,1,1,2,2,1,2,1,1,0,2,0,1,0,0,2,1,2,2,2,1,0,0,2,1,0,2,2,0,0,0,0,2,2,1,2,1,2,0,0,1,2,0,2,2,0,0,2,0,0,0,0,0,1,2,0,0,1,0,0,1,0,0,0,0,2,0,2,2,2,1,2,2,0,0,2,1,1,0,2,1,1,2,2,1,2,1,1,2,0,1,0,0,0,2,1,2,2,0,1,0,0,2,2,0,0,1,2,0,0,2,1,1,0,0,1,0,0,0,2,1,0,1,0,0,0,2,0,1,1,1,0,0,1,2,1,2,1,0,0,1,0,1,0,2,2,1,2,2],\"coloraxis\":\"coloraxis\",\"symbol\":\"circle\"},\"mode\":\"markers\",\"name\":\"\",\"scene\":\"scene\",\"showlegend\":false,\"x\":[58138,46344,71613,26646,58293,62513,55635,33454,30351,5648,51381,7500,63033,59354,17323,82800,41850,37760,76995,33812,37040,2447,58607,65324,40689,18589,53359,51381,38360,84618,10979,38620,40548,46610,68657,49389,67353,23718,42429,48948,80011,20559,21994,51381,7500,79941,7500,41728,51381,72550,65486,79143,35790,82582,66373,82384,70287,27938,51381,55954,75777,66653,61823,67680,70666,25721,32474,88194,69096,74854,66991,51381,65031,60631,28332,40246,75251,75825,26326,56046,29760,26304,23559,38620,81361,29440,36138,50388,79593,54178,51381,51381,51381,42394,23626,30096,47916,51813,78497,50150,47823,34554,85693,65846,87195,24594,49096,52413,38557,89058,77298,68126,57288,86037,43974,50785,90765,36550,30753,21918,56129,32557,19510,30992,101970,71488,79607,54348,51381,77376,62998,61331,73448,51381,41551,62981,9548,33762,35860,36921,92859,65104,86111,68352,41883,59809,23957,38547,35688,49605,59354,65747,46344,34176,61010,69372,49967,60199,55375,80317,30523,70356,23228,74165,157243,43482,62551,52332,66951,26091,33456,28718,50447,53537,52074,80427,83837,38853,38285,78497,51650,16248,66835,30477,28249,25271,32303,61286,74068,45759,24882,66973,36640,38872,51148,31353,69661,80067,86718,46854,69142,75922,63693,102160,40637,18890,29604,48721,44794,64497,46097,77972,44377,46014,70951,41443,52195,83790,44551,69508,45204,72460,77622,30732,63887,42011,51369,51537,79930,34320,37070,81975,38590,15033,62745,22212,23661,79761,7500,60182,73455,64961,22804,73687,61074,31686,80134,75027,67546,65176,31160,29938,102692,26490,75702,30899,63342,45989,18701,40737,15287,69674,44159,37717,43776,38179,80124,38097,72940,22070,69267,31788,61905,29315,33378,66313,60714,77882,69867,63841,24480,51369,37760,65640,44319,30631,75278,50898,79946,35416,32414,38361,82497,16626,29672,55951,35388,42386,68627,57912,35246,58821,46377,39747,23976,80950,27038,77457,64100,42670,12571,22574,51381,70893,54198,28839,40321,66503,30833,51381,64795,34421,47025,64325,40464,62187,14849,27255,54432,29999,24072,33996,66334,35178,22010,62204,75693,30675,83003,83532,68655,41411,55212,59292,27190,82623,44300,84835,30372,33181,71113,71952,69759,72099,60000,38643,50737,68462,65073,46681,78618,62187,28442,37717,51479,54803,79530,31615,72025,52614,35684,48178,29548,63810,38578,46098,22585,30279,66426,30822,33581,19986,27421,35688,36143,10245,43795,63381,38823,83664,90300,62499,74293,51012,70777,68682,43824,15345,23442,14515,31395,75276,42373,30507,55521,48006,27213,65808,30351,50437,23616,53858,66465,46923,75072,75865,19789,80134,91065,49505,37401,30096,18492,82584,93027,48686,92910,75433,10404,61314,84865,42387,67309,75236,30015,50943,67272,51529,32011,7500,28691,56223,18100,30279,20130,23295,42618,81246,24027,55707,57959,56796,36230,70829,65991,38988,89572,42207,50300,66664,60597,70165,50520,80124,33183,66582,75261,31880,53790,49269,61456,37406,56937,38415,20518,62503,41644,55842,62010,41124,38961,37760,32233,43057,83151,78825,65104,60093,14045,28457,78952,46310,76005,58308,55614,59432,55563,78642,67911,65275,27203,48330,24279,64355,50943,53653,65665,81217,34935,61250,39665,60152,48920,89120,44124,81169,36443,26095,71367,80184,30630,73454,42691,70503,25545,32880,77863,50353,61839,49154,47682,72679,57954,65316,28567,47352,44931,76982,57247,22944,25315,43638,42710,84169,54058,24683,85620,47850,19514,27159,39548,21474,60504,22419,81698,43462,54880,79908,15315,87771,33039,81741,71499,62466,48799,52157,66565,29298,47691,38200,44989,38443,38593,64413,36959,61996,51287,13260,47472,54603,45207,40689,47821,27450,39453,26850,79800,61794,53863,24221,39684,92163,69882,33178,59973,17459,23910,42169,26224,31089,30081,62807,72906,61467,49618,21888,42429,26150,30801,81168,26877,45006,18978,22574,48240,45837,35791,162397,54162,30522,54456,31632,72298,36975,72635,13624,84196,70971,34487,28769,69084,65488,62466,32218,83917,46102,84574,56181,63120,73691,63381,76140,62859,45906,77632,46463,105471,55282,78710,66886,98777,29103,67445,50616,49431,153924,61278,26490,73059,46734,56253,19986,58330,25965,14661,18690,45068,21063,29187,54690,59304,59247,66731,77353,52614,26751,81300,70337,36145,65295,68118,68743,41039,38946,65777,66476,86857,160803,77845,69476,50611,61209,42315,13084,47570,61923,34824,26518,45938,78468,78901,71427,71022,90247,41335,71952,35682,43185,66375,35178,25252,55250,33249,58398,50272,76618,87305,25851,58710,45160,74806,59111,18988,72190,7500,44794,80395,75012,56962,89891,35946,53593,66373,45072,89694,72025,67432,70545,17487,62882,64108,34941,48767,38702,82224,83844,17003,71163,33697,63564,83443,51518,58330,80952,75507,63855,62220,58512,40662,38829,35523,79146,78285,31626,75127,48726,74985,67430,46891,62058,72063,78939,42720,33622,6835,41452,40760,74250,51124,72258,71466,36283,20587,30467,31590,20425,17144,42564,43783,40780,62847,82017,16813,51267,46524,45183,70421,60161,73926,19329,61872,46984,34838,82716,48192,49681,56850,55267,59666,72504,26872,21359,73170,52750,91820,65968,30772,22507,65685,25804,76412,22063,57091,22419,87771,78353,93404,37859,80995,16529,55412,48789,56575,25130,35441,71391,49494,81702,45889,56628,34026,40049,34176,19419,82504,81205,61618,55284,49980,15072,49166,65324,82347,30843,46374,60474,38576,55357,37758,85710,23228,44602,7500,38683,49514,57906,43456,19485,53172,30545,70123,62450,21675,42395,61346,80812,42835,39922,86424,17117,24762,35797,36627,51111,86857,82072,46231,42243,51195,68092,31814,51390,76630,26868,48948,55260,64090,78331,37087,21846,81320,54137,66825,57100,58917,85072,86429,45684,47889,45921,78420,75114,52278,35641,95529,62820,73113,84169,42607,74637,46015,72354,39858,34469,83033,24401,77583,74116,74293,68397,79632,46107,64950,25443,75127,32892,71796,67536,55239,60554,64831,56067,82025,94384,14906,51563,57937,68274,39771,67893,27922,52190,44051,42767,46106,16927,59754,53700,59041,54237,70647,52597,41021,40233,50183,54753,92955,33471,34596,44010,84219,40706,15716,59052,80573,83715,82576,56962,35704,53103,46779,4861,33462,63693,80763,65352,82170,75759,79689,35340,85683,24884,42021,64449,64587,34824,75437,26091,52845,46086,78028,95169,56337,22434,36930,36130,65569,83844,19514,36736,77568,49187,30168,34053,38196,59412,70924,54165,32300,20180,34961,28440,64504,33564,17345,56320,28647,15038,32173,68316,74538,91700,68695,31056,79593,28071,37334,46423,37126,47703,61180,38998,8028,76081,34728,33168,33585,77037,35196,44529,70924,28764,69098,25959,27100,70596,42557,53312,72228,67605,62845,65196,42000,35860,65526,16860,83528,64176,22304,67023,32892,70713,59925,39722,46610,88347,87171,26907,50014,41014,66294,36715,79456,40479,75345,54233,24163,84460,43776,71691,85844,39190,71367,38578,57236,61825,79803,80910,27590,56775,83829,54210,38508,53187,30023,76045,50870,15315,65463,66480,76773,81698,54466,98777,16269,71819,33569,36262,22634,47025,70566,31605,52034,48526,46734,39552,86358,46931,16581,63998,67381,25930,42693,85606,72903,49669,36778,85696,10979,49678,56129,37155,21282,33419,63285,21255,42162,54450,57744,26576,57513,68142,7500,83145,54197,23091,46049,56715,79410,57304,44375,54450,59594,80685,40344,62710,48985,35322,77142,81657,14421,20130,74214,66726,23724,47353,33444,54386,28510,90638,48070,43140,54959,15056,26954,22327,44393,62000,31497,45894,78579,67369,58401,62307,43641,63841,46891,70091,78075,59184,54809,58113,51412,15287,66636,50965,84618,18351,40451,36317,42213,65748,77044,74918,56721,42160,61559,33629,68682,34377,8940,26228,77297,40211,33438,75032,61284,22518,54730,38452,44421,38197,41986,28427,37395,64722,55249,84906,28691,44213,25707,59062,76624,66000,27683,1730,7500,40521,20427,65106,69969,67433,77766,74716,68118,55158,62972,74190,39356,76653,35860,90687,73450,31454,47139,83829,53378,19656,45579,85485,55956,64191,38808,57183,23748,66303,37368,40800,71847,46149,78687,49118,37633,39767,26997,33986,57091,46831,83151,52531,15759,22804,43050,42997,48918,60033,34043,57811,78569,7500,157733,94384,23148,44267,71626,60894,50200,81051,65169,59868,65695,64857,45143,74805,59060,27238,47009,46094,40321,37235,81843,46692,77382,37774,18393,72828,24711,45503,6560,71604,27244,48752,71434,90842,88097,51948,71853,35876,40049,39660,50127,43263,62845,18929,24367,33249,26887,50150,62061,85696,76542,70515,18227,69139,69109,69627,38136,62159,80695,33316,58554,17256,53034,52203,59601,75154,47025,37971,41335,67267,57338,50523,35791,50611,56242,48904,56243,21355,57420,51381,46390,54342,51381,51381,20895,92344,51381,26907,44964,75507,53761,22682,38887,41658,29791,63915,39996,26759,63841,51039,60544,65685,37716,36864,44511,36947,47352,67087,57045,36957,69389,80134,43142,80589,34412,57537,22634,51315,36026,24639,34578,65704,63810,54132,18690,28164,34596,43269,38741,31907,27100,31163,92533,34853,70844,31086,60544,20491,42523,39922,33402,36408,21645,78427,82657,51876,78041,52852,70038,69401,46053,77343,73892,40304,32727,68695,43300,26290,93790,38410,64866,57957,46015,16531,28072,49476,50725,83844,41145,67419,23162,34380,34704,94871,65148,39898,64857,59892,41020,57072,60474,62807,19414,19107,75484,70379,79419,64014,76998,49854,60585,42873,87679,57867,35765,65492,32952,53374,71706,68487,53253,31163,42014,54108,49667,63206,57136,46772,78931,53977,84219,46098,73538,79529,20981,51766,55759,33039,37787,27242,87188,69930,37697,37401,3502,58597,82032,28087,74004,19740,57036,53083,69283,46098,23331,23331,9255,67786,71969,59235,31928,74881,65819,51411,51983,42386,30390,30983,66033,37284,57530,76800,63943,76081,67445,37054,47175,31859,27215,70179,39922,49681,24645,79865,44322,47958,63972,75315,55517,75283,82800,38998,90638,27161,42014,38201,45203,81574,34935,60482,34633,78093,82460,45903,81361,35860,40442,61482,34968,75794,31497,74268,13724,45143,52569,48432,17144,36108,76445,36663,53843,90226,70638,44512,27116,54072,71855,51250,60432,65526,68655,12393,64509,33955,31353,55434,28359,57100,69139,52973,51717,18793,66664,50664,54414,54549,47111,41003,19444,36301,73059,42731,52854,22775,46681,59821,50002,69755,44078,30560,35924,64140,56386,24594,75774,39228,58494,58684,57136,56551,22448,82014,34213,157146,25358,35544,36634,62670,50334,72066,50729,34916,64892,43602,33996,41473,63246,36732,69084,77766,37929,86610,80141,72635,69016,20193,27573,15862,49544,33228,70440,38232,22554,23536,49413,42231,78789,56534,58350,81217,49090,61787,18169,24336,18222,62335,42033,86580,41437,73705,61064,38452,18358,55012,9722,38175,58656,52117,64813,54222,83512,77520,41154,80398,18746,35196,60230,22108,44392,55424,17688,92491,90273,82571,38513,16653,42586,23529,74881,71107,46910,18690,37244,82427,75342,70044,79146,77437,54984,42403,55761,37292,45576,70321,58086,81795,28389,66835,69901,80360,63342,44989,31859,51569,30372,16014,41120,39763,38725,77981,62905,13533,59481,72117,21955,67131,36802,71853,28249,47808,25509,51012,70596,85431,42664,42586,29760,28973,39435,65370,20194,42473,64590,71232,34600,46904,49094,36075,60839,77298,34026,48918,82122,37697,34074,28520,62535,36273,63404,75774,78416,75702,59385,37070,44689,53977,7144,18701,90369,63159,37758,46757,79734,63207,72071,21840,58582,72282,50387,32583,62568,44635,33316,63967,52513,25293,54111,78394,80739,22669,29236,44911,54693,48186,54809,41580,80336,47743,62972,57333,32313,84953,27071,68148,65735,86836,4023,30093,57705,25008,83257,22280,72159,64260,82733,74290,58217,21024,70116,54006,69063,11448,61825,70886,69109,60208,32889,34738,30538,82326,26642,69932,44503,60200,49638,23830,33051,72905,69702,70300,70643,30396,50616,62772,30298,52413,44155,86979,76532,42081,67546,88420,31158,61671,69719,49160,24882,90933,113734,59292,45759,22148,73395,29819,45688,62820,60491,33235,35701,31535,92556,67384,80573,77870,52278,57107,18929,36038,20180,34230,31878,70932,91249,77598,80982,22701,55212,70617,64849,62694,61917,67472,21059,29543,75903,34984,54998,54356,34242,25410,73356,28320,23763,72570,34529,70792,63211,83891,36065,39898,51141,56939,80872,72335,61798,76842,29478,46998,96843,56551,70053,71670,44359,40887,48877,74485,64474,77226,72643,85738,55686,39062,34600,40794,54690,4428,32632,38236,36781,31385,24570,25509,94642,58646,53201,21994,57113,51373,23477,58116,72968,39791,91712,94472,13672,96547,79205,56559,32644,67506,24206,28420,22979,33279,46423,30368,63684,41638,68805,65814,71964,39146,96876,34445,68281,37284,36790,27943,22263,30261,28587,43815,48195,77027,71322,32765,29672,23272,49912,7500,68117,67225,17649,55914,40059,60905,75330,60689,38680,61416,49767,83273,29009,45057,37150,43020,53154,65308,76467,81044,32871,55801,76320,36927,48794,23478,71128,70179,59462,51381,38361,51381,70038,42554,67445,67046,42192,77610,31761,34350,54591,71866,25293,42000,69520,64713,27889,22123,51381,51381,27803,51381,51651,68487,51381,56796,87000,79823,30828,34109,53367,22390,71322,79244,49912,48699,80144,54252,81929,76068,53204,67911,14796,78128,14188,20425,58646,72967,48150,82332,58275,44953,34587,43018,45736,66476,27733,69805,72217,25818,37509,25176,43586,53230,50116,84906,61286,82333,65220,33590,30992,72309,156924,16005,65487,58692,40590,20587,62637,29435,19346,35788,36997,23539,65333,78499,29732,41275,63516,42769,49572,69209,17148,40590,30560,32146,41713,34176,58482,59686,60896,62994,47320,74859,15253,31560,72071,91172,90000,41967,69263,65706,60934,71965,65210,79174,81380,48432,52914,38946,26067,44325,42523,26487,53233,67716,76234,84117,65487,25224,89616,40851,27469,82347,73803,8820,43322,55593,50501,37085,16185,57731,48432,73807,18929,35893,61014,32144,14918,45146,41769,88325,38054,80617,5305,36807,28427,82032,22775,40101,58025,75777,7500,33562,57642,58554,63777,57967,51381,24434,11012,44802,26816,666666,34421,61223,64014,56981,69245,52869],\"y\":[1617,27,776,53,422,716,590,169,46,49,19,61,1102,310,46,1315,96,317,1782,133,316,1730,972,544,444,75,257,637,131,1672,30,318,120,302,1196,65,913,81,67,902,1395,53,22,186,31,984,122,55,124,1319,507,1693,72,1617,606,1957,1093,29,46,518,1438,612,884,606,1076,34,11,1274,653,1562,1253,109,863,661,65,13,1890,2209,18,692,165,16,79,318,778,56,151,372,1366,194,603,18,985,32,43,45,606,63,978,410,72,55,1169,1120,1097,29,187,910,145,850,969,1820,608,730,551,114,1724,577,81,33,660,80,30,43,1135,559,1923,90,404,661,463,632,725,725,279,1482,29,106,49,38,2077,1053,1385,871,312,877,68,22,211,127,459,460,429,89,1021,1381,306,18,162,1231,13,1706,121,1293,1608,88,421,259,1117,89,36,57,148,93,119,1835,1318,45,10,978,191,57,1033,66,43,50,39,608,1581,68,80,1282,65,91,315,31,834,1600,1270,263,535,1295,1150,1240,38,35,53,293,65,1804,241,1101,264,541,1198,482,17,1615,285,1135,114,1047,714,185,1245,189,576,1103,1753,17,433,1588,22,19,1117,69,23,605,57,22,2088,1009,26,1627,1102,17,1690,1390,2126,1531,64,26,1112,210,1148,33,1101,322,44,17,31,845,275,25,275,90,1495,184,981,67,1635,60,231,48,99,770,957,818,925,908,102,576,317,461,37,70,930,859,1478,390,52,137,1919,68,25,1374,32,100,825,916,62,728,90,273,66,1213,107,1157,546,241,53,37,1611,1508,235,32,102,401,28,1052,680,30,20,1307,630,1283,65,37,38,160,23,71,1161,59,33,946,1442,62,1674,1853,1538,139,1182,507,18,940,42,1190,44,16,835,1443,1029,1188,1277,49,99,1670,900,425,2153,636,57,25,494,693,1348,51,1932,990,30,254,29,1371,73,120,81,37,1377,51,17,22,324,211,19,41,492,1005,114,1173,1738,222,1127,209,787,1598,186,47,27,96,64,1040,163,343,446,41,70,272,46,490,79,915,1485,369,1073,1242,78,1378,1474,751,48,45,10,1435,2119,20,1795,1188,43,1008,1688,684,1082,1068,57,46,733,467,122,36,34,156,14,37,34,20,192,1379,48,428,868,1001,59,431,971,348,2059,265,270,1289,893,926,135,1495,120,1288,1743,15,542,890,1388,17,906,44,25,973,31,518,530,506,70,54,296,266,747,895,1053,735,20,205,2092,309,1722,900,682,663,43,1816,976,746,64,32,263,1445,46,1210,945,1157,137,730,216,943,347,1924,397,2089,138,42,777,1902,52,1651,358,1727,210,42,1291,442,1895,411,521,1168,493,260,46,319,96,1062,232,76,54,201,406,1919,662,41,1600,134,69,21,54,91,526,162,1008,240,795,1772,64,1957,78,1572,795,889,331,265,1065,11,21,17,369,38,177,279,62,1230,182,49,75,227,215,444,47,143,55,63,1867,611,473,55,81,2086,1478,49,382,69,67,30,63,79,42,819,1151,594,129,213,67,28,45,1193,268,266,37,37,882,373,35,107,42,326,404,95,939,33,981,36,1237,1825,103,191,1586,963,889,93,1587,16,1375,393,1477,1179,1005,1348,1307,486,2252,235,1724,235,1092,599,2008,48,1174,67,365,6,165,210,1095,223,597,22,1064,74,26,60,20,59,34,198,1048,574,1029,670,990,11,1241,576,172,664,928,2074,467,257,1146,689,2114,1717,1346,1044,493,957,270,29,121,126,23,57,636,1004,734,614,1453,1621,187,1443,57,637,948,59,18,903,112,596,233,1511,1152,48,1185,21,965,869,16,1947,71,65,1380,1027,411,836,11,480,606,284,1472,1677,1335,334,18,1338,1099,97,63,109,902,1574,38,960,28,1215,1497,449,1064,1757,1440,1006,1226,1171,92,99,66,564,1427,86,833,242,1869,1364,183,450,758,1507,654,81,137,16,93,1158,43,1525,1230,29,25,24,38,57,47,813,629,377,1612,729,50,270,177,315,767,1071,1580,60,573,41,170,1167,1526,458,63,405,1027,1478,72,48,726,860,1497,495,20,570,769,55,1808,55,577,162,1957,1576,1616,36,1482,22,63,680,542,50,39,1043,385,1633,46,761,76,290,89,70,1066,2009,1345,764,195,53,368,544,1853,35,446,1180,41,727,40,1062,40,292,15,341,369,401,393,10,486,69,1727,995,45,182,989,1677,595,156,1226,128,86,68,16,55,2114,2018,263,55,564,1281,83,353,1003,14,902,1139,797,1638,401,84,928,203,858,409,282,1423,1449,28,67,199,1453,1253,1198,178,1990,976,1001,1919,350,1650,46,1228,95,62,1761,467,1149,2052,1127,1416,1113,125,966,32,833,46,960,1829,779,811,1120,725,1187,2302,66,1250,683,305,50,995,41,77,171,131,54,53,475,694,96,361,1079,578,64,149,231,728,1778,93,23,662,1198,81,92,491,1564,926,1910,411,94,1085,23,6,54,1150,1415,405,1908,2486,1315,45,1789,19,573,805,108,23,1493,89,936,343,528,1901,724,58,297,488,859,1574,69,17,2194,116,279,103,44,406,1363,236,39,137,79,63,1314,71,58,702,94,80,22,1211,1461,1968,1091,55,1366,313,62,92,72,655,704,54,178,1033,36,122,122,1123,497,691,1363,12,2440,56,37,968,270,278,1250,938,1178,1155,653,49,506,38,1650,1826,18,906,46,1477,766,47,467,2116,1298,22,396,20,967,357,1401,15,2087,981,17,523,23,1192,1958,133,777,73,121,424,868,756,12,937,1862,367,443,267,61,1323,63,64,562,312,1156,1104,16,2008,44,1574,63,426,96,635,757,125,332,135,330,384,1722,78,24,1168,957,15,57,1956,2013,326,77,1313,30,315,660,74,46,86,1103,61,145,684,411,27,1060,1459,18,1833,237,48,515,1020,1370,1026,301,684,499,1004,218,606,75,106,990,1097,16,34,1711,438,75,225,18,470,91,2525,504,235,1232,88,17,24,60,1020,155,51,1812,1461,96,160,139,908,183,1161,988,1072,174,758,195,31,1084,685,1672,43,49,133,363,545,1065,2047,296,140,530,152,1598,114,101,25,789,87,90,1215,811,61,405,72,189,40,63,52,39,805,130,1631,34,152,21,71,899,711,351,8,119,21,10,973,1536,992,1529,860,928,418,587,641,23,2279,49,1779,1804,48,83,1862,793,84,183,1383,999,825,246,610,76,1286,30,99,1192,362,2130,1229,38,485,434,44,496,78,2346,794,17,26,76,15,62,198,49,802,1736,57,59,2302,37,310,1305,832,401,1501,1189,1194,656,1540,311,820,274,57,448,44,102,61,1643,397,1121,473,50,1678,58,170,373,1196,101,316,1400,1424,844,311,1149,129,32,299,320,441,1178,85,24,112,30,410,800,1313,1483,1258,28,227,1555,861,103,634,1918,131,586,62,447,939,797,1143,415,30,187,251,237,91,35,493,971,371,396,68,322,317,222,177,45,21,45,1899,42,22,41,1440,325,95,42,72,20,789,15,59,908,417,289,769,188,354,727,146,319,794,454,152,797,1690,20,1428,209,545,96,222,61,44,8,817,1371,42,60,78,23,19,61,449,37,38,1131,34,294,48,289,30,125,156,70,22,65,1930,2283,310,1319,879,1244,690,209,1134,1507,57,529,1091,180,77,2349,534,556,637,46,44,47,795,586,1574,13,1471,65,175,40,1078,1115,134,1540,87,217,1034,1180,819,32,46,1159,860,1631,444,1910,380,736,269,2524,612,75,1045,55,1064,1443,1366,436,38,436,747,1396,928,642,1048,943,907,1198,120,1658,1638,73,275,854,78,106,106,1923,1662,84,48,5,733,1234,112,1658,55,1513,271,904,120,103,269,22,1156,1086,1128,72,964,1383,18,793,100,80,167,677,23,92,641,1106,1033,1174,25,240,20,102,1034,156,458,17,792,92,407,1269,841,633,1019,1315,54,2525,52,436,268,147,1798,137,507,15,1105,974,66,778,49,169,299,221,1682,155,892,58,311,95,424,47,339,1410,35,562,2352,1334,32,41,39,1141,710,401,506,1538,57,1722,270,31,882,16,311,227,1152,122,77,1289,561,211,233,1092,601,54,78,1095,244,116,15,425,734,638,894,41,31,34,1750,612,29,823,20,396,813,1179,138,55,1511,117,1730,32,67,335,825,694,1792,496,231,902,68,71,76,772,47,1586,1529,265,1603,2091,981,1533,82,244,36,404,71,1572,122,41,10,304,37,1754,815,1001,1157,688,1319,21,31,67,708,25,746,32,1695,1080,72,57,660,103,153,1220,279,745,264,2157,1526,69,1597,64,497,1067,31,211,877,11,2034,1991,1686,324,69,252,54,964,1327,68,60,55,1456,563,1504,564,1125,358,42,184,460,145,1376,792,1382,28,1033,882,2231,1101,369,48,467,44,38,81,167,45,664,622,48,461,1073,55,976,20,1149,43,224,101,209,968,1165,24,252,165,269,102,461,47,144,1338,917,318,253,502,119,1250,969,76,62,1382,84,255,43,398,76,902,823,1179,1921,185,433,34,907,416,44,1588,1797,40,1143,914,1502,1338,27,763,1331,525,9,953,68,131,882,1149,37,388,1428,1633,173,99,215,929,219,174,92,1052,275,587,1662,159,1024,35,1042,395,557,9,69,486,34,1365,13,1401,1574,1323,1217,103,84,1536,581,928,14,424,960,1555,656,55,20,367,2257,42,1049,48,685,39,43,835,1515,1039,1596,1828,34,149,946,28,450,46,1702,820,382,2126,2069,72,732,801,236,80,1685,277,507,68,49,397,39,306,976,1028,70,46,51,1263,1490,1564,1815,1198,416,85,47,137,21,70,909,1676,1735,1191,24,1182,1280,1336,749,91,414,44,63,901,38,455,775,15,38,1512,43,42,1089,162,1272,1173,816,74,134,157,561,1336,2092,463,1130,20,377,1544,138,1012,1766,45,161,144,1734,823,1138,1429,1371,982,44,318,434,198,359,576,88,63,27,193,101,2211,140,415,22,263,393,147,443,1958,174,2217,1691,25,809,895,484,413,331,25,13,115,16,92,52,1464,441,283,747,1870,165,1941,839,1655,23,66,37,21,22,78,79,265,1175,1305,46,25,46,874,100,930,868,45,1260,414,392,1109,639,79,1665,692,1392,44,50,467,223,158,1211,1575,1208,43,527,932,71,54,129,1615,1034,1088,721,137,47,1244,41,1174,993,100,1680,98,48,519,715,37,653,1455,602,26,102,97,207,176,450,433,1366,1564,1001,961,1518,56,22,400,26,350,1216,874,40,1367,264,2053,1376,45,976,51,1264,75,57,140,497,266,2006,615,1021,22,133,437,1013,57,1038,1573,28,123,13,132,732,66,1631,608,1822,1282,8,43,1931,8,103,1169,395,258,25,185,180,22,44,94,81,798,1334,38,61,300,88,54,1782,68,258,31,66,174,28,731,274,1701,312,414,1565,29,94,1338,1092,1479,54,568,1199,873,1213,731,2043,1893,424,575,257,56,542,125,69,40,1016,907,1566,1169,46,1644,59,17,1853,1528,35,141,546,500,61,106,704,424,849,85,199,1147,54,43,53,521,1623,45,1435,32,16,52,1234,15,415,470,1438,53,51,679,586,653,468,1679,50,84,1049,22,62,30,1341,444,1241,843,172],\"z\":[66,69,58,39,42,56,52,38,49,73,40,47,64,71,36,77,43,77,74,38,41,44,74,69,72,54,47,37,34,58,34,60,53,71,77,72,53,47,50,80,43,38,66,64,48,47,27,55,72,69,66,59,46,46,45,68,57,35,41,55,41,48,71,72,75,52,56,44,65,53,69,50,64,48,71,46,51,47,47,58,38,54,50,60,36,63,53,66,50,56,66,66,50,51,53,40,63,51,72,40,63,64,44,78,64,44,59,54,45,63,44,32,60,32,43,61,53,45,56,54,70,56,38,47,40,58,39,70,62,67,71,65,54,60,59,56,47,64,50,58,31,47,61,49,35,47,48,42,50,57,70,54,51,35,71,74,65,45,46,68,65,78,39,48,50,57,70,64,35,66,58,41,53,64,56,48,75,53,64,72,47,35,77,39,62,40,53,57,47,59,45,34,123,35,50,46,43,69,69,50,71,55,45,46,58,39,35,60,57,69,67,69,55,49,38,46,45,75,69,43,35,54,53,43,61,45,47,71,51,37,57,61,52,72,58,48,41,65,50,130,55,65,52,33,65,59,51,70,35,54,48,38,49,65,56,49,62,59,59,66,44,55,53,45,71,57,60,53,53,53,70,40,48,63,60,60,67,42,37,55,42,47,77,49,48,49,71,67,57,74,39,54,43,52,58,71,35,37,41,58,65,67,45,35,39,62,57,76,59,31,47,56,34,47,57,67,51,38,72,53,52,49,58,62,70,66,47,39,73,37,40,34,67,52,40,63,55,51,58,124,35,37,54,73,50,71,58,53,52,47,66,37,57,49,47,45,68,54,80,75,66,54,45,45,56,54,63,47,61,48,39,48,53,57,51,48,53,34,62,54,54,38,69,50,42,52,55,63,74,55,44,44,30,77,55,32,52,39,36,43,67,58,49,63,68,58,51,52,49,60,41,47,68,36,61,80,48,29,42,52,50,40,41,49,82,70,37,34,34,55,62,34,56,59,53,67,57,74,52,37,34,75,77,34,49,64,51,59,47,70,68,54,52,43,47,51,57,39,71,41,59,74,65,60,48,54,68,53,72,52,48,43,42,45,35,67,51,46,51,46,50,51,49,48,63,59,47,49,54,71,65,47,68,59,79,61,45,52,74,79,73,62,33,38,67,70,47,34,31,64,42,44,59,64,77,48,62,33,64,79,58,36,32,70,36,37,65,46,59,63,48,54,46,61,41,72,56,56,71,42,46,54,39,41,47,33,59,43,55,50,60,34,52,60,74,71,45,41,53,64,45,43,52,53,60,73,61,72,44,53,49,55,45,53,42,46,55,53,57,67,49,72,56,72,40,52,68,62,68,64,39,48,58,46,51,48,54,54,45,42,62,63,68,75,57,37,50,67,48,58,54,79,50,56,54,49,58,47,45,63,62,52,74,45,68,47,48,63,46,46,53,65,53,63,50,61,71,61,73,52,63,75,64,59,76,52,53,53,46,65,63,38,49,73,68,48,70,65,76,57,60,38,48,43,67,64,49,36,55,52,59,61,53,43,48,49,60,44,38,43,60,56,41,68,56,47,51,41,34,54,63,53,65,71,74,62,28,74,62,63,50,45,45,35,55,37,53,72,75,52,37,58,48,70,41,48,63,45,53,65,58,69,39,58,47,57,68,47,58,32,74,70,45,75,50,74,50,71,34,54,70,67,73,45,59,71,48,28,53,69,51,65,48,54,44,45,51,59,44,64,42,56,35,45,71,68,46,36,58,67,44,72,58,51,66,70,58,65,68,52,49,47,53,51,51,37,63,55,45,47,78,66,73,45,62,61,69,58,50,55,53,67,72,79,65,47,52,66,51,51,42,51,48,68,37,53,47,69,51,45,43,51,62,60,64,64,69,61,65,39,47,31,56,43,56,67,51,43,43,46,73,49,35,42,63,53,32,67,60,43,49,69,66,57,49,44,50,38,57,34,54,54,36,34,48,50,57,37,45,44,40,64,47,42,45,70,52,40,67,45,51,48,48,42,51,53,70,64,61,45,50,58,40,32,80,51,67,65,49,37,65,53,56,50,54,46,62,52,49,37,57,31,60,51,29,69,63,41,69,69,68,30,54,75,37,44,45,41,30,47,49,34,72,34,71,52,52,53,52,48,71,61,40,70,37,36,41,44,46,48,44,47,50,52,47,47,58,71,50,66,56,61,54,48,43,64,50,50,49,43,35,55,35,64,52,61,64,58,71,69,63,58,44,45,73,49,45,54,47,67,69,51,42,34,69,28,45,66,50,67,67,36,42,36,69,69,70,71,55,60,44,47,45,55,52,72,58,54,50,47,50,49,70,57,45,56,45,36,65,59,52,52,54,46,50,43,65,51,52,70,64,69,32,61,37,58,57,63,39,57,58,57,74,53,40,38,49,72,71,36,74,65,36,50,59,62,31,58,67,45,52,57,68,70,65,62,42,47,55,45,58,52,67,41,53,46,53,65,40,65,50,49,64,51,58,44,65,37,41,44,48,44,37,53,51,63,71,53,49,58,69,40,50,63,39,52,40,40,57,45,55,44,50,44,69,61,57,46,38,71,72,56,45,47,38,49,55,61,34,62,70,34,45,61,78,49,42,67,69,37,80,59,44,49,63,60,47,49,62,72,58,67,58,29,49,51,55,55,75,54,27,49,33,66,44,63,71,42,42,32,73,66,62,65,52,38,58,71,61,49,53,54,63,71,54,55,58,54,51,62,46,64,65,44,66,67,58,33,66,58,66,68,51,54,51,48,58,60,32,60,37,50,66,42,65,64,68,37,48,68,52,37,45,40,47,52,67,51,34,71,39,56,61,76,45,52,31,55,50,48,58,71,56,51,60,53,68,48,47,54,50,40,41,63,71,48,60,53,75,65,79,60,51,57,55,52,48,59,45,48,40,52,66,72,72,53,51,54,51,52,67,52,50,46,60,69,45,57,77,45,52,70,38,53,44,57,47,58,41,51,63,67,58,68,34,61,58,50,51,39,63,65,55,46,49,61,41,48,41,78,44,54,61,75,45,48,41,40,71,41,61,46,74,33,41,48,64,40,47,61,67,30,36,58,41,61,45,77,60,52,55,31,49,73,46,65,47,50,55,65,48,63,58,63,54,63,48,38,52,53,68,67,65,59,50,75,51,47,43,44,51,50,51,48,51,67,49,51,55,54,62,51,70,66,53,56,72,70,73,70,46,51,54,79,33,44,57,75,51,50,51,51,57,54,64,53,49,51,65,51,40,50,38,50,56,44,62,37,59,40,71,74,44,75,77,65,52,66,41,50,51,58,70,56,58,54,52,51,53,49,73,64,68,45,37,60,70,71,73,53,53,46,57,54,65,69,67,53,36,62,44,63,42,43,47,47,53,77,68,51,52,73,35,45,33,64,46,54,64,35,48,50,46,50,68,49,51,48,52,65,35,48,58,37,46,43,61,45,51,53,40,52,47,50,50,47,75,65,36,63,48,65,48,48,35,35,34,64,52,56,34,62,45,70,59,37,36,60,66,48,72,58,67,61,49,56,61,47,62,47,40,47,35,69,38,71,59,69,73,66,77,69,32,37,46,63,41,76,31,47,67,76,73,57,36,50,71,58,43,36,61,68,35,58,56,50,63,39,52,48,58,67,68,63,62,60,46,33,50,59,35,45,33,48,46,39,40,36,58,67,58,52,41,64,60,71,52,60,41,47,76,54,64,45,75,68,69,78,54,47,54,59,42,44,42,63,49,42,56,73,41,62,60,46,76,45,69,69,51,42,65,55,47,57,34,38,56,64,53,56,38,72,37,68,53,32,48,44,47,43,45,52,68,40,71,54,43,55,52,34,72,36,38,42,33,71,52,40,66,72,47,68,34,50,50,39,67,58,45,50,37,64,45,57,31,39,67,46,49,47,44,40,32,61,41,44,68,58,62,72,59,64,68,57,65,69,56,60,64,52,59,40,78,76,54,71,76,77,54,74,62,49,43,74,52,44,55,52,68,51,59,44,48,46,37,67,43,41,62,48,49,77,38,71,56,68,38,46,50,39,44,47,55,64,52,56,50,40,44,44,73,60,61,47,71,63,68,46,59,42,47,49,72,57,72,65,57,59,67,49,57,60,54,31,69,40,41,72,67,62,61,52,52,55,45,54,58,37,65,48,36,64,61,49,46,45,53,66,68,69,41,70,55,66,58,48,60,33,57,35,28,48,45,62,39,52,72,47,51,38,57,48,44,52,41,50,55,39,52,46,56,59,51,75,71,36,64,65,72,48,39,54,55,54,38,39,66,52,48,41,35,34,38,55,49,74,45,69,78,73,59,40,36,52,55,69,52,37,64,43,63,53,52,56,60,55,33,42,47,58,46,51,67,80,64,46,54,53,66,58,49,76,41,55,72,48,67,74,64,50,39,73,46,39,47,72,41,49,55,69,83,47,72,47,59,73,47,67,33,73,58,61,45,71,57,76,51,60,74,45,57,40,52,48,52,54,60,55,44,39,39,49,72,61,48,66,45,32,37,67,60,52,76,65,63,43,48,48,50,43,53,56,53,57,51,46,53,59,64,57,65,37,46,42,65,48,40,56,72,51,45,41,67,71,58,44,58,70,74,38,76,68,47,48,39,73,46,72,39,41,32,53,42,44,52,53,64,50,53,76,72,48,64,68,70,58,50,47,73,54,54,42,41,45,49,72,75,71,39,44,74,67,54,36,40,53,46,63,52,69,50,68,63,35,80,54,31,64,43,52,49,54,47,30,74,73,48,67,47,48,47,74,39,49,51,37,61,53,74,62,68,42,70,49,69,54,42,71,61,52,47,47,43,67,66,51,57,37,58,49,47,47,74,43,66,58,54,53,69,57,49,52,55,66,50,66,52,63,50,61,65,51,47,54,47,40,59,48,68,58,59,43,66,74,31,49,69,33,39,42,58,53,48,72,68,48,56,50,52,68,49,51,59,45,66,63,51,67,66,51,40,52,76,66,66,71,49,50,69,48,33,54,50,45,33,55,43,69,60,60,68,42,73,28,47,69,40,75,45,38,44,41,44,60,53,55,44,61,45,51,39,53,37,46,49,56,77,42,67,69],\"type\":\"scatter3d\"}],                        {\"template\":{\"data\":{\"bar\":[{\"error_x\":{\"color\":\"#2a3f5f\"},\"error_y\":{\"color\":\"#2a3f5f\"},\"marker\":{\"line\":{\"color\":\"#E5ECF6\",\"width\":0.5},\"pattern\":{\"fillmode\":\"overlay\",\"size\":10,\"solidity\":0.2}},\"type\":\"bar\"}],\"barpolar\":[{\"marker\":{\"line\":{\"color\":\"#E5ECF6\",\"width\":0.5},\"pattern\":{\"fillmode\":\"overlay\",\"size\":10,\"solidity\":0.2}},\"type\":\"barpolar\"}],\"carpet\":[{\"aaxis\":{\"endlinecolor\":\"#2a3f5f\",\"gridcolor\":\"white\",\"linecolor\":\"white\",\"minorgridcolor\":\"white\",\"startlinecolor\":\"#2a3f5f\"},\"baxis\":{\"endlinecolor\":\"#2a3f5f\",\"gridcolor\":\"white\",\"linecolor\":\"white\",\"minorgridcolor\":\"white\",\"startlinecolor\":\"#2a3f5f\"},\"type\":\"carpet\"}],\"choropleth\":[{\"colorbar\":{\"outlinewidth\":0,\"ticks\":\"\"},\"type\":\"choropleth\"}],\"contour\":[{\"colorbar\":{\"outlinewidth\":0,\"ticks\":\"\"},\"colorscale\":[[0.0,\"#0d0887\"],[0.1111111111111111,\"#46039f\"],[0.2222222222222222,\"#7201a8\"],[0.3333333333333333,\"#9c179e\"],[0.4444444444444444,\"#bd3786\"],[0.5555555555555556,\"#d8576b\"],[0.6666666666666666,\"#ed7953\"],[0.7777777777777778,\"#fb9f3a\"],[0.8888888888888888,\"#fdca26\"],[1.0,\"#f0f921\"]],\"type\":\"contour\"}],\"contourcarpet\":[{\"colorbar\":{\"outlinewidth\":0,\"ticks\":\"\"},\"type\":\"contourcarpet\"}],\"heatmap\":[{\"colorbar\":{\"outlinewidth\":0,\"ticks\":\"\"},\"colorscale\":[[0.0,\"#0d0887\"],[0.1111111111111111,\"#46039f\"],[0.2222222222222222,\"#7201a8\"],[0.3333333333333333,\"#9c179e\"],[0.4444444444444444,\"#bd3786\"],[0.5555555555555556,\"#d8576b\"],[0.6666666666666666,\"#ed7953\"],[0.7777777777777778,\"#fb9f3a\"],[0.8888888888888888,\"#fdca26\"],[1.0,\"#f0f921\"]],\"type\":\"heatmap\"}],\"heatmapgl\":[{\"colorbar\":{\"outlinewidth\":0,\"ticks\":\"\"},\"colorscale\":[[0.0,\"#0d0887\"],[0.1111111111111111,\"#46039f\"],[0.2222222222222222,\"#7201a8\"],[0.3333333333333333,\"#9c179e\"],[0.4444444444444444,\"#bd3786\"],[0.5555555555555556,\"#d8576b\"],[0.6666666666666666,\"#ed7953\"],[0.7777777777777778,\"#fb9f3a\"],[0.8888888888888888,\"#fdca26\"],[1.0,\"#f0f921\"]],\"type\":\"heatmapgl\"}],\"histogram\":[{\"marker\":{\"pattern\":{\"fillmode\":\"overlay\",\"size\":10,\"solidity\":0.2}},\"type\":\"histogram\"}],\"histogram2d\":[{\"colorbar\":{\"outlinewidth\":0,\"ticks\":\"\"},\"colorscale\":[[0.0,\"#0d0887\"],[0.1111111111111111,\"#46039f\"],[0.2222222222222222,\"#7201a8\"],[0.3333333333333333,\"#9c179e\"],[0.4444444444444444,\"#bd3786\"],[0.5555555555555556,\"#d8576b\"],[0.6666666666666666,\"#ed7953\"],[0.7777777777777778,\"#fb9f3a\"],[0.8888888888888888,\"#fdca26\"],[1.0,\"#f0f921\"]],\"type\":\"histogram2d\"}],\"histogram2dcontour\":[{\"colorbar\":{\"outlinewidth\":0,\"ticks\":\"\"},\"colorscale\":[[0.0,\"#0d0887\"],[0.1111111111111111,\"#46039f\"],[0.2222222222222222,\"#7201a8\"],[0.3333333333333333,\"#9c179e\"],[0.4444444444444444,\"#bd3786\"],[0.5555555555555556,\"#d8576b\"],[0.6666666666666666,\"#ed7953\"],[0.7777777777777778,\"#fb9f3a\"],[0.8888888888888888,\"#fdca26\"],[1.0,\"#f0f921\"]],\"type\":\"histogram2dcontour\"}],\"mesh3d\":[{\"colorbar\":{\"outlinewidth\":0,\"ticks\":\"\"},\"type\":\"mesh3d\"}],\"parcoords\":[{\"line\":{\"colorbar\":{\"outlinewidth\":0,\"ticks\":\"\"}},\"type\":\"parcoords\"}],\"pie\":[{\"automargin\":true,\"type\":\"pie\"}],\"scatter\":[{\"marker\":{\"colorbar\":{\"outlinewidth\":0,\"ticks\":\"\"}},\"type\":\"scatter\"}],\"scatter3d\":[{\"line\":{\"colorbar\":{\"outlinewidth\":0,\"ticks\":\"\"}},\"marker\":{\"colorbar\":{\"outlinewidth\":0,\"ticks\":\"\"}},\"type\":\"scatter3d\"}],\"scattercarpet\":[{\"marker\":{\"colorbar\":{\"outlinewidth\":0,\"ticks\":\"\"}},\"type\":\"scattercarpet\"}],\"scattergeo\":[{\"marker\":{\"colorbar\":{\"outlinewidth\":0,\"ticks\":\"\"}},\"type\":\"scattergeo\"}],\"scattergl\":[{\"marker\":{\"colorbar\":{\"outlinewidth\":0,\"ticks\":\"\"}},\"type\":\"scattergl\"}],\"scattermapbox\":[{\"marker\":{\"colorbar\":{\"outlinewidth\":0,\"ticks\":\"\"}},\"type\":\"scattermapbox\"}],\"scatterpolar\":[{\"marker\":{\"colorbar\":{\"outlinewidth\":0,\"ticks\":\"\"}},\"type\":\"scatterpolar\"}],\"scatterpolargl\":[{\"marker\":{\"colorbar\":{\"outlinewidth\":0,\"ticks\":\"\"}},\"type\":\"scatterpolargl\"}],\"scatterternary\":[{\"marker\":{\"colorbar\":{\"outlinewidth\":0,\"ticks\":\"\"}},\"type\":\"scatterternary\"}],\"surface\":[{\"colorbar\":{\"outlinewidth\":0,\"ticks\":\"\"},\"colorscale\":[[0.0,\"#0d0887\"],[0.1111111111111111,\"#46039f\"],[0.2222222222222222,\"#7201a8\"],[0.3333333333333333,\"#9c179e\"],[0.4444444444444444,\"#bd3786\"],[0.5555555555555556,\"#d8576b\"],[0.6666666666666666,\"#ed7953\"],[0.7777777777777778,\"#fb9f3a\"],[0.8888888888888888,\"#fdca26\"],[1.0,\"#f0f921\"]],\"type\":\"surface\"}],\"table\":[{\"cells\":{\"fill\":{\"color\":\"#EBF0F8\"},\"line\":{\"color\":\"white\"}},\"header\":{\"fill\":{\"color\":\"#C8D4E3\"},\"line\":{\"color\":\"white\"}},\"type\":\"table\"}]},\"layout\":{\"annotationdefaults\":{\"arrowcolor\":\"#2a3f5f\",\"arrowhead\":0,\"arrowwidth\":1},\"autotypenumbers\":\"strict\",\"coloraxis\":{\"colorbar\":{\"outlinewidth\":0,\"ticks\":\"\"}},\"colorscale\":{\"diverging\":[[0,\"#8e0152\"],[0.1,\"#c51b7d\"],[0.2,\"#de77ae\"],[0.3,\"#f1b6da\"],[0.4,\"#fde0ef\"],[0.5,\"#f7f7f7\"],[0.6,\"#e6f5d0\"],[0.7,\"#b8e186\"],[0.8,\"#7fbc41\"],[0.9,\"#4d9221\"],[1,\"#276419\"]],\"sequential\":[[0.0,\"#0d0887\"],[0.1111111111111111,\"#46039f\"],[0.2222222222222222,\"#7201a8\"],[0.3333333333333333,\"#9c179e\"],[0.4444444444444444,\"#bd3786\"],[0.5555555555555556,\"#d8576b\"],[0.6666666666666666,\"#ed7953\"],[0.7777777777777778,\"#fb9f3a\"],[0.8888888888888888,\"#fdca26\"],[1.0,\"#f0f921\"]],\"sequentialminus\":[[0.0,\"#0d0887\"],[0.1111111111111111,\"#46039f\"],[0.2222222222222222,\"#7201a8\"],[0.3333333333333333,\"#9c179e\"],[0.4444444444444444,\"#bd3786\"],[0.5555555555555556,\"#d8576b\"],[0.6666666666666666,\"#ed7953\"],[0.7777777777777778,\"#fb9f3a\"],[0.8888888888888888,\"#fdca26\"],[1.0,\"#f0f921\"]]},\"colorway\":[\"#636efa\",\"#EF553B\",\"#00cc96\",\"#ab63fa\",\"#FFA15A\",\"#19d3f3\",\"#FF6692\",\"#B6E880\",\"#FF97FF\",\"#FECB52\"],\"font\":{\"color\":\"#2a3f5f\"},\"geo\":{\"bgcolor\":\"white\",\"lakecolor\":\"white\",\"landcolor\":\"#E5ECF6\",\"showlakes\":true,\"showland\":true,\"subunitcolor\":\"white\"},\"hoverlabel\":{\"align\":\"left\"},\"hovermode\":\"closest\",\"mapbox\":{\"style\":\"light\"},\"paper_bgcolor\":\"white\",\"plot_bgcolor\":\"#E5ECF6\",\"polar\":{\"angularaxis\":{\"gridcolor\":\"white\",\"linecolor\":\"white\",\"ticks\":\"\"},\"bgcolor\":\"#E5ECF6\",\"radialaxis\":{\"gridcolor\":\"white\",\"linecolor\":\"white\",\"ticks\":\"\"}},\"scene\":{\"xaxis\":{\"backgroundcolor\":\"#E5ECF6\",\"gridcolor\":\"white\",\"gridwidth\":2,\"linecolor\":\"white\",\"showbackground\":true,\"ticks\":\"\",\"zerolinecolor\":\"white\"},\"yaxis\":{\"backgroundcolor\":\"#E5ECF6\",\"gridcolor\":\"white\",\"gridwidth\":2,\"linecolor\":\"white\",\"showbackground\":true,\"ticks\":\"\",\"zerolinecolor\":\"white\"},\"zaxis\":{\"backgroundcolor\":\"#E5ECF6\",\"gridcolor\":\"white\",\"gridwidth\":2,\"linecolor\":\"white\",\"showbackground\":true,\"ticks\":\"\",\"zerolinecolor\":\"white\"}},\"shapedefaults\":{\"line\":{\"color\":\"#2a3f5f\"}},\"ternary\":{\"aaxis\":{\"gridcolor\":\"white\",\"linecolor\":\"white\",\"ticks\":\"\"},\"baxis\":{\"gridcolor\":\"white\",\"linecolor\":\"white\",\"ticks\":\"\"},\"bgcolor\":\"#E5ECF6\",\"caxis\":{\"gridcolor\":\"white\",\"linecolor\":\"white\",\"ticks\":\"\"}},\"title\":{\"x\":0.05},\"xaxis\":{\"automargin\":true,\"gridcolor\":\"white\",\"linecolor\":\"white\",\"ticks\":\"\",\"title\":{\"standoff\":15},\"zerolinecolor\":\"white\",\"zerolinewidth\":2},\"yaxis\":{\"automargin\":true,\"gridcolor\":\"white\",\"linecolor\":\"white\",\"ticks\":\"\",\"title\":{\"standoff\":15},\"zerolinecolor\":\"white\",\"zerolinewidth\":2}}},\"scene\":{\"domain\":{\"x\":[0.0,1.0],\"y\":[0.0,1.0]},\"xaxis\":{\"title\":{\"text\":\"Income\"}},\"yaxis\":{\"title\":{\"text\":\"TotalSpent\"}},\"zaxis\":{\"title\":{\"text\":\"Age\"}}},\"coloraxis\":{\"colorbar\":{\"title\":{\"text\":\"ClusterLabel\"}},\"colorscale\":[[0.0,\"#0d0887\"],[0.1111111111111111,\"#46039f\"],[0.2222222222222222,\"#7201a8\"],[0.3333333333333333,\"#9c179e\"],[0.4444444444444444,\"#bd3786\"],[0.5555555555555556,\"#d8576b\"],[0.6666666666666666,\"#ed7953\"],[0.7777777777777778,\"#fb9f3a\"],[0.8888888888888888,\"#fdca26\"],[1.0,\"#f0f921\"]]},\"legend\":{\"tracegroupgap\":0},\"title\":{\"text\":\"Relationship Between Customer's Age, Income, and Total Spent\"},\"height\":550},                        {\"responsive\": true}                    ).then(function(){\n",
              "                            \n",
              "var gd = document.getElementById('ccf350e8-7d9a-459c-9475-1ca1a5d27ea8');\n",
              "var x = new MutationObserver(function (mutations, observer) {{\n",
              "        var display = window.getComputedStyle(gd).display;\n",
              "        if (!display || display === 'none') {{\n",
              "            console.log([gd, 'removed!']);\n",
              "            Plotly.purge(gd);\n",
              "            observer.disconnect();\n",
              "        }}\n",
              "}});\n",
              "\n",
              "// Listen for the removal of the full notebook cells\n",
              "var notebookContainer = gd.closest('#notebook-container');\n",
              "if (notebookContainer) {{\n",
              "    x.observe(notebookContainer, {childList: true});\n",
              "}}\n",
              "\n",
              "// Listen for the clearing of the current output cell\n",
              "var outputEl = gd.closest('.output');\n",
              "if (outputEl) {{\n",
              "    x.observe(outputEl, {childList: true});\n",
              "}}\n",
              "\n",
              "                        })                };                            </script>        </div>\n",
              "</body>\n",
              "</html>"
            ]
          },
          "metadata": {}
        }
      ]
    },
    {
      "cell_type": "markdown",
      "source": [
        "Based on the scatter plot we can conclude that there are 3 customers segmentation,\n",
        "\n",
        "\n",
        "* The first segment describe old customers with low income and low spending.\n",
        "* The second segment describe young customers with high income and high spending.\n",
        "* The third segment describe old customers with moderate income and moderate spending.\n",
        "\n",
        "\n"
      ],
      "metadata": {
        "id": "zufhQjQN7N2M"
      }
    },
    {
      "cell_type": "markdown",
      "source": [
        "#Conclusion Customer Segmentation"
      ],
      "metadata": {
        "id": "e1vGzjyhTgr5"
      }
    },
    {
      "cell_type": "markdown",
      "source": [
        "It is unwise to serve all customers with the same product, campaign or advertisement. Customers have different needs. One-size-fits-all approach to business will generally result in fewer successful product promotions and ultimately fewer sales. Customer segmentation is a cure for this problem. Therefore we segmented our customers into 3 groups and ready to start to choose our groups based on our marketing aims.\n",
        "\n",
        "Segmentation helps marketers to be more efficient in terms of time, money and other resources. They gain a better understanding of customer's needs and wants and therefore can tailor campaigns to customer segments most likely to purchase products.\n",
        "\n",
        "\n",
        "\n"
      ],
      "metadata": {
        "id": "PUAfTvLqTjR0"
      }
    }
  ]
}